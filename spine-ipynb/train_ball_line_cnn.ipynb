{
 "cells": [
  {
   "cell_type": "markdown",
   "metadata": {},
   "source": [
    "\n",
    "# spine recognition example using CNN\n",
    "\n",
    "* filetype : .npy\n",
    "* filecontent: [imageslist,labelslist,imageshape]\n",
    "* imageslist: [img1,img2,...]\n",
    "* labelslist: [0,1,1,0,...] 0:nospine 1:spine\n",
    "* imageshape: img1.shape \n",
    "\n",
    "> Please shutdown all other training/prediction notebooks before running this notebook (as those might occupy the GPU memory otherwise)."
   ]
  },
  {
   "cell_type": "code",
   "execution_count": 1,
   "metadata": {},
   "outputs": [
    {
     "name": "stderr",
     "output_type": "stream",
     "text": [
      "c:\\Users\\ZLY\\AppData\\Local\\Programs\\Python\\Python38\\lib\\site-packages\\_distutils_hack\\__init__.py:30: UserWarning: Setuptools is replacing distutils.\n",
      "  warnings.warn(\"Setuptools is replacing distutils.\")\n"
     ]
    }
   ],
   "source": [
    "import os\n",
    "import sys\n",
    "from collections import Counter\n",
    "from time import time\n",
    "\n",
    "import matplotlib.pyplot as plt\n",
    "import numpy as np\n",
    "import tensorflow as tf\n",
    "from imblearn.under_sampling import RandomUnderSampler\n",
    "from sklearn.metrics import ConfusionMatrixDisplay, classification_report\n",
    "from sklearn.model_selection import train_test_split\n",
    "\n",
    "sys.path.append(\"..\")\n",
    "import tensorflow as tf\n",
    "from sklearn.utils import shuffle\n",
    "\n",
    "from networks.cnn import CNN\n",
    "from utils.file_base import file_list\n",
    "\n",
    "gpus = tf.config.experimental.list_physical_devices('GPU')\n",
    "\n",
    "# if gpus:\n",
    "#   try:\n",
    "#     # Currently, memory growth needs to be the same across GPUs\n",
    "#     for gpu in gpus:\n",
    "#       tf.config.experimental.set_memory_growth(gpu, True)\n",
    "#     logical_gpus = tf.config.experimental.list_logical_devices('GPU')\n",
    "#     print(len(gpus), \"Physical GPUs,\", len(logical_gpus), \"Logical GPUs\")\n",
    "#   except RuntimeError as e:\n",
    "#     # Memory growth must be set before GPUs have been initialized\n",
    "#     print(e)\n",
    "# import sys\n",
    "# print(sys.version)\n",
    "# print(sys.version_info)\n",
    "#print(sys.path)"
   ]
  },
  {
   "cell_type": "code",
   "execution_count": 4,
   "metadata": {},
   "outputs": [
    {
     "name": "stdout",
     "output_type": "stream",
     "text": [
      "Model: \"cnn\"\n",
      "_________________________________________________________________\n",
      " Layer (type)                Output Shape              Param #   \n",
      "=================================================================\n",
      " conv2d (Conv2D)             multiple                  800       \n",
      "                                                                 \n",
      " max_pooling2d (MaxPooling2D  multiple                 0         \n",
      " )                                                               \n",
      "                                                                 \n",
      " conv2d_1 (Conv2D)           multiple                  2320      \n",
      "                                                                 \n",
      " flatten (Flatten)           multiple                  0         \n",
      "                                                                 \n",
      " dense (Dense)               multiple                  16400     \n",
      "                                                                 \n",
      " dense_1 (Dense)             multiple                  34        \n",
      "                                                                 \n",
      "=================================================================\n",
      "Total params: 19,554\n",
      "Trainable params: 19,554\n",
      "Non-trainable params: 0\n",
      "_________________________________________________________________\n"
     ]
    }
   ],
   "source": [
    "\n",
    "model=CNN(2)\n",
    "model.build(input_shape=(None,16,16,1))\n",
    "model.summary()"
   ]
  },
  {
   "cell_type": "code",
   "execution_count": 9,
   "metadata": {},
   "outputs": [],
   "source": [
    "\n",
    "def load(f):\n",
    "    \"\"\"load single npy\"\"\"\n",
    "    dictl=np.load(f,allow_pickle=True)\n",
    "    imgs,lables,size=dictl[0],dictl[1],dictl[2]\n",
    "    \n",
    "    # introspect the images arrays to find the shapes (for plotting)\n",
    "    n_samples, h, w = len(imgs),imgs[0].shape[0],imgs[0].shape[1]\n",
    "    X = np.array([np.array(img).ravel() for img in imgs])\n",
    "    n_features = h*w\n",
    "    y = np.array(lables,dtype=np.int8).ravel()\n",
    "    return X,y,h,w\n",
    "def loads(fs):\n",
    "    \"\"\"load multi npys\"\"\"\n",
    "    XX,yy=None,None\n",
    "    for f in fs:\n",
    "        X2,y2,h,w=load(f)\n",
    "        if XX is not None:\n",
    "            XX=np.concatenate((XX,X2),axis=0)\n",
    "            yy=np.concatenate((yy,y2),axis=0)\n",
    "        else:\n",
    "            XX=X2\n",
    "            yy=y2\n",
    "    label_num= list(np.unique(yy)).sort()\n",
    "    return XX,yy,label_num,h,w\n",
    "def mask_balance(XX,yy):\n",
    "    rus = RandomUnderSampler(random_state=0)\n",
    "    X_resampled, y_resampled = rus.fit_resample(XX, yy)\n",
    "    print(sorted(Counter(y_resampled).items()))\n",
    "    return X_resampled,y_resampled\n",
    "def reshape_data(XX):\n",
    "    X=[]\n",
    "    for x in XX:\n",
    "        # x=filters.sobel(x)\n",
    "        x=x.reshape(16,16,1)\n",
    "        x=x.astype(np.float32)\n",
    "        X.append(x)\n",
    "    print(\"img shape :\",X[0].shape)\n",
    "    return np.array(X)\n",
    "\n",
    "def split_data(XX,yy):\n",
    "    X_train, X_test, y_train, y_test = train_test_split(\n",
    "    X, y, test_size=0.25, random_state=42\n",
    "    )\n",
    "    print(\"Tran num \",len(y_train),\"Test num \",len(y_test))\n",
    "    return X_train, X_test, y_train, y_test\n",
    "def show_lable_distribution(Ys,lables=None):\n",
    "    cols=len(Ys)\n",
    "    fig, axs = plt.subplots(ncols=cols, figsize=(10, 5))\n",
    "    fig.suptitle(\" partion class for dataset\")\n",
    "    autopct = \"%.2f\"\n",
    "    for ax,y in zip(axs,Ys):\n",
    "        def absolute_value(val):\n",
    "            a  = np.round(val/100*y.shape[0], 0)\n",
    "            return str(np.round(val,2))+\"% : \"+str(a)\n",
    "        yn,ns=np.unique(y,return_counts=True)\n",
    "        if lables:\n",
    "            ax.pie(ns,labels=lables,counterclock=True,autopct =absolute_value)\n",
    "        else:\n",
    "            ax.pie(ns,labels=yn,counterclock=True,autopct = absolute_value)\n",
    "\n",
    "#show predict result\n",
    "def plot_gallery(images, titles, h, w, n_row=3, n_col=4):\n",
    "    \"\"\"Helper function to plot a gallery of portraits\"\"\"\n",
    "    plt.figure(figsize=(1.8 * n_col, 2.4 * n_row))\n",
    "    plt.subplots_adjust(bottom=0, left=0.01, right=0.99, top=0.90, hspace=0.35)\n",
    "    for i in range(n_row * n_col):\n",
    "        plt.subplot(n_row, n_col, i + 1)\n",
    "        plt.imshow(images[i].reshape((h, w)), cmap=plt.cm.gray)\n",
    "        plt.title(titles[i], size=12)\n",
    "        plt.xticks(())\n",
    "        plt.yticks(())\n",
    "def title(y_pred, y_test,y_p, target_names, i):\n",
    "    pred_name = target_names[y_pred[i]].rsplit(\" \", 1)[-1]\n",
    "    true_name = target_names[y_test[i]].rsplit(\" \", 1)[-1]\n",
    "    return \"predicted: %s\\ntrue:      %s \\nprob: %.2f\" % (pred_name, true_name,y_p[i,1])\n"
   ]
  },
  {
   "cell_type": "markdown",
   "metadata": {},
   "source": [
    "set dataset directory which include .npy files."
   ]
  },
  {
   "cell_type": "code",
   "execution_count": 7,
   "metadata": {},
   "outputs": [],
   "source": [
    "# set dataset directory\n",
    "TRAINDIR=r\"G:\\LHJ_DATA\\Train\\npylable2\"\n",
    "checkponit_save_path= r\"D:\\spine\\segment\\some_analysis_for_spine_img\\ipynb\\model\\temp\\variables\\variables\"\n",
    "SAVE_model_path=r\"D:\\code\\myspine\\models\\unet_model\""
   ]
  },
  {
   "cell_type": "code",
   "execution_count": 10,
   "metadata": {},
   "outputs": [
    {
     "name": "stdout",
     "output_type": "stream",
     "text": [
      "load dataset from : \n",
      "\t G:\\LHJ_DATA\\Train\\npylable2\\0319.npy\n",
      "\tG:\\LHJ_DATA\\Train\\npylable2\\0319_decon.npy\n",
      "\tG:\\LHJ_DATA\\Train\\npylable2\\20200724-1.npy\n",
      "\tG:\\LHJ_DATA\\Train\\npylable2\\20200808-2.npy\n",
      "\tG:\\LHJ_DATA\\Train\\npylable2\\202111-1.npy\n",
      "\tG:\\LHJ_DATA\\Train\\npylable2\\20211111-2.npy\n",
      "\tG:\\LHJ_DATA\\Train\\npylable2\\20211119-1.npy\n",
      "[(0, 972), (1, 972)]\n",
      "img shape : (16, 16, 1)\n",
      "Tran num  1458 Test num  486\n"
     ]
    },
    {
     "data": {
      "image/png": "[encoded data removed]",
      "text/plain": [
       "<Figure size 720x360 with 2 Axes>"
      ]
     },
     "metadata": {},
     "output_type": "display_data"
    }
   ],
   "source": [
    "# load dataset\n",
    "fs=file_list(TRAINDIR,\"npy\")\n",
    "print(\"load dataset from : \\n\\t\",\"\\n\\t\".join(fs))\n",
    "XX,yy,label_nums,h,w=loads(fs)\n",
    "X,y=mask_balance(XX,yy)\n",
    "X,y=shuffle(X,y)\n",
    "X=reshape_data(X)\n",
    "class_names=[\"no-spine\",\"spine\"]\n",
    "show_lable_distribution([yy,y],class_names)\n",
    "X_train, X_test, y_train, y_test=split_data(X,y)"
   ]
  },
  {
   "cell_type": "code",
   "execution_count": 6,
   "metadata": {},
   "outputs": [
    {
     "name": "stdout",
     "output_type": "stream",
     "text": [
      "Epoch 1/50\n",
      "183/183 [==============================] - 2s 6ms/step - loss: 6.7193 - sparse_categorical_accuracy: 0.5562 - val_loss: 7.3824 - val_sparse_categorical_accuracy: 0.5144\n",
      "Epoch 2/50\n",
      "183/183 [==============================] - 1s 4ms/step - loss: 6.7681 - sparse_categorical_accuracy: 0.5610 - val_loss: 6.1158 - val_sparse_categorical_accuracy: 0.5967\n",
      "Epoch 3/50\n",
      "183/183 [==============================] - 1s 4ms/step - loss: 6.7903 - sparse_categorical_accuracy: 0.5604 - val_loss: 5.6881 - val_sparse_categorical_accuracy: 0.6296\n",
      "Epoch 4/50\n",
      "183/183 [==============================] - 1s 4ms/step - loss: 5.9358 - sparse_categorical_accuracy: 0.6104 - val_loss: 5.7398 - val_sparse_categorical_accuracy: 0.6255\n",
      "Epoch 5/50\n",
      "183/183 [==============================] - 1s 4ms/step - loss: 5.9156 - sparse_categorical_accuracy: 0.6104 - val_loss: 6.3696 - val_sparse_categorical_accuracy: 0.5782\n",
      "Epoch 6/50\n",
      "183/183 [==============================] - 1s 4ms/step - loss: 5.5335 - sparse_categorical_accuracy: 0.6385 - val_loss: 5.3750 - val_sparse_categorical_accuracy: 0.6523\n",
      "Epoch 7/50\n",
      "183/183 [==============================] - 1s 4ms/step - loss: 4.9239 - sparse_categorical_accuracy: 0.6674 - val_loss: 4.4241 - val_sparse_categorical_accuracy: 0.7078\n",
      "Epoch 8/50\n",
      "183/183 [==============================] - 1s 4ms/step - loss: 4.9513 - sparse_categorical_accuracy: 0.6626 - val_loss: 5.0646 - val_sparse_categorical_accuracy: 0.6626\n",
      "Epoch 9/50\n",
      "183/183 [==============================] - 1s 4ms/step - loss: 4.1625 - sparse_categorical_accuracy: 0.7222 - val_loss: 3.8192 - val_sparse_categorical_accuracy: 0.7305\n",
      "Epoch 10/50\n",
      "183/183 [==============================] - 1s 4ms/step - loss: 4.0399 - sparse_categorical_accuracy: 0.7243 - val_loss: 3.8979 - val_sparse_categorical_accuracy: 0.7325\n",
      "Epoch 11/50\n",
      "183/183 [==============================] - 1s 4ms/step - loss: 3.3443 - sparse_categorical_accuracy: 0.7606 - val_loss: 3.5565 - val_sparse_categorical_accuracy: 0.7572\n",
      "Epoch 12/50\n",
      "183/183 [==============================] - 1s 4ms/step - loss: 3.6645 - sparse_categorical_accuracy: 0.7510 - val_loss: 3.9361 - val_sparse_categorical_accuracy: 0.7346\n",
      "Epoch 13/50\n",
      "183/183 [==============================] - 1s 4ms/step - loss: 3.5364 - sparse_categorical_accuracy: 0.7627 - val_loss: 3.8210 - val_sparse_categorical_accuracy: 0.7305\n",
      "Epoch 14/50\n",
      "183/183 [==============================] - 1s 5ms/step - loss: 3.1382 - sparse_categorical_accuracy: 0.7764 - val_loss: 3.3674 - val_sparse_categorical_accuracy: 0.7716\n",
      "Epoch 15/50\n",
      "183/183 [==============================] - 1s 5ms/step - loss: 3.2279 - sparse_categorical_accuracy: 0.7682 - val_loss: 3.3394 - val_sparse_categorical_accuracy: 0.7654\n",
      "Epoch 16/50\n",
      "183/183 [==============================] - 1s 5ms/step - loss: 2.9253 - sparse_categorical_accuracy: 0.7881 - val_loss: 3.2515 - val_sparse_categorical_accuracy: 0.7757\n",
      "Epoch 17/50\n",
      "183/183 [==============================] - 1s 5ms/step - loss: 2.8017 - sparse_categorical_accuracy: 0.8038 - val_loss: 3.1534 - val_sparse_categorical_accuracy: 0.7737\n",
      "Epoch 18/50\n",
      "183/183 [==============================] - 1s 5ms/step - loss: 2.7752 - sparse_categorical_accuracy: 0.8052 - val_loss: 3.0812 - val_sparse_categorical_accuracy: 0.7819\n",
      "Epoch 19/50\n",
      "183/183 [==============================] - 1s 5ms/step - loss: 2.6731 - sparse_categorical_accuracy: 0.8148 - val_loss: 2.9434 - val_sparse_categorical_accuracy: 0.7942\n",
      "Epoch 20/50\n",
      "183/183 [==============================] - 1s 5ms/step - loss: 2.4452 - sparse_categorical_accuracy: 0.8265 - val_loss: 2.8834 - val_sparse_categorical_accuracy: 0.8045\n",
      "Epoch 21/50\n",
      "183/183 [==============================] - 1s 4ms/step - loss: 2.5310 - sparse_categorical_accuracy: 0.8162 - val_loss: 3.2673 - val_sparse_categorical_accuracy: 0.7716\n",
      "Epoch 22/50\n",
      "183/183 [==============================] - 1s 4ms/step - loss: 2.4361 - sparse_categorical_accuracy: 0.8265 - val_loss: 2.8486 - val_sparse_categorical_accuracy: 0.8066\n",
      "Epoch 23/50\n",
      "183/183 [==============================] - 1s 4ms/step - loss: 3.2821 - sparse_categorical_accuracy: 0.7723 - val_loss: 4.0425 - val_sparse_categorical_accuracy: 0.7119\n",
      "Epoch 24/50\n",
      "183/183 [==============================] - 1s 4ms/step - loss: 2.7959 - sparse_categorical_accuracy: 0.8032 - val_loss: 3.0548 - val_sparse_categorical_accuracy: 0.7840\n",
      "Epoch 25/50\n",
      "183/183 [==============================] - 1s 4ms/step - loss: 2.6472 - sparse_categorical_accuracy: 0.8210 - val_loss: 2.7310 - val_sparse_categorical_accuracy: 0.8128\n",
      "Epoch 26/50\n",
      "183/183 [==============================] - 1s 5ms/step - loss: 2.2536 - sparse_categorical_accuracy: 0.8436 - val_loss: 2.7001 - val_sparse_categorical_accuracy: 0.8148\n",
      "Epoch 27/50\n",
      "183/183 [==============================] - 1s 5ms/step - loss: 2.2321 - sparse_categorical_accuracy: 0.8409 - val_loss: 2.3887 - val_sparse_categorical_accuracy: 0.8313\n",
      "Epoch 28/50\n",
      "183/183 [==============================] - 1s 5ms/step - loss: 2.2146 - sparse_categorical_accuracy: 0.8381 - val_loss: 3.0876 - val_sparse_categorical_accuracy: 0.7901\n",
      "Epoch 29/50\n",
      "183/183 [==============================] - 1s 4ms/step - loss: 2.2346 - sparse_categorical_accuracy: 0.8374 - val_loss: 2.4607 - val_sparse_categorical_accuracy: 0.8313\n",
      "Epoch 30/50\n",
      "183/183 [==============================] - 1s 4ms/step - loss: 2.1463 - sparse_categorical_accuracy: 0.8477 - val_loss: 2.6515 - val_sparse_categorical_accuracy: 0.8148\n",
      "Epoch 31/50\n",
      "183/183 [==============================] - 1s 4ms/step - loss: 2.2973 - sparse_categorical_accuracy: 0.8388 - val_loss: 2.9751 - val_sparse_categorical_accuracy: 0.7984\n",
      "Epoch 32/50\n",
      "183/183 [==============================] - 1s 4ms/step - loss: 2.0572 - sparse_categorical_accuracy: 0.8525 - val_loss: 2.6373 - val_sparse_categorical_accuracy: 0.8148\n",
      "Epoch 33/50\n",
      "183/183 [==============================] - 1s 4ms/step - loss: 1.8930 - sparse_categorical_accuracy: 0.8642 - val_loss: 2.4995 - val_sparse_categorical_accuracy: 0.8272\n",
      "Epoch 34/50\n",
      "183/183 [==============================] - 1s 5ms/step - loss: 2.0148 - sparse_categorical_accuracy: 0.8553 - val_loss: 2.5016 - val_sparse_categorical_accuracy: 0.8107\n",
      "Epoch 35/50\n",
      "183/183 [==============================] - 1s 5ms/step - loss: 1.8153 - sparse_categorical_accuracy: 0.8676 - val_loss: 2.1257 - val_sparse_categorical_accuracy: 0.8519\n",
      "Epoch 36/50\n",
      "183/183 [==============================] - 1s 5ms/step - loss: 1.7491 - sparse_categorical_accuracy: 0.8759 - val_loss: 2.4168 - val_sparse_categorical_accuracy: 0.8313\n",
      "Epoch 37/50\n",
      "183/183 [==============================] - 1s 5ms/step - loss: 1.7517 - sparse_categorical_accuracy: 0.8738 - val_loss: 2.5333 - val_sparse_categorical_accuracy: 0.8086\n",
      "Epoch 38/50\n",
      "183/183 [==============================] - 1s 5ms/step - loss: 1.8890 - sparse_categorical_accuracy: 0.8621 - val_loss: 2.7461 - val_sparse_categorical_accuracy: 0.8086\n",
      "Epoch 39/50\n",
      "183/183 [==============================] - 1s 4ms/step - loss: 1.8254 - sparse_categorical_accuracy: 0.8594 - val_loss: 2.4052 - val_sparse_categorical_accuracy: 0.8272\n",
      "Epoch 40/50\n",
      "183/183 [==============================] - 1s 7ms/step - loss: 1.6169 - sparse_categorical_accuracy: 0.8745 - val_loss: 2.6519 - val_sparse_categorical_accuracy: 0.8025\n",
      "Epoch 41/50\n",
      "183/183 [==============================] - 1s 7ms/step - loss: 1.7105 - sparse_categorical_accuracy: 0.8738 - val_loss: 2.3010 - val_sparse_categorical_accuracy: 0.8333\n",
      "Epoch 42/50\n",
      "183/183 [==============================] - 1s 6ms/step - loss: 1.5337 - sparse_categorical_accuracy: 0.8786 - val_loss: 2.1515 - val_sparse_categorical_accuracy: 0.8354\n",
      "Epoch 43/50\n",
      "183/183 [==============================] - 1s 6ms/step - loss: 1.4929 - sparse_categorical_accuracy: 0.8827 - val_loss: 2.0695 - val_sparse_categorical_accuracy: 0.8519\n",
      "Epoch 44/50\n",
      "183/183 [==============================] - 1s 6ms/step - loss: 2.0849 - sparse_categorical_accuracy: 0.8484 - val_loss: 2.3757 - val_sparse_categorical_accuracy: 0.8251\n",
      "Epoch 45/50\n",
      "183/183 [==============================] - 1s 5ms/step - loss: 1.4904 - sparse_categorical_accuracy: 0.8861 - val_loss: 2.6194 - val_sparse_categorical_accuracy: 0.8066\n",
      "Epoch 46/50\n",
      "183/183 [==============================] - 1s 5ms/step - loss: 1.5352 - sparse_categorical_accuracy: 0.8820 - val_loss: 2.2193 - val_sparse_categorical_accuracy: 0.8395\n",
      "Epoch 47/50\n",
      "183/183 [==============================] - 1s 5ms/step - loss: 1.3986 - sparse_categorical_accuracy: 0.8889 - val_loss: 2.1466 - val_sparse_categorical_accuracy: 0.8395\n",
      "Epoch 48/50\n",
      "183/183 [==============================] - 1s 5ms/step - loss: 1.3200 - sparse_categorical_accuracy: 0.9026 - val_loss: 1.9448 - val_sparse_categorical_accuracy: 0.8601\n",
      "Epoch 49/50\n",
      "183/183 [==============================] - 1s 5ms/step - loss: 1.3862 - sparse_categorical_accuracy: 0.8957 - val_loss: 2.1222 - val_sparse_categorical_accuracy: 0.8416\n",
      "Epoch 50/50\n",
      "183/183 [==============================] - 1s 5ms/step - loss: 1.3301 - sparse_categorical_accuracy: 0.9060 - val_loss: 2.2584 - val_sparse_categorical_accuracy: 0.8436\n"
     ]
    },
    {
     "data": {
      "text/plain": [
       "<keras.callbacks.History at 0x238050f5c10>"
      ]
     },
     "execution_count": 6,
     "metadata": {},
     "output_type": "execute_result"
    }
   ],
   "source": [
    "#trian\n",
    "dataset = tf.data.Dataset.from_tensor_slices((X_train, y_train))\n",
    "vadataset = tf.data.Dataset.from_tensor_slices((X_test, y_test))\n",
    "dataset=dataset.shuffle(1000).batch(8)\n",
    "vadataset=vadataset.shuffle(1000).batch(8)\n",
    "\n",
    "if os.path.exists(checkponit_save_path+\".index\"):\n",
    "    print(\"------------load the model -------------\")\n",
    "    model.load_weights(checkponit_save_path)\n",
    "model.compile(optimizer=tf.keras.optimizers.Adam(learning_rate=0.0001),\n",
    "        loss=tf.keras.losses.sparse_categorical_crossentropy,\n",
    "        metrics=[tf.keras.metrics.sparse_categorical_accuracy])\n",
    "model.fit(dataset, epochs=50,validation_data=vadataset)"
   ]
  },
  {
   "cell_type": "code",
   "execution_count": 8,
   "metadata": {},
   "outputs": [
    {
     "name": "stderr",
     "output_type": "stream",
     "text": [
      "WARNING:absl:Found untraced functions such as _jit_compiled_convolution_op, _jit_compiled_convolution_op while saving (showing 2 of 2). These functions will not be directly callable after loading.\n"
     ]
    },
    {
     "name": "stdout",
     "output_type": "stream",
     "text": [
      "INFO:tensorflow:Assets written to: model/temp\\assets\n"
     ]
    },
    {
     "name": "stderr",
     "output_type": "stream",
     "text": [
      "INFO:tensorflow:Assets written to: model/temp\\assets\n"
     ]
    }
   ],
   "source": [
    "# save model\n",
    "tf.keras.models.save_model(model, SAVE_model_path,save_format='tf')\n",
    "# model.save(SAVE_model_path,save_format='tf')\n",
    "#model.save_weights(SAVE_model_path+\"\\\\adasd.h5\")"
   ]
  },
  {
   "cell_type": "code",
   "execution_count": 9,
   "metadata": {},
   "outputs": [],
   "source": [
    "#load model\n",
    "lmodel=tf.keras.models.load_model(\n",
    "   SAVE_model_path, custom_objects=None, compile=True, options=None\n",
    ")\n",
    "#lmodel.load_weights(SAVE_model_path+\"\\\\adasd.h5\")"
   ]
  },
  {
   "cell_type": "code",
   "execution_count": 11,
   "metadata": {},
   "outputs": [
    {
     "name": "stdout",
     "output_type": "stream",
     "text": [
      "16/16 [==============================] - 0s 8ms/step\n",
      "              precision    recall  f1-score   support\n",
      "\n",
      "    no-spine       0.50      0.00      0.01       227\n",
      "       spine       0.53      1.00      0.69       259\n",
      "\n",
      "    accuracy                           0.53       486\n",
      "   macro avg       0.52      0.50      0.35       486\n",
      "weighted avg       0.52      0.53      0.37       486\n",
      "\n"
     ]
    },
    {
     "data": {
      "image/png": "[encoded data removed]",
      "text/plain": [
       "<Figure size 432x288 with 2 Axes>"
      ]
     },
     "metadata": {
      "needs_background": "light"
     },
     "output_type": "display_data"
    }
   ],
   "source": [
    "y_p=lmodel.predict(X_test)\n",
    "y_pred=y_p.argmax(axis=-1)\n",
    "# print(y_test-y_pred)\n",
    "# print(X.shape)\n",
    "print(classification_report(y_test, y_pred, target_names=class_names))\n",
    "ConfusionMatrixDisplay.from_predictions(\n",
    "    y_test, y_pred, display_labels=class_names, xticks_rotation=\"horizontal\"\n",
    ")\n",
    "plt.tight_layout()\n",
    "plt.show()\n",
    "# lmodel.summary()\n"
   ]
  },
  {
   "cell_type": "code",
   "execution_count": null,
   "metadata": {},
   "outputs": [],
   "source": [
    "prediction_titles = [\n",
    "    title(y_pred, y_test,y_p, class_names, i) for i in range(y_pred.shape[0])\n",
    "]\n",
    "\n",
    "plot_gallery(X_test, prediction_titles, 16, 16,8,8)"
   ]
  }
 ],
 "metadata": {
  "kernelspec": {
   "display_name": "Python 3.8.6 64-bit",
   "language": "python",
   "name": "python3"
  },
  "language_info": {
   "codemirror_mode": {
    "name": "ipython",
    "version": 3
   },
   "file_extension": ".py",
   "mimetype": "text/x-python",
   "name": "python",
   "nbconvert_exporter": "python",
   "pygments_lexer": "ipython3",
   "version": "3.8.6"
  },
  "orig_nbformat": 4,
  "vscode": {
   "interpreter": {
    "hash": "e005709e9aa29d1a621e0980d2a7f7c99fe00643a1ac8d1bd0d50306f61d540a"
   }
  }
 },
 "nbformat": 4,
 "nbformat_minor": 2
}
