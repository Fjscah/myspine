{
 "cells": [
  {
   "cell_type": "markdown",
   "metadata": {},
   "source": [
    "## PSF generator\n",
    "## Gibson-Lanni model\n",
    "### Fast and accurate three-dimensional point spread function computation for fluorescence microscopy by Li, Xue, and Blu.\n",
    "the approach is fast because it avoids the need to perform any explicit integration of the Kirchhoff diffraction integral, such as is done in PSF Generator. The prototype is based on the manuscript and the associated MATLAB code at http://www.ee.cuhk.edu.hk/~tblu/monsite/phps/fastPSF.php\n",
    "\n",
    "link from : http://kmdouglass.github.io/posts/implementing-a-fast-gibson-lanni-psf-solver-in-python/"
   ]
  },
  {
   "cell_type": "code",
   "execution_count": 74,
   "metadata": {},
   "outputs": [
    {
     "name": "stdout",
     "output_type": "stream",
     "text": [
      "%pylab is deprecated, use %matplotlib inline and import the required libraries.\n",
      "Populating the interactive namespace from numpy and matplotlib\n",
      "Python 3.8.5 (tags/v3.8.5:580fbb0, Jul 20 2020, 15:57:54) [MSC v.1924 64 bit (AMD64)]\n",
      "\n",
      "NumPy\t\t1.22.3\n",
      "matplotlib\t3.2.2\n",
      "SciPy\t\t1.4.1\n"
     ]
    },
    {
     "name": "stderr",
     "output_type": "stream",
     "text": [
      "C:\\Users\\www_0\\AppData\\Local\\Programs\\Python\\Python38\\lib\\site-packages\\IPython\\core\\magics\\pylab.py:162: UserWarning: pylab import has clobbered these variables: ['imread']\n",
      "`%matplotlib` prevents importing * from pylab and numpy\n",
      "  warn(\"pylab import has clobbered these variables: %s\"  % clobbered +\n"
     ]
    }
   ],
   "source": [
    "import sys\n",
    "%pylab inline\n",
    "import scipy.special\n",
    "from scipy.interpolate import interp1d\n",
    "from matplotlib import animation\n",
    "import matplotlib.pyplot as plt\n",
    "import matplotlib\n",
    "import numpy as np\n",
    "plt.style.use('dark_background')\n",
    "plt.rcParams['figure.facecolor'] = '#272b30'\n",
    "plt.rcParams['image.cmap'] = 'viridis'\n",
    "\n",
    "print('Python {}\\n'.format(sys.version))\n",
    "print('NumPy\\t\\t{}'.format(np.__version__))\n",
    "print('matplotlib\\t{}'.format(matplotlib.__version__))\n",
    "print('SciPy\\t\\t{}'.format(scipy.__version__))"
   ]
  },
  {
   "cell_type": "markdown",
   "metadata": {},
   "source": [
    "## Simulation setup\n",
    "## Define the simulation parameters\n",
    "The Gibson-Lanni PSF model accounts for differences between design parameters and real parameters that describe the fluorescence microscope, such as the refractive indexes and thicknesses of the immersion medium, coverslip, and sample. For more information, please see the above references or, if you do not have access to the publications, the description of the model here:\n"
   ]
  },
  {
   "cell_type": "markdown",
   "metadata": {},
   "source": [
    "分辨率=0.16*λ/NA  \n",
    "\n",
    "Parameter | Description\n",
    "----------|------------\n",
    "NA | Numerical Aperture of the objective lens. This value is given by NA = ni sin(Θ) where Θ is one half of the angular aperture of the lens.\n",
    "ns | Refractive index of the sample layer.\n",
    "ts | Axial location of the point source within the sample layer. The corresponding input field in the plugin is \"z\".\n",
    "ng | Actual value of the refractive index of the coverslip. This value is assumed to be equal to ng* and it is therefore not used by the plugin.\n",
    "ng* | Nominal value of the refractive index of the coverslip. This value is assumed to be equal to ng and it is therefore not used by the plugin.\n",
    "ni | Actual value of the refractive index of the immersion layer (the paper by Gibson and Lanni uses the notations noil).\n",
    "ni* | Nominal value of the refractive index of the immersion layer (the paper by Gibson and Lanni paper uses the notations noil*. This value is assumed to be equal to ni and it is therefore not used by the plugin.\n",
    "tg | Actual value of the coverslip thickness. This value is assumed to be equal to tg* and it is therefore not used by the plugin.\n",
    "tg* | Nominal value of the coverslip thickness. This value is assumed to be equal to tg and it is therefore not used by the plugin.\n",
    "ti | Actual working distance between the objective and the coverslip (the Gibson and Lanni paper uses the notation toil).\n",
    "ti* | Nominal working distance between the objective lens and the coverslip (the Gibson and Lanni paper uses the notation toil*). This value is given by ti* = ti + Δ where Δ is the stage displacement. When generating a z-stack, stage displacement values are determined by the \"Axial resolution\" and by the \"slices\" input parameters of the plugin. If the number of slices is odd, then the middle slice corresponds to Δ = 0.\n",
    "λ | Wavelength of the light emitted by the point source.\n",
    "k | Wavenumber in vacuum of the emitted light, k = 2Π/λ.\n",
    "xd, yd | Lateral position for evaluating the PSF at the detector plane. The sampling points are {xd,n, yd,m} = {nΔ, mΔ}n,m where Δ is the value of the \"Pixel size in object space\" input parameter, n = - (N-1)/2 ... (N-1)/2 and m = - (M-1)/2 ... (M-1)/2. N and M are the \"width\" and the \"height\" input parameters, respectively of the plugin. If N and M are odd, then the middle pixel is (0,0).\n",
    "zd | Axial distance between the detector and the tube lens. This value is assumed to be equal to the focal length of the tube lens, and for this reason the plugin substitutes NA = a/zd in h(x, y, z).\n",
    "W | The Gibson and Lanni phase aberration.\n",
    "C | A normalizing constant. The value C/zd that appear in h(x, y, z) is determined by the \"normalization\" input parameter of the plugin."
   ]
  },
  {
   "cell_type": "markdown",
   "metadata": {},
   "source": [
    "![alt](./images/gl-diagram.png)"
   ]
  },
  {
   "cell_type": "code",
   "execution_count": null,
   "metadata": {},
   "outputs": [],
   "source": []
  },
  {
   "cell_type": "code",
   "execution_count": 75,
   "metadata": {},
   "outputs": [],
   "source": [
    "# Image properties\n",
    "# Size of the PSF array, pixels\n",
    "size_x = 50\n",
    "size_y = 50\n",
    "size_z = 10\n",
    "\n",
    "# Precision control\n",
    "num_basis    = 100  # Number of rescaled Bessels that approximate the phase function\n",
    "num_samples  = 1000 # Number of pupil samples along radial direction\n",
    "oversampling = 2    # Defines the upsampling ratio on the image space grid for computations\n",
    "\n",
    "# Microscope parameters\n",
    "NA          = 1.4\n",
    "wavelength  = 0.516 # microns\n",
    "M           = 1   # magnification\n",
    "ns          = 1.33  # specimen refractive index (RI)\n",
    "ng0         = 1.5   # coverslip RI design value\n",
    "ng          = 1.5   # coverslip RI experimental value\n",
    "ni0         = 1.5   # immersion medium RI design value\n",
    "ni          = 1.5   # immersion medium RI experimental value\n",
    "ti0         = 150   # microns, working distance (immersion medium thickness) design value\n",
    "tg0         = 170   # microns, coverslip thickness design value\n",
    "tg          = 170   # microns, coverslip thickness experimental value\n",
    "res_lateral = 0.16   # microns\n",
    "res_axial   = 0.3  # microns\n",
    "pZ          = 0     # microns, particle distance from coverslip\n",
    "\n",
    "# Scaling factors for the Fourier-Bessel series expansion\n",
    "min_wavelength = 0.436 # microns\n",
    "scaling_factor = NA * (3 * np.arange(1, num_basis + 1) - 2) * min_wavelength / wavelength"
   ]
  },
  {
   "cell_type": "markdown",
   "metadata": {},
   "source": [
    "### Create the coordinate systems\n",
    "![fomula](./images/gl-formula.png)  \n",
    "k = 2Π/λ.\n"
   ]
  },
  {
   "cell_type": "code",
   "execution_count": 76,
   "metadata": {},
   "outputs": [
    {
     "name": "stdout",
     "output_type": "stream",
     "text": [
      "a : 0.9500000000000001\n",
      "rho shape (1000,)\n"
     ]
    }
   ],
   "source": [
    "# Place the origin at the center of the final PSF array\n",
    "x0 = (size_x - 1) / 2\n",
    "y0 = (size_y - 1) / 2\n",
    "\n",
    "# Find the maximum possible radius coordinate of the PSF array by finding the distance\n",
    "# from the center of the array to a corner\n",
    "max_radius = round(np.sqrt((size_x - x0) * (size_x - x0) + (size_y - y0) * (size_y - y0))) + 1;\n",
    "\n",
    "# Radial coordinates, image space\n",
    "r = res_lateral * np.arange(0, oversampling * max_radius) / oversampling\n",
    "\n",
    "# Radial coordinates, pupil space\n",
    "a = min([NA, ns, ni, ni0, ng, ng0]) / NA\n",
    "print(\"a :\",a)\n",
    "rho = np.linspace(0, a, num_samples)\n",
    "print(\"rho shape\",rho.shape)\n",
    "\n",
    "# Stage displacements away from best focus\n",
    "z = res_axial * np.arange(-size_z / 2, size_z /2) + res_axial / 2"
   ]
  },
  {
   "cell_type": "code",
   "execution_count": 77,
   "metadata": {},
   "outputs": [
    {
     "name": "stdout",
     "output_type": "stream",
     "text": [
      "OPDs shape : (1000,)\n",
      "OPDi shape : (10, 1000)\n",
      "OPDg shape : (1000,)\n",
      "W shape : (10, 1000)\n",
      "C shape : (100, 10)\n",
      "residuals shape : (10,)\n",
      "J.T shape : (1000, 100)\n",
      "phase.T shape : (1000, 10)\n"
     ]
    },
    {
     "name": "stderr",
     "output_type": "stream",
     "text": [
      "C:\\Users\\www_0\\AppData\\Local\\Programs\\Python\\Python38\\lib\\site-packages\\matplotlib\\cbook\\__init__.py:1317: ComplexWarning: Casting complex values to real discards the imaginary part\n",
      "  return np.asarray(x, float)\n"
     ]
    },
    {
     "data": {
      "image/png": "[encoded data removed]",
      "text/plain": [
       "<Figure size 432x288 with 1 Axes>"
      ]
     },
     "metadata": {},
     "output_type": "display_data"
    }
   ],
   "source": [
    "# Define the wavefront aberration\n",
    "OPDs = pZ * np.sqrt(ns * ns - NA * NA * rho * rho) # OPD in the sample\n",
    "OPDi = (z.reshape(-1,1) + ti0) * np.sqrt(ni * ni - NA * NA * rho * rho) - ti0 * np.sqrt(ni0 * ni0 - NA * NA * rho * rho) # OPD in the immersion medium\n",
    "OPDg = tg * np.sqrt(ng * ng - NA * NA * rho * rho) - tg0 * np.sqrt(ng0 * ng0 - NA * NA * rho * rho) # OPD in the coverslip\n",
    "W    = 2 * np.pi / wavelength * (OPDs + OPDi + OPDg)\n",
    "\n",
    "# Sample the phase\n",
    "# Shape is (number of z samples by number of rho samples)\n",
    "phase = np.cos(W) + 1j * np.sin(W)\n",
    "\n",
    "# Define the basis of Bessel functions\n",
    "# Shape is (number of basis functions by number of rho samples)\n",
    "J = scipy.special.jv(0, scaling_factor.reshape(-1, 1) * rho)\n",
    "\n",
    "# Compute the approximation to the sampled pupil phase by finding the least squares\n",
    "# solution to the complex coefficients of the Fourier-Bessel expansion.\n",
    "# Shape of C is (number of basis functions by number of z samples).\n",
    "# Note the matrix transposes to get the dimensions correct.\n",
    "# lstsq的输出包括四部分：回归系数、残差平方和、自变量X的秩、X的奇异值。\n",
    "C, residuals, _, _ = np.linalg.lstsq(J.T, phase.T,rcond=None)\n",
    "print(\"OPDs shape :\",OPDs.shape)\n",
    "print(\"OPDi shape :\",OPDi.shape)\n",
    "print(\"OPDg shape :\",OPDg.shape)\n",
    "print(\"W shape :\",W.shape)\n",
    "print(\"C shape :\",C.shape)\n",
    "print(\"residuals shape :\",residuals.shape)\n",
    "print(\"J.T shape :\",J.T.shape)\n",
    "print(\"phase.T shape :\",phase.T.shape)\n",
    "\n",
    "# plot fitting data\n",
    "import matplotlib.pyplot as plt\n",
    "_ = plt.plot((J.T.dot(C))[:,5], phase.T[:,5], 'o', label='Original data', markersize=10)\n",
    "\n",
    "_ = plt.legend()\n",
    "plt.show()"
   ]
  },
  {
   "cell_type": "markdown",
   "metadata": {},
   "source": [
    "skip it , just test `lstsq` function"
   ]
  },
  {
   "cell_type": "code",
   "execution_count": 78,
   "metadata": {},
   "outputs": [
    {
     "data": {
      "image/png": "[encoded data removed]",
      "text/plain": [
       "<Figure size 432x288 with 1 Axes>"
      ]
     },
     "metadata": {},
     "output_type": "display_data"
    }
   ],
   "source": [
    "x = np.array([0, 1, 2, 3])\n",
    "y = np.array([-1, 0.2, 0.9, 2.1])\n",
    "A = np.vstack([x, np.ones(len(x))]).T\n",
    "m, c = np.linalg.lstsq(A, y, rcond=None)[0]\n",
    "import matplotlib.pyplot as plt\n",
    "_ = plt.plot(m*x + c, y, 'o', label='Original data', markersize=10)\n",
    "_ = plt.plot([-1,2], [-1,2], 'r')\n",
    "_ = plt.legend()\n",
    "plt.show()"
   ]
  },
  {
   "cell_type": "code",
   "execution_count": 79,
   "metadata": {},
   "outputs": [
    {
     "data": {
      "image/png": "[encoded data removed]",
      "text/plain": [
       "<Figure size 720x360 with 2 Axes>"
      ]
     },
     "metadata": {},
     "output_type": "display_data"
    }
   ],
   "source": [
    "# Which z-plane to compute\n",
    "z0 = 5\n",
    "\n",
    "# The Fourier-Bessel approximation\n",
    "est = J.T.dot(C[:,z0])\n",
    "\n",
    "fig, ax = plt.subplots(ncols=2, sharey=True, figsize=(10,5))\n",
    "ax[0].plot(rho, np.real(phase[z0, :]), label=r'$ \\exp{ \\left[ jW \\left( \\rho \\right) \\right] }$')\n",
    "ax[0].plot(rho, np.real(est), '--', label='Fourier-Bessel')\n",
    "ax[0].set_xlabel(r'$\\rho$')\n",
    "ax[0].set_title('Real')\n",
    "ax[0].legend(loc='upper left')\n",
    "\n",
    "ax[1].plot(rho, np.imag(phase[z0, :]))\n",
    "ax[1].plot(rho, np.imag(est), '--')\n",
    "ax[1].set_xlabel(r'$\\rho$')\n",
    "ax[1].set_title('Imaginary')\n",
    "ax[1].set_ylim((-1.5, 1.5))\n",
    "\n",
    "plt.show()"
   ]
  },
  {
   "cell_type": "markdown",
   "metadata": {},
   "source": [
    "Step 2: Compute the PSF  \n",
    "Here, we use the Fourier-Bessel series expansion of the phase function and a Bessel integral identity to compute the approximate PSF. Each coefficient c_m(z) needs to be multiplied by  \n",
    "\n",
    "$$\\begin{equation*}\n",
    "R \\left(r; \\mathbf{p} \\right) = \\frac{\\sigma_m J_1 \\left( \\sigma_m a \\right) J_0 \\left( \\beta a \\right)a - \\beta J_0 \\left( \\sigma_m a \\right) J_1 \\left( \\beta a \\right)a }{\\sigma_m^2 - \\beta^2}\n",
    "\\end{equation*}$$\n",
    "\n",
    "and the resulting products summed over the number of basis functions. p is the parameter vector for the Gibson-Lanni model, σm is the scaling factor for the argument to the m′th Bessel basis function, and β=krNA.  \n",
    "\n",
    "b is defined such that R has dimensions of len(r) × len(rho).  "
   ]
  },
  {
   "cell_type": "code",
   "execution_count": 80,
   "metadata": {},
   "outputs": [],
   "source": [
    "b = 2 * np. pi * r.reshape(-1, 1) * NA / wavelength\n",
    "\n",
    "# Convenience functions for J0 and J1 Bessel functions\n",
    "J0 = lambda x: scipy.special.jv(0, x)\n",
    "J1 = lambda x: scipy.special.jv(1, x)\n",
    "\n",
    "# See equation 5 in Li, Xue, and Blu\n",
    "denom = scaling_factor * scaling_factor - b * b\n",
    "R = (scaling_factor * J1(scaling_factor * a) * J0(b * a) * a - b * J0(scaling_factor * a) * J1(b * a) * a)\n",
    "R /= denom\n"
   ]
  },
  {
   "cell_type": "markdown",
   "metadata": {},
   "source": [
    "Now compute the point-spread function via\n",
    "\n",
    "$$(\\begin{equation*}\n",
    "PSF \\left( r, z; z_p, \\mathbf{p} \\right) = \\left| \\mathbf{R} \\left( r; \\mathbf{p} \\right) \\mathbf{c} \\left( z \\right) \\right|^2\n",
    "\\end{equation*})$$"
   ]
  },
  {
   "cell_type": "code",
   "execution_count": 81,
   "metadata": {},
   "outputs": [],
   "source": [
    "# The transpose places the axial direction along the first dimension of the array, i.e. rows\n",
    "# This is only for convenience.\n",
    "PSF_rz = (np.abs(R.dot(C))**2).T\n",
    "\n",
    "# Normalize to the maximum value\n",
    "PSF_rz /= np.max(PSF_rz)"
   ]
  },
  {
   "cell_type": "code",
   "execution_count": 82,
   "metadata": {},
   "outputs": [
    {
     "data": {
      "image/png": "[encoded data removed]",
      "text/plain": [
       "<Figure size 432x288 with 1 Axes>"
      ]
     },
     "metadata": {},
     "output_type": "display_data"
    }
   ],
   "source": [
    "fig, ax = plt.subplots()\n",
    "\n",
    "ax.imshow(PSF_rz, extent=(r.min(), r.max(), z.max(), z.min()))\n",
    "ax.set_xlim((0,2.5))\n",
    "ax.set_ylim((-6, 0))\n",
    "ax.set_xlabel(r'r, $\\mu m$')\n",
    "ax.set_ylabel(r'z, $\\mu m$')\n",
    "\n",
    "plt.show()"
   ]
  },
  {
   "cell_type": "markdown",
   "metadata": {},
   "source": [
    "Step 3: Resample the PSF onto a rotationally-symmetric Cartesian grid\n",
    "Here we generate a two dimensional grid where the value at each grid point is the distance of the point from the center of the grid. These values are supplied to an interpolation function computed from PSF_rz to produce a rotationally-symmetric 2D PSF at each z-position."
   ]
  },
  {
   "cell_type": "code",
   "execution_count": 83,
   "metadata": {},
   "outputs": [],
   "source": [
    "# Create the fleshed-out xy grid of radial distances from the center\n",
    "xy      = np.mgrid[0:size_y, 0:size_x]\n",
    "r_pixel = np.sqrt((xy[1] - x0) * (xy[1] - x0) + (xy[0] - y0) * (xy[0] - y0)) * res_lateral\n",
    "\n",
    "PSF = np.zeros((size_y, size_x, size_z))\n",
    "\n",
    "for z_index in range(PSF.shape[2]):\n",
    "    # Interpolate the radial PSF function\n",
    "    PSF_interp = interp1d(r, PSF_rz[z_index, :])\n",
    "    \n",
    "    # Evaluate the PSF at each value of r_pixel\n",
    "    PSF[:,:, z_index] = PSF_interp(r_pixel.ravel()).reshape(size_y, size_x)"
   ]
  },
  {
   "cell_type": "code",
   "execution_count": 84,
   "metadata": {},
   "outputs": [],
   "source": [
    "fig, ax    = plt.subplots(nrows=1, ncols=1)\n",
    "\n",
    "# Rescale the PSF values logarithmically for better viewing\n",
    "PSF_log = np.log(PSF)\n",
    "vmin, vmax = PSF_log.min(), PSF_log.max()\n",
    "\n",
    "img = ax.imshow(PSF[:,:,5], vmin=vmin, vmax=vmax)\n",
    "img.set_extent([-r.max(), r.max(), -r.max(), r.max()])\n",
    "\n",
    "txt = ax.text(3, 7, 'z = {:.1f} $\\mu m$'.format(z[5]))\n",
    "ax.set_xlim((-8, 8))\n",
    "ax.set_xticks((-5, 0, 5))\n",
    "ax.set_xlabel(r'x, $\\mu m$')\n",
    "ax.set_ylim((-8, 8))\n",
    "ax.set_yticks((-5, 0, 5))\n",
    "ax.set_ylabel(r'y, $\\mu m$')\n",
    "ax.spines['top'].set_visible(False)\n",
    "ax.spines['bottom'].set_visible(False)\n",
    "ax.spines['left'].set_visible(False)\n",
    "ax.spines['right'].set_visible(False)\n",
    "\n",
    "# Initialize the figure with an empty frame\n",
    "def init():\n",
    "    img.set_data(np.zeros((size_y, size_x)))\n",
    "    return img,\n",
    "\n",
    "# This function is called for each frame of the animation\n",
    "def animate(frame):   \n",
    "    img.set_data(np.log(PSF[:, :, frame]))\n",
    "\n",
    "    txt.set_text('z = {:.1f} $\\mu m$'.format(z[frame]))\n",
    "    return img,\n",
    "\n",
    "# Create the animation\n",
    "anim = animation.FuncAnimation(fig, animate, frames=len(z),\n",
    "                               init_func=init, interval=20, blit=True)\n",
    "\n",
    "# Save the animation\n",
    "plt.rcParams['animation.ffmpeg_path'] = r'F:\\dev\\msys64\\opt\\windows_64\\bin\\ffmpeg.exe'\n",
    "myWriter = animation.FFMpegWriter(fps=10, extra_args=['-vcodec', 'libx264'])\n",
    "anim.save('images/gibson-lanni.mp4', writer = myWriter)\n",
    "    \n",
    "plt.close()"
   ]
  },
  {
   "cell_type": "code",
   "execution_count": 85,
   "metadata": {},
   "outputs": [
    {
     "data": {
      "text/plain": [
       "(50, 50, 10)"
      ]
     },
     "execution_count": 85,
     "metadata": {},
     "output_type": "execute_result"
    }
   ],
   "source": [
    "PSF.shape"
   ]
  },
  {
   "cell_type": "code",
   "execution_count": 89,
   "metadata": {},
   "outputs": [
    {
     "name": "stderr",
     "output_type": "stream",
     "text": [
      "C:\\Users\\www_0\\AppData\\Local\\Temp\\ipykernel_19308\\3909311358.py:8: UserWarning: ./images/gibson-lanni.tif is a low contrast image\n",
      "  skimage.io.imsave(\"./images/gibson-lanni.tif\", PSFS)\n"
     ]
    }
   ],
   "source": [
    "# save psf image\n",
    "import tifffile\n",
    "from tifffile import imread,imwrite\n",
    "import skimage\n",
    "#imwrite( \"./images/gibson-lanni.tif\", np.array(PSF) ,photometric='rgb',metadata={'axes': 'XYZ'}) \n",
    "#skimage.io.imsave(\"./images/gibson-lanni.tif\", PSF)\n",
    "PSFS=np.swapaxes(PSF,0,2)\n",
    "skimage.io.imsave(\"./images/gibson-lanni.tif\", PSFS)"
   ]
  }
 ],
 "metadata": {
  "kernelspec": {
   "display_name": "Python 3.8.6 64-bit",
   "language": "python",
   "name": "python3"
  },
  "language_info": {
   "codemirror_mode": {
    "name": "ipython",
    "version": 3
   },
   "file_extension": ".py",
   "mimetype": "text/x-python",
   "name": "python",
   "nbconvert_exporter": "python",
   "pygments_lexer": "ipython3",
   "version": "3.8.6"
  },
  "orig_nbformat": 4,
  "vscode": {
   "interpreter": {
    "hash": "e005709e9aa29d1a621e0980d2a7f7c99fe00643a1ac8d1bd0d50306f61d540a"
   }
  }
 },
 "nbformat": 4,
 "nbformat_minor": 2
}
