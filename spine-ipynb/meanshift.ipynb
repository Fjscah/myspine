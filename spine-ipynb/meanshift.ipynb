{
 "cells": [
  {
   "cell_type": "code",
   "execution_count": 5,
   "metadata": {},
   "outputs": [],
   "source": [
    "sys.path.append('../')\n",
    "from __init__ import *\n",
    "\n",
    "image = imread(\"../line_detector.tif\")\n",
    "image.shape\n",
    "%matplotlib widget\n",
    "%matplotlib inline\n"
   ]
  },
  {
   "cell_type": "markdown",
   "metadata": {},
   "source": []
  },
  {
   "cell_type": "code",
   "execution_count": 6,
   "metadata": {},
   "outputs": [
    {
     "name": "stderr",
     "output_type": "stream",
     "text": [
      "C:\\Users\\www_0\\AppData\\Roaming\\Python\\Python38\\site-packages\\ipywidgets\\widgets\\widget.py:412: DeprecationWarning: Passing unrecognized arguments to super(Canvas).__init__().\n",
      "__init__() missing 1 required positional argument: 'figure'\n",
      "This is deprecated in traitlets 4.2.This error will be raised in a future release of traitlets.\n",
      "  super(Widget, self).__init__(**kwargs)\n",
      "C:\\Users\\www_0\\AppData\\Roaming\\Python\\Python38\\site-packages\\ipywidgets\\widgets\\widget.py:412: DeprecationWarning: Passing unrecognized arguments to super(Toolbar).__init__().\n",
      "__init__() missing 1 required positional argument: 'canvas'\n",
      "This is deprecated in traitlets 4.2.This error will be raised in a future release of traitlets.\n",
      "  super(Widget, self).__init__(**kwargs)\n"
     ]
    },
    {
     "data": {
      "application/vnd.jupyter.widget-view+json": {
       "model_id": "ea86e1ba0b2d460d8c9d051d55640ad2",
       "version_major": 2,
       "version_minor": 0
      },
      "text/plain": [
       "Canvas(toolbar=Toolbar(toolitems=[('Home', 'Reset original view', 'home', 'home'), ('Back', 'Back to previous …"
      ]
     },
     "metadata": {},
     "output_type": "display_data"
    },
    {
     "data": {
      "text/plain": [
       "<matplotlib.image.AxesImage at 0x18d2ffb4910>"
      ]
     },
     "execution_count": 6,
     "metadata": {},
     "output_type": "execute_result"
    }
   ],
   "source": [
    "# cv2.namedWindow(\"src\",cv2.WINDOW_AUTOSIZE)\n",
    "# cv2.namedWindow(\"dst\",cv2.WINDOW_AUTOSIZE)\n",
    "%matplotlib widget\n",
    "#%matplotlib inline\n",
    "spatialRad=5\n",
    "colorRad=1\n",
    "maxPryLevel=1\n",
    "src=image.copy()\n",
    "dst=src.copy()\n",
    "maxv=np.max(src)\n",
    "img_norm=src.copy()\n",
    "src=cv2.normalize(src, dst=img_norm,alpha=0,beta=255,norm_type=cv2.NORM_MINMAX)\n",
    "src=src.astype('uint8')\n",
    "src=cv2.cvtColor(src,cv2.COLOR_GRAY2BGR)\n",
    "plt.imshow(src)"
   ]
  },
  {
   "cell_type": "code",
   "execution_count": 7,
   "metadata": {},
   "outputs": [
    {
     "data": {
      "application/vnd.jupyter.widget-view+json": {
       "model_id": "c09c1b01d12c4c5dbd5fac0d811133ff",
       "version_major": 2,
       "version_minor": 0
      },
      "text/plain": [
       "Canvas(toolbar=Toolbar(toolitems=[('Home', 'Reset original view', 'home', 'home'), ('Back', 'Back to previous …"
      ]
     },
     "metadata": {},
     "output_type": "display_data"
    }
   ],
   "source": [
    "\n",
    "color_index=random_color_array(maxv)\n",
    "criteria = (cv2.TERM_CRITERIA_EPS + cv2.TERM_CRITERIA_MAX_ITER, 5, -0.5)\n",
    "def on_meanshift(spatialRad,colorRad,maxLevel,criteria):\n",
    "    dst=cv2.pyrMeanShiftFiltering(src,spatialRad,colorRad,maxLevel=maxLevel,termcrit=criteria)\n",
    "    dst=cv2.cvtColor(dst,cv2.COLOR_BGR2GRAY)\n",
    "    #label_dst=color_index[dst]\n",
    "    return dst\n",
    "#     cv2.imshow(\"dst\",label_dst)\n",
    "\n",
    "# width,height=image.shape\n",
    "# cv2.createTrackbar(\"SpatialRad\",\"dst\",spatialRad,50,on_meanshift)\n",
    "# cv2.createTrackbar(\"ColorRad\",\"dst\",colorRad,60,on_meanshift)\n",
    "# cv2.createTrackbar(\"MaxPryLevel\",\"dst\",maxPryLevel,5,on_meanshift)\n",
    "# cv2.imshow(\"dst\",dst)\n",
    "# cv2.waitKey()\n",
    "_,ax=plt.subplots(4,4,sharex=True,sharey=True)\n",
    "for i in range(0,4):\n",
    "    for j in range(0,4):\n",
    "        label_dst=on_meanshift(i*3,1,j,criteria)\n",
    "        ax[i,j].imshow(label_dst,cmap=\"jet\")\n",
    "        text=\"s=%d,c=%d,p=%d\"%(i*3,1,j)\n",
    "        ax[i,j].set_title(text)\n",
    "        ax[i,j].set_axis_off()\n",
    "        \n",
    "    "
   ]
  },
  {
   "cell_type": "code",
   "execution_count": 8,
   "metadata": {},
   "outputs": [
    {
     "data": {
      "application/vnd.jupyter.widget-view+json": {
       "model_id": "ccc4fbb1d8344b8092fdacdc0e6dce16",
       "version_major": 2,
       "version_minor": 0
      },
      "text/plain": [
       "Canvas(toolbar=Toolbar(toolitems=[('Home', 'Reset original view', 'home', 'home'), ('Back', 'Back to previous …"
      ]
     },
     "metadata": {},
     "output_type": "display_data"
    }
   ],
   "source": [
    "\n",
    "_,ax=plt.subplots(4,4,sharex=True,sharey=True)\n",
    "for i in range(0,4):\n",
    "    for j in range(0,4):\n",
    "        criteria = (cv2.TERM_CRITERIA_EPS + cv2.TERM_CRITERIA_MAX_ITER, 20, 1)\n",
    "        label_dst=on_meanshift(i*2,j*2,1,criteria)\n",
    "        ax[i,j].imshow(label_dst,cmap=\"jet\")\n",
    "        text=\"s=%d,c=%d,p=%d\"%(i*2,j*2,1)\n",
    "        ax[i,j].set_title(text)\n",
    "        ax[i,j].set_axis_off()"
   ]
  },
  {
   "cell_type": "code",
   "execution_count": null,
   "metadata": {},
   "outputs": [
    {
     "data": {
      "application/vnd.jupyter.widget-view+json": {
       "model_id": "41ceabf482404fa588fbd65c265ff1f2",
       "version_major": 2,
       "version_minor": 0
      },
      "text/plain": [
       "Canvas(toolbar=Toolbar(toolitems=[('Home', 'Reset original view', 'home', 'home'), ('Back', 'Back to previous …"
      ]
     },
     "metadata": {},
     "output_type": "display_data"
    }
   ],
   "source": [
    "_,ax=plt.subplots(4,4,sharex=True,sharey=True)\n",
    "for i in range(0,4):\n",
    "    for j in range(0,4):\n",
    "        criteria = (cv2.TERM_CRITERIA_EPS + cv2.TERM_CRITERIA_MAX_ITER, i*5,j*2-4)\n",
    "        label_dst=on_meanshift(4,0,1,criteria)\n",
    "        ax[i,j].imshow(label_dst,cmap=\"jet\")\n",
    "        text=\"iter=%d,accur=%d\"%(i*3,j*2)\n",
    "        ax[i,j].set_title(text)\n",
    "        ax[i,j].set_axis_off()"
   ]
  },
  {
   "cell_type": "markdown",
   "metadata": {},
   "source": [
    "# conclusion for opencv meanshift segment\n",
    "1. py will influence(blur) segment ,need set 0-1 (recommend 0)\n",
    "2. c will influence second , set 0-2\n",
    "3. s is next, set 0-4\n",
    "4. iter and precision is last, default is ok, can set 10,1 "
   ]
  },
  {
   "cell_type": "markdown",
   "metadata": {},
   "source": [
    "# LK optical flow tracing\n"
   ]
  },
  {
   "cell_type": "code",
   "execution_count": 10,
   "metadata": {},
   "outputs": [],
   "source": [
    "#(inverse compositional)\n",
    "import math\n",
    "images=imread(\"../cell0317-time.tif\")\n",
    "\n",
    "LK_images=[]\n",
    "\n",
    "# conner detector params\n",
    "feature_params=dict(maxCorners=100,qualityLevel=0.1,minDistance=7,blockSize=7)\n",
    "# LK lightflow params\n",
    "lk_params=dict(winSize=(15,15),maxLevel=2,criteria=(cv2.TERM_CRITERIA_EPS | cv2.TERM_CRITERIA_COUNT, 10, 0.02))\n",
    "frames,height,width=images.shape\n",
    "tracks=[] # strore tran_len frames ' point moving path\n",
    "track_len=15\n",
    "frame_idx=0\n",
    "detect_interval=1\n",
    "while(frame_idx<frames):\n",
    "    frame=images[frame_idx]\n",
    "    src=cv2.normalize(frame,dst=img_norm,alpha=0,beta=255,norm_type=cv2.NORM_MINMAX)\n",
    "    src=src.astype('uint8')\n",
    "    frame=src.copy()\n",
    "    vis=cv2.cvtColor(img_norm,cv2.COLOR_GRAY2BGR)\n",
    "    if(len(tracks)>0):\n",
    "        img0,img1=pregray,frame\n",
    "        p0=np.float32([tr[-1] for tr in tracks]).reshape(-1,1,2)\n",
    "        p1,st,err=cv2.calcOpticalFlowPyrLK(img0,img1,p0,None,**lk_params)\n",
    "        p0r,st,err=cv2.calcOpticalFlowPyrLK(img1,img0,p1,None,**lk_params)\n",
    "        d=abs(p0-p0r).reshape(-1,2).max(-1)\n",
    "        #distance <1 is good track\n",
    "        good=d>-1\n",
    "        new_tracks=[]\n",
    "        for i,(tr,(x,y),flag) in enumerate(zip(tracks, p1.reshape(-1, 2), good)):\n",
    "            if not flag:\n",
    "                continue\n",
    "            tr.append((x,y))\n",
    "            if len(tr)>track_len:\n",
    "                del tr[0]\n",
    "            new_tracks.append(tr) \n",
    "            if len(tr)<4:\n",
    "                cv2.circle(vis,(int(x),int(y)),2,(255,0,0),-1)\n",
    "            else:\n",
    "                cv2.circle(vis,(int(x),int(y)),2,(0,255,0),-1)\n",
    "    \n",
    "        tracks=new_tracks\n",
    "        cv2.polylines(vis,[np.int32(tr) for tr in tracks],1,(255,255,0),1)\n",
    "    if frame_idx==0:\n",
    "        mask=np.zeros_like(frame)\n",
    "        mask[:]=255\n",
    "        \n",
    "        if frame_idx!=0:\n",
    "            for x,y in [np.int32(tr[-1]) for tr in tracks ]:\n",
    "                cv2.circle(mask, (int(x), int(y)), 5, 0, -1)\n",
    "        p = cv2.goodFeaturesToTrack(frame, mask=mask, **feature_params)\n",
    "        if p is not None:\n",
    "            for x, y in np.float32(p).reshape(-1,2):\n",
    "                tracks.append([(x, y)])\n",
    "    frame_idx+=1\n",
    "    pregray=frame\n",
    "    LK_images.append(vis)\n",
    "\n",
    "    \n",
    "        \n",
    "      "
   ]
  },
  {
   "cell_type": "code",
   "execution_count": null,
   "metadata": {},
   "outputs": [],
   "source": [
    "# #from random_color import random_color_f,random_color_list\n",
    "# # to open a tiff file for reading:\n",
    "\n",
    "# print(images.shape)\n",
    "# def random_color_list(n):\n",
    "#     return [random_color.random_color_f() for i in range(n)]\n",
    "# colors=random_color_list(13)\n",
    "# def browse_images(images):\n",
    "#     n=len(images)\n",
    "   \n",
    "#     def view_image(i):\n",
    "#         fig,ax=plt.subplots()\n",
    "#         ax.imshow(LK_images[i])\n",
    "        \n",
    "#         # plt.title('Training: %s' % i)\n",
    "#         # plt.show()\n",
    "#     interact(view_image, i=(0,n-1))\n",
    "# browse_images(images)\n"
   ]
  },
  {
   "cell_type": "code",
   "execution_count": 11,
   "metadata": {},
   "outputs": [
    {
     "data": {
      "text/plain": [
       "(512, 512, 3)"
      ]
     },
     "execution_count": 11,
     "metadata": {},
     "output_type": "execute_result"
    }
   ],
   "source": [
    "LK_images[0].dtype\n",
    "LK_images[0].shape"
   ]
  },
  {
   "cell_type": "code",
   "execution_count": null,
   "metadata": {},
   "outputs": [],
   "source": [
    "from tifffile import imread,imwrite\n",
    "import tifffile\n",
    "imwrite( \"Lkoflow.tif\", np.array(LK_images) ,photometric='rgb',metadata={'axes': 'TYX'})"
   ]
  },
  {
   "cell_type": "code",
   "execution_count": null,
   "metadata": {},
   "outputs": [],
   "source": []
  },
  {
   "cell_type": "code",
   "execution_count": 2,
   "metadata": {},
   "outputs": [
    {
     "ename": "ModuleNotFoundError",
     "evalue": "No module named '__init__'",
     "output_type": "error",
     "traceback": [
      "\u001b[1;31m---------------------------------------------------------------------------\u001b[0m",
      "\u001b[1;31mModuleNotFoundError\u001b[0m                       Traceback (most recent call last)",
      "\u001b[1;32mh:\\spine\\segment\\some_analysis_for_spine_img\\ipynb\\meanshift.ipynb Cell 14'\u001b[0m in \u001b[0;36m<cell line: 1>\u001b[1;34m()\u001b[0m\n\u001b[1;32m----> <a href='vscode-notebook-cell:/h%3A/spine/segment/some_analysis_for_spine_img/ipynb/meanshift.ipynb#ch0000013?line=0'>1</a>\u001b[0m \u001b[39mfrom\u001b[39;00m \u001b[39m__init__\u001b[39;00m \u001b[39mimport\u001b[39;00m \u001b[39m*\u001b[39m\n\u001b[0;32m      <a href='vscode-notebook-cell:/h%3A/spine/segment/some_analysis_for_spine_img/ipynb/meanshift.ipynb#ch0000013?line=1'>2</a>\u001b[0m \u001b[39mimport\u001b[39;00m \u001b[39mcv2\u001b[39;00m\n\u001b[0;32m      <a href='vscode-notebook-cell:/h%3A/spine/segment/some_analysis_for_spine_img/ipynb/meanshift.ipynb#ch0000013?line=2'>3</a>\u001b[0m \u001b[39mimport\u001b[39;00m \u001b[39mLucasKanade3D\u001b[39;00m\n",
      "\u001b[1;31mModuleNotFoundError\u001b[0m: No module named '__init__'"
     ]
    }
   ],
   "source": [
    "from __init__ import *\n",
    "import cv2\n",
    "import LucasKanade3D\n",
    "#(inverse compositional)\n",
    "import math\n",
    "images=imread(\"cell0317-time.tif\")\n",
    "\n",
    "LK_images=[]\n",
    "\n",
    "# conner detector params\n",
    "feature_params=dict(maxCorners=100,qualityLevel=0.1,minDistance=7,blockSize=7)\n",
    "# LK lightflow params\n",
    "lk_params=dict(winSize=(15,15),maxLevel=2,criteria=(cv2.TERM_CRITERIA_EPS | cv2.TERM_CRITERIA_COUNT, 10, 0.02))\n",
    "frames,height,width=images.shape\n",
    "tracks=[] # strore tran_len frames ' point moving path\n",
    "track_len=15\n",
    "frame_idx=0\n",
    "detect_interval=1\n",
    "while(frame_idx<frames):\n",
    "    frame=images[frame_idx]\n",
    "    img_norm=frame.copy()\n",
    "    src=cv2.normalize(frame,dst=img_norm,alpha=0,beta=255,norm_type=cv2.NORM_MINMAX)\n",
    "    src=src.astype('uint8')\n",
    "    frame=src.copy()\n",
    "    vis=cv2.cvtColor(img_norm,cv2.COLOR_GRAY2BGR)\n",
    "    if(len(tracks)>0):\n",
    "        img0,img1=pregray,frame\n",
    "        p0=np.float32([tr[-1] for tr in tracks]).reshape(-1,1,2)\n",
    "        #p1,st,err=LucasKanade3D.calcOpticalFlowPyrLK3D(img0, img1, p0, size=[11,11])\n",
    "        p1,st,err=cv2.calcOpticalFlowPyrLK(img0,img1,p0,None,**lk_params)\n",
    "        p0r,st,err=cv2.calcOpticalFlowPyrLK(img1,img0,p1,None,**lk_params)\n",
    "        d=abs(p0-p0r).reshape(-1,2).max(-1)\n",
    "        #distance <1 is good track\n",
    "        good=d<3\n",
    "        new_tracks=[]\n",
    "        for i,(tr,(x,y),flag) in enumerate(zip(tracks, p1.reshape(-1, 2), good)):\n",
    "            if not flag:\n",
    "                continue\n",
    "            tr.append((x,y))\n",
    "            if len(tr)>track_len:\n",
    "                del tr[0]\n",
    "            new_tracks.append(tr) \n",
    "            if len(tr)<4:\n",
    "                cv2.circle(vis,(int(x),int(y)),2,(255,0,0),-1)\n",
    "            else:\n",
    "                cv2.circle(vis,(int(x),int(y)),2,(0,255,0),-1)\n",
    "    \n",
    "        tracks=new_tracks\n",
    "        cv2.polylines(vis,[np.int32(tr) for tr in tracks],1,(255,255,0),1)\n",
    "    if frame_idx%detect_interval==0:\n",
    "        mask=np.zeros_like(frame)\n",
    "        mask[:]=255\n",
    "        \n",
    "        if frame_idx!=0:\n",
    "            for x,y in [np.int32(tr[-1]) for tr in tracks ]:\n",
    "                cv2.circle(mask, (int(x), int(y)), 5, 0, -1)\n",
    "        p = cv2.goodFeaturesToTrack(frame, mask=mask, **feature_params)\n",
    "        if p is not None:\n",
    "            for x, y in np.float32(p).reshape(-1,2):\n",
    "                tracks.append([(x, y)])\n",
    "    frame_idx+=1\n",
    "    pregray=frame\n",
    "    LK_images.append(vis)\n",
    "\n"
   ]
  }
 ],
 "metadata": {
  "kernelspec": {
   "display_name": "Python 3.8.6 64-bit",
   "language": "python",
   "name": "python3"
  },
  "language_info": {
   "codemirror_mode": {
    "name": "ipython",
    "version": 3
   },
   "file_extension": ".py",
   "mimetype": "text/x-python",
   "name": "python",
   "nbconvert_exporter": "python",
   "pygments_lexer": "ipython3",
   "version": "3.8.6"
  },
  "orig_nbformat": 4,
  "vscode": {
   "interpreter": {
    "hash": "e005709e9aa29d1a621e0980d2a7f7c99fe00643a1ac8d1bd0d50306f61d540a"
   }
  }
 },
 "nbformat": 4,
 "nbformat_minor": 2
}
