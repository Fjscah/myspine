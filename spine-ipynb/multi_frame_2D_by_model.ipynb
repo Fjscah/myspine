{
 "cells": [
  {
   "attachments": {},
   "cell_type": "markdown",
   "metadata": {},
   "source": [
    "# multi frame'spine instances by 2d model\n",
    "1. ##!!--------------------!!##\n",
    "   \n",
    "   some paras which need be set by users \n",
    "2. ##%%-------------------%%##\n",
    "   \n",
    "   some edit need be down by users "
   ]
  },
  {
   "cell_type": "code",
   "execution_count": 3,
   "metadata": {},
   "outputs": [
    {
     "name": "stderr",
     "output_type": "stream",
     "text": [
      "c:\\Users\\ZLY\\AppData\\Local\\Programs\\Python\\Python38\\lib\\site-packages\\_distutils_hack\\__init__.py:30: UserWarning: Setuptools is replacing distutils.\n",
      "  warnings.warn(\"Setuptools is replacing distutils.\")\n"
     ]
    },
    {
     "name": "stdout",
     "output_type": "stream",
     "text": [
      "No Fortran modules found, falling back on Python implementation.\n",
      "Did you run `python3 setup.py install`?\n"
     ]
    },
    {
     "name": "stderr",
     "output_type": "stream",
     "text": [
      "c:\\Users\\ZLY\\AppData\\Local\\Programs\\Python\\Python38\\lib\\site-packages\\torchvision\\io\\image.py:13: UserWarning: Failed to load image Python extension: [WinError 127] 找不到指定的程序。\n",
      "  warn(f\"Failed to load image Python extension: {e}\")\n"
     ]
    }
   ],
   "source": [
    "# import library 导入库文件\n",
    "import sys\n",
    "import tifffile\n",
    "import numpy as np\n",
    "from IPython.core.interactiveshell import InteractiveShell\n",
    "from skimage.io import imsave\n",
    "from skimage.morphology import remove_small_objects\n",
    "InteractiveShell.ast_node_interactivity = 'last_expr'\n",
    "from tqdm import tqdm\n",
    "import numpy as np\n",
    "import os\n",
    "\n",
    "\n",
    "sys.path.append(\"..\")\n",
    "sys.path.append(\"..//..\")\n",
    "\n",
    "from IPython.core.interactiveshell import InteractiveShell\n",
    "from skimage.filters import threshold_otsu, threshold_yen\n",
    "from skimage.filters.thresholding import (threshold_isodata, threshold_li,\n",
    "                                          threshold_local, threshold_mean,\n",
    "                                          threshold_minimum,\n",
    "                                          threshold_multiotsu,\n",
    "                                          threshold_niblack, threshold_otsu,\n",
    "                                          threshold_triangle, threshold_yen)\n",
    "from skimage.io import imsave\n",
    "from skimage.morphology import remove_small_objects\n",
    "from skimage.segmentation import expand_labels, watershed\n",
    "from utils import file_base\n",
    "import spinelib\n",
    "from spinelib import cflow, imgio, seg\n",
    "from spinelib.cflow.blob import find_spheres, peakfilter, sphere_log\n",
    "from spinelib.cflow.localthreadhold import local_threshold\n",
    "from spinelib.imgio import napari_base\n",
    "from spinelib.seg import segment, track,unetseg\n",
    "from spinelib.utils import npixel\n",
    "from spinelib.utils.measure import label_statics\n",
    "from spinelib.utils.spine_struct import spines_distance\n",
    "from spinelib.imgio import imgio_base\n",
    "from spinelib.imgio.imgio_base import savelabel,savepr\n",
    "from utils import file_base,yaml_config\n",
    "from train.trainers import predict\n",
    "# InteractiveShell.ast_node_interactivity = 'last_expr'\n",
    "methods = cflow.localthreadhold.thmethods\n"
   ]
  },
  {
   "cell_type": "code",
   "execution_count": 4,
   "metadata": {},
   "outputs": [],
   "source": [
    "#basic fun\n",
    "\n",
    "def remove_den(imgs,unetmodel,cval=140):\n",
    "    denmasks,_=predict.predict_time_img(unetmodel,imgs)\n",
    "    imgs=imgs.copy()\n",
    "    imgs[denmasks==1]=cval\n",
    "    return imgs\n",
    "def remove_small_lable(mask,thsize):\n",
    "    labs=measure.unique_labs(mask)\n",
    "    newmask=np.zeros_like(mask)\n",
    "    for lab in labs:\n",
    "        mm=mask==lab\n",
    "        mask2=remove_small_objects(mm,thsize)\n",
    "        if not mask.any():\n",
    "            mask2=mm\n",
    "        newmask[mask2]=lab\n",
    "    return newmask   \n",
    "def th_img(imgs,ls,binary_func):\n",
    "    global_th=binary_func(imgs[0])\n",
    "    lss=np.zeros_like(imgs,dtype=np.uint16)\n",
    "\n",
    "    for i in range(len(imgs)):\n",
    "        img=imgs[i]\n",
    "        adth=img>global_th\n",
    "        # denmask,_=predict.predict_single_img(unetmodel,img)\n",
    "        l=ls*adth\n",
    "        l[l<2]=0\n",
    "        l=remove_small_lable(l,6)\n",
    "        lss[i]=l\n",
    "        # lss[i][denmask==1]=0\n",
    "    lss[lss<2]=0\n",
    "       \n",
    "    return lss\n",
    "\n",
    "\n"
   ]
  },
  {
   "cell_type": "code",
   "execution_count": 5,
   "metadata": {},
   "outputs": [],
   "source": [
    "# super params\n",
    "#-----------------------#\n",
    "#   paras  #\n",
    "#-----------------------#\n",
    "# 设置载入2D/3D  参数\n",
    "paras_2D=dict(\n",
    "    axes=\"txy\", #2D\n",
    "    sigma=(2,2), # 2D y,x\n",
    "    steps=2, # caculate stick gradient step lenth 1-4, larger more error , smaller than spine diameter\n",
    "    lambda1=1,\n",
    "    lambda2=1.5, # lambda2 need large than lambda1\n",
    "    sigma_hessian = 4,\n",
    "    sigma_supp = 100,\n",
    "    countth=10*20 ,# fiber largest pixels, include z stack, that to say lenth*stackn\n",
    "    smallobj=200,\n",
    "    spine_radius=35, # for iteration to growth area\n",
    "    min_radius=3,\n",
    "    maxspinesize=600,\n",
    "    spotrange=[3,11],\n",
    "    binary_func=threshold_li, # local_threshold  #threshold_li\n",
    "    use_sobel=False,\n",
    "    search_box=[25,25],\n",
    "    keep_time=5,\n",
    "    peak_use_gaussian=True,\n",
    "    spine_min_size_th=4, \n",
    "    searchbox=[5,5],\n",
    ")\n",
    "paras_3D=dict(\n",
    "    axes=\"tzxy\", #\n",
    "    sigma=(2,2,2), # y,x\n",
    "    steps=2, # caculate stick gradient step lenth 1-4, larger more error , smaller than spine diameter\n",
    "    lambda1=1,\n",
    "    lambda2=1.5, # lambda2 need large than lambda1\n",
    "    sigma_hessian = 4,\n",
    "    sigma_supp = 100,\n",
    "    countth=10*20 ,# fiber largest pixels, include z stack, that to say lenth*stackn\n",
    "    smallobj=200,\n",
    "    spine_radius=35, # for iteration to growth area\n",
    "    min_radius=3,\n",
    "    maxspinesize=200,\n",
    "    spotrange=[3,11],\n",
    "    binary_func=threshold_li, # local_threshold  #threshold_li\n",
    "    use_sobel=False,\n",
    "    search_box=[25,25],\n",
    "    keep_time=5,\n",
    "    peak_use_gaussian=True,\n",
    "    spine_min_size_th=4, \n",
    "    searchbox=[5,5,5]\n",
    ")\n"
   ]
  },
  {
   "cell_type": "code",
   "execution_count": 6,
   "metadata": {},
   "outputs": [
    {
     "name": "stdout",
     "output_type": "stream",
     "text": [
      "== Configure file dir f:\\code\\zly\\myspine-20230606\\config\n",
      "== Configure file path f:\\code\\zly\\myspine-20230606\\config\\defalut_2d_ins_ERF.yaml\n",
      "== Data root F:\\data\\dataset\\myspine-dataset\\2D-morph-seg\n",
      "== Train root f:\\code\\zly\\myspine-20230606\\config\\../DATA/2d_ins_ERF\n",
      "== crop_path f:\\code\\zly\\myspine-20230606\\config\\../DATA/2d_seg/data\n",
      "f:\\code\\zly\\myspine-20230606\\DATA\\2d_ins_ERF\\log\\train_info.log\n",
      "device: cpu\n",
      "================device enable state============\n",
      "use gpu\t: \t False\n",
      "gpu number\t\t: \t 0\n",
      "use cpu\t: \t True\n",
      "cpu number\t\t: \t 12\n",
      "Creating branched erfnet with [3, 3] classes\n",
      "initialize last layer with size:  torch.Size([16, 3, 2, 2])\n",
      "============= assign xym =============\n"
     ]
    },
    {
     "name": "stderr",
     "output_type": "stream",
     "text": [
      "2023-06-08 18:54:47,652 - ..\\train\\trainers\\predict.py[line:114] - INFO: \n",
      "==============LOAD PRETRAINED model==============\n",
      "F:\\code\\zly\\myspine-20230606\\DATA\\2d_ins_ERF\\model\\ep043-loss0.956.pth\n",
      "=================================================\n",
      "\n"
     ]
    }
   ],
   "source": [
    "#-----------------------#\n",
    "#   model loader  #\n",
    "#-----------------------#\n",
    "# 选择使用的配置文件,用于载入预测模型和参数\n",
    "\n",
    "configfile=r\"..\\config\\defalut_2d_ins_ERF.yaml\"\n",
    "default_configuration=yaml_config.YAMLConfig(\n",
    "        configfile\n",
    "        )\n",
    "premodel=r\"F:\\code\\zly\\myspine-20230606\\DATA\\2d_ins_ERF\\model\\ep043-loss0.956.pth\"\n",
    "# modelpath=r\"D:\\code\\myspine\\models\\defaultmodel\\actin-modelep006-loss0.097.h5\"\n",
    "# modelpath=r\"D:\\code\\myspine\\models\\defaultmodel\\morph-modelep200-loss0.133.h5\"\n",
    "# modelpath=r\"D:\\code\\test-dataset\\model\\2D\\segep064-loss0.125.h5\"\n",
    "\n",
    "predictmodel = predict.Predict()\n",
    "\n",
    "predictmodel.setting(default_configuration,use_gpu=False)\n",
    "predictmodel.load_weight(False,premodel)"
   ]
  },
  {
   "cell_type": "code",
   "execution_count": 55,
   "metadata": {},
   "outputs": [
    {
     "name": "stdout",
     "output_type": "stream",
     "text": [
      "image shape : (80, 512, 512)\n",
      "image dtype : uint16\n",
      "image ndim : 3\n"
     ]
    }
   ],
   "source": [
    "#-----------------------#\n",
    "#   data loader  #\n",
    "#-----------------------#\n",
    "# 选择要分析的图像\n",
    "filename=r\"F:\\data\\LNP2DATA\\QL\\QL2Dt\\Stablized tboaltp 20180128n2.tif\"\n",
    "\n",
    "#-----------------------#\n",
    "#   Output file path  # \n",
    "#-----------------------#\n",
    "# 选择要保存的文件夹\n",
    "savedir=r\"F:\\data\\dataset\\myspine-dataset2\\result-time\"\n",
    "file_base.create_dir(savedir)\n",
    "#-----------------------#\n",
    "#   Loading image  #\n",
    "#-----------------------#\n",
    "#-- image width and height\n",
    "imgs = imgio.ski_imread(filename)\n",
    "imgio_base.show_img_info(imgs)\n",
    "ndim=imgs.ndim\n",
    "ftime=False\n",
    "if(ndim==4):\n",
    "    wx,wy=imgs.shape[2:4]\n",
    "else:\n",
    "    wx,wy=imgs.shape[1:3]\n",
    "\n",
    "#-----------------------#\n",
    "#   Output file path  #\n",
    "#-----------------------#\n",
    "# 选择要保存的文件夹\n",
    "\n",
    "file_base.create_dir(savedir)\n",
    "\n",
    "#-----------------------#\n",
    "#   Output file list  #\n",
    "#-----------------------#\n",
    "ddir,shotname,suffix=file_base.split_filename(filename)\n",
    "ddir,shortname,suffix=file_base.split_filename(filename)\n",
    "savedir=os.path.join(savedir,shortname)\n",
    "file_base.create_dir(savedir)\n",
    "# 将会生成的文件\n",
    "imgfile=os.path.join(savedir,shotname+\".tif\")\n",
    "spineprfile=os.path.join(savedir,shotname+\"-spinepr.tif\")\n",
    "denprfile=os.path.join(savedir,shotname+\"-denpr.tif\")\n",
    "maskfile=os.path.join(savedir,shotname+\"-mask.tif\")\n",
    "spinefile=os.path.join(savedir,shotname+\"-spine.tif\")\n",
    "denfile=os.path.join(savedir,shotname+\"-den.tif\")\n",
    "skeletonfile=os.path.join(savedir,shotname+\"-skeletonden.tif\")\n",
    "mipimgfile=os.path.join(savedir,\"tMIP-\"+shotname+\".tif\")\n",
    "mipmaskfile=os.path.join(savedir,\"tMIP-\"+shotname+\"-mask.tif\")\n",
    "mipspineprfile=os.path.join(savedir,\"tMIP-\"+shotname+\"-spinepr.tif\")\n",
    "mipdenprfile=os.path.join(savedir,\"tMIP-\"+shotname+\"-denpr.tif\")\n",
    "mipspinefile=os.path.join(savedir,\"tMIP-\"+shotname+\"-spine.tif\")\n",
    "mipdenfile=os.path.join(savedir,\"tMIP-\"+shotname+\"-den.tif\")\n",
    "\n",
    "areafile=os.path.join(savedir,shotname+\"_area.csv\")\n",
    "meanfile=os.path.join(savedir,shotname+\"_mean_inten.csv\")\n",
    "# 如果是3D的图像\n",
    "zareafile=os.path.join(savedir,shotname+\"_zarea.csv\")\n",
    "zmeanfile=os.path.join(savedir,shotname+\"_zmean_inten.csv\")\n",
    "\n",
    "\n",
    "\n",
    "\n",
    "#=======================#\n",
    "#   load paras  #\n",
    "#=======================#\n",
    "paras=paras_2D if ndim==2 else paras_3D\n",
    "binary_func=paras[\"binary_func\"]\n",
    "spine_min_size_th=paras[\"spine_min_size_th\"]\n",
    "min_radius=paras[\"min_radius\"]\n",
    "searchbox=paras[\"searchbox\"]\n",
    "maxspinesize=paras[\"maxspinesize\"]"
   ]
  },
  {
   "cell_type": "markdown",
   "metadata": {},
   "source": [
    "# PART ONE - predict by model\n"
   ]
  },
  {
   "cell_type": "markdown",
   "metadata": {},
   "source": [
    "1. Let's see predict spine and dendritc probability \n",
    "\n",
    "need process each frame by network model,maybe slowly,please be patient"
   ]
  },
  {
   "cell_type": "code",
   "execution_count": 46,
   "metadata": {
    "collapsed": true
   },
   "outputs": [
    {
     "name": "stdout",
     "output_type": "stream",
     "text": [
      "============= assign xym =============\n"
     ]
    }
   ],
   "source": [
    "#--- Predict ---#\n",
    "mip_img=np.max(imgs,axis=0)\n",
    "#--- Predict ---#\n",
    "from csbdeep.utils import normalize\n",
    "from spinelib.seg import unetseg\n",
    "\n",
    "model=predictmodel.model\n",
    "# print(img.shape)\n",
    "# img=normalize(img)\n",
    "mip_ins,mip_prob,mip_mask=model.off_predict(mip_img)\n",
    "mip_bgpr,mip_denpr,mip_spinepr=mip_prob\n",
    "#mask,spinepr,denpr,bgpr=unetseg.predict_single_img(model,mip_img)\n",
    "\n",
    "# spine_label=unetseg.instance_unetmask_bypeak(spinepr,mask,searchbox[1:],min_radius,spinesize_range=[4,800])\n",
    "#spine_label=unetseg.instance_unetmask_by_border(spinepr,mask==2,bgpr,0.5,spinesize_range=[8,800])\n",
    "\n"
   ]
  },
  {
   "cell_type": "code",
   "execution_count": 47,
   "metadata": {},
   "outputs": [],
   "source": [
    "#--- View  MIP Predict Result ---#\n",
    "viewer=imgio.plot.imshow3d(I=mip_img,\n",
    "    Is_overlay=[imgs,mip_spinepr,mip_denpr],#bgpr\n",
    "    name_Is=[   \"imgs\",\"spinepr\",\"denpr\"],\n",
    "    cmap_Is=[   \"gray\",\"magenta\",  \"green\"],\n",
    "    label_lay=[mip_mask,mip_ins],\n",
    "    label_lay_name=[\"mask\",\"spine\"]   )"
   ]
  },
  {
   "cell_type": "code",
   "execution_count": 48,
   "metadata": {},
   "outputs": [
    {
     "name": "stderr",
     "output_type": "stream",
     "text": [
      "Processing:   0%|          | 0/80 [00:00<?, ?it/s]"
     ]
    },
    {
     "name": "stdout",
     "output_type": "stream",
     "text": [
      "============= assign xym =============\n"
     ]
    },
    {
     "name": "stderr",
     "output_type": "stream",
     "text": [
      "Processing:   1%|▏         | 1/80 [00:01<01:22,  1.04s/it]"
     ]
    },
    {
     "name": "stdout",
     "output_type": "stream",
     "text": [
      "============= assign xym =============\n"
     ]
    },
    {
     "name": "stderr",
     "output_type": "stream",
     "text": [
      "Processing:   2%|▎         | 2/80 [00:01<01:17,  1.01it/s]"
     ]
    },
    {
     "name": "stdout",
     "output_type": "stream",
     "text": [
      "============= assign xym =============\n"
     ]
    },
    {
     "name": "stderr",
     "output_type": "stream",
     "text": [
      "Processing:   4%|▍         | 3/80 [00:02<01:15,  1.03it/s]"
     ]
    },
    {
     "name": "stdout",
     "output_type": "stream",
     "text": [
      "============= assign xym =============\n"
     ]
    },
    {
     "name": "stderr",
     "output_type": "stream",
     "text": [
      "Processing:   5%|▌         | 4/80 [00:03<01:14,  1.02it/s]"
     ]
    },
    {
     "name": "stdout",
     "output_type": "stream",
     "text": [
      "============= assign xym =============\n"
     ]
    },
    {
     "name": "stderr",
     "output_type": "stream",
     "text": [
      "Processing:   6%|▋         | 5/80 [00:04<01:12,  1.04it/s]"
     ]
    },
    {
     "name": "stdout",
     "output_type": "stream",
     "text": [
      "============= assign xym =============\n"
     ]
    },
    {
     "name": "stderr",
     "output_type": "stream",
     "text": [
      "Processing:   8%|▊         | 6/80 [00:05<01:10,  1.05it/s]"
     ]
    },
    {
     "name": "stdout",
     "output_type": "stream",
     "text": [
      "============= assign xym =============\n"
     ]
    },
    {
     "name": "stderr",
     "output_type": "stream",
     "text": [
      "Processing:   9%|▉         | 7/80 [00:06<01:09,  1.05it/s]"
     ]
    },
    {
     "name": "stdout",
     "output_type": "stream",
     "text": [
      "============= assign xym =============\n"
     ]
    },
    {
     "name": "stderr",
     "output_type": "stream",
     "text": [
      "Processing:  10%|█         | 8/80 [00:07<01:08,  1.05it/s]"
     ]
    },
    {
     "name": "stdout",
     "output_type": "stream",
     "text": [
      "============= assign xym =============\n"
     ]
    },
    {
     "name": "stderr",
     "output_type": "stream",
     "text": [
      "Processing:  11%|█▏        | 9/80 [00:08<01:08,  1.04it/s]"
     ]
    },
    {
     "name": "stdout",
     "output_type": "stream",
     "text": [
      "============= assign xym =============\n"
     ]
    },
    {
     "name": "stderr",
     "output_type": "stream",
     "text": [
      "Processing:  12%|█▎        | 10/80 [00:09<01:06,  1.05it/s]"
     ]
    },
    {
     "name": "stdout",
     "output_type": "stream",
     "text": [
      "============= assign xym =============\n"
     ]
    },
    {
     "name": "stderr",
     "output_type": "stream",
     "text": [
      "Processing:  14%|█▍        | 11/80 [00:10<01:05,  1.05it/s]"
     ]
    },
    {
     "name": "stdout",
     "output_type": "stream",
     "text": [
      "============= assign xym =============\n"
     ]
    },
    {
     "name": "stderr",
     "output_type": "stream",
     "text": [
      "Processing:  15%|█▌        | 12/80 [00:11<01:04,  1.05it/s]"
     ]
    },
    {
     "name": "stdout",
     "output_type": "stream",
     "text": [
      "============= assign xym =============\n"
     ]
    },
    {
     "name": "stderr",
     "output_type": "stream",
     "text": [
      "Processing:  16%|█▋        | 13/80 [00:12<01:04,  1.04it/s]"
     ]
    },
    {
     "name": "stdout",
     "output_type": "stream",
     "text": [
      "============= assign xym =============\n"
     ]
    },
    {
     "name": "stderr",
     "output_type": "stream",
     "text": [
      "Processing:  18%|█▊        | 14/80 [00:13<01:02,  1.06it/s]"
     ]
    },
    {
     "name": "stdout",
     "output_type": "stream",
     "text": [
      "============= assign xym =============\n"
     ]
    },
    {
     "name": "stderr",
     "output_type": "stream",
     "text": [
      "Processing:  19%|█▉        | 15/80 [00:14<01:02,  1.05it/s]"
     ]
    },
    {
     "name": "stdout",
     "output_type": "stream",
     "text": [
      "============= assign xym =============\n"
     ]
    },
    {
     "name": "stderr",
     "output_type": "stream",
     "text": [
      "Processing:  20%|██        | 16/80 [00:15<01:00,  1.05it/s]"
     ]
    },
    {
     "name": "stdout",
     "output_type": "stream",
     "text": [
      "============= assign xym =============\n"
     ]
    },
    {
     "name": "stderr",
     "output_type": "stream",
     "text": [
      "Processing:  21%|██▏       | 17/80 [00:16<01:00,  1.05it/s]"
     ]
    },
    {
     "name": "stdout",
     "output_type": "stream",
     "text": [
      "============= assign xym =============\n"
     ]
    },
    {
     "name": "stderr",
     "output_type": "stream",
     "text": [
      "Processing:  22%|██▎       | 18/80 [00:17<00:59,  1.04it/s]"
     ]
    },
    {
     "name": "stdout",
     "output_type": "stream",
     "text": [
      "============= assign xym =============\n"
     ]
    },
    {
     "name": "stderr",
     "output_type": "stream",
     "text": [
      "Processing:  24%|██▍       | 19/80 [00:18<00:58,  1.04it/s]"
     ]
    },
    {
     "name": "stdout",
     "output_type": "stream",
     "text": [
      "============= assign xym =============\n"
     ]
    },
    {
     "name": "stderr",
     "output_type": "stream",
     "text": [
      "Processing:  25%|██▌       | 20/80 [00:19<00:58,  1.02it/s]"
     ]
    },
    {
     "name": "stdout",
     "output_type": "stream",
     "text": [
      "============= assign xym =============\n"
     ]
    },
    {
     "name": "stderr",
     "output_type": "stream",
     "text": [
      "Processing:  26%|██▋       | 21/80 [00:20<00:58,  1.01it/s]"
     ]
    },
    {
     "name": "stdout",
     "output_type": "stream",
     "text": [
      "============= assign xym =============\n"
     ]
    },
    {
     "name": "stderr",
     "output_type": "stream",
     "text": [
      "Processing:  28%|██▊       | 22/80 [00:21<00:57,  1.01it/s]"
     ]
    },
    {
     "name": "stdout",
     "output_type": "stream",
     "text": [
      "============= assign xym =============\n"
     ]
    },
    {
     "name": "stderr",
     "output_type": "stream",
     "text": [
      "Processing:  29%|██▉       | 23/80 [00:22<00:56,  1.02it/s]"
     ]
    },
    {
     "name": "stdout",
     "output_type": "stream",
     "text": [
      "============= assign xym =============\n"
     ]
    },
    {
     "name": "stderr",
     "output_type": "stream",
     "text": [
      "Processing:  30%|███       | 24/80 [00:23<00:54,  1.02it/s]"
     ]
    },
    {
     "name": "stdout",
     "output_type": "stream",
     "text": [
      "============= assign xym =============\n"
     ]
    },
    {
     "name": "stderr",
     "output_type": "stream",
     "text": [
      "Processing:  31%|███▏      | 25/80 [00:24<00:53,  1.02it/s]"
     ]
    },
    {
     "name": "stdout",
     "output_type": "stream",
     "text": [
      "============= assign xym =============\n"
     ]
    },
    {
     "name": "stderr",
     "output_type": "stream",
     "text": [
      "Processing:  32%|███▎      | 26/80 [00:25<00:54,  1.01s/it]"
     ]
    },
    {
     "name": "stdout",
     "output_type": "stream",
     "text": [
      "============= assign xym =============\n"
     ]
    },
    {
     "name": "stderr",
     "output_type": "stream",
     "text": [
      "Processing:  34%|███▍      | 27/80 [00:26<00:53,  1.00s/it]"
     ]
    },
    {
     "name": "stdout",
     "output_type": "stream",
     "text": [
      "============= assign xym =============\n"
     ]
    },
    {
     "name": "stderr",
     "output_type": "stream",
     "text": [
      "Processing:  35%|███▌      | 28/80 [00:27<00:51,  1.01it/s]"
     ]
    },
    {
     "name": "stdout",
     "output_type": "stream",
     "text": [
      "============= assign xym =============\n"
     ]
    },
    {
     "name": "stderr",
     "output_type": "stream",
     "text": [
      "Processing:  36%|███▋      | 29/80 [00:28<00:50,  1.00it/s]"
     ]
    },
    {
     "name": "stdout",
     "output_type": "stream",
     "text": [
      "============= assign xym =============\n"
     ]
    },
    {
     "name": "stderr",
     "output_type": "stream",
     "text": [
      "Processing:  38%|███▊      | 30/80 [00:29<00:49,  1.00it/s]"
     ]
    },
    {
     "name": "stdout",
     "output_type": "stream",
     "text": [
      "============= assign xym =============\n"
     ]
    },
    {
     "name": "stderr",
     "output_type": "stream",
     "text": [
      "Processing:  39%|███▉      | 31/80 [00:30<00:49,  1.00s/it]"
     ]
    },
    {
     "name": "stdout",
     "output_type": "stream",
     "text": [
      "============= assign xym =============\n"
     ]
    },
    {
     "name": "stderr",
     "output_type": "stream",
     "text": [
      "Processing:  40%|████      | 32/80 [00:31<00:47,  1.00it/s]"
     ]
    },
    {
     "name": "stdout",
     "output_type": "stream",
     "text": [
      "============= assign xym =============\n"
     ]
    },
    {
     "name": "stderr",
     "output_type": "stream",
     "text": [
      "Processing:  41%|████▏     | 33/80 [00:32<00:47,  1.00s/it]"
     ]
    },
    {
     "name": "stdout",
     "output_type": "stream",
     "text": [
      "============= assign xym =============\n"
     ]
    },
    {
     "name": "stderr",
     "output_type": "stream",
     "text": [
      "Processing:  42%|████▎     | 34/80 [00:33<00:45,  1.01it/s]"
     ]
    },
    {
     "name": "stdout",
     "output_type": "stream",
     "text": [
      "============= assign xym =============\n"
     ]
    },
    {
     "name": "stderr",
     "output_type": "stream",
     "text": [
      "Processing:  44%|████▍     | 35/80 [00:34<00:45,  1.00s/it]"
     ]
    },
    {
     "name": "stdout",
     "output_type": "stream",
     "text": [
      "============= assign xym =============\n"
     ]
    },
    {
     "name": "stderr",
     "output_type": "stream",
     "text": [
      "Processing:  45%|████▌     | 36/80 [00:35<00:44,  1.01s/it]"
     ]
    },
    {
     "name": "stdout",
     "output_type": "stream",
     "text": [
      "============= assign xym =============\n"
     ]
    },
    {
     "name": "stderr",
     "output_type": "stream",
     "text": [
      "Processing:  46%|████▋     | 37/80 [00:36<00:43,  1.01s/it]"
     ]
    },
    {
     "name": "stdout",
     "output_type": "stream",
     "text": [
      "============= assign xym =============\n"
     ]
    },
    {
     "name": "stderr",
     "output_type": "stream",
     "text": [
      "Processing:  48%|████▊     | 38/80 [00:37<00:41,  1.00it/s]"
     ]
    },
    {
     "name": "stdout",
     "output_type": "stream",
     "text": [
      "============= assign xym =============\n"
     ]
    },
    {
     "name": "stderr",
     "output_type": "stream",
     "text": [
      "Processing:  49%|████▉     | 39/80 [00:38<00:41,  1.00s/it]"
     ]
    },
    {
     "name": "stdout",
     "output_type": "stream",
     "text": [
      "============= assign xym =============\n"
     ]
    },
    {
     "name": "stderr",
     "output_type": "stream",
     "text": [
      "Processing:  50%|█████     | 40/80 [00:39<00:40,  1.00s/it]"
     ]
    },
    {
     "name": "stdout",
     "output_type": "stream",
     "text": [
      "============= assign xym =============\n"
     ]
    },
    {
     "name": "stderr",
     "output_type": "stream",
     "text": [
      "Processing:  51%|█████▏    | 41/80 [00:40<00:40,  1.03s/it]"
     ]
    },
    {
     "name": "stdout",
     "output_type": "stream",
     "text": [
      "============= assign xym =============\n"
     ]
    },
    {
     "name": "stderr",
     "output_type": "stream",
     "text": [
      "Processing:  52%|█████▎    | 42/80 [00:41<00:38,  1.01s/it]"
     ]
    },
    {
     "name": "stdout",
     "output_type": "stream",
     "text": [
      "============= assign xym =============\n"
     ]
    },
    {
     "name": "stderr",
     "output_type": "stream",
     "text": [
      "Processing:  54%|█████▍    | 43/80 [00:42<00:37,  1.01s/it]"
     ]
    },
    {
     "name": "stdout",
     "output_type": "stream",
     "text": [
      "============= assign xym =============\n"
     ]
    },
    {
     "name": "stderr",
     "output_type": "stream",
     "text": [
      "Processing:  55%|█████▌    | 44/80 [00:43<00:36,  1.01s/it]"
     ]
    },
    {
     "name": "stdout",
     "output_type": "stream",
     "text": [
      "============= assign xym =============\n"
     ]
    },
    {
     "name": "stderr",
     "output_type": "stream",
     "text": [
      "Processing:  56%|█████▋    | 45/80 [00:44<00:35,  1.01s/it]"
     ]
    },
    {
     "name": "stdout",
     "output_type": "stream",
     "text": [
      "============= assign xym =============\n"
     ]
    },
    {
     "name": "stderr",
     "output_type": "stream",
     "text": [
      "Processing:  57%|█████▊    | 46/80 [00:45<00:34,  1.02s/it]"
     ]
    },
    {
     "name": "stdout",
     "output_type": "stream",
     "text": [
      "============= assign xym =============\n"
     ]
    },
    {
     "name": "stderr",
     "output_type": "stream",
     "text": [
      "Processing:  59%|█████▉    | 47/80 [00:46<00:33,  1.02s/it]"
     ]
    },
    {
     "name": "stdout",
     "output_type": "stream",
     "text": [
      "============= assign xym =============\n"
     ]
    },
    {
     "name": "stderr",
     "output_type": "stream",
     "text": [
      "Processing:  60%|██████    | 48/80 [00:47<00:32,  1.02s/it]"
     ]
    },
    {
     "name": "stdout",
     "output_type": "stream",
     "text": [
      "============= assign xym =============\n"
     ]
    },
    {
     "name": "stderr",
     "output_type": "stream",
     "text": [
      "Processing:  61%|██████▏   | 49/80 [00:48<00:31,  1.03s/it]"
     ]
    },
    {
     "name": "stdout",
     "output_type": "stream",
     "text": [
      "============= assign xym =============\n"
     ]
    },
    {
     "name": "stderr",
     "output_type": "stream",
     "text": [
      "Processing:  62%|██████▎   | 50/80 [00:49<00:30,  1.01s/it]"
     ]
    },
    {
     "name": "stdout",
     "output_type": "stream",
     "text": [
      "============= assign xym =============\n"
     ]
    },
    {
     "name": "stderr",
     "output_type": "stream",
     "text": [
      "Processing:  64%|██████▍   | 51/80 [00:50<00:29,  1.02s/it]"
     ]
    },
    {
     "name": "stdout",
     "output_type": "stream",
     "text": [
      "============= assign xym =============\n"
     ]
    },
    {
     "name": "stderr",
     "output_type": "stream",
     "text": [
      "Processing:  65%|██████▌   | 52/80 [00:51<00:27,  1.00it/s]"
     ]
    },
    {
     "name": "stdout",
     "output_type": "stream",
     "text": [
      "============= assign xym =============\n"
     ]
    },
    {
     "name": "stderr",
     "output_type": "stream",
     "text": [
      "Processing:  66%|██████▋   | 53/80 [00:52<00:27,  1.01s/it]"
     ]
    },
    {
     "name": "stdout",
     "output_type": "stream",
     "text": [
      "============= assign xym =============\n"
     ]
    },
    {
     "name": "stderr",
     "output_type": "stream",
     "text": [
      "Processing:  68%|██████▊   | 54/80 [00:53<00:25,  1.00it/s]"
     ]
    },
    {
     "name": "stdout",
     "output_type": "stream",
     "text": [
      "============= assign xym =============\n"
     ]
    },
    {
     "name": "stderr",
     "output_type": "stream",
     "text": [
      "Processing:  69%|██████▉   | 55/80 [00:54<00:25,  1.00s/it]"
     ]
    },
    {
     "name": "stdout",
     "output_type": "stream",
     "text": [
      "============= assign xym =============\n"
     ]
    },
    {
     "name": "stderr",
     "output_type": "stream",
     "text": [
      "Processing:  70%|███████   | 56/80 [00:55<00:24,  1.01s/it]"
     ]
    },
    {
     "name": "stdout",
     "output_type": "stream",
     "text": [
      "============= assign xym =============\n"
     ]
    },
    {
     "name": "stderr",
     "output_type": "stream",
     "text": [
      "Processing:  71%|███████▏  | 57/80 [00:56<00:23,  1.01s/it]"
     ]
    },
    {
     "name": "stdout",
     "output_type": "stream",
     "text": [
      "============= assign xym =============\n"
     ]
    },
    {
     "name": "stderr",
     "output_type": "stream",
     "text": [
      "Processing:  72%|███████▎  | 58/80 [00:57<00:22,  1.00s/it]"
     ]
    },
    {
     "name": "stdout",
     "output_type": "stream",
     "text": [
      "============= assign xym =============\n"
     ]
    },
    {
     "name": "stderr",
     "output_type": "stream",
     "text": [
      "Processing:  74%|███████▍  | 59/80 [00:58<00:21,  1.00s/it]"
     ]
    },
    {
     "name": "stdout",
     "output_type": "stream",
     "text": [
      "============= assign xym =============\n"
     ]
    },
    {
     "name": "stderr",
     "output_type": "stream",
     "text": [
      "Processing:  75%|███████▌  | 60/80 [00:59<00:20,  1.01s/it]"
     ]
    },
    {
     "name": "stdout",
     "output_type": "stream",
     "text": [
      "============= assign xym =============\n"
     ]
    },
    {
     "name": "stderr",
     "output_type": "stream",
     "text": [
      "Processing:  76%|███████▋  | 61/80 [01:00<00:19,  1.02s/it]"
     ]
    },
    {
     "name": "stdout",
     "output_type": "stream",
     "text": [
      "============= assign xym =============\n"
     ]
    },
    {
     "name": "stderr",
     "output_type": "stream",
     "text": [
      "Processing:  78%|███████▊  | 62/80 [01:01<00:18,  1.01s/it]"
     ]
    },
    {
     "name": "stdout",
     "output_type": "stream",
     "text": [
      "============= assign xym =============\n"
     ]
    },
    {
     "name": "stderr",
     "output_type": "stream",
     "text": [
      "Processing:  79%|███████▉  | 63/80 [01:02<00:17,  1.01s/it]"
     ]
    },
    {
     "name": "stdout",
     "output_type": "stream",
     "text": [
      "============= assign xym =============\n"
     ]
    },
    {
     "name": "stderr",
     "output_type": "stream",
     "text": [
      "Processing:  80%|████████  | 64/80 [01:03<00:15,  1.00it/s]"
     ]
    },
    {
     "name": "stdout",
     "output_type": "stream",
     "text": [
      "============= assign xym =============\n"
     ]
    },
    {
     "name": "stderr",
     "output_type": "stream",
     "text": [
      "Processing:  81%|████████▏ | 65/80 [01:04<00:15,  1.01s/it]"
     ]
    },
    {
     "name": "stdout",
     "output_type": "stream",
     "text": [
      "============= assign xym =============\n"
     ]
    },
    {
     "name": "stderr",
     "output_type": "stream",
     "text": [
      "Processing:  82%|████████▎ | 66/80 [01:05<00:14,  1.01s/it]"
     ]
    },
    {
     "name": "stdout",
     "output_type": "stream",
     "text": [
      "============= assign xym =============\n"
     ]
    },
    {
     "name": "stderr",
     "output_type": "stream",
     "text": [
      "Processing:  84%|████████▍ | 67/80 [01:06<00:13,  1.01s/it]"
     ]
    },
    {
     "name": "stdout",
     "output_type": "stream",
     "text": [
      "============= assign xym =============\n"
     ]
    },
    {
     "name": "stderr",
     "output_type": "stream",
     "text": [
      "Processing:  85%|████████▌ | 68/80 [01:07<00:11,  1.00it/s]"
     ]
    },
    {
     "name": "stdout",
     "output_type": "stream",
     "text": [
      "============= assign xym =============\n"
     ]
    },
    {
     "name": "stderr",
     "output_type": "stream",
     "text": [
      "Processing:  86%|████████▋ | 69/80 [01:08<00:11,  1.00s/it]"
     ]
    },
    {
     "name": "stdout",
     "output_type": "stream",
     "text": [
      "============= assign xym =============\n"
     ]
    },
    {
     "name": "stderr",
     "output_type": "stream",
     "text": [
      "Processing:  88%|████████▊ | 70/80 [01:09<00:09,  1.00it/s]"
     ]
    },
    {
     "name": "stdout",
     "output_type": "stream",
     "text": [
      "============= assign xym =============\n"
     ]
    },
    {
     "name": "stderr",
     "output_type": "stream",
     "text": [
      "Processing:  89%|████████▉ | 71/80 [01:10<00:08,  1.01it/s]"
     ]
    },
    {
     "name": "stdout",
     "output_type": "stream",
     "text": [
      "============= assign xym =============\n"
     ]
    },
    {
     "name": "stderr",
     "output_type": "stream",
     "text": [
      "Processing:  90%|█████████ | 72/80 [01:11<00:07,  1.02it/s]"
     ]
    },
    {
     "name": "stdout",
     "output_type": "stream",
     "text": [
      "============= assign xym =============\n"
     ]
    },
    {
     "name": "stderr",
     "output_type": "stream",
     "text": [
      "Processing:  91%|█████████▏| 73/80 [01:12<00:06,  1.01it/s]"
     ]
    },
    {
     "name": "stdout",
     "output_type": "stream",
     "text": [
      "============= assign xym =============\n"
     ]
    },
    {
     "name": "stderr",
     "output_type": "stream",
     "text": [
      "Processing:  92%|█████████▎| 74/80 [01:13<00:05,  1.01it/s]"
     ]
    },
    {
     "name": "stdout",
     "output_type": "stream",
     "text": [
      "============= assign xym =============\n"
     ]
    },
    {
     "name": "stderr",
     "output_type": "stream",
     "text": [
      "Processing:  94%|█████████▍| 75/80 [01:14<00:04,  1.01it/s]"
     ]
    },
    {
     "name": "stdout",
     "output_type": "stream",
     "text": [
      "============= assign xym =============\n"
     ]
    },
    {
     "name": "stderr",
     "output_type": "stream",
     "text": [
      "Processing:  95%|█████████▌| 76/80 [01:15<00:03,  1.02it/s]"
     ]
    },
    {
     "name": "stdout",
     "output_type": "stream",
     "text": [
      "============= assign xym =============\n"
     ]
    },
    {
     "name": "stderr",
     "output_type": "stream",
     "text": [
      "Processing:  96%|█████████▋| 77/80 [01:16<00:02,  1.01it/s]"
     ]
    },
    {
     "name": "stdout",
     "output_type": "stream",
     "text": [
      "============= assign xym =============\n"
     ]
    },
    {
     "name": "stderr",
     "output_type": "stream",
     "text": [
      "Processing:  98%|█████████▊| 78/80 [01:17<00:02,  1.00s/it]"
     ]
    },
    {
     "name": "stdout",
     "output_type": "stream",
     "text": [
      "============= assign xym =============\n"
     ]
    },
    {
     "name": "stderr",
     "output_type": "stream",
     "text": [
      "Processing:  99%|█████████▉| 79/80 [01:18<00:01,  1.00s/it]"
     ]
    },
    {
     "name": "stdout",
     "output_type": "stream",
     "text": [
      "============= assign xym =============\n"
     ]
    },
    {
     "name": "stderr",
     "output_type": "stream",
     "text": [
      "Processing: 100%|██████████| 80/80 [01:19<00:00,  1.01it/s]\n"
     ]
    }
   ],
   "source": [
    "#imgs=imgs[:10]\n",
    "def predict_time_imgs(model,imgs):\n",
    "    # print(\"img shape : \",img.shape)\n",
    "    masks=[]\n",
    "    preds=[]\n",
    "    inss=[]\n",
    "  \n",
    "    n_frames=imgs.shape[0]\n",
    "    for i in tqdm(range(n_frames), desc='Processing'):\n",
    "        img=imgs[i]\n",
    "        ins,prob,mask=model.off_predict(img)\n",
    "        masks.append(mask)\n",
    "        preds.append(prob)\n",
    "        inss.append(ins)\n",
    "        \n",
    "    masks=np.array(masks)\n",
    "    masks=np.squeeze(masks)    \n",
    "    preds=np.array(preds)\n",
    "    preds=np.squeeze(preds) \n",
    "    inss=np.array(inss)\n",
    "    inss=np.squeeze(inss) \n",
    "    preds=preds.transpose((1,0,2,3))\n",
    "    return masks,preds,inss\n",
    "\n",
    "masks,preds,inss=predict_time_imgs(model,imgs)"
   ]
  },
  {
   "cell_type": "code",
   "execution_count": 49,
   "metadata": {},
   "outputs": [],
   "source": [
    "#--- View  Predict Result ---#\n",
    "viewer=imgio.plot.imshow3d(I=imgs,\n",
    "    Is_overlay=[mip_img,preds[2],preds[1],preds[0]],\n",
    "    name_Is=[   \"mip_img\",\"spinepr\",\"denpr\",\"bgpr\"],\n",
    "    cmap_Is=[   \"gray\",\"magenta\",  \"green\",\"gray\"],\n",
    "    label_lay=[masks,inss,],\n",
    "    label_lay_name=[\"masks\",\"mip_mask\"]   )"
   ]
  },
  {
   "cell_type": "markdown",
   "metadata": {},
   "source": [
    "view  predict result"
   ]
  },
  {
   "cell_type": "code",
   "execution_count": 50,
   "metadata": {},
   "outputs": [],
   "source": [
    "#--- choose Strtage -----#\n",
    "# one : t-MIP\n",
    "# two : btrack\n",
    "# ------------------     -#\n",
    "mip_ins,_=segment.resortseg(mip_ins,2)\n",
    "mip_instance_spines=[mip_ins*(m>1) for m in masks]\n",
    "instance_spines_bymip=np.array(mip_instance_spines)\n",
    "viewer=imgio.plot.imshow3d(I=imgs,\n",
    "    Is_overlay=[mip_img],\n",
    "    name_Is=[   \"mip_img\"],\n",
    "    cmap_Is=[   \"gray\"],\n",
    "    label_lay=[masks,mip_ins,instance_spines_bymip],\n",
    "    label_lay_name=[\"masks\",\"mip_spine\",\"spines\"]   )"
   ]
  },
  {
   "cell_type": "code",
   "execution_count": 37,
   "metadata": {},
   "outputs": [],
   "source": [
    "spine_ids=[103,203,131,145,220,132,167,218,126,105,234,79,280,232,211,302,237,205,276,113,143,358]\n",
    "spine_ids=[280,162,205,167,130,231,145,234,237]\n",
    "spine_ids=[128,37,79,18,54,125]\n",
    "len(spine_ids)\n",
    "keep_spines=np.zeros_like(instance_spines_bymip)\n",
    "for n,lab in enumerate(spine_ids,2):\n",
    "    keep_spines[instance_spines_bymip==lab]=n\n",
    "keep_spines[masks==1]=1\n",
    "from spinelib.utils.spine_struct import spines_distance\n",
    "from skimage.filters import gaussian\n",
    "\n",
    "shape_kvs={0:\"unkownn\",1:\"stubby\",2:\"mushroom\",3:\"thin\"}\n",
    "shape_rkvs={\"unkownn\":0,\"stubby\":1,\"mushroom\":2,\"thin\":3}\n",
    "viewer=imgio.plot.imshow3d(I=imgs,\n",
    "    Is_overlay=[mip_img],\n",
    "    name_Is=[   \"mip_img\"],\n",
    "    cmap_Is=[   \"gray\"],\n",
    "    label_lay=[masks,mip_mask,keep_spines],\n",
    "    label_lay_name=[\"masks\",\"mip_mask\",\"spines\"]   )\n",
    "\n"
   ]
  },
  {
   "cell_type": "code",
   "execution_count": 38,
   "metadata": {},
   "outputs": [],
   "source": [
    "\n",
    "labs=set(np.unique(keep_spines))\n",
    "for n,(img,labimg) in enumerate(zip(imgs,keep_spines)):\n",
    "   \n",
    "    corddict,linemask=spines_distance(img,labimg,[20,20],imgweight=1)\n",
    "    i=0\n",
    "    for lab in labs:\n",
    "        i+=1\n",
    "        # if i>20: break\n",
    "        if lab==1: continue\n",
    "        if lab not in corddict: continue\n",
    "        cords,length,headlength,attach_cnt,rotamask,rotaimg,rotaden=corddict[lab]\n",
    "        #print(n,lab,rotaimg)\n",
    "     \n",
    "        normimg=normalize(rotaimg.astype(\"float32\"))\n",
    "        normlab=normalize(gaussian(rotamask)*normimg)\n",
    "        normden=normalize(gaussian(rotaden)*normimg)\n",
    "        # print(normimg.shape,normlab.shape)\n",
    "        # normall=np.array([normimg,rotamask,normlab,normden])\n",
    "        # normall=np.array([normlab,normden])\n",
    "        normall=np.array([normlab,normden,normimg])\n",
    "        normall=np.transpose(normall,(1,2,0))\n",
    "        #savepr(normall,os.path.join(savedir,shortname+\"_\"+str(lab)+\"-frame-\"+str(n)+\"-ID-norm.tif\"))\n",
    "        imsave(os.path.join(savedir,\"ID-\"+str(lab)+\"-frame-\"+str(n)+\"-norm.tif\"),normall)\n",
    "        #imsave(os.path.join(savedir,shortname+str(lab)+\"-ID-norm.tif\"),normall)\n",
    "        #savelabel(rotamask,os.path.join(savedir,str(lab)+\"-ID-mask.tif\"))"
   ]
  },
  {
   "cell_type": "code",
   "execution_count": 33,
   "metadata": {},
   "outputs": [
    {
     "data": {
      "text/plain": [
       "'F:\\\\data\\\\dataset\\\\myspine-dataset2\\\\result-time\\\\Stablized tboaltp20180128n3'"
      ]
     },
     "execution_count": 33,
     "metadata": {},
     "output_type": "execute_result"
    }
   ],
   "source": [
    "savedir"
   ]
  },
  {
   "cell_type": "markdown",
   "metadata": {},
   "source": [
    "2. Let's see spine instance segment\n",
    "\n",
    "instance tmip img first"
   ]
  },
  {
   "cell_type": "code",
   "execution_count": 6,
   "metadata": {},
   "outputs": [],
   "source": [
    "pr_corner=peakfilter(mip_spinepr,3,0,use_gaussian=True)*(mip_mask==2)#*adth\n",
    "mip_spine_label=segment.label_instance_water(mip_spinepr,pr_corner,mip_mask==2, \n",
    "                                maxspinesize,searchbox=searchbox)\n",
    "mip_spine_label=remove_small_objects(mip_spine_label,min_size=4)\n",
    "\n",
    "old_mip_spine=mip_spine_label\n"
   ]
  },
  {
   "cell_type": "markdown",
   "metadata": {},
   "source": [
    "View  Instance Result"
   ]
  },
  {
   "cell_type": "code",
   "execution_count": 8,
   "metadata": {},
   "outputs": [
    {
     "name": "stderr",
     "output_type": "stream",
     "text": [
      "Contours are not displayed during 3D rendering\n",
      "Contours are not displayed during 3D rendering\n"
     ]
    }
   ],
   "source": [
    "##!!---- need edit , remove small segment ----!!!##\n",
    "viewer=imgio.plot.imshow3d(I=imgs,\n",
    "    Is_overlay=[mip_img],\n",
    "    name_Is=[ \"tMIPimage\"],\n",
    "    cmap_Is=[   \"gray\"],\n",
    "    label_lay=[mip_mask,mip_spine_label],\n",
    "    label_lay_name=[\"tMIP mask\",\"tMIPspine label\"]   )\n",
    "\n",
    "mip_spine_label=viewer.layers[\"tMIPspine label\"].data\n",
    "mip_spine_label,_=segment.resortseg(mip_spine_label,2)"
   ]
  },
  {
   "cell_type": "markdown",
   "metadata": {},
   "source": [
    "instance each image"
   ]
  },
  {
   "cell_type": "code",
   "execution_count": 9,
   "metadata": {},
   "outputs": [],
   "source": [
    "# instance all frame\n",
    "masks=all_mask==2 \n",
    "all_spine_label=[mip_spine_label*mask for mask in masks]\n",
    "all_spine_label=np.array(all_spine_label)\n",
    "\n"
   ]
  },
  {
   "cell_type": "markdown",
   "metadata": {},
   "source": [
    "View  Instance Result"
   ]
  },
  {
   "cell_type": "code",
   "execution_count": 10,
   "metadata": {},
   "outputs": [],
   "source": [
    "viewer=imgio.plot.imshow3d(I=imgs,\n",
    "    Is_overlay=[mip_img],\n",
    "    name_Is=[ \"tMIPimage\"],\n",
    "    cmap_Is=[   \"gray\"],\n",
    "    label_lay=[mip_spine_label,all_spine_label],\n",
    "    label_lay_name=[\"tMIPspine label\",\"spine label\"]   )\n",
    "\n",
    "all_spine_label=viewer.layers[\"spine label\"].data"
   ]
  },
  {
   "cell_type": "markdown",
   "metadata": {},
   "source": [
    "3. save all result"
   ]
  },
  {
   "cell_type": "code",
   "execution_count": 51,
   "metadata": {},
   "outputs": [
    {
     "name": "stderr",
     "output_type": "stream",
     "text": [
      "C:\\Users\\ZLY\\AppData\\Local\\Temp\\ipykernel_35620\\514942168.py:24: UserWarning: F:\\data\\dataset\\myspine-dataset2\\result-time\\Stablized tboa-ltp 20180104 n3\\Stablized tboa-ltp 20180104 n3.tif is a low contrast image\n",
      "  imsave(imgfile,imgs)\n",
      "C:\\Users\\ZLY\\AppData\\Local\\Temp\\ipykernel_35620\\514942168.py:25: UserWarning: F:\\data\\dataset\\myspine-dataset2\\result-time\\Stablized tboa-ltp 20180104 n3\\tMIP-Stablized tboa-ltp 20180104 n3.tif is a low contrast image\n",
      "  imsave(mipimgfile,mip_img)\n"
     ]
    },
    {
     "name": "stdout",
     "output_type": "stream",
     "text": [
      "save : F:\\data\\dataset\\myspine-dataset2\\result-time\\Stablized tboa-ltp 20180104 n3\\Stablized tboa-ltp 20180104 n3.tif\n",
      "save : F:\\data\\dataset\\myspine-dataset2\\result-time\\Stablized tboa-ltp 20180104 n3\\tMIP-Stablized tboa-ltp 20180104 n3.tif\n",
      "save : F:\\data\\dataset\\myspine-dataset2\\result-time\\Stablized tboa-ltp 20180104 n3\\Stablized tboa-ltp 20180104 n3-spinepr.tif\n",
      "save : F:\\data\\dataset\\myspine-dataset2\\result-time\\Stablized tboa-ltp 20180104 n3\\Stablized tboa-ltp 20180104 n3-denpr.tif\n",
      "save : F:\\data\\dataset\\myspine-dataset2\\result-time\\Stablized tboa-ltp 20180104 n3\\tMIP-Stablized tboa-ltp 20180104 n3-spinepr.tif\n",
      "save : F:\\data\\dataset\\myspine-dataset2\\result-time\\Stablized tboa-ltp 20180104 n3\\tMIP-Stablized tboa-ltp 20180104 n3-denpr.tif\n",
      "save : F:\\data\\dataset\\myspine-dataset2\\result-time\\Stablized tboa-ltp 20180104 n3\\Stablized tboa-ltp 20180104 n3-mask.tif\n",
      "save : F:\\data\\dataset\\myspine-dataset2\\result-time\\Stablized tboa-ltp 20180104 n3\\Stablized tboa-ltp 20180104 n3-spine.tif\n",
      "save : F:\\data\\dataset\\myspine-dataset2\\result-time\\Stablized tboa-ltp 20180104 n3\\tMIP-Stablized tboa-ltp 20180104 n3-mask.tif\n",
      "save : F:\\data\\dataset\\myspine-dataset2\\result-time\\Stablized tboa-ltp 20180104 n3\\tMIP-Stablized tboa-ltp 20180104 n3-spine.tif\n"
     ]
    }
   ],
   "source": [
    "\n",
    "# save result\n",
    "\n",
    "def savepr(arr,filename):\n",
    "    tifffile.imwrite(\n",
    "        filename,\n",
    "        arr,\n",
    "        imagej=True,\n",
    "        photometric='minisblack',\n",
    "        #metadata={'axes': 'TYX'},\n",
    "    )\n",
    "    print(\"save :\",filename)\n",
    "def savelabel(arr,filename):\n",
    "    tifffile.imwrite(\n",
    "        filename,\n",
    "        arr.astype(np.uint16),\n",
    "        imagej=True,\n",
    "        photometric='minisblack',\n",
    "        #metadata={'axes': 'TYX'},\n",
    "    )\n",
    "    print(\"save :\",filename)\n",
    "\n",
    "\n",
    "# save img\n",
    "imsave(imgfile,imgs)\n",
    "imsave(mipimgfile,mip_img)\n",
    "print(\"save :\",imgfile)\n",
    "print(\"save :\",mipimgfile)\n",
    "# save pr  ,,preds[0]\n",
    "savepr(preds[2],spineprfile)\n",
    "savepr(preds[1],denprfile)\n",
    "#mip_bgpr,mip_denpr,mip_spinepr\n",
    "savepr(mip_spinepr,mipspineprfile)\n",
    "savepr(mip_denpr,mipdenprfile)\n",
    "\n",
    "# save lebel\n",
    "savelabel(masks,maskfile)\n",
    "savelabel(instance_spines_bymip,spinefile)\n",
    "savelabel(mip_mask,mipmaskfile)\n",
    "savelabel(mip_ins,mipspinefile)\n",
    "\n",
    "\n"
   ]
  },
  {
   "cell_type": "markdown",
   "metadata": {},
   "source": [
    "# Part Two \n",
    "some statics , you can also use imageJ"
   ]
  },
  {
   "cell_type": "markdown",
   "metadata": {},
   "source": [
    "1. load data"
   ]
  },
  {
   "cell_type": "code",
   "execution_count": 56,
   "metadata": {},
   "outputs": [],
   "source": [
    "# pixelsize :\n",
    "xpixel=0.16\n",
    "ypixel=0.16\n",
    "zpixel=1 # if no z axes ,set size=1"
   ]
  },
  {
   "cell_type": "code",
   "execution_count": 57,
   "metadata": {},
   "outputs": [],
   "source": [
    "# load img\n",
    "imgs=imgio.ski_imread(imgfile)\n",
    "mip_img=imgio.ski_imread(mipimgfile)\n",
    "# load pr\n",
    "all_spinepr=imgio.ski_imread(spineprfile)\n",
    "all_denpr=imgio.ski_imread(denprfile)\n",
    "mip_spinepr=imgio.ski_imread(mipspineprfile)\n",
    "mip_denpr=imgio.ski_imread(mipdenprfile)\n",
    "# load lebel\n",
    "all_mask=imgio.ski_imread(maskfile)\n",
    "all_spine_label=imgio.ski_imread(spinefile)\n",
    "mip_mask=imgio.ski_imread(mipmaskfile)\n",
    "mip_spine_label=imgio.ski_imread(mipspinefile)\n"
   ]
  },
  {
   "cell_type": "markdown",
   "metadata": {},
   "source": [
    "2. caculate statistic"
   ]
  },
  {
   "cell_type": "code",
   "execution_count": 58,
   "metadata": {},
   "outputs": [
    {
     "name": "stdout",
     "output_type": "stream",
     "text": [
      "shape (80, 512, 512) (80, 512, 512)\n",
      "shape (1, 512, 512) (1, 512, 512)\n",
      "shape (80, 512, 512) (80, 512, 512)\n",
      "save : F:\\data\\dataset\\myspine-dataset2\\result-time\\Stablized tboaltp 20180128n2\\Stablized tboaltp 20180128n2.tif\n",
      "save : F:\\data\\dataset\\myspine-dataset2\\result-time\\Stablized tboaltp 20180128n2\\tMIP-Stablized tboaltp 20180128n2.tif\n"
     ]
    }
   ],
   "source": [
    "import pandas as pd\n",
    "from spinelib.utils import measure\n",
    "from skimage.measure import label, regionprops, regionprops_table\n",
    "\n",
    "#area\n",
    "arr=measure.label_series_statics(all_spine_label,all_spine_label,measure=\"area\")\n",
    "df_volume=arr*zpixel*xpixel*ypixel\n",
    "df_volume.rename(columns={0:'bg',1:'den'},index={0:\"area\"},inplace=True)\n",
    "df_volume=pd.DataFrame(df_volume)\n",
    "\n",
    "tmip_spine_label=np.array([mip_spine_label])\n",
    "df_max_volume=measure.label_series_statics(tmip_spine_label,tmip_spine_label,measure=\"area\")\n",
    "\n",
    "#inten\n",
    "'''\n",
    "first row : roi\n",
    "second row : roi aream\n",
    "other row : mean itensity\n",
    "'''\n",
    "same_spine_label=np.array([mip_spine_label for im in imgs])\n",
    "arr=measure.label_series_statics(imgs,same_spine_label,measure=\"intensity_mean\")\n",
    "backvs=[np.mean(im[ms==0]) for im,ms in zip(imgs,all_mask)] # mean bg for each frame\n",
    "denvs=[np.mean(im[ms==1]) for im,ms in zip(imgs,all_mask)] # mean den for each frame\n",
    "# bg\n",
    "arr=np.array(arr)\n",
    "arr[:,0]=backvs\n",
    "arr[:,1]=denvs\n",
    "arr=np.row_stack((df_max_volume,arr))\n",
    "df_mean=pd.DataFrame(arr)\n",
    "df_mean.rename(columns={0:'bg',1:'den'},index={0:\"inten\"},inplace=True)\n",
    "\n",
    "# save csv result\n",
    "df_volume.to_csv(areafile)\n",
    "df_mean.to_csv(meanfile)\n",
    "print(\"save :\",imgfile)\n",
    "print(\"save :\",mipimgfile)"
   ]
  },
  {
   "cell_type": "code",
   "execution_count": 15,
   "metadata": {},
   "outputs": [
    {
     "data": {
      "text/html": [
       "<div>\n",
       "<style scoped>\n",
       "    .dataframe tbody tr th:only-of-type {\n",
       "        vertical-align: middle;\n",
       "    }\n",
       "\n",
       "    .dataframe tbody tr th {\n",
       "        vertical-align: top;\n",
       "    }\n",
       "\n",
       "    .dataframe thead th {\n",
       "        text-align: right;\n",
       "    }\n",
       "</style>\n",
       "<table border=\"1\" class=\"dataframe\">\n",
       "  <thead>\n",
       "    <tr style=\"text-align: right;\">\n",
       "      <th></th>\n",
       "      <th>bg</th>\n",
       "      <th>den</th>\n",
       "      <th>2</th>\n",
       "      <th>3</th>\n",
       "      <th>4</th>\n",
       "      <th>5</th>\n",
       "      <th>6</th>\n",
       "      <th>7</th>\n",
       "      <th>8</th>\n",
       "      <th>9</th>\n",
       "      <th>...</th>\n",
       "      <th>214</th>\n",
       "      <th>215</th>\n",
       "      <th>216</th>\n",
       "      <th>217</th>\n",
       "      <th>218</th>\n",
       "      <th>219</th>\n",
       "      <th>220</th>\n",
       "      <th>221</th>\n",
       "      <th>222</th>\n",
       "      <th>223</th>\n",
       "    </tr>\n",
       "  </thead>\n",
       "  <tbody>\n",
       "    <tr>\n",
       "      <th>area</th>\n",
       "      <td>None</td>\n",
       "      <td>None</td>\n",
       "      <td>20</td>\n",
       "      <td>43</td>\n",
       "      <td>11</td>\n",
       "      <td>9</td>\n",
       "      <td>60</td>\n",
       "      <td>33</td>\n",
       "      <td>13</td>\n",
       "      <td>6</td>\n",
       "      <td>...</td>\n",
       "      <td>14</td>\n",
       "      <td>5</td>\n",
       "      <td>27</td>\n",
       "      <td>47</td>\n",
       "      <td>44</td>\n",
       "      <td>6</td>\n",
       "      <td>15</td>\n",
       "      <td>31</td>\n",
       "      <td>22</td>\n",
       "      <td>18</td>\n",
       "    </tr>\n",
       "    <tr>\n",
       "      <th>1</th>\n",
       "      <td>298.793952</td>\n",
       "      <td>3533.607714</td>\n",
       "      <td>772.45</td>\n",
       "      <td>1333.860465</td>\n",
       "      <td>1089.272727</td>\n",
       "      <td>978.666667</td>\n",
       "      <td>1197.116667</td>\n",
       "      <td>839.848485</td>\n",
       "      <td>1378.615385</td>\n",
       "      <td>1429.666667</td>\n",
       "      <td>...</td>\n",
       "      <td>1262.071429</td>\n",
       "      <td>984.0</td>\n",
       "      <td>1157.444444</td>\n",
       "      <td>1088.12766</td>\n",
       "      <td>1312.25</td>\n",
       "      <td>1257.666667</td>\n",
       "      <td>1369.6</td>\n",
       "      <td>1357.741935</td>\n",
       "      <td>1344.681818</td>\n",
       "      <td>1391.555556</td>\n",
       "    </tr>\n",
       "    <tr>\n",
       "      <th>2</th>\n",
       "      <td>301.557667</td>\n",
       "      <td>3510.193749</td>\n",
       "      <td>681.6</td>\n",
       "      <td>1332.0</td>\n",
       "      <td>1227.181818</td>\n",
       "      <td>943.222222</td>\n",
       "      <td>1217.033333</td>\n",
       "      <td>916.636364</td>\n",
       "      <td>1406.615385</td>\n",
       "      <td>1522.166667</td>\n",
       "      <td>...</td>\n",
       "      <td>1175.928571</td>\n",
       "      <td>1363.2</td>\n",
       "      <td>1142.814815</td>\n",
       "      <td>1060.93617</td>\n",
       "      <td>1387.227273</td>\n",
       "      <td>1295.0</td>\n",
       "      <td>1572.866667</td>\n",
       "      <td>1488.548387</td>\n",
       "      <td>1394.636364</td>\n",
       "      <td>1204.555556</td>\n",
       "    </tr>\n",
       "    <tr>\n",
       "      <th>3</th>\n",
       "      <td>299.354134</td>\n",
       "      <td>3519.402673</td>\n",
       "      <td>849.65</td>\n",
       "      <td>1316.72093</td>\n",
       "      <td>1204.727273</td>\n",
       "      <td>928.111111</td>\n",
       "      <td>1279.616667</td>\n",
       "      <td>937.787879</td>\n",
       "      <td>1322.307692</td>\n",
       "      <td>1377.833333</td>\n",
       "      <td>...</td>\n",
       "      <td>1051.5</td>\n",
       "      <td>1412.6</td>\n",
       "      <td>1337.074074</td>\n",
       "      <td>1062.744681</td>\n",
       "      <td>1257.227273</td>\n",
       "      <td>1133.666667</td>\n",
       "      <td>1686.133333</td>\n",
       "      <td>1333.0</td>\n",
       "      <td>1259.636364</td>\n",
       "      <td>1276.833333</td>\n",
       "    </tr>\n",
       "    <tr>\n",
       "      <th>4</th>\n",
       "      <td>300.252916</td>\n",
       "      <td>3563.6398</td>\n",
       "      <td>944.4</td>\n",
       "      <td>1381.860465</td>\n",
       "      <td>1233.090909</td>\n",
       "      <td>1055.0</td>\n",
       "      <td>1329.116667</td>\n",
       "      <td>1226.666667</td>\n",
       "      <td>1214.230769</td>\n",
       "      <td>1523.166667</td>\n",
       "      <td>...</td>\n",
       "      <td>917.071429</td>\n",
       "      <td>1610.0</td>\n",
       "      <td>1221.518519</td>\n",
       "      <td>1162.914894</td>\n",
       "      <td>1178.409091</td>\n",
       "      <td>1392.833333</td>\n",
       "      <td>1859.533333</td>\n",
       "      <td>1371.741935</td>\n",
       "      <td>1459.090909</td>\n",
       "      <td>1390.055556</td>\n",
       "    </tr>\n",
       "    <tr>\n",
       "      <th>5</th>\n",
       "      <td>301.067282</td>\n",
       "      <td>3660.065462</td>\n",
       "      <td>961.4</td>\n",
       "      <td>1482.069767</td>\n",
       "      <td>1218.545455</td>\n",
       "      <td>998.333333</td>\n",
       "      <td>1325.55</td>\n",
       "      <td>1123.363636</td>\n",
       "      <td>1245.615385</td>\n",
       "      <td>1492.0</td>\n",
       "      <td>...</td>\n",
       "      <td>1056.214286</td>\n",
       "      <td>1220.8</td>\n",
       "      <td>1315.518519</td>\n",
       "      <td>1061.085106</td>\n",
       "      <td>1290.204545</td>\n",
       "      <td>1614.833333</td>\n",
       "      <td>1613.4</td>\n",
       "      <td>1367.193548</td>\n",
       "      <td>1337.636364</td>\n",
       "      <td>1128.888889</td>\n",
       "    </tr>\n",
       "    <tr>\n",
       "      <th>6</th>\n",
       "      <td>303.385143</td>\n",
       "      <td>3685.611783</td>\n",
       "      <td>1000.45</td>\n",
       "      <td>1448.069767</td>\n",
       "      <td>935.727273</td>\n",
       "      <td>1088.666667</td>\n",
       "      <td>1322.566667</td>\n",
       "      <td>1127.515152</td>\n",
       "      <td>1300.230769</td>\n",
       "      <td>1666.0</td>\n",
       "      <td>...</td>\n",
       "      <td>1362.0</td>\n",
       "      <td>1263.0</td>\n",
       "      <td>1291.666667</td>\n",
       "      <td>1203.723404</td>\n",
       "      <td>1184.931818</td>\n",
       "      <td>1913.333333</td>\n",
       "      <td>1655.8</td>\n",
       "      <td>1400.903226</td>\n",
       "      <td>1448.545455</td>\n",
       "      <td>995.555556</td>\n",
       "    </tr>\n",
       "    <tr>\n",
       "      <th>7</th>\n",
       "      <td>303.296949</td>\n",
       "      <td>3653.148754</td>\n",
       "      <td>959.3</td>\n",
       "      <td>1505.186047</td>\n",
       "      <td>834.454545</td>\n",
       "      <td>1061.222222</td>\n",
       "      <td>1276.016667</td>\n",
       "      <td>1090.212121</td>\n",
       "      <td>1333.769231</td>\n",
       "      <td>1654.166667</td>\n",
       "      <td>...</td>\n",
       "      <td>1369.5</td>\n",
       "      <td>1112.8</td>\n",
       "      <td>1251.555556</td>\n",
       "      <td>1155.404255</td>\n",
       "      <td>1243.795455</td>\n",
       "      <td>1826.666667</td>\n",
       "      <td>1551.933333</td>\n",
       "      <td>1376.064516</td>\n",
       "      <td>1522.636364</td>\n",
       "      <td>1331.277778</td>\n",
       "    </tr>\n",
       "    <tr>\n",
       "      <th>8</th>\n",
       "      <td>304.474246</td>\n",
       "      <td>3558.806418</td>\n",
       "      <td>882.35</td>\n",
       "      <td>1455.837209</td>\n",
       "      <td>982.545455</td>\n",
       "      <td>1046.888889</td>\n",
       "      <td>1259.433333</td>\n",
       "      <td>1118.636364</td>\n",
       "      <td>1368.923077</td>\n",
       "      <td>1489.833333</td>\n",
       "      <td>...</td>\n",
       "      <td>1442.5</td>\n",
       "      <td>1166.6</td>\n",
       "      <td>1234.851852</td>\n",
       "      <td>1211.489362</td>\n",
       "      <td>1204.477273</td>\n",
       "      <td>1491.5</td>\n",
       "      <td>1536.066667</td>\n",
       "      <td>1301.741935</td>\n",
       "      <td>1545.909091</td>\n",
       "      <td>1159.777778</td>\n",
       "    </tr>\n",
       "    <tr>\n",
       "      <th>9</th>\n",
       "      <td>305.372766</td>\n",
       "      <td>3524.018269</td>\n",
       "      <td>1028.4</td>\n",
       "      <td>1469.604651</td>\n",
       "      <td>876.545455</td>\n",
       "      <td>1002.888889</td>\n",
       "      <td>1247.05</td>\n",
       "      <td>938.787879</td>\n",
       "      <td>1245.384615</td>\n",
       "      <td>1405.0</td>\n",
       "      <td>...</td>\n",
       "      <td>1383.0</td>\n",
       "      <td>1187.4</td>\n",
       "      <td>1124.777778</td>\n",
       "      <td>1168.957447</td>\n",
       "      <td>1186.454545</td>\n",
       "      <td>1502.666667</td>\n",
       "      <td>1665.2</td>\n",
       "      <td>1285.16129</td>\n",
       "      <td>1591.045455</td>\n",
       "      <td>1094.388889</td>\n",
       "    </tr>\n",
       "    <tr>\n",
       "      <th>10</th>\n",
       "      <td>302.655022</td>\n",
       "      <td>3533.441339</td>\n",
       "      <td>952.35</td>\n",
       "      <td>1492.023256</td>\n",
       "      <td>720.909091</td>\n",
       "      <td>1044.333333</td>\n",
       "      <td>1179.95</td>\n",
       "      <td>944.212121</td>\n",
       "      <td>1344.538462</td>\n",
       "      <td>1320.833333</td>\n",
       "      <td>...</td>\n",
       "      <td>1271.571429</td>\n",
       "      <td>1247.8</td>\n",
       "      <td>1134.407407</td>\n",
       "      <td>1108.361702</td>\n",
       "      <td>1140.863636</td>\n",
       "      <td>1439.166667</td>\n",
       "      <td>1575.8</td>\n",
       "      <td>1405.741935</td>\n",
       "      <td>1483.136364</td>\n",
       "      <td>1123.722222</td>\n",
       "    </tr>\n",
       "  </tbody>\n",
       "</table>\n",
       "<p>11 rows × 224 columns</p>\n",
       "</div>"
      ],
      "text/plain": [
       "              bg          den        2            3            4            5  \\\n",
       "area        None         None       20           43           11            9   \n",
       "1     298.793952  3533.607714   772.45  1333.860465  1089.272727   978.666667   \n",
       "2     301.557667  3510.193749    681.6       1332.0  1227.181818   943.222222   \n",
       "3     299.354134  3519.402673   849.65   1316.72093  1204.727273   928.111111   \n",
       "4     300.252916    3563.6398    944.4  1381.860465  1233.090909       1055.0   \n",
       "5     301.067282  3660.065462    961.4  1482.069767  1218.545455   998.333333   \n",
       "6     303.385143  3685.611783  1000.45  1448.069767   935.727273  1088.666667   \n",
       "7     303.296949  3653.148754    959.3  1505.186047   834.454545  1061.222222   \n",
       "8     304.474246  3558.806418   882.35  1455.837209   982.545455  1046.888889   \n",
       "9     305.372766  3524.018269   1028.4  1469.604651   876.545455  1002.888889   \n",
       "10    302.655022  3533.441339   952.35  1492.023256   720.909091  1044.333333   \n",
       "\n",
       "                6            7            8            9  ...          214  \\\n",
       "area           60           33           13            6  ...           14   \n",
       "1     1197.116667   839.848485  1378.615385  1429.666667  ...  1262.071429   \n",
       "2     1217.033333   916.636364  1406.615385  1522.166667  ...  1175.928571   \n",
       "3     1279.616667   937.787879  1322.307692  1377.833333  ...       1051.5   \n",
       "4     1329.116667  1226.666667  1214.230769  1523.166667  ...   917.071429   \n",
       "5         1325.55  1123.363636  1245.615385       1492.0  ...  1056.214286   \n",
       "6     1322.566667  1127.515152  1300.230769       1666.0  ...       1362.0   \n",
       "7     1276.016667  1090.212121  1333.769231  1654.166667  ...       1369.5   \n",
       "8     1259.433333  1118.636364  1368.923077  1489.833333  ...       1442.5   \n",
       "9         1247.05   938.787879  1245.384615       1405.0  ...       1383.0   \n",
       "10        1179.95   944.212121  1344.538462  1320.833333  ...  1271.571429   \n",
       "\n",
       "         215          216          217          218          219          220  \\\n",
       "area       5           27           47           44            6           15   \n",
       "1      984.0  1157.444444   1088.12766      1312.25  1257.666667       1369.6   \n",
       "2     1363.2  1142.814815   1060.93617  1387.227273       1295.0  1572.866667   \n",
       "3     1412.6  1337.074074  1062.744681  1257.227273  1133.666667  1686.133333   \n",
       "4     1610.0  1221.518519  1162.914894  1178.409091  1392.833333  1859.533333   \n",
       "5     1220.8  1315.518519  1061.085106  1290.204545  1614.833333       1613.4   \n",
       "6     1263.0  1291.666667  1203.723404  1184.931818  1913.333333       1655.8   \n",
       "7     1112.8  1251.555556  1155.404255  1243.795455  1826.666667  1551.933333   \n",
       "8     1166.6  1234.851852  1211.489362  1204.477273       1491.5  1536.066667   \n",
       "9     1187.4  1124.777778  1168.957447  1186.454545  1502.666667       1665.2   \n",
       "10    1247.8  1134.407407  1108.361702  1140.863636  1439.166667       1575.8   \n",
       "\n",
       "              221          222          223  \n",
       "area           31           22           18  \n",
       "1     1357.741935  1344.681818  1391.555556  \n",
       "2     1488.548387  1394.636364  1204.555556  \n",
       "3          1333.0  1259.636364  1276.833333  \n",
       "4     1371.741935  1459.090909  1390.055556  \n",
       "5     1367.193548  1337.636364  1128.888889  \n",
       "6     1400.903226  1448.545455   995.555556  \n",
       "7     1376.064516  1522.636364  1331.277778  \n",
       "8     1301.741935  1545.909091  1159.777778  \n",
       "9      1285.16129  1591.045455  1094.388889  \n",
       "10    1405.741935  1483.136364  1123.722222  \n",
       "\n",
       "[11 rows x 224 columns]"
      ]
     },
     "execution_count": 15,
     "metadata": {},
     "output_type": "execute_result"
    }
   ],
   "source": [
    "df_mean"
   ]
  },
  {
   "cell_type": "code",
   "execution_count": 89,
   "metadata": {},
   "outputs": [],
   "source": []
  },
  {
   "cell_type": "markdown",
   "metadata": {},
   "source": [
    "# 3. Part three ： spine to dendrite"
   ]
  },
  {
   "cell_type": "markdown",
   "metadata": {},
   "source": [
    "1.modify den skeleton"
   ]
  },
  {
   "cell_type": "code",
   "execution_count": 90,
   "metadata": {},
   "outputs": [
    {
     "name": "stderr",
     "output_type": "stream",
     "text": [
      "Exception in callback BaseAsyncIOLoop._handle_events(19228, 1)\n",
      "handle: <Handle BaseAsyncIOLoop._handle_events(19228, 1)>\n",
      "Traceback (most recent call last):\n",
      "  File \"c:\\Users\\ZLY\\AppData\\Local\\Programs\\Python\\Python38\\lib\\asyncio\\events.py\", line 81, in _run\n",
      "    self._context.run(self._callback, *self._args)\n",
      "  File \"c:\\Users\\ZLY\\AppData\\Local\\Programs\\Python\\Python38\\lib\\site-packages\\tornado\\platform\\asyncio.py\", line 189, in _handle_events\n",
      "    handler_func(fileobj, events)\n",
      "  File \"c:\\Users\\ZLY\\AppData\\Local\\Programs\\Python\\Python38\\lib\\site-packages\\zmq\\eventloop\\zmqstream.py\", line 452, in _handle_events\n",
      "    self._handle_recv()\n",
      "  File \"c:\\Users\\ZLY\\AppData\\Local\\Programs\\Python\\Python38\\lib\\site-packages\\zmq\\eventloop\\zmqstream.py\", line 481, in _handle_recv\n",
      "    self._run_callback(callback, msg)\n",
      "  File \"c:\\Users\\ZLY\\AppData\\Local\\Programs\\Python\\Python38\\lib\\site-packages\\zmq\\eventloop\\zmqstream.py\", line 431, in _run_callback\n",
      "    callback(*args, **kwargs)\n",
      "  File \"C:\\Users\\ZLY\\AppData\\Roaming\\Python\\Python38\\site-packages\\jupyter_client\\threaded.py\", line 121, in _handle_recv\n",
      "    msg_list = self.ioloop._asyncio_event_loop.run_until_complete(get_msg(future_msg))\n",
      "  File \"c:\\Users\\ZLY\\AppData\\Local\\Programs\\Python\\Python38\\lib\\asyncio\\base_events.py\", line 592, in run_until_complete\n",
      "    self._check_running()\n",
      "  File \"c:\\Users\\ZLY\\AppData\\Local\\Programs\\Python\\Python38\\lib\\asyncio\\base_events.py\", line 554, in _check_running\n",
      "    raise RuntimeError(\n",
      "RuntimeError: Cannot run the event loop while another loop is running\n"
     ]
    }
   ],
   "source": [
    "#--- BINARY---#\n",
    "img=np.max(imgs,axis=0)\n",
    "# img=morphology.white_tophat(img,morphology.cube(5))\n",
    "global_th=binary_func(img)\n",
    "adth=img>global_th\n",
    "# adth=local_threshold(imgs[0],offset=100)\n",
    "noise_mean=np.mean(img[~adth])\n",
    "img=img-noise_mean\n",
    "img[img<0]=0\n",
    "img.shape\n",
    "all_mask=imgio.ski_imread(maskfile)\n",
    "from skimage.morphology import skeletonize_3d,binary_dilation\n",
    "den=skeletonize_3d(np.max(all_mask==1,axis=0))\n",
    "den=den>0\n",
    "structure=np.ones((5,)*2)\n",
    "den=binary_dilation(den,structure)\n",
    "den=den=skeletonize_3d(den)\n",
    "viewer=imgio.plot.imshow3d(img,label_lay=[den],\n",
    "                           label_lay_name=[\"den\"],\n",
    "                                 )"
   ]
  },
  {
   "cell_type": "code",
   "execution_count": 91,
   "metadata": {},
   "outputs": [
    {
     "name": "stderr",
     "output_type": "stream",
     "text": [
      "Exception in callback BaseAsyncIOLoop._handle_events(17516, 1)\n",
      "handle: <Handle BaseAsyncIOLoop._handle_events(17516, 1)>\n",
      "Traceback (most recent call last):\n",
      "  File \"c:\\Users\\ZLY\\AppData\\Local\\Programs\\Python\\Python38\\lib\\asyncio\\events.py\", line 81, in _run\n",
      "    self._context.run(self._callback, *self._args)\n",
      "  File \"c:\\Users\\ZLY\\AppData\\Local\\Programs\\Python\\Python38\\lib\\site-packages\\tornado\\platform\\asyncio.py\", line 189, in _handle_events\n",
      "    handler_func(fileobj, events)\n",
      "  File \"c:\\Users\\ZLY\\AppData\\Local\\Programs\\Python\\Python38\\lib\\site-packages\\zmq\\eventloop\\zmqstream.py\", line 452, in _handle_events\n",
      "    self._handle_recv()\n",
      "  File \"c:\\Users\\ZLY\\AppData\\Local\\Programs\\Python\\Python38\\lib\\site-packages\\zmq\\eventloop\\zmqstream.py\", line 481, in _handle_recv\n",
      "    self._run_callback(callback, msg)\n",
      "  File \"c:\\Users\\ZLY\\AppData\\Local\\Programs\\Python\\Python38\\lib\\site-packages\\zmq\\eventloop\\zmqstream.py\", line 431, in _run_callback\n",
      "    callback(*args, **kwargs)\n",
      "  File \"C:\\Users\\ZLY\\AppData\\Roaming\\Python\\Python38\\site-packages\\jupyter_client\\threaded.py\", line 121, in _handle_recv\n",
      "    msg_list = self.ioloop._asyncio_event_loop.run_until_complete(get_msg(future_msg))\n",
      "  File \"c:\\Users\\ZLY\\AppData\\Local\\Programs\\Python\\Python38\\lib\\asyncio\\base_events.py\", line 592, in run_until_complete\n",
      "    self._check_running()\n",
      "  File \"c:\\Users\\ZLY\\AppData\\Local\\Programs\\Python\\Python38\\lib\\asyncio\\base_events.py\", line 554, in _check_running\n",
      "    raise RuntimeError(\n",
      "RuntimeError: Cannot run the event loop while another loop is running\n"
     ]
    }
   ],
   "source": [
    "viewer=imgio.plot.imshow3d(img,label_lay=[den],\n",
    "                           label_lay_name=[\"den\"],\n",
    "                                 )\n",
    "den=viewer.layers[\"den\"].data"
   ]
  },
  {
   "cell_type": "code",
   "execution_count": 92,
   "metadata": {},
   "outputs": [
    {
     "name": "stderr",
     "output_type": "stream",
     "text": [
      "Exception in callback BaseAsyncIOLoop._handle_events(20108, 1)\n",
      "handle: <Handle BaseAsyncIOLoop._handle_events(20108, 1)>\n",
      "Traceback (most recent call last):\n",
      "  File \"c:\\Users\\ZLY\\AppData\\Local\\Programs\\Python\\Python38\\lib\\asyncio\\events.py\", line 81, in _run\n",
      "    self._context.run(self._callback, *self._args)\n",
      "  File \"c:\\Users\\ZLY\\AppData\\Local\\Programs\\Python\\Python38\\lib\\site-packages\\tornado\\platform\\asyncio.py\", line 189, in _handle_events\n",
      "    handler_func(fileobj, events)\n",
      "  File \"c:\\Users\\ZLY\\AppData\\Local\\Programs\\Python\\Python38\\lib\\site-packages\\zmq\\eventloop\\zmqstream.py\", line 452, in _handle_events\n",
      "    self._handle_recv()\n",
      "  File \"c:\\Users\\ZLY\\AppData\\Local\\Programs\\Python\\Python38\\lib\\site-packages\\zmq\\eventloop\\zmqstream.py\", line 481, in _handle_recv\n",
      "    self._run_callback(callback, msg)\n",
      "  File \"c:\\Users\\ZLY\\AppData\\Local\\Programs\\Python\\Python38\\lib\\site-packages\\zmq\\eventloop\\zmqstream.py\", line 431, in _run_callback\n",
      "    callback(*args, **kwargs)\n",
      "  File \"C:\\Users\\ZLY\\AppData\\Roaming\\Python\\Python38\\site-packages\\jupyter_client\\threaded.py\", line 121, in _handle_recv\n",
      "    msg_list = self.ioloop._asyncio_event_loop.run_until_complete(get_msg(future_msg))\n",
      "  File \"c:\\Users\\ZLY\\AppData\\Local\\Programs\\Python\\Python38\\lib\\asyncio\\base_events.py\", line 592, in run_until_complete\n",
      "    self._check_running()\n",
      "  File \"c:\\Users\\ZLY\\AppData\\Local\\Programs\\Python\\Python38\\lib\\asyncio\\base_events.py\", line 554, in _check_running\n",
      "    raise RuntimeError(\n",
      "RuntimeError: Cannot run the event loop while another loop is running\n"
     ]
    }
   ],
   "source": [
    "import scipy.ndimage as ndi\n",
    "\n",
    "from skimage import morphology\n",
    "den=den>0\n",
    "structure=np.ones((3,)*2)\n",
    "den=morphology.binary_dilation(den,structure)\n",
    "den=den=skeletonize_3d(den)\n",
    "def removenode(skeleton,connection):\n",
    "    for i in range(1,skeleton.shape[0]-1):\n",
    "        for j in range(1,skeleton.shape[1]-1):\n",
    "            if cflow.skeleton_leaf.get_border_connection(skeleton,i,j)>=connection:\n",
    "                skeleton[i,j]=0\n",
    "removenode(den,3)\n",
    "den,_=ndi.label(den,np.ones((3,)*2))\n",
    "viewer=imgio.plot.imshow3d(img,label_lay=[den],\n",
    "                           label_lay_name=[\"den\"],\n",
    "                                 )"
   ]
  },
  {
   "cell_type": "markdown",
   "metadata": {},
   "source": [
    "2. save dendrite skeleton"
   ]
  },
  {
   "cell_type": "code",
   "execution_count": 93,
   "metadata": {},
   "outputs": [],
   "source": [
    "tifffile.imwrite(\n",
    "    skeletonfile,\n",
    "    den.astype(np.uint16),\n",
    "    imagej=True,\n",
    "    photometric='minisblack',\n",
    "    metadata={'axes': 'YX'},\n",
    ")\n"
   ]
  },
  {
   "cell_type": "markdown",
   "metadata": {},
   "source": [
    "3. get trace from spine to dendrite"
   ]
  },
  {
   "cell_type": "code",
   "execution_count": 5,
   "metadata": {},
   "outputs": [
    {
     "name": "stderr",
     "output_type": "stream",
     "text": [
      "..\\spinelib\\utils\\spine_struct.py:191: FutureWarning: Using a non-tuple sequence for multidimensional indexing is deprecated; use `arr[tuple(seq)]` instead of `arr[seq]`. In the future this will be interpreted as an array index, `arr[np.array(seq)]`, which will result either in an error or a different result.\n",
      "  cropimg=img[bindbox].copy()\n",
      "..\\spinelib\\utils\\spine_struct.py:192: FutureWarning: Using a non-tuple sequence for multidimensional indexing is deprecated; use `arr[tuple(seq)]` instead of `arr[seq]`. In the future this will be interpreted as an array index, `arr[np.array(seq)]`, which will result either in an error or a different result.\n",
      "  croplable=labels[bindbox]\n",
      "..\\spinelib\\utils\\spine_struct.py:210: FutureWarning: Using a non-tuple sequence for multidimensional indexing is deprecated; use `arr[tuple(seq)]` instead of `arr[seq]`. In the future this will be interpreted as an array index, `arr[np.array(seq)]`, which will result either in an error or a different result.\n",
      "  linemask[bindbox][maskcrop>0]=maskcrop[maskcrop>0]\n"
     ]
    }
   ],
   "source": [
    "#--- BINARY---#\n",
    "all_mask=imgio.ski_imread(maskfile)\n",
    "den=imgio.ski_imread(skeletonfile)\n",
    "img=np.max(imgs,axis=0)\n",
    "global_th=binary_func(img)\n",
    "adth=img>global_th\n",
    "# adth=local_threshold(imgs[0],offset=100)\n",
    "noise_mean=np.mean(img[~adth])\n",
    "same_spine_maskes=imgio.ski_imread(mipspinefile)\n",
    "same_spine_maskes[den>0]=1\n",
    "cords,linemask=spines_distance(img,same_spine_maskes,[20,20])\n"
   ]
  },
  {
   "cell_type": "code",
   "execution_count": 8,
   "metadata": {},
   "outputs": [
    {
     "data": {
      "text/plain": [
       "<Vectors layer 'Vectors' at 0x2b522d41bb0>"
      ]
     },
     "execution_count": 8,
     "metadata": {},
     "output_type": "execute_result"
    },
    {
     "name": "stderr",
     "output_type": "stream",
     "text": [
      "Exception in callback BaseAsyncIOLoop._handle_events(8540, 1)\n",
      "handle: <Handle BaseAsyncIOLoop._handle_events(8540, 1)>\n",
      "Traceback (most recent call last):\n",
      "  File \"c:\\Users\\ZLY\\AppData\\Local\\Programs\\Python\\Python38\\lib\\asyncio\\events.py\", line 81, in _run\n",
      "    self._context.run(self._callback, *self._args)\n",
      "  File \"c:\\Users\\ZLY\\AppData\\Local\\Programs\\Python\\Python38\\lib\\site-packages\\tornado\\platform\\asyncio.py\", line 189, in _handle_events\n",
      "    handler_func(fileobj, events)\n",
      "  File \"c:\\Users\\ZLY\\AppData\\Local\\Programs\\Python\\Python38\\lib\\site-packages\\zmq\\eventloop\\zmqstream.py\", line 452, in _handle_events\n",
      "    self._handle_recv()\n",
      "  File \"c:\\Users\\ZLY\\AppData\\Local\\Programs\\Python\\Python38\\lib\\site-packages\\zmq\\eventloop\\zmqstream.py\", line 481, in _handle_recv\n",
      "    self._run_callback(callback, msg)\n",
      "  File \"c:\\Users\\ZLY\\AppData\\Local\\Programs\\Python\\Python38\\lib\\site-packages\\zmq\\eventloop\\zmqstream.py\", line 431, in _run_callback\n",
      "    callback(*args, **kwargs)\n",
      "  File \"C:\\Users\\ZLY\\AppData\\Roaming\\Python\\Python38\\site-packages\\jupyter_client\\threaded.py\", line 121, in _handle_recv\n",
      "    msg_list = self.ioloop._asyncio_event_loop.run_until_complete(get_msg(future_msg))\n",
      "  File \"c:\\Users\\ZLY\\AppData\\Local\\Programs\\Python\\Python38\\lib\\asyncio\\base_events.py\", line 592, in run_until_complete\n",
      "    self._check_running()\n",
      "  File \"c:\\Users\\ZLY\\AppData\\Local\\Programs\\Python\\Python38\\lib\\asyncio\\base_events.py\", line 554, in _check_running\n",
      "    raise RuntimeError(\n",
      "RuntimeError: Cannot run the event loop while another loop is running\n"
     ]
    }
   ],
   "source": [
    "pointers=[cord[0] for k,cord in cords.items() if cord]\n",
    "# print(pointers)\n",
    "vectors=[(cord[0],np.array(cord[1])-cord[0]) for k,cord in cords.items() if cord[1]]\n",
    "viewer=imgio.plot.imshow3d(img,label_lay=[all_mask,linemask,den],\n",
    "                           label_lay_name=[\"label\",\"line\",\"den\"],\n",
    "                           point_lay=[pointers]\n",
    "                                 )\n",
    "viewer.add_vectors(\n",
    "            vectors\n",
    "        )"
   ]
  },
  {
   "cell_type": "markdown",
   "metadata": {},
   "source": [
    "4. caculate density"
   ]
  },
  {
   "cell_type": "code",
   "execution_count": 96,
   "metadata": {},
   "outputs": [
    {
     "name": "stdout",
     "output_type": "stream",
     "text": [
      "1 72.8 95 1.304945054945055\n",
      "3 75.2 94 1.25\n",
      "5 40.160000000000004 44 1.0956175298804782\n"
     ]
    }
   ],
   "source": [
    "import collections\n",
    "cnts=collections.defaultdict(int)\n",
    "for k,cord in cords.items():\n",
    "    if cord[1]:\n",
    "        x,y=cord[1]\n",
    "        cnts[den[x,y]]+=1 \n",
    "\n",
    "dlabels,dareas,indexs=spinelib.utils.measure.label_statics(den)\n",
    "for lab,area in zip(dlabels,dareas):\n",
    "    print(lab,area*0.16,cnts[lab],cnts[lab]/area/0.16)"
   ]
  }
 ],
 "metadata": {
  "kernelspec": {
   "display_name": "Python 3",
   "language": "python",
   "name": "python3"
  },
  "language_info": {
   "codemirror_mode": {
    "name": "ipython",
    "version": 3
   },
   "file_extension": ".py",
   "mimetype": "text/x-python",
   "name": "python",
   "nbconvert_exporter": "python",
   "pygments_lexer": "ipython3",
   "version": "3.8.6"
  },
  "vscode": {
   "interpreter": {
    "hash": "00708f3ed311d98c43008c123499962ae66f6397b6f2654ec591048d71715902"
   }
  }
 },
 "nbformat": 4,
 "nbformat_minor": 2
}
