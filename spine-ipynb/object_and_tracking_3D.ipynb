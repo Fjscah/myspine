{
 "cells": [
  {
   "cell_type": "markdown",
   "metadata": {},
   "source": [
    "# spine instance by unet - 3D\n"
   ]
  },
  {
   "cell_type": "code",
   "execution_count": 1,
   "metadata": {},
   "outputs": [
    {
     "name": "stderr",
     "output_type": "stream",
     "text": [
      "c:\\Users\\ZLY\\AppData\\Local\\Programs\\Python\\Python38\\lib\\site-packages\\_distutils_hack\\__init__.py:30: UserWarning: Setuptools is replacing distutils.\n",
      "  warnings.warn(\"Setuptools is replacing distutils.\")\n"
     ]
    }
   ],
   "source": [
    "# import library\n",
    "import sys\n",
    "\n",
    "import numpy as np\n",
    "from IPython.core.interactiveshell import InteractiveShell\n",
    "from skimage import morphology\n",
    "from skimage.io import imsave\n",
    "from skimage.morphology import remove_small_objects\n",
    "\n",
    "InteractiveShell.ast_node_interactivity = 'last_expr'\n",
    "import time\n",
    "\n",
    "from tqdm import tqdm\n",
    "\n",
    "sys.path.append(\"..\")\n",
    "sys.path.append(\"..//..\")\n",
    "import os\n",
    "\n",
    "import ipywidgets as ipyw\n",
    "# %matplotlib inline\n",
    "# %matplotlib widget\n",
    "import matplotlib.pyplot as plt\n",
    "import numpy as np\n",
    "#load model\n",
    "import tensorflow as tf\n",
    "from skimage.filters.thresholding import (threshold_isodata, threshold_li,\n",
    "                                          threshold_local, threshold_mean,\n",
    "                                          threshold_minimum,\n",
    "                                          threshold_multiotsu,\n",
    "                                          threshold_niblack, threshold_otsu,\n",
    "                                          threshold_triangle, threshold_yen)\n",
    "\n",
    "from spinelib import cflow, imgio, seg\n",
    "from spinelib.cflow.blob import find_spheres, peakfilter, sphere_log\n",
    "from spinelib.cflow.localthreadhold import local_threshold\n",
    "from spinelib.imgio import napari_base\n",
    "from spinelib.seg import segment, track\n",
    "from spinelib.utils import npixel\n",
    "from spinelib.utils.measure import label_statics\n",
    "from utils import file_base\n",
    "\n",
    "methods = cflow.localthreadhold.thmethods\n",
    "from skimage.filters import threshold_otsu, threshold_yen\n",
    "#basic fun\n",
    "#-----------------------#\n",
    "from spinelib.utils import measure\n",
    "\n",
    "\n",
    "\n",
    "def show_img_info(images):\n",
    "    shape=images.shape\n",
    "    dtype=images.dtype\n",
    "    ndim=images.ndim\n",
    "    print(\"image shape :\",shape)\n",
    "    print(\"image dtype :\",dtype)\n",
    "    print(\"image ndim :\",ndim)\n",
    "\n",
    "\n",
    "def modify_masks(masks,sizeth=20):\n",
    "    for n,mask in enumerate(masks):\n",
    "        masks[n]=modify_mask(mask,sizeth=sizeth)\n",
    "def modify_mask(mask,sizeth=20):\n",
    "    denmask=mask==1\n",
    "    spinemask=mask==2\n",
    "    denmask=remove_small_objects(denmask,min_size=sizeth)\n",
    "    spinemask=remove_small_objects(spinemask,min_size=4)\n",
    "    \n",
    "    #projspinemask=remove_small_objects(np.max(spinemask,axis=0),min_size=sizeth)\n",
    "    # print(mask.shape[0])\n",
    "    projdenmask=np.tile(np.sum(denmask,axis=0),(mask.shape[0],1,1))\n",
    "    spinemask[projdenmask>3]=0\n",
    "    mask=spinemask*2+denmask\n",
    "    return mask\n",
    "    \n"
   ]
  },
  {
   "cell_type": "code",
   "execution_count": 2,
   "metadata": {},
   "outputs": [],
   "source": [
    "# super params\n",
    "#-----------------------#\n",
    "#   paras  #\n",
    "#-----------------------#\n",
    "\n",
    "steps=2 # caculate stick gradient step lenth 1-4, larger more error , smaller than spine diameter\n",
    "sigma=(2,2) # z,y,x\n",
    "lambda1=1\n",
    "lambda2=1.5 # lambda2 need large than lambda1\n",
    "sigma_hessian = 4\n",
    "sigma_supp = 100\n",
    "countth=10*20 # fiber largest pixels, include z stack, that to say lenth*stackn\n",
    "smallobj=200\n",
    "spine_radius=35 # for iteration to growth area\n",
    "maxspinesize=1000\n",
    "spotrange=[3,11]\n",
    "binary_func=threshold_li\n",
    "use_sobel=False\n",
    "search_box=[7,25,25]\n",
    "keep_time=5\n",
    "peak_use_gaussian=True\n",
    "\n",
    "untmodel=None"
   ]
  },
  {
   "cell_type": "code",
   "execution_count": 3,
   "metadata": {},
   "outputs": [
    {
     "name": "stdout",
     "output_type": "stream",
     "text": [
      "image shape : (10, 11, 512, 512)\n",
      "image dtype : uint16\n",
      "image ndim : 4\n"
     ]
    }
   ],
   "source": [
    "# load data\n",
    "#-----------------------#\n",
    "#   data loader  #\n",
    "#-----------------------#\n",
    "filename=r\"D:\\data\\Train\\4D\\origion\\ctrl\\20211111-24D.tif\"\n",
    "#-----------------------#\n",
    "#   Output file path  #\n",
    "#-----------------------#\n",
    "ddir,shotname,suffix=file_base.split_filename(filename)\n",
    "savedir=r\"G:\\LHJ_DATA\\Train\\4D\\deconvolve_4D\\statistic\"\n",
    "dendir=r\"G:\\LHJ_DATA\\Train\\4D\\deconvolve_4D\\remove_den\"\n",
    "roidir=r\"G:\\LHJ_DATA\\Train\\4D\\deconvolve_4D\\roi_proj\"\n",
    "predictdir=r\"G:\\LHJ_DATA\\Train\\4D\\deconvolve_4D\\predict\"\n",
    "areadir=os.path.join(savedir,\"area\")\n",
    "meandir=os.path.join(savedir,\"mean\")\n",
    "file_base.create_dir(areadir)\n",
    "file_base.create_dir(meandir)\n",
    "file_base.create_dir(dendir)\n",
    "file_base.create_dir(roidir)\n",
    "file_base.create_dir(predictdir)\n",
    "\n",
    "areafile=os.path.join(areadir,shotname+\"_area.csv\")\n",
    "proj_areafile=os.path.join(areadir,shotname+\"_proj_area.csv\")\n",
    "meanfile=os.path.join(meandir,shotname+\"_mean_inten.csv\")\n",
    "proj_meanfile=os.path.join(meandir,shotname+\"_proj_meaninten.csv\")\n",
    "sumfile=os.path.join(meandir,shotname+\"_sum_inten.csv\")\n",
    "proj_sumfile=os.path.join(meandir,shotname+\"_proj_suminten.csv\")\n",
    "\n",
    "removedenfile=os.path.join(dendir,shotname+\"_remove_den.tif\")\n",
    "\n",
    "proj_roifile=os.path.join(roidir,shotname+\"_roi_proj.tif\")\n",
    "each_roifile=os.path.join(roidir,shotname+\"_roi.tif\")\n",
    "\n",
    "maskfile=os.path.join(predictdir,shotname+\"_mask.tif\")\n",
    "spineprfile=os.path.join(predictdir,shotname+\"_spine_pr.tif\")\n",
    "denprfile=os.path.join(predictdir,shotname+\"_den_pr.tif\")\n",
    "#-----------------------#\n",
    "#   model loader  #\n",
    "#-----------------------#\n",
    "import pickle\n",
    "from networks import unet\n",
    "\n",
    "unetmodel=unet.UNet2D()\n",
    "# D:\\spine\\segment\\some_analysis_for_spine_img\\models\\model\\unet_model\\M2d_den\\modelep200-loss0.010 copy.h5\n",
    "# D:\\spine\\segment\\some_analysis_for_spine_img\\models\\model\\unet_model\\M2d_den\\modelep082-loss0.012 copy.h5\n",
    "modelpath=r\"D:/code/myspine/models/M2d_seg\\modelep200-loss0.133.h5\"\n",
    "unetmodel.build(input_shape =(4,512,512,1))\n",
    "unetmodel.load_weights(modelpath)\n",
    "peakmodel=tf.keras.models.load_model(\n",
    "    r\"D:\\code\\some_analysis_for_spine_img\\models\\model\\cnn_model\", custom_objects=None, compile=True, options=None\n",
    ")\n",
    "\n",
    "imgs = imgio.ski_imread(filename)[:10]\n",
    "show_img_info(imgs)"
   ]
  },
  {
   "cell_type": "markdown",
   "metadata": {},
   "source": [
    "# PART ONE : PREDICT\n",
    "track by max projection ,maybe stable\n"
   ]
  },
  {
   "cell_type": "markdown",
   "metadata": {},
   "source": [
    "1. Let's see one img"
   ]
  },
  {
   "cell_type": "code",
   "execution_count": 9,
   "metadata": {
    "collapsed": true
   },
   "outputs": [
    {
     "name": "stdout",
     "output_type": "stream",
     "text": [
      "1/1 [==============================] - 0s 352ms/step\n",
      "1/1 [==============================] - 0s 362ms/step\n",
      "1/1 [==============================] - 0s 321ms/step\n",
      "1/1 [==============================] - 0s 342ms/step\n",
      "1/1 [==============================] - 0s 321ms/step\n",
      "1/1 [==============================] - 0s 325ms/step\n",
      "1/1 [==============================] - 0s 322ms/step\n",
      "1/1 [==============================] - 0s 324ms/step\n",
      "1/1 [==============================] - 0s 318ms/step\n",
      "1/1 [==============================] - 0s 331ms/step\n",
      "1/1 [==============================] - 0s 313ms/step\n",
      "1/1 [==============================] - 0s 343ms/step\n"
     ]
    }
   ],
   "source": [
    "#--- BINARY---#\n",
    "img=imgs[0]\n",
    "adth=img>binary_func(img)\n",
    "\n",
    "#--- unet model predict spine,dendrite and background---#\n",
    "mask,spineprs,denprs=unetmodel.predict_single_img(img)\n",
    "projmask,_,_=unetmodel.predict_single_img(np.max(img,axis=0))\n",
    "mask=modify_mask(mask,10)\n",
    "spinemask=mask==2\n",
    "corner=peakfilter(spineprs,5,0,use_gaussian=True,exborder=False)*spinemask\n",
    "spine_label=segment.label_instance_water(spineprs,corner,spineprs>0.5,maxspinesize)\n",
    "# view single frame segment\n",
    "viewer=imgio.plot.imshow3d(img,[corner,spineprs,denprs],name_Is=[\"corner\",\"spinepr\",\"denpr\"],label_lay=[mask,spine_label],label_lay_name=[\"mask\",\"spine\"])"
   ]
  },
  {
   "cell_type": "markdown",
   "metadata": {},
   "source": [
    "2. run all img"
   ]
  },
  {
   "cell_type": "code",
   "execution_count": 17,
   "metadata": {},
   "outputs": [
    {
     "name": "stderr",
     "output_type": "stream",
     "text": [
      "Processing:   0%|          | 0/10 [00:00<?, ?it/s]"
     ]
    },
    {
     "name": "stdout",
     "output_type": "stream",
     "text": [
      "1/1 [==============================] - 0s 386ms/step\n",
      "1/1 [==============================] - 0s 363ms/step\n",
      "1/1 [==============================] - 0s 396ms/step\n",
      "1/1 [==============================] - 0s 398ms/step\n",
      "1/1 [==============================] - 0s 398ms/step\n",
      "1/1 [==============================] - 0s 366ms/step\n",
      "1/1 [==============================] - 0s 447ms/step\n",
      "1/1 [==============================] - 0s 423ms/step\n",
      "1/1 [==============================] - 0s 340ms/step\n",
      "1/1 [==============================] - 0s 374ms/step\n",
      "1/1 [==============================] - 0s 383ms/step\n"
     ]
    },
    {
     "name": "stderr",
     "output_type": "stream",
     "text": [
      "Processing:  10%|█         | 1/10 [00:04<00:44,  4.95s/it]"
     ]
    },
    {
     "name": "stdout",
     "output_type": "stream",
     "text": [
      "1/1 [==============================] - 0s 385ms/step\n",
      "1/1 [==============================] - 0s 415ms/step\n",
      "1/1 [==============================] - 0s 382ms/step\n",
      "1/1 [==============================] - 0s 393ms/step\n",
      "1/1 [==============================] - 0s 405ms/step\n",
      "1/1 [==============================] - 0s 378ms/step\n",
      "1/1 [==============================] - 0s 374ms/step\n",
      "1/1 [==============================] - 0s 410ms/step\n",
      "1/1 [==============================] - 0s 368ms/step\n",
      "1/1 [==============================] - 0s 388ms/step\n",
      "1/1 [==============================] - 0s 396ms/step\n"
     ]
    },
    {
     "name": "stderr",
     "output_type": "stream",
     "text": [
      "Processing:  20%|██        | 2/10 [00:09<00:39,  4.92s/it]"
     ]
    },
    {
     "name": "stdout",
     "output_type": "stream",
     "text": [
      "1/1 [==============================] - 0s 406ms/step\n",
      "1/1 [==============================] - 0s 404ms/step\n",
      "1/1 [==============================] - 0s 384ms/step\n",
      "1/1 [==============================] - 0s 414ms/step\n",
      "1/1 [==============================] - 0s 393ms/step\n",
      "1/1 [==============================] - 0s 394ms/step\n",
      "1/1 [==============================] - 0s 370ms/step\n",
      "1/1 [==============================] - 0s 480ms/step\n",
      "1/1 [==============================] - 0s 392ms/step\n",
      "1/1 [==============================] - 0s 405ms/step\n",
      "1/1 [==============================] - 0s 346ms/step\n"
     ]
    },
    {
     "name": "stderr",
     "output_type": "stream",
     "text": [
      "Processing:  30%|███       | 3/10 [00:14<00:34,  4.94s/it]"
     ]
    },
    {
     "name": "stdout",
     "output_type": "stream",
     "text": [
      "1/1 [==============================] - 0s 372ms/step\n",
      "1/1 [==============================] - 0s 371ms/step\n",
      "1/1 [==============================] - 0s 386ms/step\n",
      "1/1 [==============================] - 0s 378ms/step\n",
      "1/1 [==============================] - 0s 448ms/step\n",
      "1/1 [==============================] - 0s 398ms/step\n",
      "1/1 [==============================] - 0s 351ms/step\n",
      "1/1 [==============================] - 0s 363ms/step\n",
      "1/1 [==============================] - 0s 366ms/step\n",
      "1/1 [==============================] - 0s 394ms/step\n",
      "1/1 [==============================] - 0s 386ms/step\n"
     ]
    },
    {
     "name": "stderr",
     "output_type": "stream",
     "text": [
      "Processing:  40%|████      | 4/10 [00:19<00:29,  4.89s/it]"
     ]
    },
    {
     "name": "stdout",
     "output_type": "stream",
     "text": [
      "1/1 [==============================] - 0s 419ms/step\n",
      "1/1 [==============================] - 0s 460ms/step\n",
      "1/1 [==============================] - 0s 403ms/step\n",
      "1/1 [==============================] - 0s 366ms/step\n",
      "1/1 [==============================] - 0s 373ms/step\n",
      "1/1 [==============================] - 0s 365ms/step\n",
      "1/1 [==============================] - 0s 354ms/step\n",
      "1/1 [==============================] - 0s 365ms/step\n",
      "1/1 [==============================] - 0s 443ms/step\n",
      "1/1 [==============================] - 0s 396ms/step\n",
      "1/1 [==============================] - 0s 383ms/step\n"
     ]
    },
    {
     "name": "stderr",
     "output_type": "stream",
     "text": [
      "Processing:  50%|█████     | 5/10 [00:24<00:24,  4.90s/it]"
     ]
    },
    {
     "name": "stdout",
     "output_type": "stream",
     "text": [
      "1/1 [==============================] - 0s 361ms/step\n",
      "1/1 [==============================] - 0s 364ms/step\n",
      "1/1 [==============================] - 0s 383ms/step\n",
      "1/1 [==============================] - 0s 360ms/step\n",
      "1/1 [==============================] - 0s 366ms/step\n",
      "1/1 [==============================] - 0s 447ms/step\n",
      "1/1 [==============================] - 0s 377ms/step\n",
      "1/1 [==============================] - 0s 347ms/step\n",
      "1/1 [==============================] - 0s 350ms/step\n",
      "1/1 [==============================] - 0s 375ms/step\n",
      "1/1 [==============================] - 0s 376ms/step\n"
     ]
    },
    {
     "name": "stderr",
     "output_type": "stream",
     "text": [
      "Processing:  60%|██████    | 6/10 [00:29<00:19,  4.83s/it]"
     ]
    },
    {
     "name": "stdout",
     "output_type": "stream",
     "text": [
      "1/1 [==============================] - 0s 336ms/step\n",
      "1/1 [==============================] - 0s 346ms/step\n",
      "1/1 [==============================] - 0s 457ms/step\n",
      "1/1 [==============================] - 0s 379ms/step\n",
      "1/1 [==============================] - 0s 408ms/step\n",
      "1/1 [==============================] - 0s 356ms/step\n",
      "1/1 [==============================] - 0s 362ms/step\n",
      "1/1 [==============================] - 0s 387ms/step\n",
      "1/1 [==============================] - 0s 377ms/step\n",
      "1/1 [==============================] - 0s 348ms/step\n",
      "1/1 [==============================] - 0s 462ms/step\n"
     ]
    },
    {
     "name": "stderr",
     "output_type": "stream",
     "text": [
      "Processing:  70%|███████   | 7/10 [00:34<00:14,  4.83s/it]"
     ]
    },
    {
     "name": "stdout",
     "output_type": "stream",
     "text": [
      "1/1 [==============================] - 0s 419ms/step\n",
      "1/1 [==============================] - 0s 371ms/step\n",
      "1/1 [==============================] - 0s 389ms/step\n",
      "1/1 [==============================] - 0s 423ms/step\n",
      "1/1 [==============================] - 0s 384ms/step\n",
      "1/1 [==============================] - 0s 386ms/step\n",
      "1/1 [==============================] - 0s 395ms/step\n",
      "1/1 [==============================] - 0s 415ms/step\n",
      "1/1 [==============================] - 0s 405ms/step\n",
      "1/1 [==============================] - 0s 367ms/step\n",
      "1/1 [==============================] - 0s 372ms/step\n"
     ]
    },
    {
     "name": "stderr",
     "output_type": "stream",
     "text": [
      "Processing:  80%|████████  | 8/10 [00:39<00:09,  4.87s/it]"
     ]
    },
    {
     "name": "stdout",
     "output_type": "stream",
     "text": [
      "1/1 [==============================] - 0s 381ms/step\n",
      "1/1 [==============================] - 0s 380ms/step\n",
      "1/1 [==============================] - 0s 381ms/step\n",
      "1/1 [==============================] - 0s 458ms/step\n",
      "1/1 [==============================] - 0s 439ms/step\n",
      "1/1 [==============================] - 0s 435ms/step\n",
      "1/1 [==============================] - 0s 362ms/step\n",
      "1/1 [==============================] - 0s 379ms/step\n",
      "1/1 [==============================] - 0s 360ms/step\n",
      "1/1 [==============================] - 0s 373ms/step\n",
      "1/1 [==============================] - 0s 344ms/step\n"
     ]
    },
    {
     "name": "stderr",
     "output_type": "stream",
     "text": [
      "Processing:  90%|█████████ | 9/10 [00:43<00:04,  4.89s/it]"
     ]
    },
    {
     "name": "stdout",
     "output_type": "stream",
     "text": [
      "1/1 [==============================] - 0s 473ms/step\n",
      "1/1 [==============================] - 0s 405ms/step\n",
      "1/1 [==============================] - 0s 373ms/step\n",
      "1/1 [==============================] - 0s 366ms/step\n",
      "1/1 [==============================] - 0s 367ms/step\n",
      "1/1 [==============================] - 0s 389ms/step\n",
      "1/1 [==============================] - 0s 381ms/step\n",
      "1/1 [==============================] - 0s 365ms/step\n",
      "1/1 [==============================] - 0s 486ms/step\n",
      "1/1 [==============================] - 0s 395ms/step\n",
      "1/1 [==============================] - 0s 366ms/step\n"
     ]
    },
    {
     "name": "stderr",
     "output_type": "stream",
     "text": [
      "Processing: 100%|██████████| 10/10 [00:49<00:00,  4.98s/it]\n"
     ]
    },
    {
     "name": "stderr",
     "output_type": "stream",
     "text": [
      "Exception in callback BaseAsyncIOLoop._handle_events(10936, 1)\n",
      "handle: <Handle BaseAsyncIOLoop._handle_events(10936, 1)>\n",
      "Traceback (most recent call last):\n",
      "  File \"c:\\Users\\ZLY\\AppData\\Local\\Programs\\Python\\Python38\\lib\\asyncio\\events.py\", line 81, in _run\n",
      "    self._context.run(self._callback, *self._args)\n",
      "  File \"c:\\Users\\ZLY\\AppData\\Local\\Programs\\Python\\Python38\\lib\\site-packages\\tornado\\platform\\asyncio.py\", line 189, in _handle_events\n",
      "    handler_func(fileobj, events)\n",
      "  File \"c:\\Users\\ZLY\\AppData\\Local\\Programs\\Python\\Python38\\lib\\site-packages\\zmq\\eventloop\\zmqstream.py\", line 452, in _handle_events\n",
      "    self._handle_recv()\n",
      "  File \"c:\\Users\\ZLY\\AppData\\Local\\Programs\\Python\\Python38\\lib\\site-packages\\zmq\\eventloop\\zmqstream.py\", line 481, in _handle_recv\n",
      "    self._run_callback(callback, msg)\n",
      "  File \"c:\\Users\\ZLY\\AppData\\Local\\Programs\\Python\\Python38\\lib\\site-packages\\zmq\\eventloop\\zmqstream.py\", line 431, in _run_callback\n",
      "    callback(*args, **kwargs)\n",
      "  File \"C:\\Users\\ZLY\\AppData\\Roaming\\Python\\Python38\\site-packages\\jupyter_client\\threaded.py\", line 121, in _handle_recv\n",
      "    msg_list = self.ioloop._asyncio_event_loop.run_until_complete(get_msg(future_msg))\n",
      "  File \"c:\\Users\\ZLY\\AppData\\Local\\Programs\\Python\\Python38\\lib\\asyncio\\base_events.py\", line 592, in run_until_complete\n",
      "    self._check_running()\n",
      "  File \"c:\\Users\\ZLY\\AppData\\Local\\Programs\\Python\\Python38\\lib\\asyncio\\base_events.py\", line 554, in _check_running\n",
      "    raise RuntimeError(\n",
      "RuntimeError: Cannot run the event loop while another loop is running\n"
     ]
    }
   ],
   "source": [
    "# precit all frame\n",
    "all_mask,all_spine_pr,all_den_pr= unetmodel.predict_time_imgs(imgs)\n",
    "all_mask=modify_masks(all_mask,sizeth=20)\n",
    "# view multi frames segment\n",
    "\n",
    "all_spine_imgs=segment.keep_spineimg_bypr(imgs,all_mask,all_spine_pr,th=0.5)#keep_spine(imgs,all_mask)\n",
    "all_adths,th,meanbg=segment.adth_func_time(imgs,binary_func)\n",
    "\n",
    "\"\"\"illustration\n",
    "imgs\n",
    "\"spine prob\" : predict spine probability\n",
    "\"adth img spine\" : img of spine area , masked by threshold mask and spine mask\n",
    "\"all segmnet\" : predict classification result\n",
    "\"\"\"\n",
    "viewer=imgio.plot.imshow3d(imgs,\n",
    "                              [all_spine_pr,all_spine_imgs*all_adths],\n",
    "                              name_Is=[\"spine prob\",\"adth img spine\"],\n",
    "                              label_lay=[all_mask],\n",
    "                              label_lay_name=[\"all segmnet\"])\n"
   ]
  },
  {
   "cell_type": "markdown",
   "metadata": {},
   "source": [
    "3. edit proj mask"
   ]
  },
  {
   "cell_type": "code",
   "execution_count": 18,
   "metadata": {},
   "outputs": [
    {
     "name": "stderr",
     "output_type": "stream",
     "text": [
      "Exception in callback BaseAsyncIOLoop._handle_events(10400, 1)\n",
      "handle: <Handle BaseAsyncIOLoop._handle_events(10400, 1)>\n",
      "Traceback (most recent call last):\n",
      "  File \"c:\\Users\\ZLY\\AppData\\Local\\Programs\\Python\\Python38\\lib\\asyncio\\events.py\", line 81, in _run\n",
      "    self._context.run(self._callback, *self._args)\n",
      "  File \"c:\\Users\\ZLY\\AppData\\Local\\Programs\\Python\\Python38\\lib\\site-packages\\tornado\\platform\\asyncio.py\", line 189, in _handle_events\n",
      "    handler_func(fileobj, events)\n",
      "  File \"c:\\Users\\ZLY\\AppData\\Local\\Programs\\Python\\Python38\\lib\\site-packages\\zmq\\eventloop\\zmqstream.py\", line 452, in _handle_events\n",
      "    self._handle_recv()\n",
      "  File \"c:\\Users\\ZLY\\AppData\\Local\\Programs\\Python\\Python38\\lib\\site-packages\\zmq\\eventloop\\zmqstream.py\", line 481, in _handle_recv\n",
      "    self._run_callback(callback, msg)\n",
      "  File \"c:\\Users\\ZLY\\AppData\\Local\\Programs\\Python\\Python38\\lib\\site-packages\\zmq\\eventloop\\zmqstream.py\", line 431, in _run_callback\n",
      "    callback(*args, **kwargs)\n",
      "  File \"C:\\Users\\ZLY\\AppData\\Roaming\\Python\\Python38\\site-packages\\jupyter_client\\threaded.py\", line 121, in _handle_recv\n",
      "    msg_list = self.ioloop._asyncio_event_loop.run_until_complete(get_msg(future_msg))\n",
      "  File \"c:\\Users\\ZLY\\AppData\\Local\\Programs\\Python\\Python38\\lib\\asyncio\\base_events.py\", line 592, in run_until_complete\n",
      "    self._check_running()\n",
      "  File \"c:\\Users\\ZLY\\AppData\\Local\\Programs\\Python\\Python38\\lib\\asyncio\\base_events.py\", line 554, in _check_running\n",
      "    raise RuntimeError(\n",
      "RuntimeError: Cannot run the event loop while another loop is running\n"
     ]
    }
   ],
   "source": [
    "#-----------------------#\n",
    "#   GET projection mask label  #\n",
    "#-----------------------#\n",
    "structure=np.ones((3,)*3)\n",
    "spine_mask_proj=morphology.binary_erosion(np.max(all_mask==2,axis=0),structure)\n",
    "# ---------You can use img projection peak , just pr projection seem better by little test\n",
    "# ----use img projection\n",
    "# img_spine_proj=keep_spine_proj(imgs*adths,all_mask)\n",
    "# img_corner=peakfilter(img_spine_proj,3,0,use_gaussian=True)*spine_mask_proj\n",
    "# spine_label_img=label_instance(img_spine_proj,img_corner,spine_mask_proj)\n",
    "# ----use prob projection\n",
    "# pr_adths=adth_func_time(all_spine_pr,binary_func)\n",
    "# pr_adths_proj=np.max(pr_adths,axis=0)\n",
    "# pr_spine_proj=segment.keep_spineimg_bypr(all_spine_pr*adths,all_mask)\n",
    "spine_pr_proj=np.max(all_spine_pr*all_adths,axis=0)\n",
    "# find proj peak\n",
    "pr_corner=peakfilter(spine_pr_proj,3,0,use_gaussian=True)*spine_mask_proj\n",
    "spine_label_proj=segment.label_instance_water(spine_pr_proj,pr_corner,np.max(all_mask==2,axis=0),\n",
    "                                            maxspinesize)\n",
    "\n",
    "viewer=imgio.plot.imshow3d(imgs,\n",
    "                              [spine_mask_proj,spine_pr_proj,pr_corner],\n",
    "                              name_Is=[\"spine mask proj\",\"spine prob proj\",\"peak of prob\"],\n",
    "                              label_lay=[spine_label_proj],\n",
    "                              label_lay_name=[\"pr label\"])\n"
   ]
  },
  {
   "cell_type": "code",
   "execution_count": 20,
   "metadata": {},
   "outputs": [
    {
     "name": "stderr",
     "output_type": "stream",
     "text": [
      "Mean of empty slice.\n",
      "invalid value encountered in true_divide\n"
     ]
    },
    {
     "name": "stderr",
     "output_type": "stream",
     "text": [
      "Exception in callback BaseAsyncIOLoop._handle_events(11232, 1)\n",
      "handle: <Handle BaseAsyncIOLoop._handle_events(11232, 1)>\n",
      "Traceback (most recent call last):\n",
      "  File \"c:\\Users\\ZLY\\AppData\\Local\\Programs\\Python\\Python38\\lib\\asyncio\\events.py\", line 81, in _run\n",
      "    self._context.run(self._callback, *self._args)\n",
      "  File \"c:\\Users\\ZLY\\AppData\\Local\\Programs\\Python\\Python38\\lib\\site-packages\\tornado\\platform\\asyncio.py\", line 189, in _handle_events\n",
      "    handler_func(fileobj, events)\n",
      "  File \"c:\\Users\\ZLY\\AppData\\Local\\Programs\\Python\\Python38\\lib\\site-packages\\zmq\\eventloop\\zmqstream.py\", line 452, in _handle_events\n",
      "    self._handle_recv()\n",
      "  File \"c:\\Users\\ZLY\\AppData\\Local\\Programs\\Python\\Python38\\lib\\site-packages\\zmq\\eventloop\\zmqstream.py\", line 481, in _handle_recv\n",
      "    self._run_callback(callback, msg)\n",
      "  File \"c:\\Users\\ZLY\\AppData\\Local\\Programs\\Python\\Python38\\lib\\site-packages\\zmq\\eventloop\\zmqstream.py\", line 431, in _run_callback\n",
      "    callback(*args, **kwargs)\n",
      "  File \"C:\\Users\\ZLY\\AppData\\Roaming\\Python\\Python38\\site-packages\\jupyter_client\\threaded.py\", line 121, in _handle_recv\n",
      "    msg_list = self.ioloop._asyncio_event_loop.run_until_complete(get_msg(future_msg))\n",
      "  File \"c:\\Users\\ZLY\\AppData\\Local\\Programs\\Python\\Python38\\lib\\asyncio\\base_events.py\", line 592, in run_until_complete\n",
      "    self._check_running()\n",
      "  File \"c:\\Users\\ZLY\\AppData\\Local\\Programs\\Python\\Python38\\lib\\asyncio\\base_events.py\", line 554, in _check_running\n",
      "    raise RuntimeError(\n",
      "RuntimeError: Cannot run the event loop while another loop is running\n"
     ]
    }
   ],
   "source": [
    "# see and edit result\n",
    "\"\"\"illustration\n",
    "imgs\n",
    "\"pr_spine_proj\" : predict spine probability' projection mask by threshold mask\n",
    "\"pr_corner\"     : peak of pr_spine_proj\n",
    "\"spine_pr_proj\" : spine instance segment projection\n",
    "\"all segmnet\" : predict classification result\n",
    "You need edit lable ( remove/merge some error segment,and so on)\n",
    "\"\"\"\n",
    "viewer=imgio.plot.imshow3d(imgs,\n",
    "                              [segment.keep_spineimg_bypr(imgs,all_spine_pr,th=0.5),all_spine_pr],\n",
    "                              name_Is=[\"spine imgs\",\"spine prob proj\"],\n",
    "                              label_lay=[np.array([spine_label_proj for im in imgs])],\n",
    "                              label_lay_name=[\"pr label\"])\n",
    "\n",
    "edit_spine_label_proj=viewer.layers[\"pr label\"].data[0]"
   ]
  },
  {
   "cell_type": "code",
   "execution_count": 21,
   "metadata": {},
   "outputs": [],
   "source": [
    "# ---- resee\n",
    "e_spine_label_proj=edit_spine_label_proj\n",
    "# viewer=etsynseg.plot.imshow3d(keep_spine_by_prob(imgs,all_spine_pr,th=0.4),\n",
    "#                               [imgs,all_spine_pr],\n",
    "#                               name_Is=[\"img\",\"spine prob proj\"],\n",
    "#                               label_lay=[np.array([spine_label_pr for im in imgs])],\n",
    "#                               label_lay_name=[\"pr label\"])\n",
    "e_spine_label_proj.shape\n",
    "\n",
    "# ----- relabel proj seg\n",
    "t_edit_pr_spine_proj=edit_spine_label_proj.copy()\n",
    "# edit_pr_spine_proj_t=imgio.ski_imread(proj_roifile)\n",
    "t_edit_pr_spine_proj,_=segment.resortseg(t_edit_pr_spine_proj,2)\n",
    "\n",
    "proj_spine_masks=np.array([t_edit_pr_spine_proj for im in imgs])\n",
    "\n",
    "#proj to 3d in neuron +in spine+ in proj spine\n",
    "all_spine_maskes=(all_spine_pr>0.5)*all_adths*proj_spine_masks\n",
    "\n",
    "# spine_imgs=segment.keep_spineimg_bypr(imgs,all_mask,all_spine_pr,th=0.5,cval=meanbg)"
   ]
  },
  {
   "cell_type": "code",
   "execution_count": 22,
   "metadata": {},
   "outputs": [
    {
     "name": "stderr",
     "output_type": "stream",
     "text": [
      "Exception in callback BaseAsyncIOLoop._handle_events(11824, 1)\n",
      "handle: <Handle BaseAsyncIOLoop._handle_events(11824, 1)>\n",
      "Traceback (most recent call last):\n",
      "  File \"c:\\Users\\ZLY\\AppData\\Local\\Programs\\Python\\Python38\\lib\\asyncio\\events.py\", line 81, in _run\n",
      "    self._context.run(self._callback, *self._args)\n",
      "  File \"c:\\Users\\ZLY\\AppData\\Local\\Programs\\Python\\Python38\\lib\\site-packages\\tornado\\platform\\asyncio.py\", line 189, in _handle_events\n",
      "    handler_func(fileobj, events)\n",
      "  File \"c:\\Users\\ZLY\\AppData\\Local\\Programs\\Python\\Python38\\lib\\site-packages\\zmq\\eventloop\\zmqstream.py\", line 452, in _handle_events\n",
      "    self._handle_recv()\n",
      "  File \"c:\\Users\\ZLY\\AppData\\Local\\Programs\\Python\\Python38\\lib\\site-packages\\zmq\\eventloop\\zmqstream.py\", line 481, in _handle_recv\n",
      "    self._run_callback(callback, msg)\n",
      "  File \"c:\\Users\\ZLY\\AppData\\Local\\Programs\\Python\\Python38\\lib\\site-packages\\zmq\\eventloop\\zmqstream.py\", line 431, in _run_callback\n",
      "    callback(*args, **kwargs)\n",
      "  File \"C:\\Users\\ZLY\\AppData\\Roaming\\Python\\Python38\\site-packages\\jupyter_client\\threaded.py\", line 121, in _handle_recv\n",
      "    msg_list = self.ioloop._asyncio_event_loop.run_until_complete(get_msg(future_msg))\n",
      "  File \"c:\\Users\\ZLY\\AppData\\Local\\Programs\\Python\\Python38\\lib\\asyncio\\base_events.py\", line 592, in run_until_complete\n",
      "    self._check_running()\n",
      "  File \"c:\\Users\\ZLY\\AppData\\Local\\Programs\\Python\\Python38\\lib\\asyncio\\base_events.py\", line 554, in _check_running\n",
      "    raise RuntimeError(\n",
      "RuntimeError: Cannot run the event loop while another loop is running\n"
     ]
    }
   ],
   "source": [
    "viewer=imgio.plot.imshow3d(imgs,\n",
    "                              [all_spine_pr,all_spine_imgs],\n",
    "                              name_Is=[\"spine prob\",\"spine img\"],\n",
    "                              label_lay=[all_spine_maskes,t_edit_pr_spine_proj],\n",
    "                              label_lay_name=[\"spine label\",\"spine area proj\"])"
   ]
  },
  {
   "cell_type": "markdown",
   "metadata": {},
   "source": [
    "4. save mask"
   ]
  },
  {
   "cell_type": "code",
   "execution_count": 15,
   "metadata": {},
   "outputs": [
    {
     "name": "stderr",
     "output_type": "stream",
     "text": [
      "D:\\spine\\Train\\4D\\deconvolve_4D\\roi_proj\\decon_20211119-14D_roi_proj.tif is a low contrast image\n"
     ]
    }
   ],
   "source": [
    "#save roi mask\n",
    "import tifffile\n",
    "\n",
    "#edit_pr_spine_proj_t : spine max mask (same size for each frame)\n",
    "imsave(proj_roifile,t_edit_pr_spine_proj.astype(np.uint16))\n",
    "# imsave(maskfile,all_mask)\n",
    "# imsave(spineprfile,all_spine_pr)\n",
    "\n",
    "# all_mask : den spine back mask\n",
    "tifffile.imwrite(\n",
    "    maskfile,\n",
    "    all_mask.astype(np.uint16),\n",
    "    imagej=True,\n",
    "    photometric='minisblack',\n",
    "    metadata={'axes': 'TZYX'},\n",
    ")\n",
    "\n",
    "# all_spine_pr : spine probability\n",
    "tifffile.imwrite(\n",
    "    spineprfile,\n",
    "    all_spine_pr,\n",
    "    imagej=True,\n",
    "    photometric='minisblack',\n",
    "    metadata={'axes': 'TZYX'},\n",
    ")\n",
    "tifffile.imwrite(\n",
    "    denprfile,\n",
    "    all_den_pr,\n",
    "    imagej=True,\n",
    "    photometric='minisblack',\n",
    "    metadata={'axes': 'TZYX'},\n",
    ")\n",
    "\n",
    "# nspine_maskes : spine's area mask\n",
    "tifffile.imwrite(\n",
    "    each_roifile,\n",
    "    all_spine_maskes.astype(np.uint16),\n",
    "    imagej=True,\n",
    "    photometric='minisblack',\n",
    "    metadata={'axes': 'TZYX'},\n",
    ")\n",
    "\n",
    "# removedenfile : remove den area imgs\n",
    "tifffile.imwrite(\n",
    "    removedenfile,\n",
    "    all_spine_imgs,\n",
    "    imagej=True,\n",
    "    photometric='minisblack',\n",
    "    metadata={'axes': 'TZYX'},\n",
    ")"
   ]
  },
  {
   "cell_type": "markdown",
   "metadata": {},
   "source": [
    "# Part Two "
   ]
  },
  {
   "cell_type": "markdown",
   "metadata": {},
   "source": [
    "1. load data"
   ]
  },
  {
   "cell_type": "code",
   "execution_count": 23,
   "metadata": {},
   "outputs": [],
   "source": [
    "same_spine_maskes=imgio.ski_imread(proj_roifile)\n",
    "all_mask=imgio.ski_imread(maskfile)\n",
    "all_spine_pr=imgio.ski_imread(spineprfile)\n",
    "all_den_pr=imgio.ski_imread(denprfile)\n",
    "spine_maskes=imgio.ski_imread(each_roifile)\n",
    "spine_imgs=imgio.ski_imread(removedenfile)\n",
    "# spine_imgs=imgs.copy()\n",
    "# spine_imgs[all_den_pr>0.4]=mean1"
   ]
  },
  {
   "cell_type": "code",
   "execution_count": 50,
   "metadata": {},
   "outputs": [
    {
     "name": "stderr",
     "output_type": "stream",
     "text": [
      "WARNING: DirectWrite: CreateFontFaceFromHDC() failed (指示输入文件 (例如字体文件) 中的错误。) for QFontDef(Family=\"\", pointsize=12, pixelsize=16, styleHint=5, weight=50, stretch=100, hintingPreference=0) LOGFONT(\"MS Sans Serif\", lfWidth=0, lfHeight=-16) dpi=96\n",
      "WARNING:vispy:DirectWrite: CreateFontFaceFromHDC() failed (指示输入文件 (例如字体文件) 中的错误。) for QFontDef(Family=\"\", pointsize=12, pixelsize=16, styleHint=5, weight=50, stretch=100, hintingPreference=0) LOGFONT(\"MS Sans Serif\", lfWidth=0, lfHeight=-16) dpi=96\n"
     ]
    }
   ],
   "source": [
    "viewer=imgio.plot.imshow3d(imgs,\n",
    "                              [all_spine_pr,spine_imgs],\n",
    "                              name_Is=[\"spine prob\",\"spine img\"],\n",
    "                              label_lay=[spine_maskes,t_edit_pr_spine_proj],\n",
    "                              label_lay_name=[\"spine area label\",\"spine area proj\"])"
   ]
  },
  {
   "cell_type": "markdown",
   "metadata": {},
   "source": [
    "2. caculate statistic"
   ]
  },
  {
   "cell_type": "code",
   "execution_count": 24,
   "metadata": {},
   "outputs": [],
   "source": [
    "import pandas as pd\n",
    "same_spine_maskes_t=np.array([same_spine_maskes])\n",
    "same_spine_maskes_ts=np.array([same_spine_maskes for im in imgs])\n",
    "\n",
    "arr=measure.label_series_statics(same_spine_maskes_t,same_spine_maskes_t,measure=\"area\")\n",
    "arr_volume_same=arr#*0.16*0.16*0.3\n",
    "\n",
    "arr=measure.label_series_statics(imgs,spine_maskes,measure=\"area\")\n",
    "df_volume=arr*0.16*0.16*0.3\n",
    "df_volume=pd.DataFrame(df_volume)\n",
    "\n",
    "arr=measure.label_series_statics(spine_imgs,same_spine_maskes_ts,measure=\"intensity_mean\")\n",
    "backvs=[np.mean(im[ms==0]) for im,ms in zip(imgs,all_mask)]\n",
    "arr[:,0]=backvs\n",
    "arr=np.row_stack((arr_volume_same,arr))\n",
    "df_mean=pd.DataFrame(arr)\n",
    "\n",
    "# proj information statics\n",
    "spine_maskes_proj=np.max(spine_maskes,axis=1)\n",
    "spine_imgs_proj=np.max(spine_imgs,axis=1)\n",
    "imgs_proj=np.max(imgs,axis=1)\n",
    "all_mask_proj=np.max(all_mask,axis=1)\n",
    "same_spine_maskes_t_proj=np.max(same_spine_maskes_t,axis=1)\n",
    "same_spine_maskes_ts_proj=np.max(same_spine_maskes_ts,axis=1)\n",
    "arr=measure.label_series_statics(imgs_proj,same_spine_maskes_t_proj,measure=\"area\")\n",
    "arr_area_same=arr#*0.16*0.16\n",
    "\n",
    "\n",
    "arr=measure.label_series_statics(spine_maskes_proj,spine_maskes_proj,measure=\"area\")\n",
    "df_proj_area=arr*0.16*0.16\n",
    "df_proj_area=pd.DataFrame(df_proj_area)\n",
    "\n",
    "\n",
    "arr=measure.label_series_statics(spine_imgs_proj,same_spine_maskes_ts_proj,measure=\"intensity_mean\")\n",
    "backvs=[np.mean(im[ms==0]) for im,ms in zip(imgs_proj,all_mask_proj)]\n",
    "arr[:,0]=backvs\n",
    "arr=np.row_stack((arr_area_same,arr))\n",
    "df_proj_mean=pd.DataFrame(arr)\n",
    "\n",
    "\n"
   ]
  },
  {
   "cell_type": "code",
   "execution_count": 25,
   "metadata": {},
   "outputs": [],
   "source": [
    "# save csv result\n",
    "df_volume.to_csv(areafile)\n",
    "df_mean.to_csv(meanfile)\n",
    "df_proj_area.to_csv(proj_areafile)\n",
    "df_proj_mean.to_csv(proj_meanfile)\n"
   ]
  },
  {
   "cell_type": "code",
   "execution_count": 127,
   "metadata": {},
   "outputs": [],
   "source": [
    "del df_volume\n",
    "del df_mean\n",
    "del df_proj_area\n",
    "del df_proj_mean\n",
    "del arr\n",
    "del same_spine_maskes_ts_proj"
   ]
  },
  {
   "cell_type": "markdown",
   "metadata": {},
   "source": [
    "# Part Three   \n",
    "\n",
    "compare before deconvolve"
   ]
  },
  {
   "cell_type": "code",
   "execution_count": null,
   "metadata": {},
   "outputs": [],
   "source": []
  },
  {
   "cell_type": "code",
   "execution_count": null,
   "metadata": {},
   "outputs": [],
   "source": [
    "\n",
    "def nms(image,hitpeak,returnmask=True):\n",
    "    # if clabs is None:\n",
    "    #     clabs=list(np.unique(hitpeak))\n",
    "    # if 0 in clabs:\n",
    "    #     clabs.remove(0)\n",
    "    indexs=np.argwhere(hitpeak>0)\n",
    "    indexs=list(indexs)\n",
    "    values=image[tuple(zip(*indexs))]\n",
    "    vlabs=hitpeak[tuple(zip(*indexs))]\n",
    "    zipped_pairs = zip(values,vlabs,indexs)\n",
    "    #sorted_pairs = sorted(zipped_pairs,lambda x :x[2])\n",
    "    zipped_pairs = list(zip(vlabs,values,indexs))\n",
    "    zipped_pairs.sort(key=lambda x:(x[0],-x[1]))\n",
    "    nmspoints=[]\n",
    "    viewedlabs=[]\n",
    "    for lab,value,ind in zipped_pairs:\n",
    "        if lab in viewedlabs: continue\n",
    "        else:\n",
    "            viewedlabs.append(lab)\n",
    "            nmspoints.append(ind)\n",
    "    if returnmask:\n",
    "        mask=np.zeros_like(image)\n",
    "        mask[tuple(zip(*nmspoints))]=1\n",
    "        return mask\n",
    "    else:\n",
    "        return nmspoints\n",
    "\n",
    "def keep_lable_seg(segment,labs):\n",
    "    ls=np.zeros_like(segment)\n",
    "    for lab in labs:\n",
    "        ls[segment==lab]=lab\n",
    "    return ls\n",
    "\n",
    "\n",
    "def track_by_seg(image,segment,\n",
    "                 radius,num_iter,searchbox,\n",
    "                 keep_time=3,resvers=None,labcounts={},\n",
    "                sizeth=np.inf,method=\"geo\",adth=None,\n",
    "                smoothing=0,lambda1=1, lambda2=3):\n",
    "    if segment is None:\n",
    "        return\n",
    "    segment=segment.copy()\n",
    "    if resvers is not None:\n",
    "        segment[segment==0]=resvers[segment==0]\n",
    "        \n",
    "    adth=local_threshold(image)\n",
    "    peakmask=peakfilter(image,radius)*adth\n",
    "    hitpeak=segment*peakmask\n",
    "    \n",
    "    prelab=set(np.unique(segment))\n",
    "    curlab=set(np.unique(hitpeak))\n",
    "    \n",
    "    #intersec\n",
    "    interseclab=prelab&curlab\n",
    "    \n",
    "    #nmsmask=nms(image,hitpeak,returnmask=True)*hitpeak\n",
    "    #print(np.unique(nmsmask))\n",
    "    intersecls=seg.segment.foreach_grow_area(image,num_iter,hitpeak,\n",
    "                     searchbox=searchbox,sizeth=sizeth,\n",
    "                     adth=adth,method=method,smoothing=smoothing,\n",
    "                     lambda1=lambda1,lambda2=lambda2)\n",
    "        \n",
    "    #diff # which not find\n",
    "    diflab=prelab-curlab\n",
    "    nofinders=keep_lable_seg(segment,diflab)\n",
    "    for lab in diflab:\n",
    "        if lab not in labcounts:\n",
    "            labcounts[lab]=1\n",
    "        elif labcounts[lab]>keep_time:\n",
    "            nofinders[nofinders==lab]=0\n",
    "        else:\n",
    "            labcounts[lab]+=1\n",
    "    \n",
    "    return intersecls,peakmask,nofinders"
   ]
  }
 ],
 "metadata": {
  "interpreter": {
   "hash": "e005709e9aa29d1a621e0980d2a7f7c99fe00643a1ac8d1bd0d50306f61d540a"
  },
  "kernelspec": {
   "display_name": "Python 3.8.6 64-bit",
   "language": "python",
   "name": "python3"
  },
  "language_info": {
   "codemirror_mode": {
    "name": "ipython",
    "version": 3
   },
   "file_extension": ".py",
   "mimetype": "text/x-python",
   "name": "python",
   "nbconvert_exporter": "python",
   "pygments_lexer": "ipython3",
   "version": "3.8.6"
  },
  "vscode": {
   "interpreter": {
    "hash": "e005709e9aa29d1a621e0980d2a7f7c99fe00643a1ac8d1bd0d50306f61d540a"
   }
  }
 },
 "nbformat": 4,
 "nbformat_minor": 2
}
