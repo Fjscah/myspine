{
 "cells": [
  {
   "cell_type": "markdown",
   "metadata": {},
   "source": [
    "# spine instance by unet - 2D"
   ]
  },
  {
   "cell_type": "code",
   "execution_count": 2,
   "metadata": {},
   "outputs": [
    {
     "name": "stderr",
     "output_type": "stream",
     "text": [
      "c:\\Users\\ZLY\\AppData\\Local\\Programs\\Python\\Python38\\lib\\site-packages\\_distutils_hack\\__init__.py:30: UserWarning: Setuptools is replacing distutils.\n",
      "  warnings.warn(\"Setuptools is replacing distutils.\")\n"
     ]
    }
   ],
   "source": [
    "# import library\n",
    "import sys\n",
    "\n",
    "import numpy as np\n",
    "from IPython.core.interactiveshell import InteractiveShell\n",
    "from skimage.io import imsave\n",
    "from skimage.morphology import remove_small_objects\n",
    "\n",
    "InteractiveShell.ast_node_interactivity = 'last_expr'\n",
    "\n",
    "from tqdm import tqdm\n",
    "\n",
    "sys.path.append(\"..\")\n",
    "sys.path.append(\"..//..\")\n",
    "import os\n",
    "\n",
    "import numpy as np\n",
    "#load model\n",
    "import tensorflow as tf\n",
    "from skimage.filters.thresholding import (threshold_isodata, threshold_li,\n",
    "                                          threshold_local, threshold_mean,\n",
    "                                          threshold_minimum,\n",
    "                                          threshold_multiotsu,\n",
    "                                          threshold_niblack, threshold_otsu,\n",
    "                                          threshold_triangle, threshold_yen)\n",
    "\n",
    "from skimage.filters import threshold_yen,threshold_otsu,threshold_yen\n",
    "\n",
    "\n",
    "\n",
    "from spinelib import cflow, imgio, seg\n",
    "from spinelib.cflow.blob import find_spheres, peakfilter, sphere_log\n",
    "from spinelib.cflow.localthreadhold import local_threshold\n",
    "from spinelib.imgio import napari_base\n",
    "from spinelib.seg import segment, track\n",
    "from spinelib.utils import npixel\n",
    "from spinelib.utils.measure import label_statics\n",
    "from utils import file_base\n",
    "import spinelib\n",
    "from IPython.core.interactiveshell import InteractiveShell\n",
    "from skimage.filters import threshold_otsu, threshold_yen\n",
    "from skimage.io import imsave\n",
    "from skimage.morphology import remove_small_objects\n",
    "from skimage.segmentation import expand_labels, watershed\n",
    "\n",
    "InteractiveShell.ast_node_interactivity = 'last_expr'\n",
    "methods = cflow.localthreadhold.thmethods\n"
   ]
  },
  {
   "cell_type": "code",
   "execution_count": 3,
   "metadata": {},
   "outputs": [],
   "source": [
    "#basic fun\n",
    "\n",
    "def show_img_info(images):\n",
    "    shape=images.shape\n",
    "    dtype=images.dtype\n",
    "    ndim=images.ndim\n",
    "    print(\"image shape :\",shape)\n",
    "    print(\"image dtype :\",dtype)\n",
    "    print(\"image ndim :\",ndim)\n",
    "\n",
    "\n",
    "def remove_den(imgs,unetmodel,cval=140):\n",
    "    denmasks,_=predict.predict_time_img(unetmodel,imgs)\n",
    "    imgs=imgs.copy()\n",
    "    imgs[denmasks==1]=cval\n",
    "    return imgs\n",
    "def remove_small_lable(mask,thsize):\n",
    "    labs=measure.unique_labs(mask)\n",
    "    newmask=np.zeros_like(mask)\n",
    "    for lab in labs:\n",
    "        mm=mask==lab\n",
    "        mask2=remove_small_objects(mm,thsize)\n",
    "        if not mask.any():\n",
    "            mask2=mm\n",
    "        newmask[mask2]=lab\n",
    "    return newmask   \n",
    "def th_img(imgs,ls,binary_func):\n",
    "    global_th=binary_func(imgs[0])\n",
    "    lss=np.zeros_like(imgs,dtype=np.uint16)\n",
    "\n",
    "    for i in range(len(imgs)):\n",
    "        img=imgs[i]\n",
    "        adth=img>global_th\n",
    "        # denmask,_=predict.predict_single_img(unetmodel,img)\n",
    "        l=ls*adth\n",
    "        l[l<2]=0\n",
    "        l=remove_small_lable(l,6)\n",
    "        lss[i]=l\n",
    "        # lss[i][denmask==1]=0\n",
    "    lss[lss<2]=0\n",
    "       \n",
    "    return lss\n",
    "\n",
    "def modify_masks(masks,sizeth=4):\n",
    "    for n,mask in enumerate(masks):\n",
    "        masks[n]=modify_mask(mask,sizeth=sizeth)\n",
    "def modify_mask(mask,sizeth=4):\n",
    "    denmask=mask==1\n",
    "    spinemask=mask==2\n",
    "    denmask=remove_small_objects(denmask,min_size=sizeth)\n",
    "    spinemask=remove_small_objects(spinemask,min_size=sizeth)\n",
    "    mask=spinemask*2+denmask\n",
    "    return mask"
   ]
  },
  {
   "cell_type": "code",
   "execution_count": 4,
   "metadata": {},
   "outputs": [],
   "source": [
    "# super params\n",
    "#-----------------------#\n",
    "#   paras  #\n",
    "#-----------------------#\n",
    "\n",
    "steps=2 # caculate stick gradient step lenth 1-4, larger more error , smaller than spine diameter\n",
    "sigma=(2,2) # z,y,x\n",
    "lambda1=1\n",
    "lambda2=1.5 # lambda2 need large than lambda1\n",
    "sigma_hessian = 4\n",
    "sigma_supp = 100\n",
    "countth=10*20 # fiber largest pixels, include z stack, that to say lenth*stackn\n",
    "smallobj=200\n",
    "spine_radius=35 # for iteration to growth area\n",
    "maxspinesize=200\n",
    "spotrange=[3,11]\n",
    "binary_func=threshold_li\n",
    "use_sobel=False\n",
    "search_box=[25,25]\n",
    "keep_time=5\n",
    "peak_use_gaussian=True\n",
    "\n",
    "untmodel=None"
   ]
  },
  {
   "cell_type": "code",
   "execution_count": 25,
   "metadata": {},
   "outputs": [
    {
     "name": "stdout",
     "output_type": "stream",
     "text": [
      "image shape : (74, 512, 512)\n",
      "image dtype : float32\n",
      "image ndim : 3\n"
     ]
    }
   ],
   "source": [
    "# load data\n",
    "#-----------------------#\n",
    "#   data loader  #\n",
    "#-----------------------#\n",
    "filename=r\"D:\\data\\Train\\4D\\deconvolve_2D\\MAX(1,11)_decon_20211113-14D.tif\"\n",
    "#-----------------------#\n",
    "#   Output file path  #\n",
    "#-----------------------#\n",
    "\"\"\"\n",
    "statistic\n",
    "\n",
    "remove_den\n",
    "    spine img\n",
    "roi dir\n",
    "    - each frame roi\n",
    "    - max fram roi\n",
    "predict dir \n",
    "    - mask 0,1,2\n",
    "    - spine pr\n",
    "    - den pr\n",
    "\"\"\"\n",
    "\n",
    "ddir,shotname,suffix=file_base.split_filename(filename)\n",
    "savedir=r\"D:\\data\\Train\\2D\\2Dt\\statistic\"\n",
    "dendir=r\"D:\\data\\Train\\2D\\2Dt\\remove_den\"\n",
    "roidir=r\"G:\\LHJ_DATA\\Train\\4D\\deconvolve_4D\\roi_proj\"\n",
    "\n",
    "predictdir=r\"G:\\LHJ_DATA\\Train\\4D\\deconvolve_4D\\predict\"\n",
    "\n",
    "areadir=os.path.join(savedir,\"area\")\n",
    "meandir=os.path.join(savedir,\"mean\")\n",
    "file_base.create_dir(areadir)\n",
    "file_base.create_dir(meandir)\n",
    "file_base.create_dir(dendir)\n",
    "\n",
    "\n",
    "areafile=os.path.join(areadir,shotname+\"_area.csv\")\n",
    "meanfile=os.path.join(meandir,shotname+\"_mean_inten.csv\")\n",
    "sumfile=os.path.join(meandir,shotname+\"_sum_inten.csv\")\n",
    "\n",
    "removedenfile=os.path.join(dendir,shotname+\"_remove_den.tif\")\n",
    "\n",
    "proj_roifile=os.path.join(roidir,shotname+\"_roi_proj.tif\")\n",
    "each_roifile=os.path.join(roidir,shotname+\"_roi.tif\")\n",
    "\n",
    "maskfile=os.path.join(predictdir,shotname+\"_mask.tif\")\n",
    "spineprfile=os.path.join(predictdir,shotname+\"_spine_pr.tif\")\n",
    "denprfile=os.path.join(predictdir,shotname+\"_den_pr.tif\")\n",
    "\n",
    "\n",
    "\n",
    "areafile=os.path.join(areadir,shotname+\".csv\")\n",
    "meanfile=os.path.join(meandir,shotname+\".csv\")\n",
    "denfile=os.path.join(dendir,shotname+\"_removeden.tif\")\n",
    "#-----------------------#\n",
    "#   model loader  #\n",
    "#-----------------------#\n",
    "\n",
    "\n",
    "#---  dendrite filter model---#\n",
    "from networks import unet\n",
    "unetmodel=unet.UNet2D()\n",
    "modelpath=r\"D:/code/myspine/models/M2d_seg\\modelep200-loss0.133.h5\"\n",
    "unetmodel.build(input_shape =(4,512,512,1))\n",
    "unetmodel.load_weights(modelpath)\n",
    "\n",
    "\n",
    "imgs = imgio.ski_imread(filename)\n",
    "show_img_info(imgs)\n",
    "imgs=imgs[:10]"
   ]
  },
  {
   "cell_type": "markdown",
   "metadata": {},
   "source": [
    "# PART ONE\n",
    "track by max projection ,maybe stable\n"
   ]
  },
  {
   "cell_type": "markdown",
   "metadata": {},
   "source": [
    "1. Let's see one img"
   ]
  },
  {
   "cell_type": "code",
   "execution_count": 23,
   "metadata": {
    "collapsed": true
   },
   "outputs": [
    {
     "name": "stdout",
     "output_type": "stream",
     "text": [
      "1/1 [==============================] - 0s 406ms/step\n"
     ]
    },
    {
     "name": "stderr",
     "output_type": "stream",
     "text": [
      "Exception in callback BaseAsyncIOLoop._handle_events(11428, 1)\n",
      "handle: <Handle BaseAsyncIOLoop._handle_events(11428, 1)>\n",
      "Traceback (most recent call last):\n",
      "  File \"c:\\Users\\ZLY\\AppData\\Local\\Programs\\Python\\Python38\\lib\\asyncio\\events.py\", line 81, in _run\n",
      "    self._context.run(self._callback, *self._args)\n",
      "  File \"c:\\Users\\ZLY\\AppData\\Local\\Programs\\Python\\Python38\\lib\\site-packages\\tornado\\platform\\asyncio.py\", line 189, in _handle_events\n",
      "    handler_func(fileobj, events)\n",
      "  File \"c:\\Users\\ZLY\\AppData\\Local\\Programs\\Python\\Python38\\lib\\site-packages\\zmq\\eventloop\\zmqstream.py\", line 452, in _handle_events\n",
      "    self._handle_recv()\n",
      "  File \"c:\\Users\\ZLY\\AppData\\Local\\Programs\\Python\\Python38\\lib\\site-packages\\zmq\\eventloop\\zmqstream.py\", line 481, in _handle_recv\n",
      "    self._run_callback(callback, msg)\n",
      "  File \"c:\\Users\\ZLY\\AppData\\Local\\Programs\\Python\\Python38\\lib\\site-packages\\zmq\\eventloop\\zmqstream.py\", line 431, in _run_callback\n",
      "    callback(*args, **kwargs)\n",
      "  File \"C:\\Users\\ZLY\\AppData\\Roaming\\Python\\Python38\\site-packages\\jupyter_client\\threaded.py\", line 121, in _handle_recv\n",
      "    msg_list = self.ioloop._asyncio_event_loop.run_until_complete(get_msg(future_msg))\n",
      "  File \"c:\\Users\\ZLY\\AppData\\Local\\Programs\\Python\\Python38\\lib\\asyncio\\base_events.py\", line 592, in run_until_complete\n",
      "    self._check_running()\n",
      "  File \"c:\\Users\\ZLY\\AppData\\Local\\Programs\\Python\\Python38\\lib\\asyncio\\base_events.py\", line 554, in _check_running\n",
      "    raise RuntimeError(\n",
      "RuntimeError: Cannot run the event loop while another loop is running\n"
     ]
    }
   ],
   "source": [
    "#--- BINARY---#\n",
    "img=np.max(imgs,axis=0)\n",
    "global_th=binary_func(img)\n",
    "adth=img>global_th\n",
    "# adth=local_threshold(imgs[0],offset=100)\n",
    "noise_mean=np.mean(img[~adth])\n",
    "\n",
    "\n",
    "#--- PEAK SPOT FILTER : SPINE SEED---#\n",
    "mask,spinepr,_=unetmodel.predict_single_img(img)\n",
    "mask=modify_mask(mask,sizeth=4)\n",
    "pr_corner=peakfilter(spinepr,3,0,use_gaussian=True)*(mask==2)*adth\n",
    "spine_label=segment.label_instance_water(spinepr,pr_corner,mask==2, \n",
    "                                 maxspinesize,searchbox=[7,7])\n",
    "\n",
    "# filter seed\n",
    "points2=np.array(napari_base.get_point(pr_corner))\n",
    "\n",
    "viewer=imgio.plot.imshow3d(I=img,Is_overlay=[spinepr],name_Is=[\"img\",\"spinepr\"],\n",
    "                           label_lay=[spine_label],label_lay_name=[\"spine label\"],\n",
    "                           point_lay=[points2,]\n",
    "                           )"
   ]
  },
  {
   "cell_type": "code",
   "execution_count": null,
   "metadata": {},
   "outputs": [],
   "source": [
    "# see and edit result\n",
    "viewer=imgio.plot.imshow3d(I=img,Is_overlay=[spinepr],name_Is=[\"img\",\"spinepr\"],\n",
    "                           label_lay=[spine_label],label_lay_name=[\"spine\"],\n",
    "                           )\n",
    "\n",
    "edit_spine_label_proj=viewer.layers[\"spine label\"].data[0]"
   ]
  },
  {
   "cell_type": "markdown",
   "metadata": {},
   "source": [
    "2. Then see all time series"
   ]
  },
  {
   "cell_type": "code",
   "execution_count": 20,
   "metadata": {},
   "outputs": [
    {
     "name": "stderr",
     "output_type": "stream",
     "text": [
      "Processing:   0%|          | 0/10 [00:00<?, ?it/s]"
     ]
    },
    {
     "name": "stdout",
     "output_type": "stream",
     "text": [
      "1/1 [==============================] - 0s 359ms/step\n"
     ]
    },
    {
     "name": "stderr",
     "output_type": "stream",
     "text": [
      "Processing:  10%|█         | 1/10 [00:00<00:03,  2.53it/s]"
     ]
    },
    {
     "name": "stdout",
     "output_type": "stream",
     "text": [
      "1/1 [==============================] - 0s 301ms/step\n"
     ]
    },
    {
     "name": "stderr",
     "output_type": "stream",
     "text": [
      "Processing:  20%|██        | 2/10 [00:00<00:02,  2.75it/s]"
     ]
    },
    {
     "name": "stdout",
     "output_type": "stream",
     "text": [
      "1/1 [==============================] - 0s 315ms/step\n"
     ]
    },
    {
     "name": "stderr",
     "output_type": "stream",
     "text": [
      "Processing:  30%|███       | 3/10 [00:01<00:02,  2.78it/s]"
     ]
    },
    {
     "name": "stdout",
     "output_type": "stream",
     "text": [
      "1/1 [==============================] - 0s 306ms/step\n"
     ]
    },
    {
     "name": "stderr",
     "output_type": "stream",
     "text": [
      "Processing:  40%|████      | 4/10 [00:01<00:02,  2.79it/s]"
     ]
    },
    {
     "name": "stdout",
     "output_type": "stream",
     "text": [
      "1/1 [==============================] - 0s 295ms/step\n"
     ]
    },
    {
     "name": "stderr",
     "output_type": "stream",
     "text": [
      "Processing:  50%|█████     | 5/10 [00:01<00:01,  2.87it/s]"
     ]
    },
    {
     "name": "stdout",
     "output_type": "stream",
     "text": [
      "1/1 [==============================] - 0s 309ms/step\n"
     ]
    },
    {
     "name": "stderr",
     "output_type": "stream",
     "text": [
      "Processing:  60%|██████    | 6/10 [00:02<00:01,  2.84it/s]"
     ]
    },
    {
     "name": "stdout",
     "output_type": "stream",
     "text": [
      "1/1 [==============================] - 0s 302ms/step\n"
     ]
    },
    {
     "name": "stderr",
     "output_type": "stream",
     "text": [
      "Processing:  70%|███████   | 7/10 [00:02<00:01,  2.88it/s]"
     ]
    },
    {
     "name": "stdout",
     "output_type": "stream",
     "text": [
      "1/1 [==============================] - 0s 283ms/step\n"
     ]
    },
    {
     "name": "stderr",
     "output_type": "stream",
     "text": [
      "Processing:  80%|████████  | 8/10 [00:02<00:00,  2.95it/s]"
     ]
    },
    {
     "name": "stdout",
     "output_type": "stream",
     "text": [
      "1/1 [==============================] - 0s 294ms/step\n"
     ]
    },
    {
     "name": "stderr",
     "output_type": "stream",
     "text": [
      "Processing:  90%|█████████ | 9/10 [00:03<00:00,  2.98it/s]"
     ]
    },
    {
     "name": "stdout",
     "output_type": "stream",
     "text": [
      "1/1 [==============================] - 0s 290ms/step\n"
     ]
    },
    {
     "name": "stderr",
     "output_type": "stream",
     "text": [
      "Processing: 100%|██████████| 10/10 [00:03<00:00,  2.90it/s]\n"
     ]
    }
   ],
   "source": [
    "# precit all frame\n",
    "all_mask,all_spine_pr,all_den_pr= unetmodel.predict_time_imgs(imgs)\n",
    "modify_masks(all_mask,sizeth=4)\n",
    "# view multi frames segment\n",
    "all_spine_imgs=segment.keep_spineimg_bypr(imgs,all_mask,all_spine_pr,th=0.5)#keep_spine(imgs,all_mask)\n",
    "all_adths,th,meanbg=segment.adth_func_time(imgs,binary_func)\n",
    "t_edit_pr_spine_proj=spine_label\n",
    "proj_spine_masks=np.array([t_edit_pr_spine_proj for im in imgs])\n",
    "all_spine_maskes=(all_spine_pr>0.5)*all_adths*(all_mask==2)*proj_spine_masks\n",
    "\"\"\"illustration\n",
    "imgs\n",
    "\"spine prob\" : predict spine probability\n",
    "\"adth img spine\" : img of spine area , masked by threshold mask and spine mask\n",
    "\"all segmnet\" : predict classification result\n",
    "\"\"\"\n",
    "viewer=imgio.plot.imshow3d(imgs,\n",
    "                              [all_spine_pr,all_spine_imgs*all_adths],\n",
    "                              name_Is=[\"spine prob\",\"spine img\"],\n",
    "                              label_lay=[all_mask,all_spine_maskes],\n",
    "                              label_lay_name=[\"all segmnet\",\"spine label\"])\n"
   ]
  },
  {
   "cell_type": "markdown",
   "metadata": {},
   "source": [
    "3. save mask"
   ]
  },
  {
   "cell_type": "code",
   "execution_count": null,
   "metadata": {},
   "outputs": [],
   "source": [
    "# save result\n",
    "\n",
    "#save roi mask\n",
    "import tifffile\n",
    "\n",
    "#edit_pr_spine_proj_t : spine max mask (same size for each frame)\n",
    "\n",
    "# imsave(maskfile,all_mask)\n",
    "# imsave(spineprfile,all_spine_pr)\n",
    "\n",
    "# all_mask : den spine back mask 0 1 2\n",
    "tifffile.imwrite(\n",
    "    maskfile,\n",
    "    all_mask.astype(np.uint16),\n",
    "    imagej=True,\n",
    "    photometric='minisblack',\n",
    "    metadata={'axes': 'TZYX'},\n",
    ")\n",
    "\n",
    "# all_spine_pr : spine probability\n",
    "tifffile.imwrite(\n",
    "    spineprfile,\n",
    "    all_spine_pr,\n",
    "    imagej=True,\n",
    "    photometric='minisblack',\n",
    "    metadata={'axes': 'TZYX'},\n",
    ")\n",
    "\n",
    "\n",
    "tifffile.imwrite(\n",
    "    denprfile,\n",
    "    all_den_pr,\n",
    "    imagej=True,\n",
    "    photometric='minisblack',\n",
    "    metadata={'axes': 'TZYX'},\n",
    ")\n",
    "\n",
    "# max frame spine mask\n",
    "imsave(proj_roifile,proj_spine_masks.astype(np.uint16))\n",
    "# nspine_maskes : spine's area mask\n",
    "tifffile.imwrite(\n",
    "    each_roifile,\n",
    "    all_spine_maskes.astype(np.uint16),\n",
    "    imagej=True,\n",
    "    photometric='minisblack',\n",
    "    metadata={'axes': 'TZYX'},\n",
    ")\n",
    "\n",
    "# removedenfile : remove den area imgs\n",
    "tifffile.imwrite(\n",
    "    removedenfile,\n",
    "    all_spine_imgs,\n",
    "    imagej=True,\n",
    "    photometric='minisblack',\n",
    "    metadata={'axes': 'TZYX'},\n",
    ")"
   ]
  },
  {
   "cell_type": "code",
   "execution_count": 45,
   "metadata": {},
   "outputs": [
    {
     "name": "stderr",
     "output_type": "stream",
     "text": [
      "C:\\Users\\ZLY\\Desktop\\Train\\4D\\deconvolve_2D\\remove_den\\MAX_decon_20200320-24D_removeden.tif is a low contrast image\n"
     ]
    }
   ],
   "source": [
    "denmasks=denmasks.astype(np.int16)\n",
    "imsave(denfile,denmasks)"
   ]
  },
  {
   "cell_type": "code",
   "execution_count": 46,
   "metadata": {},
   "outputs": [],
   "source": [
    "imgs=imgio.ski_imread(denfile)"
   ]
  },
  {
   "cell_type": "code",
   "execution_count": 47,
   "metadata": {},
   "outputs": [],
   "source": [
    "#--- BINARY---#\n",
    "img=np.max(imgs,axis=0)\n",
    "# img=morphology.white_tophat(img,morphology.cube(5))\n",
    "global_th=binary_func(img)\n",
    "adth=img>global_th\n",
    "# adth=local_threshold(imgs[0],offset=100)\n",
    "noise_mean=np.mean(img[~adth])\n",
    "img=img-noise_mean\n",
    "img[img<0]=0\n",
    "img.shape\n",
    "\n",
    "#--- PEAK SPOT FILTER : SPINE SEED---#\n",
    "# %matplotlib inline\n",
    "denmask,_=predict.predict_single_img(unetmodel,img)\n",
    "corner=peakfilter(img,3,0,use_gaussian=True)*adth*(denmask!=1)\n",
    "\n",
    "\n",
    "# filter seed\n",
    "points2=np.array(napari_base.get_point(corner))\n",
    "points,points2=model_predict(points2,img,peakmodel,boxsize=(16,16))\n",
    "\n",
    "#--- GROW AREA---#\n",
    "corner2=napari_base.get_mask_from_point(points,img.shape)\n",
    "labels,num=segment.ndilable(corner2,1)\n",
    "ls = segment.foreach_grow(img, num_iter=spine_radius, \n",
    "                              init_level_set=labels,\n",
    "                              searchbox=search_box,\n",
    "                              sizeth=maxspinesize,adth=adth,\n",
    "                              method=\"geo\",smoothing=0)\n",
    "mask=(denmask==1).astype(np.uint16)\n",
    "mask[mask<1]=ls[mask<1]\n",
    "mask=watershed(-img,mask,mask=adth)\n",
    "mask=remove_small_objects(mask,4)\n",
    "mask,_=segment.resortseg(mask)\n",
    "# ls=segment.fill_hulls(ls)\n",
    "# np.save(\"kkk.npy\",dspimg)\n",
    "# points2=filter_p3d(points,img,clff)\n",
    "ls=mask*(mask>1)"
   ]
  },
  {
   "cell_type": "code",
   "execution_count": 48,
   "metadata": {},
   "outputs": [
    {
     "name": "stderr",
     "output_type": "stream",
     "text": [
      "WARNING: DirectWrite: CreateFontFaceFromHDC() failed (指示输入文件 (例如字体文件) 中的错误。) for QFontDef(Family=\"\", pointsize=12, pixelsize=16, styleHint=5, weight=50, stretch=100, hintingPreference=0) LOGFONT(\"MS Sans Serif\", lfWidth=0, lfHeight=-16) dpi=96\n",
      "Exception in callback BaseAsyncIOLoop._handle_events(12104, 1)\n",
      "handle: <Handle BaseAsyncIOLoop._handle_events(12104, 1)>\n",
      "Traceback (most recent call last):\n",
      "  File \"c:\\Users\\ZLY\\AppData\\Local\\Programs\\Python\\Python38\\lib\\asyncio\\events.py\", line 81, in _run\n",
      "    self._context.run(self._callback, *self._args)\n",
      "  File \"c:\\Users\\ZLY\\AppData\\Local\\Programs\\Python\\Python38\\lib\\site-packages\\tornado\\platform\\asyncio.py\", line 189, in _handle_events\n",
      "    handler_func(fileobj, events)\n",
      "  File \"c:\\Users\\ZLY\\AppData\\Local\\Programs\\Python\\Python38\\lib\\site-packages\\zmq\\eventloop\\zmqstream.py\", line 452, in _handle_events\n",
      "    self._handle_recv()\n",
      "  File \"c:\\Users\\ZLY\\AppData\\Local\\Programs\\Python\\Python38\\lib\\site-packages\\zmq\\eventloop\\zmqstream.py\", line 481, in _handle_recv\n",
      "    self._run_callback(callback, msg)\n",
      "  File \"c:\\Users\\ZLY\\AppData\\Local\\Programs\\Python\\Python38\\lib\\site-packages\\zmq\\eventloop\\zmqstream.py\", line 431, in _run_callback\n",
      "    callback(*args, **kwargs)\n",
      "  File \"C:\\Users\\ZLY\\AppData\\Roaming\\Python\\Python38\\site-packages\\jupyter_client\\threaded.py\", line 121, in _handle_recv\n",
      "    msg_list = self.ioloop._asyncio_event_loop.run_until_complete(get_msg(future_msg))\n",
      "  File \"c:\\Users\\ZLY\\AppData\\Local\\Programs\\Python\\Python38\\lib\\asyncio\\base_events.py\", line 592, in run_until_complete\n",
      "    self._check_running()\n",
      "  File \"c:\\Users\\ZLY\\AppData\\Local\\Programs\\Python\\Python38\\lib\\asyncio\\base_events.py\", line 554, in _check_running\n",
      "    raise RuntimeError(\n",
      "RuntimeError: Cannot run the event loop while another loop is running\n"
     ]
    }
   ],
   "source": [
    "viewer=etsynseg.plot.imshow3d(np.concatenate((img[None,...],imgs),axis=0),[mask], label_lay=[ls],lablel_lay_name=[\"lls\"])\n",
    "ls2=viewer.layers[\"lls\"].data\n",
    "mask[ls2>0]=ls2[ls2>0]"
   ]
  },
  {
   "cell_type": "code",
   "execution_count": 146,
   "metadata": {},
   "outputs": [],
   "source": [
    "# mask,_=segment.resortseg(mask)\n",
    "lss=th_img(imgs,mask,binary_func)\n",
    "lss,_=segment.resortseg(lss,2)"
   ]
  },
  {
   "cell_type": "code",
   "execution_count": 147,
   "metadata": {},
   "outputs": [
    {
     "name": "stderr",
     "output_type": "stream",
     "text": [
      "WARNING: DirectWrite: CreateFontFaceFromHDC() failed (指示输入文件 (例如字体文件) 中的错误。) for QFontDef(Family=\"\", pointsize=12, pixelsize=16, styleHint=5, weight=50, stretch=100, hintingPreference=0) LOGFONT(\"MS Sans Serif\", lfWidth=0, lfHeight=-16) dpi=96\n",
      "Exception in callback BaseAsyncIOLoop._handle_events(23844, 1)\n",
      "handle: <Handle BaseAsyncIOLoop._handle_events(23844, 1)>\n",
      "Traceback (most recent call last):\n",
      "  File \"c:\\Users\\ZLY\\AppData\\Local\\Programs\\Python\\Python38\\lib\\asyncio\\events.py\", line 81, in _run\n",
      "    self._context.run(self._callback, *self._args)\n",
      "  File \"c:\\Users\\ZLY\\AppData\\Local\\Programs\\Python\\Python38\\lib\\site-packages\\tornado\\platform\\asyncio.py\", line 189, in _handle_events\n",
      "    handler_func(fileobj, events)\n",
      "  File \"c:\\Users\\ZLY\\AppData\\Local\\Programs\\Python\\Python38\\lib\\site-packages\\zmq\\eventloop\\zmqstream.py\", line 452, in _handle_events\n",
      "    self._handle_recv()\n",
      "  File \"c:\\Users\\ZLY\\AppData\\Local\\Programs\\Python\\Python38\\lib\\site-packages\\zmq\\eventloop\\zmqstream.py\", line 481, in _handle_recv\n",
      "    self._run_callback(callback, msg)\n",
      "  File \"c:\\Users\\ZLY\\AppData\\Local\\Programs\\Python\\Python38\\lib\\site-packages\\zmq\\eventloop\\zmqstream.py\", line 431, in _run_callback\n",
      "    callback(*args, **kwargs)\n",
      "  File \"C:\\Users\\ZLY\\AppData\\Roaming\\Python\\Python38\\site-packages\\jupyter_client\\threaded.py\", line 121, in _handle_recv\n",
      "    msg_list = self.ioloop._asyncio_event_loop.run_until_complete(get_msg(future_msg))\n",
      "  File \"c:\\Users\\ZLY\\AppData\\Local\\Programs\\Python\\Python38\\lib\\asyncio\\base_events.py\", line 592, in run_until_complete\n",
      "    self._check_running()\n",
      "  File \"c:\\Users\\ZLY\\AppData\\Local\\Programs\\Python\\Python38\\lib\\asyncio\\base_events.py\", line 554, in _check_running\n",
      "    raise RuntimeError(\n",
      "RuntimeError: Cannot run the event loop while another loop is running\n"
     ]
    }
   ],
   "source": [
    "viewer=etsynseg.plot.imshow3d(imgs, label_lay=[np.array([lss]),ls],lablel_lay_name=[\"lls\",\"ls\"])"
   ]
  },
  {
   "cell_type": "code",
   "execution_count": 148,
   "metadata": {},
   "outputs": [],
   "source": [
    "from utils import measure\n",
    "all_lss=[ls for img in imgs]\n",
    "df=measure.label_series_statics(imgs,all_lss,measure=\"mean_intensity\")\n",
    "df2=measure.label_series_statics(imgs,lss,measure=\"area\")"
   ]
  },
  {
   "cell_type": "code",
   "execution_count": 12,
   "metadata": {},
   "outputs": [],
   "source": [
    "df2.to_csv(\"area.csv\")"
   ]
  },
  {
   "cell_type": "code",
   "execution_count": 13,
   "metadata": {},
   "outputs": [],
   "source": [
    "viewer=etsynseg.plot.imshow3d(imgs,[adth], label_lay=[all_lls,lss],lablel_lay_name=[\"all\",\"lss\"])\n",
    "# labels = viewer.layers[\"Labels\"].data\n"
   ]
  },
  {
   "cell_type": "code",
   "execution_count": 14,
   "metadata": {},
   "outputs": [
    {
     "name": "stderr",
     "output_type": "stream",
     "text": [
      "Exception in callback BaseAsyncIOLoop._handle_events(9068, 1)\n",
      "handle: <Handle BaseAsyncIOLoop._handle_events(9068, 1)>\n",
      "Traceback (most recent call last):\n",
      "  File \"C:\\Users\\ZLY\\AppData\\Local\\Programs\\Python\\Python38\\lib\\asyncio\\events.py\", line 81, in _run\n",
      "    self._context.run(self._callback, *self._args)\n",
      "  File \"C:\\Users\\ZLY\\AppData\\Local\\Programs\\Python\\Python38\\lib\\site-packages\\tornado\\platform\\asyncio.py\", line 189, in _handle_events\n",
      "    handler_func(fileobj, events)\n",
      "  File \"C:\\Users\\ZLY\\AppData\\Local\\Programs\\Python\\Python38\\lib\\site-packages\\zmq\\eventloop\\zmqstream.py\", line 452, in _handle_events\n",
      "    self._handle_recv()\n",
      "  File \"C:\\Users\\ZLY\\AppData\\Local\\Programs\\Python\\Python38\\lib\\site-packages\\zmq\\eventloop\\zmqstream.py\", line 481, in _handle_recv\n",
      "    self._run_callback(callback, msg)\n",
      "  File \"C:\\Users\\ZLY\\AppData\\Local\\Programs\\Python\\Python38\\lib\\site-packages\\zmq\\eventloop\\zmqstream.py\", line 431, in _run_callback\n",
      "    callback(*args, **kwargs)\n",
      "  File \"C:\\Users\\ZLY\\AppData\\Roaming\\Python\\Python38\\site-packages\\jupyter_client\\threaded.py\", line 121, in _handle_recv\n",
      "    msg_list = self.ioloop._asyncio_event_loop.run_until_complete(get_msg(future_msg))\n",
      "  File \"C:\\Users\\ZLY\\AppData\\Local\\Programs\\Python\\Python38\\lib\\asyncio\\base_events.py\", line 592, in run_until_complete\n",
      "    self._check_running()\n",
      "  File \"C:\\Users\\ZLY\\AppData\\Local\\Programs\\Python\\Python38\\lib\\asyncio\\base_events.py\", line 554, in _check_running\n",
      "    raise RuntimeError(\n",
      "RuntimeError: Cannot run the event loop while another loop is running\n",
      "coroutine 'get_msg' was never awaited\n",
      "Processing: 100%|██████████| 46/46 [00:00<00:00, 1256.97it/s]\n"
     ]
    }
   ],
   "source": [
    "# run time\n",
    "\n",
    "\n",
    "# =========initial series =======\n",
    "corners=np.zeros_like(imgs)\n",
    "nofinders=None\n",
    "labcounts={}\n",
    "oimg=imgs[0]\n",
    "# ols=ls\n",
    "ols=None\n",
    "startl=1\n",
    "# =========time series store=======\n",
    "ims=[]\n",
    "lss=[]\n",
    "lss2=[]\n",
    "peaks=[]\n",
    "tracks=[]\n",
    "adths=[]\n",
    "miss=[]\n",
    "# for img in imgs:\n",
    "#     adth=local_threshold(img)\n",
    "\n",
    "nz=imgs.shape[0]\n",
    "objects=[]\n",
    "for i in tqdm(range(len(imgs)), desc='Processing'):\n",
    "    img=imgs[i]\n",
    "    adth=img>global_th\n",
    "    corner=peakfilter(img,3,0,use_gaussian=peak_use_gaussian)*adth\n",
    "    ls=all_lls*adth\n",
    "    \n",
    "    lss.append(ls)\n",
    "    ims.append(img)\n",
    "    peaks.append(corner)\n",
    "    # miss.append(nofinders)\n",
    "    # adths.append(adth)\n",
    "    # ols=nls2"
   ]
  },
  {
   "cell_type": "code",
   "execution_count": 15,
   "metadata": {},
   "outputs": [
    {
     "ename": "IndexError",
     "evalue": "tuple index out of range",
     "output_type": "error",
     "traceback": [
      "\u001b[1;31m---------------------------------------------------------------------------\u001b[0m",
      "\u001b[1;31mIndexError\u001b[0m                                Traceback (most recent call last)",
      "\u001b[1;32md:\\spine\\segment\\some_analysis_for_spine_img\\ipynb\\object_and_tracking_2D.ipynb Cell 17'\u001b[0m in \u001b[0;36m<cell line: 1>\u001b[1;34m()\u001b[0m\n\u001b[1;32m----> <a href='vscode-notebook-cell:/d%3A/spine/segment/some_analysis_for_spine_img/ipynb/object_and_tracking_2D.ipynb#ch0000016?line=0'>1</a>\u001b[0m viewer\u001b[39m=\u001b[39metsynseg\u001b[39m.\u001b[39;49mplot\u001b[39m.\u001b[39;49mimshow3d(imgs, [peaks],label_lay\u001b[39m=\u001b[39;49m[np\u001b[39m.\u001b[39;49marray([lss])])\n",
      "File \u001b[1;32md:\\spine\\segment\\some_analysis_for_spine_img\\etsynseg\\plot.py:306\u001b[0m, in \u001b[0;36mimshow3d\u001b[1;34m(I, Is_overlay, vecs_zyx, vecs_dir, vec_width, point_lay, label_lay, lablel_lay_name, name_I, name_Is, name_vecs, cmap_Is, cmap_vecs, visible_Is, visible_vecs)\u001b[0m\n\u001b[0;32m    <a href='file:///d%3A/spine/segment/some_analysis_for_spine_img/etsynseg/plot.py?line=303'>304</a>\u001b[0m     viewer\u001b[39m.\u001b[39madd_points(point_lay[i],size\u001b[39m=\u001b[39m\u001b[39m2\u001b[39m,opacity\u001b[39m=\u001b[39m\u001b[39m0.7\u001b[39m)\n\u001b[0;32m    <a href='file:///d%3A/spine/segment/some_analysis_for_spine_img/etsynseg/plot.py?line=304'>305</a>\u001b[0m \u001b[39mfor\u001b[39;00m i \u001b[39min\u001b[39;00m \u001b[39mrange\u001b[39m(\u001b[39mlen\u001b[39m(label_lay)):\n\u001b[1;32m--> <a href='file:///d%3A/spine/segment/some_analysis_for_spine_img/etsynseg/plot.py?line=305'>306</a>\u001b[0m     viewer\u001b[39m.\u001b[39madd_labels(label_lay[i],name\u001b[39m=\u001b[39mlablel_lay_name[i])\n\u001b[0;32m    <a href='file:///d%3A/spine/segment/some_analysis_for_spine_img/etsynseg/plot.py?line=306'>307</a>\u001b[0m \u001b[39m# view vectors\u001b[39;00m\n\u001b[0;32m    <a href='file:///d%3A/spine/segment/some_analysis_for_spine_img/etsynseg/plot.py?line=307'>308</a>\u001b[0m \u001b[39mfor\u001b[39;00m i \u001b[39min\u001b[39;00m \u001b[39mrange\u001b[39m(\u001b[39mlen\u001b[39m(vecs_zyx)):\n",
      "\u001b[1;31mIndexError\u001b[0m: tuple index out of range"
     ]
    },
    {
     "name": "stderr",
     "output_type": "stream",
     "text": [
      "Exception in callback BaseAsyncIOLoop._handle_events(9628, 1)\n",
      "handle: <Handle BaseAsyncIOLoop._handle_events(9628, 1)>\n",
      "Traceback (most recent call last):\n",
      "  File \"C:\\Users\\ZLY\\AppData\\Local\\Programs\\Python\\Python38\\lib\\asyncio\\events.py\", line 81, in _run\n",
      "    self._context.run(self._callback, *self._args)\n",
      "  File \"C:\\Users\\ZLY\\AppData\\Local\\Programs\\Python\\Python38\\lib\\site-packages\\tornado\\platform\\asyncio.py\", line 189, in _handle_events\n",
      "    handler_func(fileobj, events)\n",
      "  File \"C:\\Users\\ZLY\\AppData\\Local\\Programs\\Python\\Python38\\lib\\site-packages\\zmq\\eventloop\\zmqstream.py\", line 452, in _handle_events\n",
      "    self._handle_recv()\n",
      "  File \"C:\\Users\\ZLY\\AppData\\Local\\Programs\\Python\\Python38\\lib\\site-packages\\zmq\\eventloop\\zmqstream.py\", line 481, in _handle_recv\n",
      "    self._run_callback(callback, msg)\n",
      "  File \"C:\\Users\\ZLY\\AppData\\Local\\Programs\\Python\\Python38\\lib\\site-packages\\zmq\\eventloop\\zmqstream.py\", line 431, in _run_callback\n",
      "    callback(*args, **kwargs)\n",
      "  File \"C:\\Users\\ZLY\\AppData\\Roaming\\Python\\Python38\\site-packages\\jupyter_client\\threaded.py\", line 121, in _handle_recv\n",
      "    msg_list = self.ioloop._asyncio_event_loop.run_until_complete(get_msg(future_msg))\n",
      "  File \"C:\\Users\\ZLY\\AppData\\Local\\Programs\\Python\\Python38\\lib\\asyncio\\base_events.py\", line 592, in run_until_complete\n",
      "    self._check_running()\n",
      "  File \"C:\\Users\\ZLY\\AppData\\Local\\Programs\\Python\\Python38\\lib\\asyncio\\base_events.py\", line 554, in _check_running\n",
      "    raise RuntimeError(\n",
      "RuntimeError: Cannot run the event loop while another loop is running\n"
     ]
    }
   ],
   "source": [
    "viewer=etsynseg.plot.imshow3d(imgs, [peaks],label_lay=[np.array([lss])])"
   ]
  },
  {
   "cell_type": "markdown",
   "metadata": {},
   "source": [
    "# PART2\n",
    "> tracking by each frame , not stable"
   ]
  },
  {
   "cell_type": "code",
   "execution_count": 17,
   "metadata": {},
   "outputs": [
    {
     "name": "stderr",
     "output_type": "stream",
     "text": [
      "Processing: 100%|██████████| 46/46 [00:07<00:00,  6.08it/s]\n"
     ]
    }
   ],
   "source": [
    "# run time\n",
    "\n",
    "corners=np.zeros_like(imgs)\n",
    "# lss=np.zeros_like(imgs)\n",
    "\n",
    "# =========initial series =======\n",
    "nofinders=None\n",
    "labcounts={}\n",
    "oimg=imgs[0]\n",
    "# ols=ls\n",
    "ols=None\n",
    "startl=1\n",
    "# =========time series store=======\n",
    "ims=[]\n",
    "lss=[]\n",
    "lss2=[]\n",
    "peaks=[]\n",
    "tracks=[]\n",
    "adths=[]\n",
    "miss=[]\n",
    "# for img in imgs:\n",
    "#     adth=local_threshold(img)\n",
    "global_th=binary_func(imgs[0])\n",
    "nz=imgs.shape[0]\n",
    "objects=[]\n",
    "\n",
    "for i in tqdm(range(len(imgs)), desc='Processing'):\n",
    "    # startl , labcount, nofinder,ols will be update\n",
    "    img=imgs[i]\n",
    "    adth=img>global_th\n",
    "    #adth=local_threshold_3d(imgs[0],method=\"mean\")\n",
    "    # noise_mean=np.mean(img[~adth])\n",
    "    # img=img-noise_mean\n",
    "    # img[img<0]=0\n",
    "    #adth=local_threshold(img)\n",
    "    # adth=remove_small_objects(adth,2)\n",
    "    corner=peakfilter(img,3,0,use_gaussian=peak_use_gaussian)*adth\n",
    "    points0=np.array(napari_base.get_point(corner))\n",
    "    points,points2=model_predict(points0,img,lmodel,boxsize=(16,16))\n",
    "    \n",
    "    corner2=napari_base.get_mask_from_point(points,img.shape)\n",
    "    nls,nofinders,updatalabs,_peak=track.track_by_seg(img,ols,corner,adth,\n",
    "                               spine_radius,labcounts=labcounts,\n",
    "                               resvers=nofinders,\n",
    "                               searchbox=search_box,keep_time=keep_time,\n",
    "                              sizeth=maxspinesize,\n",
    "                              method=\"geo\",smoothing=0)\n",
    "    track.label_pre(lss2,updatalabs,nls,i)\n",
    "    corner3=corner2>nls\n",
    "    labels,num=ndi.label(corner3)\n",
    "    labels[labels>0]+=startl\n",
    "    nls2 = segment.foreach_grow(img, num_iter=spine_radius, \n",
    "                              init_level_set=labels,\n",
    "                              searchbox=search_box,\n",
    "                              sizeth=maxspinesize,adth=adth,\n",
    "                              method=\"geo\",smoothing=0,oldseg=nls)\n",
    "    nls2,startl=segment.resortseg_truncate(nls2,start=startl)\n",
    "    \n",
    "    # nls,peak,nofinders=track_by_seg(img,ols,3,spine_radius,labcounts=labcounts,resvers=nofinders,\n",
    "    #                            searchbox=[5,25,25],keep_time=5,\n",
    "    #                           sizeth=maxspinesize,\n",
    "    #                           method=\"geo\",smoothing=0)\n",
    "    lss.append(nls)\n",
    "    lss2.append(nls2)\n",
    "    ims.append(img)\n",
    "    peaks.append(_peak)\n",
    "    miss.append(nofinders)\n",
    "    adths.append(adth)\n",
    "    ols=nls2\n"
   ]
  },
  {
   "cell_type": "code",
   "execution_count": 18,
   "metadata": {},
   "outputs": [],
   "source": [
    "from utils import measure\n",
    "def _trunc_label(ls,labs):\n",
    "    mask=np.zeros_like(ls)\n",
    "    for lab in labs:\n",
    "        mm=ls==lab\n",
    "        mask[mm]=lab\n",
    "    return mask\n",
    "\n",
    "def _merge_label(ls1,ls2):\n",
    "    #ls2 add to ls1\n",
    "    def most_labs(vs,lab):\n",
    "        ar_unique, c = np.unique(vs, return_counts=True)\n",
    "        arr1inds = c.argsort()\n",
    "        sorted_c = c[arr1inds[::-1]]\n",
    "        sorted_lab = ar_unique[arr1inds[::-1]]\n",
    "        clab,c=0,0\n",
    "        for clab,c in zip(sorted_c,sorted_lab):\n",
    "            if clab==0:continue\n",
    "            if clab==lab:continue\n",
    "            return clab,c\n",
    "        return clab,c\n",
    "        \n",
    "    labs=measure.unique_labs(ls2)\n",
    "\n",
    "    lab_dict=[]\n",
    "    for lab in labs:\n",
    "        mm=ls2==lab\n",
    "        c2=np.sum(mm)\n",
    "        vs=ls1[mm]\n",
    "        clab,c=most_labs(vs,lab)\n",
    "        if c>0.1*c2:\n",
    "            lab_dict.append((clab,lab))\n",
    "            \n",
    "            # ls1[ls1==clab]=lab\n",
    "            # ls1[mm]=lab\n",
    "        else:\n",
    "            \n",
    "            ls1[mm]=lab\n",
    "    return ls1,lab_dict\n",
    "            \n",
    "        \n",
    "\n",
    "def reverse_track_by_seg(imgs,lss,adths,peaks,num_iter,searchbox,keep_time=3,resvers=None,labcounts={},\n",
    "                sizeth=np.inf,method=\"geo\",\n",
    "                smoothing=0,lambda1=1, lambda2=3):\n",
    "    #assume spine not move quickly\n",
    "    # reverse match\n",
    "    imgl=len(lss)\n",
    "    for i1 in range(imgl-1,0,-1):\n",
    "        ls1=lss[i1]\n",
    "        ls2=lss[i1-1]\n",
    "        prelab=set(np.unique(ls1))\n",
    "        curlab=set(np.unique(ls2))\n",
    "        diflab=prelab-curlab\n",
    "        peakmask=peaks[i1-1]\n",
    "        ls=_trunc_label(ls1,diflab)\n",
    "        img=imgs[i1-1]\n",
    "        adth=adths[i1-1]\n",
    "        hitpeak=(ls*peakmask).astype(np.uint64)\n",
    "        intersecls=segment.foreach_grow(img,num_iter,hitpeak,\n",
    "                     searchbox=searchbox,sizeth=sizeth,\n",
    "                     adth=adth,method=method,smoothing=smoothing,\n",
    "                     lambda1=lambda1,lambda2=lambda2)\n",
    "        ls,_=_merge_label(ls2,intersecls)\n",
    "        lss[i1-1]=ls"
   ]
  },
  {
   "cell_type": "code",
   "execution_count": 23,
   "metadata": {},
   "outputs": [],
   "source": [
    "reverse_track_by_seg(ims,lss2,adths,peaks,num_iter=spine_radius,searchbox=search_box,keep_time=3,resvers=None,labcounts={},\n",
    "                sizeth=maxspinesize,method=\"geo\",\n",
    "                smoothing=0,lambda1=1, lambda2=3)"
   ]
  },
  {
   "cell_type": "code",
   "execution_count": 24,
   "metadata": {},
   "outputs": [
    {
     "name": "stderr",
     "output_type": "stream",
     "text": [
      "Exception in callback BaseAsyncIOLoop._handle_events(15792, 1)\n",
      "handle: <Handle BaseAsyncIOLoop._handle_events(15792, 1)>\n",
      "Traceback (most recent call last):\n",
      "  File \"C:\\Users\\ZLY\\AppData\\Local\\Programs\\Python\\Python38\\lib\\asyncio\\events.py\", line 81, in _run\n",
      "    self._context.run(self._callback, *self._args)\n",
      "  File \"C:\\Users\\ZLY\\AppData\\Local\\Programs\\Python\\Python38\\lib\\site-packages\\tornado\\platform\\asyncio.py\", line 189, in _handle_events\n",
      "    handler_func(fileobj, events)\n",
      "  File \"C:\\Users\\ZLY\\AppData\\Local\\Programs\\Python\\Python38\\lib\\site-packages\\zmq\\eventloop\\zmqstream.py\", line 452, in _handle_events\n",
      "    self._handle_recv()\n",
      "  File \"C:\\Users\\ZLY\\AppData\\Local\\Programs\\Python\\Python38\\lib\\site-packages\\zmq\\eventloop\\zmqstream.py\", line 481, in _handle_recv\n",
      "    self._run_callback(callback, msg)\n",
      "  File \"C:\\Users\\ZLY\\AppData\\Local\\Programs\\Python\\Python38\\lib\\site-packages\\zmq\\eventloop\\zmqstream.py\", line 431, in _run_callback\n",
      "    callback(*args, **kwargs)\n",
      "  File \"C:\\Users\\ZLY\\AppData\\Roaming\\Python\\Python38\\site-packages\\jupyter_client\\threaded.py\", line 121, in _handle_recv\n",
      "    msg_list = self.ioloop._asyncio_event_loop.run_until_complete(get_msg(future_msg))\n",
      "  File \"C:\\Users\\ZLY\\AppData\\Local\\Programs\\Python\\Python38\\lib\\asyncio\\base_events.py\", line 592, in run_until_complete\n",
      "    self._check_running()\n",
      "  File \"C:\\Users\\ZLY\\AppData\\Local\\Programs\\Python\\Python38\\lib\\asyncio\\base_events.py\", line 554, in _check_running\n",
      "    raise RuntimeError(\n",
      "RuntimeError: Cannot run the event loop while another loop is running\n"
     ]
    }
   ],
   "source": [
    "viewer=etsynseg.plot.imshow3d(np.array(ims), [peaks,miss],label_lay=[np.array(lss2,dtype=np.uint64),np.array(lss,dtype=np.uint64)],lablel_lay_name=[\"lss\",\"ls\"])"
   ]
  },
  {
   "cell_type": "code",
   "execution_count": 27,
   "metadata": {},
   "outputs": [
    {
     "name": "stderr",
     "output_type": "stream",
     "text": [
      "[INFO][2022/05/07 01:36:40 PM] btrack (v0.4.3) library imported\n",
      "[INFO][2022/05/07 01:36:40 PM] Setting max XYZ search radius to: 100\n",
      "[INFO][2022/05/07 01:36:40 PM] Starting BayesianTracker session\n",
      "[INFO][2022/05/07 01:36:40 PM] Loading motion model: cell_motion\n",
      "[INFO][2022/05/07 01:36:40 PM] Setting max XYZ search radius to: 5\n",
      "[INFO][2022/05/07 01:36:40 PM] Set volume to ((0, 1200), (0, 1200), (0, 1200))\n",
      "[INFO][2022/05/07 01:36:40 PM] Starting tracking... \n",
      "[INFO][2022/05/07 01:36:40 PM] Tracking objects in frames 0 to 10 (of 10)...\n"
     ]
    },
    {
     "name": "stdout",
     "output_type": "stream",
     "text": [
      "2\n",
      "ndim 2\n"
     ]
    },
    {
     "name": "stderr",
     "output_type": "stream",
     "text": [
      "[INFO][2022/05/07 01:36:41 PM] SUCCESS.\n",
      "[INFO][2022/05/07 01:36:41 PM]  - Found 969 tracks in 10 frames (in 0.0s)\n",
      "[INFO][2022/05/07 01:36:41 PM]  - Inserted 44 dummy objects to fill tracking gaps\n",
      "[INFO][2022/05/07 01:36:41 PM] Loading hypothesis model: cell_hypothesis\n",
      "[INFO][2022/05/07 01:36:41 PM] Calculating hypotheses (relax: True)...\n",
      "[INFO][2022/05/07 01:36:41 PM]  - Fates.FALSE_POSITIVE: 969 (of 969)\n",
      "[INFO][2022/05/07 01:36:41 PM]  - Fates.LINK: 0 (of 312)\n",
      "[INFO][2022/05/07 01:36:41 PM]  - Fates.INITIALIZE_BORDER: 0 (of 969)\n",
      "[INFO][2022/05/07 01:36:41 PM]  - TOTAL: 2250 hypotheses\n",
      "[INFO][2022/05/07 01:36:41 PM] Completed optimization with 969 tracks\n",
      "[INFO][2022/05/07 01:36:41 PM] Ending BayesianTracker session\n"
     ]
    }
   ],
   "source": [
    "#brack\n",
    "configfile=r\"D:\\spine\\segment\\some_analysis_for_spine_img\\models\\cell_config1.json\"\n",
    "newlls=track.track_all_series(imgs,lss2,peaks,configfile,search_radius=5,tracklength=10)"
   ]
  },
  {
   "cell_type": "code",
   "execution_count": 29,
   "metadata": {},
   "outputs": [
    {
     "name": "stderr",
     "output_type": "stream",
     "text": [
      "WARNING: DirectWrite: CreateFontFaceFromHDC() failed (指示输入文件 (例如字体文件) 中的错误。) for QFontDef(Family=\"\", pointsize=12, pixelsize=16, styleHint=5, weight=50, stretch=100, hintingPreference=0) LOGFONT(\"MS Sans Serif\", lfWidth=0, lfHeight=-16) dpi=96\n",
      "Exception in callback BaseAsyncIOLoop._handle_events(11044, 1)\n",
      "handle: <Handle BaseAsyncIOLoop._handle_events(11044, 1)>\n",
      "Traceback (most recent call last):\n",
      "  File \"C:\\Users\\ZLY\\AppData\\Local\\Programs\\Python\\Python38\\lib\\asyncio\\events.py\", line 81, in _run\n",
      "    self._context.run(self._callback, *self._args)\n",
      "  File \"C:\\Users\\ZLY\\AppData\\Local\\Programs\\Python\\Python38\\lib\\site-packages\\tornado\\platform\\asyncio.py\", line 189, in _handle_events\n",
      "    handler_func(fileobj, events)\n",
      "  File \"C:\\Users\\ZLY\\AppData\\Local\\Programs\\Python\\Python38\\lib\\site-packages\\zmq\\eventloop\\zmqstream.py\", line 452, in _handle_events\n",
      "    self._handle_recv()\n",
      "  File \"C:\\Users\\ZLY\\AppData\\Local\\Programs\\Python\\Python38\\lib\\site-packages\\zmq\\eventloop\\zmqstream.py\", line 481, in _handle_recv\n",
      "    self._run_callback(callback, msg)\n",
      "  File \"C:\\Users\\ZLY\\AppData\\Local\\Programs\\Python\\Python38\\lib\\site-packages\\zmq\\eventloop\\zmqstream.py\", line 431, in _run_callback\n",
      "    callback(*args, **kwargs)\n",
      "  File \"C:\\Users\\ZLY\\AppData\\Roaming\\Python\\Python38\\site-packages\\jupyter_client\\threaded.py\", line 121, in _handle_recv\n",
      "    msg_list = self.ioloop._asyncio_event_loop.run_until_complete(get_msg(future_msg))\n",
      "  File \"C:\\Users\\ZLY\\AppData\\Local\\Programs\\Python\\Python38\\lib\\asyncio\\base_events.py\", line 592, in run_until_complete\n",
      "    self._check_running()\n",
      "  File \"C:\\Users\\ZLY\\AppData\\Local\\Programs\\Python\\Python38\\lib\\asyncio\\base_events.py\", line 554, in _check_running\n",
      "    raise RuntimeError(\n",
      "RuntimeError: Cannot run the event loop while another loop is running\n"
     ]
    }
   ],
   "source": [
    "viewer=etsynseg.plot.imshow3d(np.array(ims), [peaks,miss],label_lay=[np.array(newlls,dtype=np.uint64),np.array(lss2,dtype=np.uint64)])\n"
   ]
  },
  {
   "cell_type": "code",
   "execution_count": null,
   "metadata": {},
   "outputs": [],
   "source": [
    "\n",
    "def nms(image,hitpeak,returnmask=True):\n",
    "    # if clabs is None:\n",
    "    #     clabs=list(np.unique(hitpeak))\n",
    "    # if 0 in clabs:\n",
    "    #     clabs.remove(0)\n",
    "    indexs=np.argwhere(hitpeak>0)\n",
    "    indexs=list(indexs)\n",
    "    values=image[tuple(zip(*indexs))]\n",
    "    vlabs=hitpeak[tuple(zip(*indexs))]\n",
    "    zipped_pairs = zip(values,vlabs,indexs)\n",
    "    #sorted_pairs = sorted(zipped_pairs,lambda x :x[2])\n",
    "    zipped_pairs = list(zip(vlabs,values,indexs))\n",
    "    zipped_pairs.sort(key=lambda x:(x[0],-x[1]))\n",
    "    nmspoints=[]\n",
    "    viewedlabs=[]\n",
    "    for lab,value,ind in zipped_pairs:\n",
    "        if lab in viewedlabs: continue\n",
    "        else:\n",
    "            viewedlabs.append(lab)\n",
    "            nmspoints.append(ind)\n",
    "    if returnmask:\n",
    "        mask=np.zeros_like(image)\n",
    "        mask[tuple(zip(*nmspoints))]=1\n",
    "        return mask\n",
    "    else:\n",
    "        return nmspoints\n",
    "\n",
    "def keep_lable_seg(segment,labs):\n",
    "    ls=np.zeros_like(segment)\n",
    "    for lab in labs:\n",
    "        ls[segment==lab]=lab\n",
    "    return ls\n",
    "\n",
    "\n",
    "def track_by_seg(image,segment,\n",
    "                 radius,num_iter,searchbox,\n",
    "                 keep_time=3,resvers=None,labcounts={},\n",
    "                sizeth=np.inf,method=\"geo\",adth=None,\n",
    "                smoothing=0,lambda1=1, lambda2=3):\n",
    "    if segment is None:\n",
    "        return\n",
    "    segment=segment.copy()\n",
    "    if resvers is not None:\n",
    "        segment[segment==0]=resvers[segment==0]\n",
    "        \n",
    "    adth=local_threshold(image)\n",
    "    peakmask=peakfilter(image,radius)*adth\n",
    "    hitpeak=segment*peakmask\n",
    "    \n",
    "    prelab=set(np.unique(segment))\n",
    "    curlab=set(np.unique(hitpeak))\n",
    "    \n",
    "    #intersec\n",
    "    interseclab=prelab&curlab\n",
    "    \n",
    "    #nmsmask=nms(image,hitpeak,returnmask=True)*hitpeak\n",
    "    #print(np.unique(nmsmask))\n",
    "    intersecls=seg.segment.foreach_grow_area(image,num_iter,hitpeak,\n",
    "                     searchbox=searchbox,sizeth=sizeth,\n",
    "                     adth=adth,method=method,smoothing=smoothing,\n",
    "                     lambda1=lambda1,lambda2=lambda2)\n",
    "        \n",
    "    #diff # which not find\n",
    "    diflab=prelab-curlab\n",
    "    nofinders=keep_lable_seg(segment,diflab)\n",
    "    for lab in diflab:\n",
    "        if lab not in labcounts:\n",
    "            labcounts[lab]=1\n",
    "        elif labcounts[lab]>keep_time:\n",
    "            nofinders[nofinders==lab]=0\n",
    "        else:\n",
    "            labcounts[lab]+=1\n",
    "    \n",
    "    return intersecls,peakmask,nofinders"
   ]
  }
 ],
 "metadata": {
  "interpreter": {
   "hash": "e005709e9aa29d1a621e0980d2a7f7c99fe00643a1ac8d1bd0d50306f61d540a"
  },
  "kernelspec": {
   "display_name": "Python 3.8.6 64-bit",
   "language": "python",
   "name": "python3"
  },
  "language_info": {
   "codemirror_mode": {
    "name": "ipython",
    "version": 3
   },
   "file_extension": ".py",
   "mimetype": "text/x-python",
   "name": "python",
   "nbconvert_exporter": "python",
   "pygments_lexer": "ipython3",
   "version": "3.8.6"
  },
  "vscode": {
   "interpreter": {
    "hash": "e005709e9aa29d1a621e0980d2a7f7c99fe00643a1ac8d1bd0d50306f61d540a"
   }
  }
 },
 "nbformat": 4,
 "nbformat_minor": 2
}
