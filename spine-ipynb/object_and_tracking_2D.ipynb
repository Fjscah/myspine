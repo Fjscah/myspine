{
 "cells": [
  {
   "cell_type": "markdown",
   "metadata": {},
   "source": [
    "# spine instance by unet - 2D"
   ]
  },
  {
   "cell_type": "code",
   "execution_count": 1,
   "metadata": {},
   "outputs": [
    {
     "name": "stderr",
     "output_type": "stream",
     "text": [
      "c:\\Users\\ZLY\\AppData\\Local\\Programs\\Python\\Python38\\lib\\site-packages\\_distutils_hack\\__init__.py:30: UserWarning: Setuptools is replacing distutils.\n",
      "  warnings.warn(\"Setuptools is replacing distutils.\")\n"
     ]
    },
    {
     "name": "stdout",
     "output_type": "stream",
     "text": [
      "No Fortran modules found, falling back on Python implementation.\n",
      "Did you run `python3 setup.py install`?\n"
     ]
    }
   ],
   "source": [
    "# import library\n",
    "import sys\n",
    "import tifffile\n",
    "import numpy as np\n",
    "from IPython.core.interactiveshell import InteractiveShell\n",
    "from skimage.io import imsave\n",
    "from skimage.morphology import remove_small_objects\n",
    "\n",
    "InteractiveShell.ast_node_interactivity = 'last_expr'\n",
    "\n",
    "from tqdm import tqdm\n",
    "\n",
    "sys.path.append(\"..\")\n",
    "sys.path.append(\"..//..\")\n",
    "import os\n",
    "\n",
    "import numpy as np\n",
    "#load model\n",
    "import tensorflow as tf\n",
    "from IPython.core.interactiveshell import InteractiveShell\n",
    "from skimage.filters import threshold_otsu, threshold_yen\n",
    "from skimage.filters.thresholding import (threshold_isodata, threshold_li,\n",
    "                                          threshold_local, threshold_mean,\n",
    "                                          threshold_minimum,\n",
    "                                          threshold_multiotsu,\n",
    "                                          threshold_niblack, threshold_otsu,\n",
    "                                          threshold_triangle, threshold_yen)\n",
    "from skimage.io import imsave\n",
    "from skimage.morphology import remove_small_objects\n",
    "from skimage.segmentation import expand_labels, watershed\n",
    "\n",
    "import spinelib\n",
    "from spinelib import cflow, imgio, seg\n",
    "from spinelib.cflow.blob import find_spheres, peakfilter, sphere_log\n",
    "from spinelib.cflow.localthreadhold import local_threshold\n",
    "from spinelib.imgio import napari_base\n",
    "from spinelib.seg import segment, track\n",
    "from spinelib.utils import npixel\n",
    "from spinelib.utils.measure import label_statics\n",
    "from spinelib.utils.spine_struct import spines_distance\n",
    "from utils import file_base\n",
    "\n",
    "InteractiveShell.ast_node_interactivity = 'last_expr'\n",
    "methods = cflow.localthreadhold.thmethods"
   ]
  },
  {
   "cell_type": "code",
   "execution_count": 2,
   "metadata": {},
   "outputs": [],
   "source": [
    "#basic fun\n",
    "\n",
    "def show_img_info(images):\n",
    "    shape=images.shape\n",
    "    dtype=images.dtype\n",
    "    ndim=images.ndim\n",
    "    print(\"image shape :\",shape)\n",
    "    print(\"image dtype :\",dtype)\n",
    "    print(\"image ndim :\",ndim)\n",
    "\n",
    "\n",
    "def remove_den(imgs,unetmodel,cval=140):\n",
    "    denmasks,_=predict.predict_time_img(unetmodel,imgs)\n",
    "    imgs=imgs.copy()\n",
    "    imgs[denmasks==1]=cval\n",
    "    return imgs\n",
    "def remove_small_lable(mask,thsize):\n",
    "    labs=measure.unique_labs(mask)\n",
    "    newmask=np.zeros_like(mask)\n",
    "    for lab in labs:\n",
    "        mm=mask==lab\n",
    "        mask2=remove_small_objects(mm,thsize)\n",
    "        if not mask.any():\n",
    "            mask2=mm\n",
    "        newmask[mask2]=lab\n",
    "    return newmask   \n",
    "def th_img(imgs,ls,binary_func):\n",
    "    global_th=binary_func(imgs[0])\n",
    "    lss=np.zeros_like(imgs,dtype=np.uint16)\n",
    "\n",
    "    for i in range(len(imgs)):\n",
    "        img=imgs[i]\n",
    "        adth=img>global_th\n",
    "        # denmask,_=predict.predict_single_img(unetmodel,img)\n",
    "        l=ls*adth\n",
    "        l[l<2]=0\n",
    "        l=remove_small_lable(l,6)\n",
    "        lss[i]=l\n",
    "        # lss[i][denmask==1]=0\n",
    "    lss[lss<2]=0\n",
    "       \n",
    "    return lss\n",
    "\n",
    "def modify_masks(masks,sizeth=4):\n",
    "    for n,mask in enumerate(masks):\n",
    "        masks[n]=modify_mask(mask,sizeth=sizeth)\n",
    "def modify_mask(mask,sizeth=4):\n",
    "    denmask=mask==1\n",
    "    spinemask=mask==2\n",
    "    denmask=remove_small_objects(denmask,min_size=sizeth)\n",
    "    spinemask=remove_small_objects(spinemask,min_size=sizeth)\n",
    "    mask=spinemask*2+denmask\n",
    "    return mask"
   ]
  },
  {
   "cell_type": "code",
   "execution_count": 3,
   "metadata": {},
   "outputs": [],
   "source": [
    "# super params\n",
    "#-----------------------#\n",
    "#   paras  #\n",
    "#-----------------------#\n",
    "\n",
    "steps=2 # caculate stick gradient step lenth 1-4, larger more error , smaller than spine diameter\n",
    "sigma=(2,2) # z,y,x\n",
    "lambda1=1\n",
    "lambda2=1.5 # lambda2 need large than lambda1\n",
    "sigma_hessian = 4\n",
    "sigma_supp = 100\n",
    "countth=10*20 # fiber largest pixels, include z stack, that to say lenth*stackn\n",
    "smallobj=200\n",
    "spine_radius=35 # for iteration to growth area\n",
    "maxspinesize=200\n",
    "spotrange=[3,11]\n",
    "binary_func=local_threshold#threshold_li\n",
    "use_sobel=False\n",
    "search_box=[25,25]\n",
    "keep_time=5\n",
    "peak_use_gaussian=True\n",
    "\n",
    "untmodel=None"
   ]
  },
  {
   "cell_type": "code",
   "execution_count": 4,
   "metadata": {},
   "outputs": [
    {
     "ename": "ModuleNotFoundError",
     "evalue": "No module named 'networks'",
     "output_type": "error",
     "traceback": [
      "\u001b[1;31m---------------------------------------------------------------------------\u001b[0m",
      "\u001b[1;31mModuleNotFoundError\u001b[0m                       Traceback (most recent call last)",
      "\u001b[1;32m~\\AppData\\Local\\Temp\\ipykernel_79340\\1594165411.py\u001b[0m in \u001b[0;36m<cell line: 64>\u001b[1;34m()\u001b[0m\n\u001b[0;32m     62\u001b[0m \u001b[1;33m\u001b[0m\u001b[0m\n\u001b[0;32m     63\u001b[0m \u001b[1;31m#---  dendrite filter model---#\u001b[0m\u001b[1;33m\u001b[0m\u001b[1;33m\u001b[0m\u001b[1;33m\u001b[0m\u001b[0m\n\u001b[1;32m---> 64\u001b[1;33m \u001b[1;32mfrom\u001b[0m \u001b[0mnetworks\u001b[0m \u001b[1;32mimport\u001b[0m \u001b[0munet\u001b[0m\u001b[1;33m\u001b[0m\u001b[1;33m\u001b[0m\u001b[0m\n\u001b[0m\u001b[0;32m     65\u001b[0m \u001b[0munetmodel\u001b[0m\u001b[1;33m=\u001b[0m\u001b[0munet\u001b[0m\u001b[1;33m.\u001b[0m\u001b[0mUNet2D\u001b[0m\u001b[1;33m(\u001b[0m\u001b[1;33m)\u001b[0m\u001b[1;33m\u001b[0m\u001b[1;33m\u001b[0m\u001b[0m\n\u001b[0;32m     66\u001b[0m \u001b[0mmodelpath\u001b[0m\u001b[1;33m=\u001b[0m\u001b[1;34mr\"D:\\code\\myspine\\models\\M2d_seg\\modelep200-loss0.133.h5\"\u001b[0m\u001b[1;33m\u001b[0m\u001b[1;33m\u001b[0m\u001b[0m\n",
      "\u001b[1;31mModuleNotFoundError\u001b[0m: No module named 'networks'"
     ]
    }
   ],
   "source": [
    "# load data\n",
    "#-----------------------#\n",
    "#   data loader  #\n",
    "#-----------------------#\n",
    "filename=r\"D:\\data\\Train\\QL\\2Dt\\Stablized cLTP 20150921n1.tif\"\n",
    "#-----------------------#\n",
    "#   Output file path  #\n",
    "#-----------------------#\n",
    "\"\"\"\n",
    "statistic\n",
    "\n",
    "remove_den\n",
    "    spine img\n",
    "roi dir\n",
    "    - each frame roi\n",
    "    - max fram roi\n",
    "predict dir \n",
    "    - mask 0,1,2\n",
    "    - spine pr\n",
    "    - den pr\n",
    "\"\"\"\n",
    "\n",
    "ddir,shotname,suffix=file_base.split_filename(filename)\n",
    "savedir=r\"D:\\data\\Train\\QL\\2Dt\\statistic\"\n",
    "dendir=r\"D:\\data\\Train\\QL\\2Dt\\remove_den\"\n",
    "roidir=r\"D:\\data\\Train\\QL\\2Dt\\roi_proj\"\n",
    "\n",
    "predictdir=r\"D:\\data\\Train\\QL\\2Dt\\predict\"\n",
    "\n",
    "areadir=os.path.join(savedir,\"area\")\n",
    "meandir=os.path.join(savedir,\"mean\")\n",
    "file_base.create_dir(areadir)\n",
    "file_base.create_dir(meandir)\n",
    "file_base.create_dir(dendir)\n",
    "file_base.create_dir(roidir)\n",
    "file_base.create_dir(predictdir)\n",
    "\n",
    "\n",
    "areafile=os.path.join(areadir,shotname+\"_area.csv\")\n",
    "meanfile=os.path.join(meandir,shotname+\"_mean_inten.csv\")\n",
    "sumfile=os.path.join(meandir,shotname+\"_sum_inten.csv\")\n",
    "\n",
    "removedenfile=os.path.join(dendir,shotname+\"_remove_den.tif\")\n",
    "skeletonfile=os.path.join(dendir,shotname+\"_skeleton_den.tif\")\n",
    "\n",
    "proj_roifile=os.path.join(roidir,shotname+\"_roi_proj.tif\")\n",
    "each_roifile=os.path.join(roidir,shotname+\"_roi.tif\")\n",
    "\n",
    "maskfile=os.path.join(predictdir,shotname+\"_mask.tif\")\n",
    "spineprfile=os.path.join(predictdir,shotname+\"_spine_pr.tif\")\n",
    "denprfile=os.path.join(predictdir,shotname+\"_den_pr.tif\")\n",
    "\n",
    "\n",
    "\n",
    "areafile=os.path.join(areadir,shotname+\"_area.csv\")\n",
    "meanfile=os.path.join(meandir,shotname+\"_mean_inten.csv\")\n",
    "denfile=os.path.join(dendir,shotname+\"_removeden.tif\")\n",
    "#-----------------------#\n",
    "#   model loader  #\n",
    "#-----------------------#\n",
    "\n",
    "\n",
    "#---  dendrite filter model---#\n",
    "from networks import unet\n",
    "unetmodel=unet.UNet2D()\n",
    "modelpath=r\"D:\\code\\myspine\\models\\M2d_seg\\modelep200-loss0.133.h5\"\n",
    "modelpath=r\"D:/code/myspine/modelsQL/M2d_seg\\modelep006-loss0.097.h5\"\n",
    "unetmodel.build(input_shape =(4,512,512,1))\n",
    "unetmodel.load_weights(modelpath)\n",
    "\n",
    "\n",
    "imgs = imgio.ski_imread(filename)\n",
    "show_img_info(imgs)\n",
    "# imgs=imgs[:10]"
   ]
  },
  {
   "cell_type": "markdown",
   "metadata": {},
   "source": [
    "# PART ONE\n",
    "track by max projection ,maybe stable\n"
   ]
  },
  {
   "cell_type": "markdown",
   "metadata": {},
   "source": [
    "1. Let's see one img"
   ]
  },
  {
   "cell_type": "code",
   "execution_count": 7,
   "metadata": {
    "collapsed": true
   },
   "outputs": [
    {
     "name": "stdout",
     "output_type": "stream",
     "text": [
      "1/1 [==============================] - 1s 557ms/step\n"
     ]
    },
    {
     "name": "stderr",
     "output_type": "stream",
     "text": [
      "..\\networks\\unet.py:320: FutureWarning: Using a non-tuple sequence for multidimensional indexing is deprecated; use `arr[tuple(seq)]` instead of `arr[seq]`. In the future this will be interpreted as an array index, `arr[np.array(seq)]`, which will result either in an error or a different result.\n",
      "  return imgns[obj],spineprs[obj],denprs[obj]\n",
      "..\\spinelib\\utils\\npixel.py:91: FutureWarning: Using a non-tuple sequence for multidimensional indexing is deprecated; use `arr[tuple(seq)]` instead of `arr[seq]`. In the future this will be interpreted as an array index, `arr[np.array(seq)]`, which will result either in an error or a different result.\n",
      "  return arr[obj]\n"
     ]
    }
   ],
   "source": [
    "#--- BINARY---#\n",
    "img=np.max(imgs,axis=0)\n",
    "\n",
    "adth=binary_func(img)\n",
    "#adth=img>global_th\n",
    "# adth=local_threshold(imgs[0],offset=100)\n",
    "noise_mean=np.mean(img[~adth])\n",
    "\n",
    "\n",
    "#--- PEAK SPOT FILTER : SPINE SEED---#\n",
    "mask,spinepr,_=unetmodel.predict_single_img(img)\n",
    "mask=modify_mask(mask,sizeth=10)\n",
    "pr_corner=peakfilter(spinepr,3,0,use_gaussian=True)*(spinepr>0.3)#*adth\n",
    "spine_label=segment.label_instance_water(spinepr,pr_corner,spinepr>0.3, \n",
    "                                 maxspinesize,searchbox=[7,7])\n",
    "spine_label=remove_small_objects(spine_label,min_size=10)\n",
    "# filter seed\n",
    "points2=np.array(napari_base.get_point(pr_corner))\n",
    "\n",
    "viewer=imgio.plot.imshow3d(I=img,Is_overlay=[spinepr],name_Is=[\"img\",\"spinepr\"],\n",
    "                           label_lay=[spine_label,mask],label_lay_name=[\"spine label\",\"mask\"],\n",
    "                           point_lay=[points2,]\n",
    "                           )"
   ]
  },
  {
   "cell_type": "code",
   "execution_count": 68,
   "metadata": {},
   "outputs": [
    {
     "name": "stdout",
     "output_type": "stream",
     "text": [
      "1/1 [==============================] - 0s 309ms/step\n",
      "1/1 [==============================] - 0s 287ms/step\n",
      "1/1 [==============================] - 0s 290ms/step\n",
      "1/1 [==============================] - 0s 296ms/step\n",
      "1/1 [==============================] - 0s 302ms/step\n",
      "1/1 [==============================] - 0s 304ms/step\n",
      "1/1 [==============================] - 0s 292ms/step\n",
      "1/1 [==============================] - 0s 298ms/step\n",
      "1/1 [==============================] - 0s 297ms/step\n",
      "1/1 [==============================] - 0s 297ms/step\n",
      "1/1 [==============================] - 0s 307ms/step\n",
      "1/1 [==============================] - 0s 323ms/step\n",
      "1/1 [==============================] - 0s 310ms/step\n",
      "1/1 [==============================] - 0s 301ms/step\n",
      "1/1 [==============================] - 0s 304ms/step\n",
      "1/1 [==============================] - 0s 311ms/step\n",
      "1/1 [==============================] - 0s 309ms/step\n",
      "1/1 [==============================] - 0s 306ms/step\n"
     ]
    },
    {
     "ename": "KeyboardInterrupt",
     "evalue": "",
     "output_type": "error",
     "traceback": [
      "\u001b[1;31m---------------------------------------------------------------------------\u001b[0m",
      "\u001b[1;31mKeyboardInterrupt\u001b[0m                         Traceback (most recent call last)",
      "\u001b[1;32m~\\AppData\\Local\\Temp\\ipykernel_10224\\302110629.py\u001b[0m in \u001b[0;36m<cell line: 4>\u001b[1;34m()\u001b[0m\n\u001b[0;32m      2\u001b[0m \u001b[0mspineprs\u001b[0m\u001b[1;33m=\u001b[0m\u001b[1;33m[\u001b[0m\u001b[1;33m]\u001b[0m\u001b[1;33m\u001b[0m\u001b[1;33m\u001b[0m\u001b[0m\n\u001b[0;32m      3\u001b[0m \u001b[0mmasks\u001b[0m\u001b[1;33m=\u001b[0m\u001b[1;33m[\u001b[0m\u001b[1;33m]\u001b[0m\u001b[1;33m\u001b[0m\u001b[1;33m\u001b[0m\u001b[0m\n\u001b[1;32m----> 4\u001b[1;33m \u001b[0mmasks\u001b[0m\u001b[1;33m,\u001b[0m\u001b[0mspineprs\u001b[0m\u001b[1;33m,\u001b[0m\u001b[0m_\u001b[0m\u001b[1;33m=\u001b[0m\u001b[0munetmodel\u001b[0m\u001b[1;33m.\u001b[0m\u001b[0mpredict_single_img\u001b[0m\u001b[1;33m(\u001b[0m\u001b[0mimgs\u001b[0m\u001b[1;33m)\u001b[0m\u001b[1;33m\u001b[0m\u001b[1;33m\u001b[0m\u001b[0m\n\u001b[0m\u001b[0;32m      5\u001b[0m \u001b[1;31m# for img in imgs:\u001b[0m\u001b[1;33m\u001b[0m\u001b[1;33m\u001b[0m\u001b[1;33m\u001b[0m\u001b[0m\n\u001b[0;32m      6\u001b[0m \u001b[1;31m#     #--- BINARY---#\u001b[0m\u001b[1;33m\u001b[0m\u001b[1;33m\u001b[0m\u001b[1;33m\u001b[0m\u001b[0m\n",
      "\u001b[1;32md:\\code\\myspine\\networks\\unet.py\u001b[0m in \u001b[0;36mpredict_single_img\u001b[1;34m(self, img)\u001b[0m\n\u001b[0;32m    302\u001b[0m         \u001b[1;32mfor\u001b[0m \u001b[0mim\u001b[0m \u001b[1;32min\u001b[0m \u001b[0mimg\u001b[0m\u001b[1;33m:\u001b[0m\u001b[1;33m\u001b[0m\u001b[1;33m\u001b[0m\u001b[0m\n\u001b[0;32m    303\u001b[0m             \u001b[0mim\u001b[0m\u001b[1;33m=\u001b[0m\u001b[0mnp\u001b[0m\u001b[1;33m.\u001b[0m\u001b[0mexpand_dims\u001b[0m\u001b[1;33m(\u001b[0m\u001b[0mim\u001b[0m\u001b[1;33m,\u001b[0m\u001b[0maxis\u001b[0m\u001b[1;33m=\u001b[0m\u001b[1;36m0\u001b[0m\u001b[1;33m)\u001b[0m\u001b[1;33m.\u001b[0m\u001b[0mastype\u001b[0m\u001b[1;33m(\u001b[0m\u001b[0mnp\u001b[0m\u001b[1;33m.\u001b[0m\u001b[0mfloat32\u001b[0m\u001b[1;33m)\u001b[0m\u001b[1;33m\u001b[0m\u001b[1;33m\u001b[0m\u001b[0m\n\u001b[1;32m--> 304\u001b[1;33m             \u001b[0mppr\u001b[0m\u001b[1;33m=\u001b[0m\u001b[0mmodel\u001b[0m\u001b[1;33m.\u001b[0m\u001b[0mpredict\u001b[0m\u001b[1;33m(\u001b[0m\u001b[0mim\u001b[0m\u001b[1;33m)\u001b[0m\u001b[1;33m[\u001b[0m\u001b[1;36m0\u001b[0m\u001b[1;33m]\u001b[0m\u001b[1;33m\u001b[0m\u001b[1;33m\u001b[0m\u001b[0m\n\u001b[0m\u001b[0;32m    305\u001b[0m             \u001b[1;31m# pr = ppr.argmax(axis=-1)\u001b[0m\u001b[1;33m\u001b[0m\u001b[1;33m\u001b[0m\u001b[1;33m\u001b[0m\u001b[0m\n\u001b[0;32m    306\u001b[0m             \u001b[0mimgn\u001b[0m \u001b[1;33m=\u001b[0m \u001b[0mppr\u001b[0m\u001b[1;33m.\u001b[0m\u001b[0margmax\u001b[0m\u001b[1;33m(\u001b[0m\u001b[0maxis\u001b[0m\u001b[1;33m=\u001b[0m\u001b[1;33m-\u001b[0m\u001b[1;36m1\u001b[0m\u001b[1;33m)\u001b[0m\u001b[1;33m\u001b[0m\u001b[1;33m\u001b[0m\u001b[0m\n",
      "\u001b[1;32mc:\\Users\\ZLY\\AppData\\Local\\Programs\\Python\\Python38\\lib\\site-packages\\keras\\utils\\traceback_utils.py\u001b[0m in \u001b[0;36merror_handler\u001b[1;34m(*args, **kwargs)\u001b[0m\n\u001b[0;32m     63\u001b[0m         \u001b[0mfiltered_tb\u001b[0m \u001b[1;33m=\u001b[0m \u001b[1;32mNone\u001b[0m\u001b[1;33m\u001b[0m\u001b[1;33m\u001b[0m\u001b[0m\n\u001b[0;32m     64\u001b[0m         \u001b[1;32mtry\u001b[0m\u001b[1;33m:\u001b[0m\u001b[1;33m\u001b[0m\u001b[1;33m\u001b[0m\u001b[0m\n\u001b[1;32m---> 65\u001b[1;33m             \u001b[1;32mreturn\u001b[0m \u001b[0mfn\u001b[0m\u001b[1;33m(\u001b[0m\u001b[1;33m*\u001b[0m\u001b[0margs\u001b[0m\u001b[1;33m,\u001b[0m \u001b[1;33m**\u001b[0m\u001b[0mkwargs\u001b[0m\u001b[1;33m)\u001b[0m\u001b[1;33m\u001b[0m\u001b[1;33m\u001b[0m\u001b[0m\n\u001b[0m\u001b[0;32m     66\u001b[0m         \u001b[1;32mexcept\u001b[0m \u001b[0mException\u001b[0m \u001b[1;32mas\u001b[0m \u001b[0me\u001b[0m\u001b[1;33m:\u001b[0m\u001b[1;33m\u001b[0m\u001b[1;33m\u001b[0m\u001b[0m\n\u001b[0;32m     67\u001b[0m             \u001b[0mfiltered_tb\u001b[0m \u001b[1;33m=\u001b[0m \u001b[0m_process_traceback_frames\u001b[0m\u001b[1;33m(\u001b[0m\u001b[0me\u001b[0m\u001b[1;33m.\u001b[0m\u001b[0m__traceback__\u001b[0m\u001b[1;33m)\u001b[0m\u001b[1;33m\u001b[0m\u001b[1;33m\u001b[0m\u001b[0m\n",
      "\u001b[1;32mc:\\Users\\ZLY\\AppData\\Local\\Programs\\Python\\Python38\\lib\\site-packages\\keras\\engine\\training.py\u001b[0m in \u001b[0;36mpredict\u001b[1;34m(self, x, batch_size, verbose, steps, callbacks, max_queue_size, workers, use_multiprocessing)\u001b[0m\n\u001b[0;32m   2247\u001b[0m             \u001b[0mcallbacks\u001b[0m\u001b[1;33m.\u001b[0m\u001b[0mon_predict_begin\u001b[0m\u001b[1;33m(\u001b[0m\u001b[1;33m)\u001b[0m\u001b[1;33m\u001b[0m\u001b[1;33m\u001b[0m\u001b[0m\n\u001b[0;32m   2248\u001b[0m             \u001b[0mbatch_outputs\u001b[0m \u001b[1;33m=\u001b[0m \u001b[1;32mNone\u001b[0m\u001b[1;33m\u001b[0m\u001b[1;33m\u001b[0m\u001b[0m\n\u001b[1;32m-> 2249\u001b[1;33m             \u001b[1;32mfor\u001b[0m \u001b[0m_\u001b[0m\u001b[1;33m,\u001b[0m \u001b[0miterator\u001b[0m \u001b[1;32min\u001b[0m \u001b[0mdata_handler\u001b[0m\u001b[1;33m.\u001b[0m\u001b[0menumerate_epochs\u001b[0m\u001b[1;33m(\u001b[0m\u001b[1;33m)\u001b[0m\u001b[1;33m:\u001b[0m  \u001b[1;31m# Single epoch.\u001b[0m\u001b[1;33m\u001b[0m\u001b[1;33m\u001b[0m\u001b[0m\n\u001b[0m\u001b[0;32m   2250\u001b[0m                 \u001b[1;32mwith\u001b[0m \u001b[0mdata_handler\u001b[0m\u001b[1;33m.\u001b[0m\u001b[0mcatch_stop_iteration\u001b[0m\u001b[1;33m(\u001b[0m\u001b[1;33m)\u001b[0m\u001b[1;33m:\u001b[0m\u001b[1;33m\u001b[0m\u001b[1;33m\u001b[0m\u001b[0m\n\u001b[0;32m   2251\u001b[0m                     \u001b[1;32mfor\u001b[0m \u001b[0mstep\u001b[0m \u001b[1;32min\u001b[0m \u001b[0mdata_handler\u001b[0m\u001b[1;33m.\u001b[0m\u001b[0msteps\u001b[0m\u001b[1;33m(\u001b[0m\u001b[1;33m)\u001b[0m\u001b[1;33m:\u001b[0m\u001b[1;33m\u001b[0m\u001b[1;33m\u001b[0m\u001b[0m\n",
      "\u001b[1;32mc:\\Users\\ZLY\\AppData\\Local\\Programs\\Python\\Python38\\lib\\site-packages\\keras\\engine\\data_adapter.py\u001b[0m in \u001b[0;36menumerate_epochs\u001b[1;34m(self)\u001b[0m\n\u001b[0;32m   1305\u001b[0m         \u001b[1;34m\"\"\"Yields `(epoch, tf.data.Iterator)`.\"\"\"\u001b[0m\u001b[1;33m\u001b[0m\u001b[1;33m\u001b[0m\u001b[0m\n\u001b[0;32m   1306\u001b[0m         \u001b[1;32mwith\u001b[0m \u001b[0mself\u001b[0m\u001b[1;33m.\u001b[0m\u001b[0m_truncate_execution_to_epoch\u001b[0m\u001b[1;33m(\u001b[0m\u001b[1;33m)\u001b[0m\u001b[1;33m:\u001b[0m\u001b[1;33m\u001b[0m\u001b[1;33m\u001b[0m\u001b[0m\n\u001b[1;32m-> 1307\u001b[1;33m             \u001b[0mdata_iterator\u001b[0m \u001b[1;33m=\u001b[0m \u001b[0miter\u001b[0m\u001b[1;33m(\u001b[0m\u001b[0mself\u001b[0m\u001b[1;33m.\u001b[0m\u001b[0m_dataset\u001b[0m\u001b[1;33m)\u001b[0m\u001b[1;33m\u001b[0m\u001b[1;33m\u001b[0m\u001b[0m\n\u001b[0m\u001b[0;32m   1308\u001b[0m             \u001b[1;32mfor\u001b[0m \u001b[0mepoch\u001b[0m \u001b[1;32min\u001b[0m \u001b[0mrange\u001b[0m\u001b[1;33m(\u001b[0m\u001b[0mself\u001b[0m\u001b[1;33m.\u001b[0m\u001b[0m_initial_epoch\u001b[0m\u001b[1;33m,\u001b[0m \u001b[0mself\u001b[0m\u001b[1;33m.\u001b[0m\u001b[0m_epochs\u001b[0m\u001b[1;33m)\u001b[0m\u001b[1;33m:\u001b[0m\u001b[1;33m\u001b[0m\u001b[1;33m\u001b[0m\u001b[0m\n\u001b[0;32m   1309\u001b[0m                 \u001b[1;32mif\u001b[0m \u001b[0mself\u001b[0m\u001b[1;33m.\u001b[0m\u001b[0m_insufficient_data\u001b[0m\u001b[1;33m:\u001b[0m  \u001b[1;31m# Set by `catch_stop_iteration`.\u001b[0m\u001b[1;33m\u001b[0m\u001b[1;33m\u001b[0m\u001b[0m\n",
      "\u001b[1;32mc:\\Users\\ZLY\\AppData\\Local\\Programs\\Python\\Python38\\lib\\site-packages\\tensorflow\\python\\data\\ops\\dataset_ops.py\u001b[0m in \u001b[0;36m__iter__\u001b[1;34m(self)\u001b[0m\n\u001b[0;32m    497\u001b[0m     \u001b[1;32mif\u001b[0m \u001b[0mcontext\u001b[0m\u001b[1;33m.\u001b[0m\u001b[0mexecuting_eagerly\u001b[0m\u001b[1;33m(\u001b[0m\u001b[1;33m)\u001b[0m \u001b[1;32mor\u001b[0m \u001b[0mops\u001b[0m\u001b[1;33m.\u001b[0m\u001b[0minside_function\u001b[0m\u001b[1;33m(\u001b[0m\u001b[1;33m)\u001b[0m\u001b[1;33m:\u001b[0m\u001b[1;33m\u001b[0m\u001b[1;33m\u001b[0m\u001b[0m\n\u001b[0;32m    498\u001b[0m       \u001b[1;32mwith\u001b[0m \u001b[0mops\u001b[0m\u001b[1;33m.\u001b[0m\u001b[0mcolocate_with\u001b[0m\u001b[1;33m(\u001b[0m\u001b[0mself\u001b[0m\u001b[1;33m.\u001b[0m\u001b[0m_variant_tensor\u001b[0m\u001b[1;33m)\u001b[0m\u001b[1;33m:\u001b[0m\u001b[1;33m\u001b[0m\u001b[1;33m\u001b[0m\u001b[0m\n\u001b[1;32m--> 499\u001b[1;33m         \u001b[1;32mreturn\u001b[0m \u001b[0miterator_ops\u001b[0m\u001b[1;33m.\u001b[0m\u001b[0mOwnedIterator\u001b[0m\u001b[1;33m(\u001b[0m\u001b[0mself\u001b[0m\u001b[1;33m)\u001b[0m\u001b[1;33m\u001b[0m\u001b[1;33m\u001b[0m\u001b[0m\n\u001b[0m\u001b[0;32m    500\u001b[0m     \u001b[1;32melse\u001b[0m\u001b[1;33m:\u001b[0m\u001b[1;33m\u001b[0m\u001b[1;33m\u001b[0m\u001b[0m\n\u001b[0;32m    501\u001b[0m       raise RuntimeError(\"`tf.data.Dataset` only supports Python-style \"\n",
      "\u001b[1;32mc:\\Users\\ZLY\\AppData\\Local\\Programs\\Python\\Python38\\lib\\site-packages\\tensorflow\\python\\data\\ops\\iterator_ops.py\u001b[0m in \u001b[0;36m__init__\u001b[1;34m(self, dataset, components, element_spec)\u001b[0m\n\u001b[0;32m    694\u001b[0m             \u001b[1;34m\"When `dataset` is provided, `element_spec` and `components` must \"\u001b[0m\u001b[1;33m\u001b[0m\u001b[1;33m\u001b[0m\u001b[0m\n\u001b[0;32m    695\u001b[0m             \"not be specified.\")\n\u001b[1;32m--> 696\u001b[1;33m       \u001b[0mself\u001b[0m\u001b[1;33m.\u001b[0m\u001b[0m_create_iterator\u001b[0m\u001b[1;33m(\u001b[0m\u001b[0mdataset\u001b[0m\u001b[1;33m)\u001b[0m\u001b[1;33m\u001b[0m\u001b[1;33m\u001b[0m\u001b[0m\n\u001b[0m\u001b[0;32m    697\u001b[0m \u001b[1;33m\u001b[0m\u001b[0m\n\u001b[0;32m    698\u001b[0m     \u001b[0mself\u001b[0m\u001b[1;33m.\u001b[0m\u001b[0m_get_next_call_count\u001b[0m \u001b[1;33m=\u001b[0m \u001b[1;36m0\u001b[0m\u001b[1;33m\u001b[0m\u001b[1;33m\u001b[0m\u001b[0m\n",
      "\u001b[1;32mc:\\Users\\ZLY\\AppData\\Local\\Programs\\Python\\Python38\\lib\\site-packages\\tensorflow\\python\\data\\ops\\iterator_ops.py\u001b[0m in \u001b[0;36m_create_iterator\u001b[1;34m(self, dataset)\u001b[0m\n\u001b[0;32m    719\u001b[0m               \u001b[0moutput_types\u001b[0m\u001b[1;33m=\u001b[0m\u001b[0mself\u001b[0m\u001b[1;33m.\u001b[0m\u001b[0m_flat_output_types\u001b[0m\u001b[1;33m,\u001b[0m\u001b[1;33m\u001b[0m\u001b[1;33m\u001b[0m\u001b[0m\n\u001b[0;32m    720\u001b[0m               output_shapes=self._flat_output_shapes))\n\u001b[1;32m--> 721\u001b[1;33m       \u001b[0mgen_dataset_ops\u001b[0m\u001b[1;33m.\u001b[0m\u001b[0mmake_iterator\u001b[0m\u001b[1;33m(\u001b[0m\u001b[0mds_variant\u001b[0m\u001b[1;33m,\u001b[0m \u001b[0mself\u001b[0m\u001b[1;33m.\u001b[0m\u001b[0m_iterator_resource\u001b[0m\u001b[1;33m)\u001b[0m\u001b[1;33m\u001b[0m\u001b[1;33m\u001b[0m\u001b[0m\n\u001b[0m\u001b[0;32m    722\u001b[0m \u001b[1;33m\u001b[0m\u001b[0m\n\u001b[0;32m    723\u001b[0m   \u001b[1;32mdef\u001b[0m \u001b[0m__iter__\u001b[0m\u001b[1;33m(\u001b[0m\u001b[0mself\u001b[0m\u001b[1;33m)\u001b[0m\u001b[1;33m:\u001b[0m\u001b[1;33m\u001b[0m\u001b[1;33m\u001b[0m\u001b[0m\n",
      "\u001b[1;32mc:\\Users\\ZLY\\AppData\\Local\\Programs\\Python\\Python38\\lib\\site-packages\\tensorflow\\python\\ops\\gen_dataset_ops.py\u001b[0m in \u001b[0;36mmake_iterator\u001b[1;34m(dataset, iterator, name)\u001b[0m\n\u001b[0;32m   3437\u001b[0m   \u001b[1;32mif\u001b[0m \u001b[0mtld\u001b[0m\u001b[1;33m.\u001b[0m\u001b[0mis_eager\u001b[0m\u001b[1;33m:\u001b[0m\u001b[1;33m\u001b[0m\u001b[1;33m\u001b[0m\u001b[0m\n\u001b[0;32m   3438\u001b[0m     \u001b[1;32mtry\u001b[0m\u001b[1;33m:\u001b[0m\u001b[1;33m\u001b[0m\u001b[1;33m\u001b[0m\u001b[0m\n\u001b[1;32m-> 3439\u001b[1;33m       _result = pywrap_tfe.TFE_Py_FastPathExecute(\n\u001b[0m\u001b[0;32m   3440\u001b[0m         _ctx, \"MakeIterator\", name, dataset, iterator)\n\u001b[0;32m   3441\u001b[0m       \u001b[1;32mreturn\u001b[0m \u001b[0m_result\u001b[0m\u001b[1;33m\u001b[0m\u001b[1;33m\u001b[0m\u001b[0m\n",
      "\u001b[1;31mKeyboardInterrupt\u001b[0m: "
     ]
    }
   ],
   "source": [
    "spine_labels=[]\n",
    "spineprs=[]\n",
    "masks=[]\n",
    "masks,spineprs,_=unetmodel.predict_single_img(imgs)\n",
    "# for img in imgs:\n",
    "#     #--- BINARY---#\n",
    "\n",
    "#     adth=binary_func(img)\n",
    "#     #adth=img>global_th\n",
    "#     # adth=local_threshold(imgs[0],offset=100)\n",
    "#     noise_mean=np.mean(img[~adth])\n",
    "\n",
    "\n",
    "#     #--- PEAK SPOT FILTER : SPINE SEED---#\n",
    "#     mask,spinepr,_=unetmodel.predict_single_img(img)\n",
    "#     mask=modify_mask(mask,sizeth=10)\n",
    "#     pr_corner=peakfilter(spinepr,3,0,use_gaussian=True)*(mask==2)#*adth\n",
    "#     spine_label=segment.label_instance_water(spinepr,pr_corner,spinepr>0.4, \n",
    "#                                     maxspinesize,searchbox=[7,7])\n",
    "\n",
    "#     # filter seed\n",
    "#     #points2=np.array(napari_base.get_point(pr_corner))\n",
    "#     spine_labels.append(spine_label)\n",
    "#     spineprs.append(spinepr)\n",
    "#     masks.append(mask)\n",
    "    \n",
    "# spine_labels=np.array(spine_labels)\n",
    "# masks=np.array(masks)\n",
    "# spineprs=np.array(spineprs)\n",
    "viewer=imgio.plot.imshow3d(I=imgs,Is_overlay=[spineprs],name_Is=[\"spinepr\"],\n",
    "                        label_lay=[spine_labels,masks],label_lay_name=[\"spine label\",\"mask\"],\n",
    "                        \n",
    "                        )\n",
    "\n"
   ]
  },
  {
   "cell_type": "code",
   "execution_count": 123,
   "metadata": {},
   "outputs": [],
   "source": [
    "aaa=spine_label.copy()"
   ]
  },
  {
   "cell_type": "code",
   "execution_count": 11,
   "metadata": {},
   "outputs": [],
   "source": [
    "# see and edit result\n",
    "# spine_label=aaa.copy()\n",
    "viewer=imgio.plot.imshow3d(I=imgs,Is_overlay=[spinepr,spinepr],name_Is=[\"img\",\"spinepr\"],\n",
    "                           label_lay=[spine_label],label_lay_name=[\"spine\"],\n",
    "                           )\n",
    "\n",
    "edit_spine_label_proj=viewer.layers[\"spine\"].data\n"
   ]
  },
  {
   "cell_type": "markdown",
   "metadata": {},
   "source": [
    "2. Then see all time series"
   ]
  },
  {
   "cell_type": "code",
   "execution_count": 8,
   "metadata": {},
   "outputs": [
    {
     "name": "stderr",
     "output_type": "stream",
     "text": [
      "Processing:   0%|          | 0/80 [00:00<?, ?it/s]"
     ]
    },
    {
     "name": "stdout",
     "output_type": "stream",
     "text": [
      "1/1 [==============================] - 0s 275ms/step\n"
     ]
    },
    {
     "name": "stderr",
     "output_type": "stream",
     "text": [
      "Processing:   1%|▏         | 1/80 [00:00<00:24,  3.24it/s]"
     ]
    },
    {
     "name": "stdout",
     "output_type": "stream",
     "text": [
      "1/1 [==============================] - 0s 305ms/step\n"
     ]
    },
    {
     "name": "stderr",
     "output_type": "stream",
     "text": [
      "Processing:   2%|▎         | 2/80 [00:00<00:25,  3.07it/s]"
     ]
    },
    {
     "name": "stdout",
     "output_type": "stream",
     "text": [
      "1/1 [==============================] - 0s 269ms/step\n"
     ]
    },
    {
     "name": "stderr",
     "output_type": "stream",
     "text": [
      "Processing:   4%|▍         | 3/80 [00:00<00:24,  3.18it/s]"
     ]
    },
    {
     "name": "stdout",
     "output_type": "stream",
     "text": [
      "1/1 [==============================] - 0s 276ms/step\n"
     ]
    },
    {
     "name": "stderr",
     "output_type": "stream",
     "text": [
      "Processing:   5%|▌         | 4/80 [00:01<00:23,  3.21it/s]"
     ]
    },
    {
     "name": "stdout",
     "output_type": "stream",
     "text": [
      "1/1 [==============================] - 0s 288ms/step\n"
     ]
    },
    {
     "name": "stderr",
     "output_type": "stream",
     "text": [
      "Processing:   6%|▋         | 5/80 [00:01<00:23,  3.18it/s]"
     ]
    },
    {
     "name": "stdout",
     "output_type": "stream",
     "text": [
      "1/1 [==============================] - 0s 278ms/step\n"
     ]
    },
    {
     "name": "stderr",
     "output_type": "stream",
     "text": [
      "Processing:   8%|▊         | 6/80 [00:01<00:23,  3.20it/s]"
     ]
    },
    {
     "name": "stdout",
     "output_type": "stream",
     "text": [
      "1/1 [==============================] - 0s 291ms/step\n"
     ]
    },
    {
     "name": "stderr",
     "output_type": "stream",
     "text": [
      "Processing:   9%|▉         | 7/80 [00:02<00:23,  3.17it/s]"
     ]
    },
    {
     "name": "stdout",
     "output_type": "stream",
     "text": [
      "1/1 [==============================] - 0s 275ms/step\n"
     ]
    },
    {
     "name": "stderr",
     "output_type": "stream",
     "text": [
      "Processing:  10%|█         | 8/80 [00:02<00:22,  3.20it/s]"
     ]
    },
    {
     "name": "stdout",
     "output_type": "stream",
     "text": [
      "1/1 [==============================] - 0s 278ms/step\n"
     ]
    },
    {
     "name": "stderr",
     "output_type": "stream",
     "text": [
      "Processing:  11%|█▏        | 9/80 [00:02<00:22,  3.21it/s]"
     ]
    },
    {
     "name": "stdout",
     "output_type": "stream",
     "text": [
      "1/1 [==============================] - 0s 270ms/step\n"
     ]
    },
    {
     "name": "stderr",
     "output_type": "stream",
     "text": [
      "Processing:  12%|█▎        | 10/80 [00:03<00:21,  3.23it/s]"
     ]
    },
    {
     "name": "stdout",
     "output_type": "stream",
     "text": [
      "1/1 [==============================] - 0s 262ms/step\n"
     ]
    },
    {
     "name": "stderr",
     "output_type": "stream",
     "text": [
      "Processing:  14%|█▍        | 11/80 [00:03<00:20,  3.29it/s]"
     ]
    },
    {
     "name": "stdout",
     "output_type": "stream",
     "text": [
      "1/1 [==============================] - 0s 276ms/step\n"
     ]
    },
    {
     "name": "stderr",
     "output_type": "stream",
     "text": [
      "Processing:  15%|█▌        | 12/80 [00:03<00:20,  3.28it/s]"
     ]
    },
    {
     "name": "stdout",
     "output_type": "stream",
     "text": [
      "1/1 [==============================] - 0s 263ms/step\n"
     ]
    },
    {
     "name": "stderr",
     "output_type": "stream",
     "text": [
      "Processing:  16%|█▋        | 13/80 [00:04<00:20,  3.32it/s]"
     ]
    },
    {
     "name": "stdout",
     "output_type": "stream",
     "text": [
      "1/1 [==============================] - 0s 262ms/step\n"
     ]
    },
    {
     "name": "stderr",
     "output_type": "stream",
     "text": [
      "Processing:  18%|█▊        | 14/80 [00:04<00:19,  3.35it/s]"
     ]
    },
    {
     "name": "stdout",
     "output_type": "stream",
     "text": [
      "1/1 [==============================] - 0s 281ms/step\n"
     ]
    },
    {
     "name": "stderr",
     "output_type": "stream",
     "text": [
      "Processing:  19%|█▉        | 15/80 [00:04<00:19,  3.29it/s]"
     ]
    },
    {
     "name": "stdout",
     "output_type": "stream",
     "text": [
      "1/1 [==============================] - 0s 269ms/step\n"
     ]
    },
    {
     "name": "stderr",
     "output_type": "stream",
     "text": [
      "Processing:  20%|██        | 16/80 [00:04<00:19,  3.30it/s]"
     ]
    },
    {
     "name": "stdout",
     "output_type": "stream",
     "text": [
      "1/1 [==============================] - 0s 263ms/step\n"
     ]
    },
    {
     "name": "stderr",
     "output_type": "stream",
     "text": [
      "Processing:  21%|██▏       | 17/80 [00:05<00:18,  3.33it/s]"
     ]
    },
    {
     "name": "stdout",
     "output_type": "stream",
     "text": [
      "1/1 [==============================] - 0s 269ms/step\n"
     ]
    },
    {
     "name": "stderr",
     "output_type": "stream",
     "text": [
      "Processing:  22%|██▎       | 18/80 [00:05<00:18,  3.33it/s]"
     ]
    },
    {
     "name": "stdout",
     "output_type": "stream",
     "text": [
      "1/1 [==============================] - 0s 290ms/step\n"
     ]
    },
    {
     "name": "stderr",
     "output_type": "stream",
     "text": [
      "Processing:  24%|██▍       | 19/80 [00:05<00:18,  3.26it/s]"
     ]
    },
    {
     "name": "stdout",
     "output_type": "stream",
     "text": [
      "1/1 [==============================] - 0s 284ms/step\n"
     ]
    },
    {
     "name": "stderr",
     "output_type": "stream",
     "text": [
      "Processing:  25%|██▌       | 20/80 [00:06<00:18,  3.19it/s]"
     ]
    },
    {
     "name": "stdout",
     "output_type": "stream",
     "text": [
      "1/1 [==============================] - 0s 263ms/step\n"
     ]
    },
    {
     "name": "stderr",
     "output_type": "stream",
     "text": [
      "Processing:  26%|██▋       | 21/80 [00:06<00:18,  3.26it/s]"
     ]
    },
    {
     "name": "stdout",
     "output_type": "stream",
     "text": [
      "1/1 [==============================] - 0s 296ms/step\n"
     ]
    },
    {
     "name": "stderr",
     "output_type": "stream",
     "text": [
      "Processing:  28%|██▊       | 22/80 [00:06<00:18,  3.20it/s]"
     ]
    },
    {
     "name": "stdout",
     "output_type": "stream",
     "text": [
      "1/1 [==============================] - 0s 272ms/step\n"
     ]
    },
    {
     "name": "stderr",
     "output_type": "stream",
     "text": [
      "Processing:  29%|██▉       | 23/80 [00:07<00:17,  3.23it/s]"
     ]
    },
    {
     "name": "stdout",
     "output_type": "stream",
     "text": [
      "1/1 [==============================] - 0s 270ms/step\n"
     ]
    },
    {
     "name": "stderr",
     "output_type": "stream",
     "text": [
      "Processing:  30%|███       | 24/80 [00:07<00:17,  3.26it/s]"
     ]
    },
    {
     "name": "stdout",
     "output_type": "stream",
     "text": [
      "1/1 [==============================] - 0s 285ms/step\n"
     ]
    },
    {
     "name": "stderr",
     "output_type": "stream",
     "text": [
      "Processing:  31%|███▏      | 25/80 [00:07<00:17,  3.23it/s]"
     ]
    },
    {
     "name": "stdout",
     "output_type": "stream",
     "text": [
      "1/1 [==============================] - 0s 273ms/step\n"
     ]
    },
    {
     "name": "stderr",
     "output_type": "stream",
     "text": [
      "Processing:  32%|███▎      | 26/80 [00:08<00:16,  3.25it/s]"
     ]
    },
    {
     "name": "stdout",
     "output_type": "stream",
     "text": [
      "1/1 [==============================] - 0s 266ms/step\n"
     ]
    },
    {
     "name": "stderr",
     "output_type": "stream",
     "text": [
      "Processing:  34%|███▍      | 27/80 [00:08<00:16,  3.28it/s]"
     ]
    },
    {
     "name": "stdout",
     "output_type": "stream",
     "text": [
      "1/1 [==============================] - 0s 283ms/step\n"
     ]
    },
    {
     "name": "stderr",
     "output_type": "stream",
     "text": [
      "Processing:  35%|███▌      | 28/80 [00:08<00:15,  3.26it/s]"
     ]
    },
    {
     "name": "stdout",
     "output_type": "stream",
     "text": [
      "1/1 [==============================] - 0s 266ms/step\n"
     ]
    },
    {
     "name": "stderr",
     "output_type": "stream",
     "text": [
      "Processing:  36%|███▋      | 29/80 [00:08<00:15,  3.29it/s]"
     ]
    },
    {
     "name": "stdout",
     "output_type": "stream",
     "text": [
      "1/1 [==============================] - 0s 310ms/step\n"
     ]
    },
    {
     "name": "stderr",
     "output_type": "stream",
     "text": [
      "Processing:  38%|███▊      | 30/80 [00:09<00:15,  3.15it/s]"
     ]
    },
    {
     "name": "stdout",
     "output_type": "stream",
     "text": [
      "1/1 [==============================] - 0s 270ms/step\n"
     ]
    },
    {
     "name": "stderr",
     "output_type": "stream",
     "text": [
      "Processing:  39%|███▉      | 31/80 [00:09<00:15,  3.19it/s]"
     ]
    },
    {
     "name": "stdout",
     "output_type": "stream",
     "text": [
      "1/1 [==============================] - 0s 262ms/step\n"
     ]
    },
    {
     "name": "stderr",
     "output_type": "stream",
     "text": [
      "Processing:  40%|████      | 32/80 [00:09<00:14,  3.26it/s]"
     ]
    },
    {
     "name": "stdout",
     "output_type": "stream",
     "text": [
      "1/1 [==============================] - 0s 266ms/step\n"
     ]
    },
    {
     "name": "stderr",
     "output_type": "stream",
     "text": [
      "Processing:  41%|████▏     | 33/80 [00:10<00:14,  3.29it/s]"
     ]
    },
    {
     "name": "stdout",
     "output_type": "stream",
     "text": [
      "1/1 [==============================] - 0s 264ms/step\n"
     ]
    },
    {
     "name": "stderr",
     "output_type": "stream",
     "text": [
      "Processing:  42%|████▎     | 34/80 [00:10<00:13,  3.32it/s]"
     ]
    },
    {
     "name": "stdout",
     "output_type": "stream",
     "text": [
      "1/1 [==============================] - 0s 271ms/step\n"
     ]
    },
    {
     "name": "stderr",
     "output_type": "stream",
     "text": [
      "Processing:  44%|████▍     | 35/80 [00:10<00:13,  3.33it/s]"
     ]
    },
    {
     "name": "stdout",
     "output_type": "stream",
     "text": [
      "1/1 [==============================] - 0s 267ms/step\n"
     ]
    },
    {
     "name": "stderr",
     "output_type": "stream",
     "text": [
      "Processing:  45%|████▌     | 36/80 [00:11<00:13,  3.34it/s]"
     ]
    },
    {
     "name": "stdout",
     "output_type": "stream",
     "text": [
      "1/1 [==============================] - 0s 265ms/step\n"
     ]
    },
    {
     "name": "stderr",
     "output_type": "stream",
     "text": [
      "Processing:  46%|████▋     | 37/80 [00:11<00:12,  3.35it/s]"
     ]
    },
    {
     "name": "stdout",
     "output_type": "stream",
     "text": [
      "1/1 [==============================] - 0s 273ms/step\n"
     ]
    },
    {
     "name": "stderr",
     "output_type": "stream",
     "text": [
      "Processing:  48%|████▊     | 38/80 [00:11<00:12,  3.33it/s]"
     ]
    },
    {
     "name": "stdout",
     "output_type": "stream",
     "text": [
      "1/1 [==============================] - 0s 271ms/step\n"
     ]
    },
    {
     "name": "stderr",
     "output_type": "stream",
     "text": [
      "Processing:  49%|████▉     | 39/80 [00:11<00:12,  3.31it/s]"
     ]
    },
    {
     "name": "stdout",
     "output_type": "stream",
     "text": [
      "1/1 [==============================] - 0s 267ms/step\n"
     ]
    },
    {
     "name": "stderr",
     "output_type": "stream",
     "text": [
      "Processing:  50%|█████     | 40/80 [00:12<00:12,  3.33it/s]"
     ]
    },
    {
     "name": "stdout",
     "output_type": "stream",
     "text": [
      "1/1 [==============================] - 0s 266ms/step\n"
     ]
    },
    {
     "name": "stderr",
     "output_type": "stream",
     "text": [
      "Processing:  51%|█████▏    | 41/80 [00:12<00:11,  3.34it/s]"
     ]
    },
    {
     "name": "stdout",
     "output_type": "stream",
     "text": [
      "1/1 [==============================] - 0s 260ms/step\n"
     ]
    },
    {
     "name": "stderr",
     "output_type": "stream",
     "text": [
      "Processing:  52%|█████▎    | 42/80 [00:12<00:11,  3.34it/s]"
     ]
    },
    {
     "name": "stdout",
     "output_type": "stream",
     "text": [
      "1/1 [==============================] - 0s 275ms/step\n"
     ]
    },
    {
     "name": "stderr",
     "output_type": "stream",
     "text": [
      "Processing:  54%|█████▍    | 43/80 [00:13<00:11,  3.32it/s]"
     ]
    },
    {
     "name": "stdout",
     "output_type": "stream",
     "text": [
      "1/1 [==============================] - 0s 272ms/step\n"
     ]
    },
    {
     "name": "stderr",
     "output_type": "stream",
     "text": [
      "Processing:  55%|█████▌    | 44/80 [00:13<00:10,  3.32it/s]"
     ]
    },
    {
     "name": "stdout",
     "output_type": "stream",
     "text": [
      "1/1 [==============================] - 0s 275ms/step\n"
     ]
    },
    {
     "name": "stderr",
     "output_type": "stream",
     "text": [
      "Processing:  56%|█████▋    | 45/80 [00:13<00:10,  3.30it/s]"
     ]
    },
    {
     "name": "stdout",
     "output_type": "stream",
     "text": [
      "1/1 [==============================] - 0s 267ms/step\n"
     ]
    },
    {
     "name": "stderr",
     "output_type": "stream",
     "text": [
      "Processing:  57%|█████▊    | 46/80 [00:14<00:10,  3.32it/s]"
     ]
    },
    {
     "name": "stdout",
     "output_type": "stream",
     "text": [
      "1/1 [==============================] - 0s 271ms/step\n"
     ]
    },
    {
     "name": "stderr",
     "output_type": "stream",
     "text": [
      "Processing:  59%|█████▉    | 47/80 [00:14<00:09,  3.32it/s]"
     ]
    },
    {
     "name": "stdout",
     "output_type": "stream",
     "text": [
      "1/1 [==============================] - 0s 281ms/step\n"
     ]
    },
    {
     "name": "stderr",
     "output_type": "stream",
     "text": [
      "Processing:  60%|██████    | 48/80 [00:14<00:09,  3.29it/s]"
     ]
    },
    {
     "name": "stdout",
     "output_type": "stream",
     "text": [
      "1/1 [==============================] - 0s 271ms/step\n"
     ]
    },
    {
     "name": "stderr",
     "output_type": "stream",
     "text": [
      "Processing:  61%|██████▏   | 49/80 [00:14<00:09,  3.28it/s]"
     ]
    },
    {
     "name": "stdout",
     "output_type": "stream",
     "text": [
      "1/1 [==============================] - 0s 269ms/step\n"
     ]
    },
    {
     "name": "stderr",
     "output_type": "stream",
     "text": [
      "Processing:  62%|██████▎   | 50/80 [00:15<00:09,  3.30it/s]"
     ]
    },
    {
     "name": "stdout",
     "output_type": "stream",
     "text": [
      "1/1 [==============================] - 0s 273ms/step\n"
     ]
    },
    {
     "name": "stderr",
     "output_type": "stream",
     "text": [
      "Processing:  64%|██████▍   | 51/80 [00:15<00:08,  3.29it/s]"
     ]
    },
    {
     "name": "stdout",
     "output_type": "stream",
     "text": [
      "1/1 [==============================] - 0s 283ms/step\n"
     ]
    },
    {
     "name": "stderr",
     "output_type": "stream",
     "text": [
      "Processing:  65%|██████▌   | 52/80 [00:15<00:08,  3.25it/s]"
     ]
    },
    {
     "name": "stdout",
     "output_type": "stream",
     "text": [
      "1/1 [==============================] - 0s 281ms/step\n"
     ]
    },
    {
     "name": "stderr",
     "output_type": "stream",
     "text": [
      "Processing:  66%|██████▋   | 53/80 [00:16<00:08,  3.24it/s]"
     ]
    },
    {
     "name": "stdout",
     "output_type": "stream",
     "text": [
      "1/1 [==============================] - 0s 319ms/step\n"
     ]
    },
    {
     "name": "stderr",
     "output_type": "stream",
     "text": [
      "Processing:  68%|██████▊   | 54/80 [00:16<00:08,  3.10it/s]"
     ]
    },
    {
     "name": "stdout",
     "output_type": "stream",
     "text": [
      "1/1 [==============================] - 0s 279ms/step\n"
     ]
    },
    {
     "name": "stderr",
     "output_type": "stream",
     "text": [
      "Processing:  69%|██████▉   | 55/80 [00:16<00:07,  3.13it/s]"
     ]
    },
    {
     "name": "stdout",
     "output_type": "stream",
     "text": [
      "1/1 [==============================] - 0s 287ms/step\n"
     ]
    },
    {
     "name": "stderr",
     "output_type": "stream",
     "text": [
      "Processing:  70%|███████   | 56/80 [00:17<00:07,  3.13it/s]"
     ]
    },
    {
     "name": "stdout",
     "output_type": "stream",
     "text": [
      "1/1 [==============================] - 0s 298ms/step\n"
     ]
    },
    {
     "name": "stderr",
     "output_type": "stream",
     "text": [
      "Processing:  71%|███████▏  | 57/80 [00:17<00:07,  3.10it/s]"
     ]
    },
    {
     "name": "stdout",
     "output_type": "stream",
     "text": [
      "1/1 [==============================] - 0s 275ms/step\n"
     ]
    },
    {
     "name": "stderr",
     "output_type": "stream",
     "text": [
      "Processing:  72%|███████▎  | 58/80 [00:17<00:07,  3.14it/s]"
     ]
    },
    {
     "name": "stdout",
     "output_type": "stream",
     "text": [
      "1/1 [==============================] - 0s 273ms/step\n"
     ]
    },
    {
     "name": "stderr",
     "output_type": "stream",
     "text": [
      "Processing:  74%|███████▍  | 59/80 [00:18<00:06,  3.17it/s]"
     ]
    },
    {
     "name": "stdout",
     "output_type": "stream",
     "text": [
      "1/1 [==============================] - 0s 269ms/step\n"
     ]
    },
    {
     "name": "stderr",
     "output_type": "stream",
     "text": [
      "Processing:  75%|███████▌  | 60/80 [00:18<00:06,  3.22it/s]"
     ]
    },
    {
     "name": "stdout",
     "output_type": "stream",
     "text": [
      "1/1 [==============================] - 0s 275ms/step\n"
     ]
    },
    {
     "name": "stderr",
     "output_type": "stream",
     "text": [
      "Processing:  76%|███████▋  | 61/80 [00:18<00:05,  3.23it/s]"
     ]
    },
    {
     "name": "stdout",
     "output_type": "stream",
     "text": [
      "1/1 [==============================] - 0s 269ms/step\n"
     ]
    },
    {
     "name": "stderr",
     "output_type": "stream",
     "text": [
      "Processing:  78%|███████▊  | 62/80 [00:19<00:05,  3.26it/s]"
     ]
    },
    {
     "name": "stdout",
     "output_type": "stream",
     "text": [
      "1/1 [==============================] - 0s 266ms/step\n"
     ]
    },
    {
     "name": "stderr",
     "output_type": "stream",
     "text": [
      "Processing:  79%|███████▉  | 63/80 [00:19<00:05,  3.30it/s]"
     ]
    },
    {
     "name": "stdout",
     "output_type": "stream",
     "text": [
      "1/1 [==============================] - 0s 273ms/step\n"
     ]
    },
    {
     "name": "stderr",
     "output_type": "stream",
     "text": [
      "Processing:  80%|████████  | 64/80 [00:19<00:04,  3.30it/s]"
     ]
    },
    {
     "name": "stdout",
     "output_type": "stream",
     "text": [
      "1/1 [==============================] - 0s 263ms/step\n"
     ]
    },
    {
     "name": "stderr",
     "output_type": "stream",
     "text": [
      "Processing:  81%|████████▏ | 65/80 [00:19<00:04,  3.33it/s]"
     ]
    },
    {
     "name": "stdout",
     "output_type": "stream",
     "text": [
      "1/1 [==============================] - 0s 291ms/step\n"
     ]
    },
    {
     "name": "stderr",
     "output_type": "stream",
     "text": [
      "Processing:  82%|████████▎ | 66/80 [00:20<00:04,  3.26it/s]"
     ]
    },
    {
     "name": "stdout",
     "output_type": "stream",
     "text": [
      "1/1 [==============================] - 0s 294ms/step\n"
     ]
    },
    {
     "name": "stderr",
     "output_type": "stream",
     "text": [
      "Processing:  84%|████████▍ | 67/80 [00:20<00:04,  3.20it/s]"
     ]
    },
    {
     "name": "stdout",
     "output_type": "stream",
     "text": [
      "1/1 [==============================] - 0s 287ms/step\n"
     ]
    },
    {
     "name": "stderr",
     "output_type": "stream",
     "text": [
      "Processing:  85%|████████▌ | 68/80 [00:20<00:03,  3.17it/s]"
     ]
    },
    {
     "name": "stdout",
     "output_type": "stream",
     "text": [
      "1/1 [==============================] - 0s 286ms/step\n"
     ]
    },
    {
     "name": "stderr",
     "output_type": "stream",
     "text": [
      "Processing:  86%|████████▋ | 69/80 [00:21<00:03,  3.16it/s]"
     ]
    },
    {
     "name": "stdout",
     "output_type": "stream",
     "text": [
      "1/1 [==============================] - 0s 275ms/step\n"
     ]
    },
    {
     "name": "stderr",
     "output_type": "stream",
     "text": [
      "Processing:  88%|████████▊ | 70/80 [00:21<00:03,  3.19it/s]"
     ]
    },
    {
     "name": "stdout",
     "output_type": "stream",
     "text": [
      "1/1 [==============================] - 0s 263ms/step\n"
     ]
    },
    {
     "name": "stderr",
     "output_type": "stream",
     "text": [
      "Processing:  89%|████████▉ | 71/80 [00:21<00:02,  3.21it/s]"
     ]
    },
    {
     "name": "stdout",
     "output_type": "stream",
     "text": [
      "1/1 [==============================] - 0s 297ms/step\n"
     ]
    },
    {
     "name": "stderr",
     "output_type": "stream",
     "text": [
      "Processing:  90%|█████████ | 72/80 [00:22<00:02,  3.16it/s]"
     ]
    },
    {
     "name": "stdout",
     "output_type": "stream",
     "text": [
      "1/1 [==============================] - 0s 292ms/step\n"
     ]
    },
    {
     "name": "stderr",
     "output_type": "stream",
     "text": [
      "Processing:  91%|█████████▏| 73/80 [00:22<00:02,  3.13it/s]"
     ]
    },
    {
     "name": "stdout",
     "output_type": "stream",
     "text": [
      "1/1 [==============================] - 0s 281ms/step\n"
     ]
    },
    {
     "name": "stderr",
     "output_type": "stream",
     "text": [
      "Processing:  92%|█████████▎| 74/80 [00:22<00:01,  3.14it/s]"
     ]
    },
    {
     "name": "stdout",
     "output_type": "stream",
     "text": [
      "1/1 [==============================] - 0s 275ms/step\n"
     ]
    },
    {
     "name": "stderr",
     "output_type": "stream",
     "text": [
      "Processing:  94%|█████████▍| 75/80 [00:23<00:01,  3.18it/s]"
     ]
    },
    {
     "name": "stdout",
     "output_type": "stream",
     "text": [
      "1/1 [==============================] - 0s 272ms/step\n"
     ]
    },
    {
     "name": "stderr",
     "output_type": "stream",
     "text": [
      "Processing:  95%|█████████▌| 76/80 [00:23<00:01,  3.22it/s]"
     ]
    },
    {
     "name": "stdout",
     "output_type": "stream",
     "text": [
      "1/1 [==============================] - 0s 268ms/step\n"
     ]
    },
    {
     "name": "stderr",
     "output_type": "stream",
     "text": [
      "Processing:  96%|█████████▋| 77/80 [00:23<00:00,  3.26it/s]"
     ]
    },
    {
     "name": "stdout",
     "output_type": "stream",
     "text": [
      "1/1 [==============================] - 0s 263ms/step\n"
     ]
    },
    {
     "name": "stderr",
     "output_type": "stream",
     "text": [
      "Processing:  98%|█████████▊| 78/80 [00:24<00:00,  3.29it/s]"
     ]
    },
    {
     "name": "stdout",
     "output_type": "stream",
     "text": [
      "1/1 [==============================] - 0s 269ms/step\n"
     ]
    },
    {
     "name": "stderr",
     "output_type": "stream",
     "text": [
      "Processing:  99%|█████████▉| 79/80 [00:24<00:00,  3.30it/s]"
     ]
    },
    {
     "name": "stdout",
     "output_type": "stream",
     "text": [
      "1/1 [==============================] - 0s 274ms/step\n"
     ]
    },
    {
     "name": "stderr",
     "output_type": "stream",
     "text": [
      "Processing: 100%|██████████| 80/80 [00:24<00:00,  3.25it/s]\n"
     ]
    }
   ],
   "source": [
    "# precit all frame\n",
    "all_mask,all_spine_pr,all_den_pr= unetmodel.predict_time_imgs(imgs)\n",
    "modify_masks(all_mask,sizeth=4)\n",
    "\n"
   ]
  },
  {
   "cell_type": "code",
   "execution_count": 9,
   "metadata": {},
   "outputs": [],
   "source": [
    "binary_func=threshold_isodata\n",
    "def adth_func_time(imgs,binary_func):\n",
    "    if binary_func.__name__=='local_threshold':\n",
    "        adths=[binary_func(img) for img in imgs]\n",
    "        ads=np.array(adths)\n",
    "        meanbg = np.mean(imgs[ads<1])\n",
    "        th=np.max(imgs[ads<1])\n",
    "    else:    \n",
    "        mim=np.mean(imgs[0:5],axis=0)\n",
    "        th=binary_func(mim)\n",
    "        meanbg = np.mean(mim[mim<th])\n",
    "            \n",
    "        adths=[img>th for img in imgs]\n",
    "    return np.array(adths),th,meanbg\n",
    "all_adths,th,meanbg=adth_func_time(imgs,binary_func)"
   ]
  },
  {
   "cell_type": "code",
   "execution_count": 14,
   "metadata": {},
   "outputs": [],
   "source": [
    "\n",
    "proj_spinepr=np.max(all_spine_pr,axis=0)\n",
    "ppr=np.mean(all_spine_pr,axis=0)\n",
    "proj_mask=np.max(all_mask,axis=0)\n",
    "proj_adths=np.max(all_adths,axis=0)\n",
    "pr_corner=peakfilter(ppr,3,0,use_gaussian=True)*(proj_spinepr>0.7)*proj_adths\n",
    "proj_spine_label=segment.label_instance_water(proj_spinepr,pr_corner,(proj_spinepr>0.7), \n",
    "                                 maxspinesize,searchbox=[7,7])\n",
    "\n",
    "proj_spine_label=remove_small_objects(proj_spine_label,min_size=20)\n",
    "viewer=imgio.plot.imshow3d(I=imgs,Is_overlay=[proj_spinepr,proj_adths],name_Is=[\"spinepr\",\"adths\"],\n",
    "                           label_lay=[proj_spine_label,spine_label],label_lay_name=[\"spine label\",\"mask\"],\n",
    "                           #point_lay=[points2,]\n",
    "                           )"
   ]
  },
  {
   "cell_type": "code",
   "execution_count": 16,
   "metadata": {},
   "outputs": [],
   "source": [
    "# see and edit result\n",
    "\n",
    "viewer=imgio.plot.imshow3d(I=imgs,Is_overlay=[spinepr],name_Is=[\"spinepr\"],\n",
    "                           label_lay=[proj_spine_label],label_lay_name=[\"spine\"],\n",
    "                           )\n",
    "\n",
    "edit_spine_label_proj=viewer.layers[\"spine\"].data"
   ]
  },
  {
   "cell_type": "code",
   "execution_count": 125,
   "metadata": {},
   "outputs": [],
   "source": [
    "aaa=edit_spine_label_proj.copy()"
   ]
  },
  {
   "cell_type": "code",
   "execution_count": 16,
   "metadata": {},
   "outputs": [],
   "source": [
    "# view multi frames segment\n",
    "all_spine_imgs=segment.keep_spineimg_bypr(imgs,all_mask,all_spine_pr,th=0.5)#keep_spine(imgs,all_mask)\n",
    "\n",
    "\n",
    "# t_edit_pr_spine_proj=edit_spine_label_proj\n",
    "\n",
    "\n",
    "t_edit_pr_spine_proj,_=segment.resortseg(t_edit_pr_spine_proj,2)\n",
    "proj_spine_masks=np.array([t_edit_pr_spine_proj for im in imgs])\n",
    "all_spine_maskes=(all_spine_pr>0.1)*proj_spine_masks*(np.max(all_spine_pr,axis=0)>0.1)#*(all_mask==2)*all_adths\n",
    "\"\"\"illustration\n",
    "imgs\n",
    "\"spine prob\" : predict spine probability\n",
    "\"adth img spine\" : img of spine area , masked by threshold mask and spine mask\n",
    "\"all segmnet\" : predict classification result\n",
    "\"\"\"\n",
    "\n",
    "viewer=imgio.plot.imshow3d(imgs,\n",
    "                              [all_spine_pr,all_spine_imgs*all_adths,all_adths],\n",
    "                              name_Is=[\"spine prob\",\"spine img\",\"adths\"],\n",
    "                              label_lay=[all_spine_maskes,t_edit_pr_spine_proj],\n",
    "                              label_lay_name=[\"spine label\",\"proj spine label\"])"
   ]
  },
  {
   "cell_type": "markdown",
   "metadata": {},
   "source": [
    "3. save mask"
   ]
  },
  {
   "cell_type": "code",
   "execution_count": 18,
   "metadata": {},
   "outputs": [
    {
     "name": "stderr",
     "output_type": "stream",
     "text": [
      "D:\\data\\Train\\QL\\2Dt\\roi_proj\\AVG_seq0_StackedSlices-SIM561_RedCh_SIrecon-2_roi_proj.tif is a low contrast image\n"
     ]
    }
   ],
   "source": [
    "# save result\n",
    "\n",
    "#save roi mask\n",
    "\n",
    "\n",
    "#edit_pr_spine_proj_t : spine max mask (same size for each frame)\n",
    "\n",
    "# imsave(maskfile,all_mask)\n",
    "# imsave(spineprfile,all_spine_pr)\n",
    "\n",
    "# all_mask : den spine back mask 0 1 2\n",
    "tifffile.imwrite(\n",
    "    maskfile,\n",
    "    all_mask.astype(np.uint16),\n",
    "    imagej=True,\n",
    "    photometric='minisblack',\n",
    "    metadata={'axes': 'TYX'},\n",
    ")\n",
    "\n",
    "# all_spine_pr : spine probability\n",
    "tifffile.imwrite(\n",
    "    spineprfile,\n",
    "    all_spine_pr,\n",
    "    imagej=True,\n",
    "    photometric='minisblack',\n",
    "    metadata={'axes': 'TYX'},\n",
    ")\n",
    "\n",
    "\n",
    "tifffile.imwrite(\n",
    "    denprfile,\n",
    "    all_den_pr,\n",
    "    imagej=True,\n",
    "    photometric='minisblack',\n",
    "    metadata={'axes': 'TYX'},\n",
    ")\n",
    "\n",
    "# max frame spine mask\n",
    "imsave(proj_roifile,t_edit_pr_spine_proj.astype(np.uint16))\n",
    "# nspine_maskes : spine's area mask\n",
    "tifffile.imwrite(\n",
    "    each_roifile,\n",
    "    all_spine_maskes.astype(np.uint16),\n",
    "    imagej=True,\n",
    "    photometric='minisblack',\n",
    "    metadata={'axes': 'TYX'},\n",
    ")\n",
    "\n",
    "# removedenfile : remove den area imgs\n",
    "tifffile.imwrite(\n",
    "    removedenfile,\n",
    "    all_spine_imgs,\n",
    "    imagej=True,\n",
    "    photometric='minisblack',\n",
    "    metadata={'axes': 'TYX'},\n",
    ")"
   ]
  },
  {
   "cell_type": "markdown",
   "metadata": {},
   "source": [
    "# Part Two "
   ]
  },
  {
   "cell_type": "markdown",
   "metadata": {},
   "source": [
    "1. load data"
   ]
  },
  {
   "cell_type": "code",
   "execution_count": 181,
   "metadata": {},
   "outputs": [],
   "source": [
    "\n",
    "all_mask=imgio.ski_imread(maskfile)\n",
    "all_spine_pr=imgio.ski_imread(spineprfile)\n",
    "all_den_pr=imgio.ski_imread(denprfile)\n",
    "\n",
    "same_spine_maskes=imgio.ski_imread(proj_roifile)\n",
    "spine_maskes=imgio.ski_imread(each_roifile)\n",
    "\n",
    "spine_imgs=imgio.ski_imread(removedenfile)"
   ]
  },
  {
   "cell_type": "code",
   "execution_count": 182,
   "metadata": {},
   "outputs": [],
   "source": [
    "binary_func=threshold_isodata\n",
    "def adth_func_time(imgs,binary_func):\n",
    "    if binary_func.__name__=='local_threshold':\n",
    "        adths=[binary_func(img) for img in imgs]\n",
    "        ads=np.array(adths)\n",
    "        meanbg = np.mean(imgs[ads<1])\n",
    "        th=np.max(imgs[ads<1])\n",
    "    else:    \n",
    "        mim=np.mean(imgs[0:5],axis=0)\n",
    "        th=binary_func(mim)\n",
    "        meanbg = np.mean(mim[mim<th])\n",
    "            \n",
    "        adths=[img>th for img in imgs]\n",
    "    return np.array(adths),th,meanbg\n",
    "all_adths,th,meanbg=adth_func_time(imgs,binary_func)"
   ]
  },
  {
   "cell_type": "code",
   "execution_count": 186,
   "metadata": {},
   "outputs": [],
   "source": [
    "spine_maskes=[]\n",
    "for spinepr,adth in zip(all_spine_pr,all_adths):\n",
    "    spine_maskes.append(same_spine_maskes*(spinepr>0.3)*adth)\n",
    "   \n",
    "spine_maskes=np.array(spine_maskes)\n",
    "viewer=imgio.plot.imshow3d(imgs,\n",
    "                              [all_spine_pr,all_den_pr,all_adths],\n",
    "                              name_Is=[\"spine prob\",\"denpr\",\"adth\"],\n",
    "                              label_lay=[spine_maskes,same_spine_maskes],\n",
    "                              label_lay_name=[\"spine label\",\"proj spine label\"])"
   ]
  },
  {
   "cell_type": "markdown",
   "metadata": {},
   "source": [
    "2. caculate statistic"
   ]
  },
  {
   "cell_type": "code",
   "execution_count": 187,
   "metadata": {},
   "outputs": [
    {
     "name": "stdout",
     "output_type": "stream",
     "text": [
      "shape (85, 512, 512) (85, 512, 512)\n",
      "shape (1, 512, 512) (1, 512, 512)\n",
      "shape (85, 512, 512) (85, 512, 512)\n"
     ]
    }
   ],
   "source": [
    "import pandas as pd\n",
    "from spinelib.utils import measure\n",
    "from skimage.measure import label, regionprops, regionprops_table\n",
    "same_spine_maskes_t=np.array([same_spine_maskes])\n",
    "\n",
    "same_spine_maskes_ts=np.array([same_spine_maskes for im in imgs])\n",
    "\n",
    "\n",
    "arr=measure.label_series_statics(imgs,spine_maskes,measure=\"area\")\n",
    "df_volume=arr*0.16*0.16\n",
    "df_volume=pd.DataFrame(df_volume)\n",
    "df_volume.rename(columns={0:'bg',1:'den'},inplace=True)\n",
    "\n",
    "#area\n",
    "arr=measure.label_series_statics(same_spine_maskes_t,same_spine_maskes_t,measure=\"area\")\n",
    "arr_volume_same=arr\n",
    "#inten\n",
    "arr=measure.label_series_statics(spine_imgs,same_spine_maskes_ts,measure=\"intensity_mean\")\n",
    "backvs=[np.mean(im[ms==0]) for im,ms in zip(imgs,all_mask)]\n",
    "#bg\n",
    "arr=np.array(arr)\n",
    "arr[:,0]=backvs\n",
    "arr=np.row_stack((arr_volume_same,arr))\n",
    "df_mean=pd.DataFrame(arr)\n",
    "df_mean.rename(columns={0:'bg',1:'den'},index={0:\"area\"},inplace=True)\n",
    "\n"
   ]
  },
  {
   "cell_type": "code",
   "execution_count": 185,
   "metadata": {},
   "outputs": [],
   "source": [
    "# save csv result\n",
    "df_volume.to_csv(areafile)\n",
    "df_mean.to_csv(meanfile)"
   ]
  },
  {
   "cell_type": "markdown",
   "metadata": {},
   "source": [
    "# 3. Part three ： spine to dendrite"
   ]
  },
  {
   "cell_type": "markdown",
   "metadata": {},
   "source": [
    "1.modify den skeleton"
   ]
  },
  {
   "cell_type": "code",
   "execution_count": 90,
   "metadata": {},
   "outputs": [
    {
     "name": "stderr",
     "output_type": "stream",
     "text": [
      "Exception in callback BaseAsyncIOLoop._handle_events(19228, 1)\n",
      "handle: <Handle BaseAsyncIOLoop._handle_events(19228, 1)>\n",
      "Traceback (most recent call last):\n",
      "  File \"c:\\Users\\ZLY\\AppData\\Local\\Programs\\Python\\Python38\\lib\\asyncio\\events.py\", line 81, in _run\n",
      "    self._context.run(self._callback, *self._args)\n",
      "  File \"c:\\Users\\ZLY\\AppData\\Local\\Programs\\Python\\Python38\\lib\\site-packages\\tornado\\platform\\asyncio.py\", line 189, in _handle_events\n",
      "    handler_func(fileobj, events)\n",
      "  File \"c:\\Users\\ZLY\\AppData\\Local\\Programs\\Python\\Python38\\lib\\site-packages\\zmq\\eventloop\\zmqstream.py\", line 452, in _handle_events\n",
      "    self._handle_recv()\n",
      "  File \"c:\\Users\\ZLY\\AppData\\Local\\Programs\\Python\\Python38\\lib\\site-packages\\zmq\\eventloop\\zmqstream.py\", line 481, in _handle_recv\n",
      "    self._run_callback(callback, msg)\n",
      "  File \"c:\\Users\\ZLY\\AppData\\Local\\Programs\\Python\\Python38\\lib\\site-packages\\zmq\\eventloop\\zmqstream.py\", line 431, in _run_callback\n",
      "    callback(*args, **kwargs)\n",
      "  File \"C:\\Users\\ZLY\\AppData\\Roaming\\Python\\Python38\\site-packages\\jupyter_client\\threaded.py\", line 121, in _handle_recv\n",
      "    msg_list = self.ioloop._asyncio_event_loop.run_until_complete(get_msg(future_msg))\n",
      "  File \"c:\\Users\\ZLY\\AppData\\Local\\Programs\\Python\\Python38\\lib\\asyncio\\base_events.py\", line 592, in run_until_complete\n",
      "    self._check_running()\n",
      "  File \"c:\\Users\\ZLY\\AppData\\Local\\Programs\\Python\\Python38\\lib\\asyncio\\base_events.py\", line 554, in _check_running\n",
      "    raise RuntimeError(\n",
      "RuntimeError: Cannot run the event loop while another loop is running\n"
     ]
    }
   ],
   "source": [
    "#--- BINARY---#\n",
    "img=np.max(imgs,axis=0)\n",
    "# img=morphology.white_tophat(img,morphology.cube(5))\n",
    "global_th=binary_func(img)\n",
    "adth=img>global_th\n",
    "# adth=local_threshold(imgs[0],offset=100)\n",
    "noise_mean=np.mean(img[~adth])\n",
    "img=img-noise_mean\n",
    "img[img<0]=0\n",
    "img.shape\n",
    "all_mask=imgio.ski_imread(maskfile)\n",
    "from skimage.morphology import skeletonize_3d\n",
    "den=skeletonize_3d(np.max(all_mask==1,axis=0))\n",
    "den=den>0\n",
    "structure=np.ones((5,)*2)\n",
    "den=morphology.binary_dilation(den,structure)\n",
    "den=den=skeletonize_3d(den)\n",
    "viewer=imgio.plot.imshow3d(img,label_lay=[den],\n",
    "                           label_lay_name=[\"den\"],\n",
    "                                 )"
   ]
  },
  {
   "cell_type": "code",
   "execution_count": 91,
   "metadata": {},
   "outputs": [
    {
     "name": "stderr",
     "output_type": "stream",
     "text": [
      "Exception in callback BaseAsyncIOLoop._handle_events(17516, 1)\n",
      "handle: <Handle BaseAsyncIOLoop._handle_events(17516, 1)>\n",
      "Traceback (most recent call last):\n",
      "  File \"c:\\Users\\ZLY\\AppData\\Local\\Programs\\Python\\Python38\\lib\\asyncio\\events.py\", line 81, in _run\n",
      "    self._context.run(self._callback, *self._args)\n",
      "  File \"c:\\Users\\ZLY\\AppData\\Local\\Programs\\Python\\Python38\\lib\\site-packages\\tornado\\platform\\asyncio.py\", line 189, in _handle_events\n",
      "    handler_func(fileobj, events)\n",
      "  File \"c:\\Users\\ZLY\\AppData\\Local\\Programs\\Python\\Python38\\lib\\site-packages\\zmq\\eventloop\\zmqstream.py\", line 452, in _handle_events\n",
      "    self._handle_recv()\n",
      "  File \"c:\\Users\\ZLY\\AppData\\Local\\Programs\\Python\\Python38\\lib\\site-packages\\zmq\\eventloop\\zmqstream.py\", line 481, in _handle_recv\n",
      "    self._run_callback(callback, msg)\n",
      "  File \"c:\\Users\\ZLY\\AppData\\Local\\Programs\\Python\\Python38\\lib\\site-packages\\zmq\\eventloop\\zmqstream.py\", line 431, in _run_callback\n",
      "    callback(*args, **kwargs)\n",
      "  File \"C:\\Users\\ZLY\\AppData\\Roaming\\Python\\Python38\\site-packages\\jupyter_client\\threaded.py\", line 121, in _handle_recv\n",
      "    msg_list = self.ioloop._asyncio_event_loop.run_until_complete(get_msg(future_msg))\n",
      "  File \"c:\\Users\\ZLY\\AppData\\Local\\Programs\\Python\\Python38\\lib\\asyncio\\base_events.py\", line 592, in run_until_complete\n",
      "    self._check_running()\n",
      "  File \"c:\\Users\\ZLY\\AppData\\Local\\Programs\\Python\\Python38\\lib\\asyncio\\base_events.py\", line 554, in _check_running\n",
      "    raise RuntimeError(\n",
      "RuntimeError: Cannot run the event loop while another loop is running\n"
     ]
    }
   ],
   "source": [
    "viewer=imgio.plot.imshow3d(img,label_lay=[den],\n",
    "                           label_lay_name=[\"den\"],\n",
    "                                 )\n",
    "den=viewer.layers[\"den\"].data"
   ]
  },
  {
   "cell_type": "code",
   "execution_count": 92,
   "metadata": {},
   "outputs": [
    {
     "name": "stderr",
     "output_type": "stream",
     "text": [
      "Exception in callback BaseAsyncIOLoop._handle_events(20108, 1)\n",
      "handle: <Handle BaseAsyncIOLoop._handle_events(20108, 1)>\n",
      "Traceback (most recent call last):\n",
      "  File \"c:\\Users\\ZLY\\AppData\\Local\\Programs\\Python\\Python38\\lib\\asyncio\\events.py\", line 81, in _run\n",
      "    self._context.run(self._callback, *self._args)\n",
      "  File \"c:\\Users\\ZLY\\AppData\\Local\\Programs\\Python\\Python38\\lib\\site-packages\\tornado\\platform\\asyncio.py\", line 189, in _handle_events\n",
      "    handler_func(fileobj, events)\n",
      "  File \"c:\\Users\\ZLY\\AppData\\Local\\Programs\\Python\\Python38\\lib\\site-packages\\zmq\\eventloop\\zmqstream.py\", line 452, in _handle_events\n",
      "    self._handle_recv()\n",
      "  File \"c:\\Users\\ZLY\\AppData\\Local\\Programs\\Python\\Python38\\lib\\site-packages\\zmq\\eventloop\\zmqstream.py\", line 481, in _handle_recv\n",
      "    self._run_callback(callback, msg)\n",
      "  File \"c:\\Users\\ZLY\\AppData\\Local\\Programs\\Python\\Python38\\lib\\site-packages\\zmq\\eventloop\\zmqstream.py\", line 431, in _run_callback\n",
      "    callback(*args, **kwargs)\n",
      "  File \"C:\\Users\\ZLY\\AppData\\Roaming\\Python\\Python38\\site-packages\\jupyter_client\\threaded.py\", line 121, in _handle_recv\n",
      "    msg_list = self.ioloop._asyncio_event_loop.run_until_complete(get_msg(future_msg))\n",
      "  File \"c:\\Users\\ZLY\\AppData\\Local\\Programs\\Python\\Python38\\lib\\asyncio\\base_events.py\", line 592, in run_until_complete\n",
      "    self._check_running()\n",
      "  File \"c:\\Users\\ZLY\\AppData\\Local\\Programs\\Python\\Python38\\lib\\asyncio\\base_events.py\", line 554, in _check_running\n",
      "    raise RuntimeError(\n",
      "RuntimeError: Cannot run the event loop while another loop is running\n"
     ]
    }
   ],
   "source": [
    "import scipy.ndimage as ndi\n",
    "\n",
    "from skimage import morphology\n",
    "den=den>0\n",
    "structure=np.ones((3,)*2)\n",
    "den=morphology.binary_dilation(den,structure)\n",
    "den=den=skeletonize_3d(den)\n",
    "def removenode(skeleton,connection):\n",
    "    for i in range(1,skeleton.shape[0]-1):\n",
    "        for j in range(1,skeleton.shape[1]-1):\n",
    "            if cflow.skeleton_leaf.get_border_connection(skeleton,i,j)>=connection:\n",
    "                skeleton[i,j]=0\n",
    "removenode(den,3)\n",
    "den,_=ndi.label(den,np.ones((3,)*2))\n",
    "viewer=imgio.plot.imshow3d(img,label_lay=[den],\n",
    "                           label_lay_name=[\"den\"],\n",
    "                                 )"
   ]
  },
  {
   "cell_type": "markdown",
   "metadata": {},
   "source": [
    "2. save dendrite skeleton"
   ]
  },
  {
   "cell_type": "code",
   "execution_count": 93,
   "metadata": {},
   "outputs": [],
   "source": [
    "tifffile.imwrite(\n",
    "    skeletonfile,\n",
    "    den.astype(np.uint16),\n",
    "    imagej=True,\n",
    "    photometric='minisblack',\n",
    "    metadata={'axes': 'YX'},\n",
    ")\n"
   ]
  },
  {
   "cell_type": "markdown",
   "metadata": {},
   "source": [
    "3. get trace from spine to dendrite"
   ]
  },
  {
   "cell_type": "code",
   "execution_count": 5,
   "metadata": {},
   "outputs": [
    {
     "name": "stderr",
     "output_type": "stream",
     "text": [
      "..\\spinelib\\utils\\spine_struct.py:191: FutureWarning: Using a non-tuple sequence for multidimensional indexing is deprecated; use `arr[tuple(seq)]` instead of `arr[seq]`. In the future this will be interpreted as an array index, `arr[np.array(seq)]`, which will result either in an error or a different result.\n",
      "  cropimg=img[bindbox].copy()\n",
      "..\\spinelib\\utils\\spine_struct.py:192: FutureWarning: Using a non-tuple sequence for multidimensional indexing is deprecated; use `arr[tuple(seq)]` instead of `arr[seq]`. In the future this will be interpreted as an array index, `arr[np.array(seq)]`, which will result either in an error or a different result.\n",
      "  croplable=labels[bindbox]\n",
      "..\\spinelib\\utils\\spine_struct.py:210: FutureWarning: Using a non-tuple sequence for multidimensional indexing is deprecated; use `arr[tuple(seq)]` instead of `arr[seq]`. In the future this will be interpreted as an array index, `arr[np.array(seq)]`, which will result either in an error or a different result.\n",
      "  linemask[bindbox][maskcrop>0]=maskcrop[maskcrop>0]\n"
     ]
    }
   ],
   "source": [
    "#--- BINARY---#\n",
    "all_mask=imgio.ski_imread(maskfile)\n",
    "den=imgio.ski_imread(skeletonfile)\n",
    "img=np.max(imgs,axis=0)\n",
    "global_th=binary_func(img)\n",
    "adth=img>global_th\n",
    "# adth=local_threshold(imgs[0],offset=100)\n",
    "noise_mean=np.mean(img[~adth])\n",
    "same_spine_maskes=imgio.ski_imread(proj_roifile)\n",
    "same_spine_maskes[den>0]=1\n",
    "cords,linemask=spines_distance(img,same_spine_maskes,[20,20])\n"
   ]
  },
  {
   "cell_type": "code",
   "execution_count": 8,
   "metadata": {},
   "outputs": [
    {
     "data": {
      "text/plain": [
       "<Vectors layer 'Vectors' at 0x2b522d41bb0>"
      ]
     },
     "execution_count": 8,
     "metadata": {},
     "output_type": "execute_result"
    },
    {
     "name": "stderr",
     "output_type": "stream",
     "text": [
      "Exception in callback BaseAsyncIOLoop._handle_events(8540, 1)\n",
      "handle: <Handle BaseAsyncIOLoop._handle_events(8540, 1)>\n",
      "Traceback (most recent call last):\n",
      "  File \"c:\\Users\\ZLY\\AppData\\Local\\Programs\\Python\\Python38\\lib\\asyncio\\events.py\", line 81, in _run\n",
      "    self._context.run(self._callback, *self._args)\n",
      "  File \"c:\\Users\\ZLY\\AppData\\Local\\Programs\\Python\\Python38\\lib\\site-packages\\tornado\\platform\\asyncio.py\", line 189, in _handle_events\n",
      "    handler_func(fileobj, events)\n",
      "  File \"c:\\Users\\ZLY\\AppData\\Local\\Programs\\Python\\Python38\\lib\\site-packages\\zmq\\eventloop\\zmqstream.py\", line 452, in _handle_events\n",
      "    self._handle_recv()\n",
      "  File \"c:\\Users\\ZLY\\AppData\\Local\\Programs\\Python\\Python38\\lib\\site-packages\\zmq\\eventloop\\zmqstream.py\", line 481, in _handle_recv\n",
      "    self._run_callback(callback, msg)\n",
      "  File \"c:\\Users\\ZLY\\AppData\\Local\\Programs\\Python\\Python38\\lib\\site-packages\\zmq\\eventloop\\zmqstream.py\", line 431, in _run_callback\n",
      "    callback(*args, **kwargs)\n",
      "  File \"C:\\Users\\ZLY\\AppData\\Roaming\\Python\\Python38\\site-packages\\jupyter_client\\threaded.py\", line 121, in _handle_recv\n",
      "    msg_list = self.ioloop._asyncio_event_loop.run_until_complete(get_msg(future_msg))\n",
      "  File \"c:\\Users\\ZLY\\AppData\\Local\\Programs\\Python\\Python38\\lib\\asyncio\\base_events.py\", line 592, in run_until_complete\n",
      "    self._check_running()\n",
      "  File \"c:\\Users\\ZLY\\AppData\\Local\\Programs\\Python\\Python38\\lib\\asyncio\\base_events.py\", line 554, in _check_running\n",
      "    raise RuntimeError(\n",
      "RuntimeError: Cannot run the event loop while another loop is running\n"
     ]
    }
   ],
   "source": [
    "pointers=[cord[0] for k,cord in cords.items() if cord]\n",
    "# print(pointers)\n",
    "vectors=[(cord[0],np.array(cord[1])-cord[0]) for k,cord in cords.items() if cord[1]]\n",
    "viewer=imgio.plot.imshow3d(img,label_lay=[all_mask,linemask,den],\n",
    "                           label_lay_name=[\"label\",\"line\",\"den\"],\n",
    "                           point_lay=[pointers]\n",
    "                                 )\n",
    "viewer.add_vectors(\n",
    "            vectors\n",
    "        )"
   ]
  },
  {
   "cell_type": "markdown",
   "metadata": {},
   "source": [
    "4. caculate density"
   ]
  },
  {
   "cell_type": "code",
   "execution_count": 96,
   "metadata": {},
   "outputs": [
    {
     "name": "stdout",
     "output_type": "stream",
     "text": [
      "1 72.8 95 1.304945054945055\n",
      "3 75.2 94 1.25\n",
      "5 40.160000000000004 44 1.0956175298804782\n"
     ]
    }
   ],
   "source": [
    "import collections\n",
    "cnts=collections.defaultdict(int)\n",
    "for k,cord in cords.items():\n",
    "    if cord[1]:\n",
    "        x,y=cord[1]\n",
    "        cnts[den[x,y]]+=1 \n",
    "\n",
    "dlabels,dareas,indexs=spinelib.utils.measure.label_statics(den)\n",
    "for lab,area in zip(dlabels,dareas):\n",
    "    print(lab,area*0.16,cnts[lab],cnts[lab]/area/0.16)"
   ]
  },
  {
   "cell_type": "markdown",
   "metadata": {},
   "source": [
    "# part 4 : caculate local cluster corelation"
   ]
  },
  {
   "cell_type": "code",
   "execution_count": null,
   "metadata": {},
   "outputs": [],
   "source": []
  },
  {
   "cell_type": "code",
   "execution_count": 47,
   "metadata": {},
   "outputs": [],
   "source": [
    "\n",
    "\n",
    "#--- PEAK SPOT FILTER : SPINE SEED---#\n",
    "# %matplotlib inline\n",
    "denmask,_=predict.predict_single_img(unetmodel,img)\n",
    "corner=peakfilter(img,3,0,use_gaussian=True)*adth*(denmask!=1)\n",
    "\n",
    "\n",
    "# filter seed\n",
    "points2=np.array(napari_base.get_point(corner))\n",
    "points,points2=model_predict(points2,img,peakmodel,boxsize=(16,16))\n",
    "\n",
    "#--- GROW AREA---#\n",
    "corner2=napari_base.get_mask_from_point(points,img.shape)\n",
    "labels,num=segment.ndilable(corner2,1)\n",
    "ls = segment.foreach_grow(img, num_iter=spine_radius, \n",
    "                              init_level_set=labels,\n",
    "                              searchbox=search_box,\n",
    "                              sizeth=maxspinesize,adth=adth,\n",
    "                              method=\"geo\",smoothing=0)\n",
    "mask=(denmask==1).astype(np.uint16)\n",
    "mask[mask<1]=ls[mask<1]\n",
    "mask=watershed(-img,mask,mask=adth)\n",
    "mask=remove_small_objects(mask,4)\n",
    "mask,_=segment.resortseg(mask)\n",
    "# ls=segment.fill_hulls(ls)\n",
    "# np.save(\"kkk.npy\",dspimg)\n",
    "# points2=filter_p3d(points,img,clff)\n",
    "ls=mask*(mask>1)"
   ]
  },
  {
   "cell_type": "code",
   "execution_count": 48,
   "metadata": {},
   "outputs": [
    {
     "name": "stderr",
     "output_type": "stream",
     "text": [
      "WARNING: DirectWrite: CreateFontFaceFromHDC() failed (指示输入文件 (例如字体文件) 中的错误。) for QFontDef(Family=\"\", pointsize=12, pixelsize=16, styleHint=5, weight=50, stretch=100, hintingPreference=0) LOGFONT(\"MS Sans Serif\", lfWidth=0, lfHeight=-16) dpi=96\n",
      "Exception in callback BaseAsyncIOLoop._handle_events(12104, 1)\n",
      "handle: <Handle BaseAsyncIOLoop._handle_events(12104, 1)>\n",
      "Traceback (most recent call last):\n",
      "  File \"c:\\Users\\ZLY\\AppData\\Local\\Programs\\Python\\Python38\\lib\\asyncio\\events.py\", line 81, in _run\n",
      "    self._context.run(self._callback, *self._args)\n",
      "  File \"c:\\Users\\ZLY\\AppData\\Local\\Programs\\Python\\Python38\\lib\\site-packages\\tornado\\platform\\asyncio.py\", line 189, in _handle_events\n",
      "    handler_func(fileobj, events)\n",
      "  File \"c:\\Users\\ZLY\\AppData\\Local\\Programs\\Python\\Python38\\lib\\site-packages\\zmq\\eventloop\\zmqstream.py\", line 452, in _handle_events\n",
      "    self._handle_recv()\n",
      "  File \"c:\\Users\\ZLY\\AppData\\Local\\Programs\\Python\\Python38\\lib\\site-packages\\zmq\\eventloop\\zmqstream.py\", line 481, in _handle_recv\n",
      "    self._run_callback(callback, msg)\n",
      "  File \"c:\\Users\\ZLY\\AppData\\Local\\Programs\\Python\\Python38\\lib\\site-packages\\zmq\\eventloop\\zmqstream.py\", line 431, in _run_callback\n",
      "    callback(*args, **kwargs)\n",
      "  File \"C:\\Users\\ZLY\\AppData\\Roaming\\Python\\Python38\\site-packages\\jupyter_client\\threaded.py\", line 121, in _handle_recv\n",
      "    msg_list = self.ioloop._asyncio_event_loop.run_until_complete(get_msg(future_msg))\n",
      "  File \"c:\\Users\\ZLY\\AppData\\Local\\Programs\\Python\\Python38\\lib\\asyncio\\base_events.py\", line 592, in run_until_complete\n",
      "    self._check_running()\n",
      "  File \"c:\\Users\\ZLY\\AppData\\Local\\Programs\\Python\\Python38\\lib\\asyncio\\base_events.py\", line 554, in _check_running\n",
      "    raise RuntimeError(\n",
      "RuntimeError: Cannot run the event loop while another loop is running\n"
     ]
    }
   ],
   "source": [
    "viewer=etsynseg.plot.imshow3d(np.concatenate((img[None,...],imgs),axis=0),[mask], label_lay=[ls],lablel_lay_name=[\"lls\"])\n",
    "ls2=viewer.layers[\"lls\"].data\n",
    "mask[ls2>0]=ls2[ls2>0]"
   ]
  },
  {
   "cell_type": "code",
   "execution_count": 146,
   "metadata": {},
   "outputs": [],
   "source": [
    "# mask,_=segment.resortseg(mask)\n",
    "lss=th_img(imgs,mask,binary_func)\n",
    "lss,_=segment.resortseg(lss,2)"
   ]
  },
  {
   "cell_type": "code",
   "execution_count": 147,
   "metadata": {},
   "outputs": [
    {
     "name": "stderr",
     "output_type": "stream",
     "text": [
      "WARNING: DirectWrite: CreateFontFaceFromHDC() failed (指示输入文件 (例如字体文件) 中的错误。) for QFontDef(Family=\"\", pointsize=12, pixelsize=16, styleHint=5, weight=50, stretch=100, hintingPreference=0) LOGFONT(\"MS Sans Serif\", lfWidth=0, lfHeight=-16) dpi=96\n",
      "Exception in callback BaseAsyncIOLoop._handle_events(23844, 1)\n",
      "handle: <Handle BaseAsyncIOLoop._handle_events(23844, 1)>\n",
      "Traceback (most recent call last):\n",
      "  File \"c:\\Users\\ZLY\\AppData\\Local\\Programs\\Python\\Python38\\lib\\asyncio\\events.py\", line 81, in _run\n",
      "    self._context.run(self._callback, *self._args)\n",
      "  File \"c:\\Users\\ZLY\\AppData\\Local\\Programs\\Python\\Python38\\lib\\site-packages\\tornado\\platform\\asyncio.py\", line 189, in _handle_events\n",
      "    handler_func(fileobj, events)\n",
      "  File \"c:\\Users\\ZLY\\AppData\\Local\\Programs\\Python\\Python38\\lib\\site-packages\\zmq\\eventloop\\zmqstream.py\", line 452, in _handle_events\n",
      "    self._handle_recv()\n",
      "  File \"c:\\Users\\ZLY\\AppData\\Local\\Programs\\Python\\Python38\\lib\\site-packages\\zmq\\eventloop\\zmqstream.py\", line 481, in _handle_recv\n",
      "    self._run_callback(callback, msg)\n",
      "  File \"c:\\Users\\ZLY\\AppData\\Local\\Programs\\Python\\Python38\\lib\\site-packages\\zmq\\eventloop\\zmqstream.py\", line 431, in _run_callback\n",
      "    callback(*args, **kwargs)\n",
      "  File \"C:\\Users\\ZLY\\AppData\\Roaming\\Python\\Python38\\site-packages\\jupyter_client\\threaded.py\", line 121, in _handle_recv\n",
      "    msg_list = self.ioloop._asyncio_event_loop.run_until_complete(get_msg(future_msg))\n",
      "  File \"c:\\Users\\ZLY\\AppData\\Local\\Programs\\Python\\Python38\\lib\\asyncio\\base_events.py\", line 592, in run_until_complete\n",
      "    self._check_running()\n",
      "  File \"c:\\Users\\ZLY\\AppData\\Local\\Programs\\Python\\Python38\\lib\\asyncio\\base_events.py\", line 554, in _check_running\n",
      "    raise RuntimeError(\n",
      "RuntimeError: Cannot run the event loop while another loop is running\n"
     ]
    }
   ],
   "source": [
    "viewer=etsynseg.plot.imshow3d(imgs, label_lay=[np.array([lss]),ls],lablel_lay_name=[\"lls\",\"ls\"])"
   ]
  },
  {
   "cell_type": "code",
   "execution_count": 148,
   "metadata": {},
   "outputs": [],
   "source": [
    "from utils import measure\n",
    "all_lss=[ls for img in imgs]\n",
    "df=measure.label_series_statics(imgs,all_lss,measure=\"mean_intensity\")\n",
    "df2=measure.label_series_statics(imgs,lss,measure=\"area\")"
   ]
  },
  {
   "cell_type": "code",
   "execution_count": 12,
   "metadata": {},
   "outputs": [],
   "source": [
    "df2.to_csv(\"area.csv\")"
   ]
  },
  {
   "cell_type": "code",
   "execution_count": 13,
   "metadata": {},
   "outputs": [],
   "source": [
    "viewer=etsynseg.plot.imshow3d(imgs,[adth], label_lay=[all_lls,lss],lablel_lay_name=[\"all\",\"lss\"])\n",
    "# labels = viewer.layers[\"Labels\"].data\n"
   ]
  },
  {
   "cell_type": "code",
   "execution_count": 14,
   "metadata": {},
   "outputs": [
    {
     "name": "stderr",
     "output_type": "stream",
     "text": [
      "Exception in callback BaseAsyncIOLoop._handle_events(9068, 1)\n",
      "handle: <Handle BaseAsyncIOLoop._handle_events(9068, 1)>\n",
      "Traceback (most recent call last):\n",
      "  File \"C:\\Users\\ZLY\\AppData\\Local\\Programs\\Python\\Python38\\lib\\asyncio\\events.py\", line 81, in _run\n",
      "    self._context.run(self._callback, *self._args)\n",
      "  File \"C:\\Users\\ZLY\\AppData\\Local\\Programs\\Python\\Python38\\lib\\site-packages\\tornado\\platform\\asyncio.py\", line 189, in _handle_events\n",
      "    handler_func(fileobj, events)\n",
      "  File \"C:\\Users\\ZLY\\AppData\\Local\\Programs\\Python\\Python38\\lib\\site-packages\\zmq\\eventloop\\zmqstream.py\", line 452, in _handle_events\n",
      "    self._handle_recv()\n",
      "  File \"C:\\Users\\ZLY\\AppData\\Local\\Programs\\Python\\Python38\\lib\\site-packages\\zmq\\eventloop\\zmqstream.py\", line 481, in _handle_recv\n",
      "    self._run_callback(callback, msg)\n",
      "  File \"C:\\Users\\ZLY\\AppData\\Local\\Programs\\Python\\Python38\\lib\\site-packages\\zmq\\eventloop\\zmqstream.py\", line 431, in _run_callback\n",
      "    callback(*args, **kwargs)\n",
      "  File \"C:\\Users\\ZLY\\AppData\\Roaming\\Python\\Python38\\site-packages\\jupyter_client\\threaded.py\", line 121, in _handle_recv\n",
      "    msg_list = self.ioloop._asyncio_event_loop.run_until_complete(get_msg(future_msg))\n",
      "  File \"C:\\Users\\ZLY\\AppData\\Local\\Programs\\Python\\Python38\\lib\\asyncio\\base_events.py\", line 592, in run_until_complete\n",
      "    self._check_running()\n",
      "  File \"C:\\Users\\ZLY\\AppData\\Local\\Programs\\Python\\Python38\\lib\\asyncio\\base_events.py\", line 554, in _check_running\n",
      "    raise RuntimeError(\n",
      "RuntimeError: Cannot run the event loop while another loop is running\n",
      "coroutine 'get_msg' was never awaited\n",
      "Processing: 100%|██████████| 46/46 [00:00<00:00, 1256.97it/s]\n"
     ]
    }
   ],
   "source": [
    "# run time\n",
    "\n",
    "\n",
    "# =========initial series =======\n",
    "corners=np.zeros_like(imgs)\n",
    "nofinders=None\n",
    "labcounts={}\n",
    "oimg=imgs[0]\n",
    "# ols=ls\n",
    "ols=None\n",
    "startl=1\n",
    "# =========time series store=======\n",
    "ims=[]\n",
    "lss=[]\n",
    "lss2=[]\n",
    "peaks=[]\n",
    "tracks=[]\n",
    "adths=[]\n",
    "miss=[]\n",
    "# for img in imgs:\n",
    "#     adth=local_threshold(img)\n",
    "\n",
    "nz=imgs.shape[0]\n",
    "objects=[]\n",
    "for i in tqdm(range(len(imgs)), desc='Processing'):\n",
    "    img=imgs[i]\n",
    "    adth=img>global_th\n",
    "    corner=peakfilter(img,3,0,use_gaussian=peak_use_gaussian)*adth\n",
    "    ls=all_lls*adth\n",
    "    \n",
    "    lss.append(ls)\n",
    "    ims.append(img)\n",
    "    peaks.append(corner)\n",
    "    # miss.append(nofinders)\n",
    "    # adths.append(adth)\n",
    "    # ols=nls2"
   ]
  },
  {
   "cell_type": "code",
   "execution_count": 15,
   "metadata": {},
   "outputs": [
    {
     "ename": "IndexError",
     "evalue": "tuple index out of range",
     "output_type": "error",
     "traceback": [
      "\u001b[1;31m---------------------------------------------------------------------------\u001b[0m",
      "\u001b[1;31mIndexError\u001b[0m                                Traceback (most recent call last)",
      "\u001b[1;32md:\\spine\\segment\\some_analysis_for_spine_img\\ipynb\\object_and_tracking_2D.ipynb Cell 17'\u001b[0m in \u001b[0;36m<cell line: 1>\u001b[1;34m()\u001b[0m\n\u001b[1;32m----> <a href='vscode-notebook-cell:/d%3A/spine/segment/some_analysis_for_spine_img/ipynb/object_and_tracking_2D.ipynb#ch0000016?line=0'>1</a>\u001b[0m viewer\u001b[39m=\u001b[39metsynseg\u001b[39m.\u001b[39;49mplot\u001b[39m.\u001b[39;49mimshow3d(imgs, [peaks],label_lay\u001b[39m=\u001b[39;49m[np\u001b[39m.\u001b[39;49marray([lss])])\n",
      "File \u001b[1;32md:\\spine\\segment\\some_analysis_for_spine_img\\etsynseg\\plot.py:306\u001b[0m, in \u001b[0;36mimshow3d\u001b[1;34m(I, Is_overlay, vecs_zyx, vecs_dir, vec_width, point_lay, label_lay, lablel_lay_name, name_I, name_Is, name_vecs, cmap_Is, cmap_vecs, visible_Is, visible_vecs)\u001b[0m\n\u001b[0;32m    <a href='file:///d%3A/spine/segment/some_analysis_for_spine_img/etsynseg/plot.py?line=303'>304</a>\u001b[0m     viewer\u001b[39m.\u001b[39madd_points(point_lay[i],size\u001b[39m=\u001b[39m\u001b[39m2\u001b[39m,opacity\u001b[39m=\u001b[39m\u001b[39m0.7\u001b[39m)\n\u001b[0;32m    <a href='file:///d%3A/spine/segment/some_analysis_for_spine_img/etsynseg/plot.py?line=304'>305</a>\u001b[0m \u001b[39mfor\u001b[39;00m i \u001b[39min\u001b[39;00m \u001b[39mrange\u001b[39m(\u001b[39mlen\u001b[39m(label_lay)):\n\u001b[1;32m--> <a href='file:///d%3A/spine/segment/some_analysis_for_spine_img/etsynseg/plot.py?line=305'>306</a>\u001b[0m     viewer\u001b[39m.\u001b[39madd_labels(label_lay[i],name\u001b[39m=\u001b[39mlablel_lay_name[i])\n\u001b[0;32m    <a href='file:///d%3A/spine/segment/some_analysis_for_spine_img/etsynseg/plot.py?line=306'>307</a>\u001b[0m \u001b[39m# view vectors\u001b[39;00m\n\u001b[0;32m    <a href='file:///d%3A/spine/segment/some_analysis_for_spine_img/etsynseg/plot.py?line=307'>308</a>\u001b[0m \u001b[39mfor\u001b[39;00m i \u001b[39min\u001b[39;00m \u001b[39mrange\u001b[39m(\u001b[39mlen\u001b[39m(vecs_zyx)):\n",
      "\u001b[1;31mIndexError\u001b[0m: tuple index out of range"
     ]
    },
    {
     "name": "stderr",
     "output_type": "stream",
     "text": [
      "Exception in callback BaseAsyncIOLoop._handle_events(9628, 1)\n",
      "handle: <Handle BaseAsyncIOLoop._handle_events(9628, 1)>\n",
      "Traceback (most recent call last):\n",
      "  File \"C:\\Users\\ZLY\\AppData\\Local\\Programs\\Python\\Python38\\lib\\asyncio\\events.py\", line 81, in _run\n",
      "    self._context.run(self._callback, *self._args)\n",
      "  File \"C:\\Users\\ZLY\\AppData\\Local\\Programs\\Python\\Python38\\lib\\site-packages\\tornado\\platform\\asyncio.py\", line 189, in _handle_events\n",
      "    handler_func(fileobj, events)\n",
      "  File \"C:\\Users\\ZLY\\AppData\\Local\\Programs\\Python\\Python38\\lib\\site-packages\\zmq\\eventloop\\zmqstream.py\", line 452, in _handle_events\n",
      "    self._handle_recv()\n",
      "  File \"C:\\Users\\ZLY\\AppData\\Local\\Programs\\Python\\Python38\\lib\\site-packages\\zmq\\eventloop\\zmqstream.py\", line 481, in _handle_recv\n",
      "    self._run_callback(callback, msg)\n",
      "  File \"C:\\Users\\ZLY\\AppData\\Local\\Programs\\Python\\Python38\\lib\\site-packages\\zmq\\eventloop\\zmqstream.py\", line 431, in _run_callback\n",
      "    callback(*args, **kwargs)\n",
      "  File \"C:\\Users\\ZLY\\AppData\\Roaming\\Python\\Python38\\site-packages\\jupyter_client\\threaded.py\", line 121, in _handle_recv\n",
      "    msg_list = self.ioloop._asyncio_event_loop.run_until_complete(get_msg(future_msg))\n",
      "  File \"C:\\Users\\ZLY\\AppData\\Local\\Programs\\Python\\Python38\\lib\\asyncio\\base_events.py\", line 592, in run_until_complete\n",
      "    self._check_running()\n",
      "  File \"C:\\Users\\ZLY\\AppData\\Local\\Programs\\Python\\Python38\\lib\\asyncio\\base_events.py\", line 554, in _check_running\n",
      "    raise RuntimeError(\n",
      "RuntimeError: Cannot run the event loop while another loop is running\n"
     ]
    }
   ],
   "source": [
    "viewer=etsynseg.plot.imshow3d(imgs, [peaks],label_lay=[np.array([lss])])"
   ]
  },
  {
   "cell_type": "markdown",
   "metadata": {},
   "source": [
    "# PART2\n",
    "> tracking by each frame , not stable"
   ]
  },
  {
   "cell_type": "code",
   "execution_count": 17,
   "metadata": {},
   "outputs": [
    {
     "name": "stderr",
     "output_type": "stream",
     "text": [
      "Processing: 100%|██████████| 46/46 [00:07<00:00,  6.08it/s]\n"
     ]
    }
   ],
   "source": [
    "# run time\n",
    "\n",
    "corners=np.zeros_like(imgs)\n",
    "# lss=np.zeros_like(imgs)\n",
    "\n",
    "# =========initial series =======\n",
    "nofinders=None\n",
    "labcounts={}\n",
    "oimg=imgs[0]\n",
    "# ols=ls\n",
    "ols=None\n",
    "startl=1\n",
    "# =========time series store=======\n",
    "ims=[]\n",
    "lss=[]\n",
    "lss2=[]\n",
    "peaks=[]\n",
    "tracks=[]\n",
    "adths=[]\n",
    "miss=[]\n",
    "# for img in imgs:\n",
    "#     adth=local_threshold(img)\n",
    "global_th=binary_func(imgs[0])\n",
    "nz=imgs.shape[0]\n",
    "objects=[]\n",
    "\n",
    "for i in tqdm(range(len(imgs)), desc='Processing'):\n",
    "    # startl , labcount, nofinder,ols will be update\n",
    "    img=imgs[i]\n",
    "    adth=img>global_th\n",
    "    #adth=local_threshold_3d(imgs[0],method=\"mean\")\n",
    "    # noise_mean=np.mean(img[~adth])\n",
    "    # img=img-noise_mean\n",
    "    # img[img<0]=0\n",
    "    #adth=local_threshold(img)\n",
    "    # adth=remove_small_objects(adth,2)\n",
    "    corner=peakfilter(img,3,0,use_gaussian=peak_use_gaussian)*adth\n",
    "    points0=np.array(napari_base.get_point(corner))\n",
    "    points,points2=model_predict(points0,img,lmodel,boxsize=(16,16))\n",
    "    \n",
    "    corner2=napari_base.get_mask_from_point(points,img.shape)\n",
    "    nls,nofinders,updatalabs,_peak=track.track_by_seg(img,ols,corner,adth,\n",
    "                               spine_radius,labcounts=labcounts,\n",
    "                               resvers=nofinders,\n",
    "                               searchbox=search_box,keep_time=keep_time,\n",
    "                              sizeth=maxspinesize,\n",
    "                              method=\"geo\",smoothing=0)\n",
    "    track.label_pre(lss2,updatalabs,nls,i)\n",
    "    corner3=corner2>nls\n",
    "    labels,num=ndi.label(corner3)\n",
    "    labels[labels>0]+=startl\n",
    "    nls2 = segment.foreach_grow(img, num_iter=spine_radius, \n",
    "                              init_level_set=labels,\n",
    "                              searchbox=search_box,\n",
    "                              sizeth=maxspinesize,adth=adth,\n",
    "                              method=\"geo\",smoothing=0,oldseg=nls)\n",
    "    nls2,startl=segment.resortseg_truncate(nls2,start=startl)\n",
    "    \n",
    "    # nls,peak,nofinders=track_by_seg(img,ols,3,spine_radius,labcounts=labcounts,resvers=nofinders,\n",
    "    #                            searchbox=[5,25,25],keep_time=5,\n",
    "    #                           sizeth=maxspinesize,\n",
    "    #                           method=\"geo\",smoothing=0)\n",
    "    lss.append(nls)\n",
    "    lss2.append(nls2)\n",
    "    ims.append(img)\n",
    "    peaks.append(_peak)\n",
    "    miss.append(nofinders)\n",
    "    adths.append(adth)\n",
    "    ols=nls2\n"
   ]
  },
  {
   "cell_type": "code",
   "execution_count": 18,
   "metadata": {},
   "outputs": [],
   "source": [
    "from utils import measure\n",
    "def _trunc_label(ls,labs):\n",
    "    mask=np.zeros_like(ls)\n",
    "    for lab in labs:\n",
    "        mm=ls==lab\n",
    "        mask[mm]=lab\n",
    "    return mask\n",
    "\n",
    "def _merge_label(ls1,ls2):\n",
    "    #ls2 add to ls1\n",
    "    def most_labs(vs,lab):\n",
    "        ar_unique, c = np.unique(vs, return_counts=True)\n",
    "        arr1inds = c.argsort()\n",
    "        sorted_c = c[arr1inds[::-1]]\n",
    "        sorted_lab = ar_unique[arr1inds[::-1]]\n",
    "        clab,c=0,0\n",
    "        for clab,c in zip(sorted_c,sorted_lab):\n",
    "            if clab==0:continue\n",
    "            if clab==lab:continue\n",
    "            return clab,c\n",
    "        return clab,c\n",
    "        \n",
    "    labs=measure.unique_labs(ls2)\n",
    "\n",
    "    lab_dict=[]\n",
    "    for lab in labs:\n",
    "        mm=ls2==lab\n",
    "        c2=np.sum(mm)\n",
    "        vs=ls1[mm]\n",
    "        clab,c=most_labs(vs,lab)\n",
    "        if c>0.1*c2:\n",
    "            lab_dict.append((clab,lab))\n",
    "            \n",
    "            # ls1[ls1==clab]=lab\n",
    "            # ls1[mm]=lab\n",
    "        else:\n",
    "            \n",
    "            ls1[mm]=lab\n",
    "    return ls1,lab_dict\n",
    "            \n",
    "        \n",
    "\n",
    "def reverse_track_by_seg(imgs,lss,adths,peaks,num_iter,searchbox,keep_time=3,resvers=None,labcounts={},\n",
    "                sizeth=np.inf,method=\"geo\",\n",
    "                smoothing=0,lambda1=1, lambda2=3):\n",
    "    #assume spine not move quickly\n",
    "    # reverse match\n",
    "    imgl=len(lss)\n",
    "    for i1 in range(imgl-1,0,-1):\n",
    "        ls1=lss[i1]\n",
    "        ls2=lss[i1-1]\n",
    "        prelab=set(np.unique(ls1))\n",
    "        curlab=set(np.unique(ls2))\n",
    "        diflab=prelab-curlab\n",
    "        peakmask=peaks[i1-1]\n",
    "        ls=_trunc_label(ls1,diflab)\n",
    "        img=imgs[i1-1]\n",
    "        adth=adths[i1-1]\n",
    "        hitpeak=(ls*peakmask).astype(np.uint64)\n",
    "        intersecls=segment.foreach_grow(img,num_iter,hitpeak,\n",
    "                     searchbox=searchbox,sizeth=sizeth,\n",
    "                     adth=adth,method=method,smoothing=smoothing,\n",
    "                     lambda1=lambda1,lambda2=lambda2)\n",
    "        ls,_=_merge_label(ls2,intersecls)\n",
    "        lss[i1-1]=ls"
   ]
  },
  {
   "cell_type": "code",
   "execution_count": 23,
   "metadata": {},
   "outputs": [],
   "source": [
    "reverse_track_by_seg(ims,lss2,adths,peaks,num_iter=spine_radius,searchbox=search_box,keep_time=3,resvers=None,labcounts={},\n",
    "                sizeth=maxspinesize,method=\"geo\",\n",
    "                smoothing=0,lambda1=1, lambda2=3)"
   ]
  },
  {
   "cell_type": "code",
   "execution_count": 24,
   "metadata": {},
   "outputs": [
    {
     "name": "stderr",
     "output_type": "stream",
     "text": [
      "Exception in callback BaseAsyncIOLoop._handle_events(15792, 1)\n",
      "handle: <Handle BaseAsyncIOLoop._handle_events(15792, 1)>\n",
      "Traceback (most recent call last):\n",
      "  File \"C:\\Users\\ZLY\\AppData\\Local\\Programs\\Python\\Python38\\lib\\asyncio\\events.py\", line 81, in _run\n",
      "    self._context.run(self._callback, *self._args)\n",
      "  File \"C:\\Users\\ZLY\\AppData\\Local\\Programs\\Python\\Python38\\lib\\site-packages\\tornado\\platform\\asyncio.py\", line 189, in _handle_events\n",
      "    handler_func(fileobj, events)\n",
      "  File \"C:\\Users\\ZLY\\AppData\\Local\\Programs\\Python\\Python38\\lib\\site-packages\\zmq\\eventloop\\zmqstream.py\", line 452, in _handle_events\n",
      "    self._handle_recv()\n",
      "  File \"C:\\Users\\ZLY\\AppData\\Local\\Programs\\Python\\Python38\\lib\\site-packages\\zmq\\eventloop\\zmqstream.py\", line 481, in _handle_recv\n",
      "    self._run_callback(callback, msg)\n",
      "  File \"C:\\Users\\ZLY\\AppData\\Local\\Programs\\Python\\Python38\\lib\\site-packages\\zmq\\eventloop\\zmqstream.py\", line 431, in _run_callback\n",
      "    callback(*args, **kwargs)\n",
      "  File \"C:\\Users\\ZLY\\AppData\\Roaming\\Python\\Python38\\site-packages\\jupyter_client\\threaded.py\", line 121, in _handle_recv\n",
      "    msg_list = self.ioloop._asyncio_event_loop.run_until_complete(get_msg(future_msg))\n",
      "  File \"C:\\Users\\ZLY\\AppData\\Local\\Programs\\Python\\Python38\\lib\\asyncio\\base_events.py\", line 592, in run_until_complete\n",
      "    self._check_running()\n",
      "  File \"C:\\Users\\ZLY\\AppData\\Local\\Programs\\Python\\Python38\\lib\\asyncio\\base_events.py\", line 554, in _check_running\n",
      "    raise RuntimeError(\n",
      "RuntimeError: Cannot run the event loop while another loop is running\n"
     ]
    }
   ],
   "source": [
    "viewer=etsynseg.plot.imshow3d(np.array(ims), [peaks,miss],label_lay=[np.array(lss2,dtype=np.uint64),np.array(lss,dtype=np.uint64)],lablel_lay_name=[\"lss\",\"ls\"])"
   ]
  },
  {
   "cell_type": "code",
   "execution_count": 27,
   "metadata": {},
   "outputs": [
    {
     "name": "stderr",
     "output_type": "stream",
     "text": [
      "[INFO][2022/05/07 01:36:40 PM] btrack (v0.4.3) library imported\n",
      "[INFO][2022/05/07 01:36:40 PM] Setting max XYZ search radius to: 100\n",
      "[INFO][2022/05/07 01:36:40 PM] Starting BayesianTracker session\n",
      "[INFO][2022/05/07 01:36:40 PM] Loading motion model: cell_motion\n",
      "[INFO][2022/05/07 01:36:40 PM] Setting max XYZ search radius to: 5\n",
      "[INFO][2022/05/07 01:36:40 PM] Set volume to ((0, 1200), (0, 1200), (0, 1200))\n",
      "[INFO][2022/05/07 01:36:40 PM] Starting tracking... \n",
      "[INFO][2022/05/07 01:36:40 PM] Tracking objects in frames 0 to 10 (of 10)...\n"
     ]
    },
    {
     "name": "stdout",
     "output_type": "stream",
     "text": [
      "2\n",
      "ndim 2\n"
     ]
    },
    {
     "name": "stderr",
     "output_type": "stream",
     "text": [
      "[INFO][2022/05/07 01:36:41 PM] SUCCESS.\n",
      "[INFO][2022/05/07 01:36:41 PM]  - Found 969 tracks in 10 frames (in 0.0s)\n",
      "[INFO][2022/05/07 01:36:41 PM]  - Inserted 44 dummy objects to fill tracking gaps\n",
      "[INFO][2022/05/07 01:36:41 PM] Loading hypothesis model: cell_hypothesis\n",
      "[INFO][2022/05/07 01:36:41 PM] Calculating hypotheses (relax: True)...\n",
      "[INFO][2022/05/07 01:36:41 PM]  - Fates.FALSE_POSITIVE: 969 (of 969)\n",
      "[INFO][2022/05/07 01:36:41 PM]  - Fates.LINK: 0 (of 312)\n",
      "[INFO][2022/05/07 01:36:41 PM]  - Fates.INITIALIZE_BORDER: 0 (of 969)\n",
      "[INFO][2022/05/07 01:36:41 PM]  - TOTAL: 2250 hypotheses\n",
      "[INFO][2022/05/07 01:36:41 PM] Completed optimization with 969 tracks\n",
      "[INFO][2022/05/07 01:36:41 PM] Ending BayesianTracker session\n"
     ]
    }
   ],
   "source": [
    "#brack\n",
    "configfile=r\"D:\\spine\\segment\\some_analysis_for_spine_img\\models\\cell_config1.json\"\n",
    "newlls=track.track_all_series(imgs,lss2,peaks,configfile,search_radius=5,tracklength=10)"
   ]
  },
  {
   "cell_type": "code",
   "execution_count": 29,
   "metadata": {},
   "outputs": [
    {
     "name": "stderr",
     "output_type": "stream",
     "text": [
      "WARNING: DirectWrite: CreateFontFaceFromHDC() failed (指示输入文件 (例如字体文件) 中的错误。) for QFontDef(Family=\"\", pointsize=12, pixelsize=16, styleHint=5, weight=50, stretch=100, hintingPreference=0) LOGFONT(\"MS Sans Serif\", lfWidth=0, lfHeight=-16) dpi=96\n",
      "Exception in callback BaseAsyncIOLoop._handle_events(11044, 1)\n",
      "handle: <Handle BaseAsyncIOLoop._handle_events(11044, 1)>\n",
      "Traceback (most recent call last):\n",
      "  File \"C:\\Users\\ZLY\\AppData\\Local\\Programs\\Python\\Python38\\lib\\asyncio\\events.py\", line 81, in _run\n",
      "    self._context.run(self._callback, *self._args)\n",
      "  File \"C:\\Users\\ZLY\\AppData\\Local\\Programs\\Python\\Python38\\lib\\site-packages\\tornado\\platform\\asyncio.py\", line 189, in _handle_events\n",
      "    handler_func(fileobj, events)\n",
      "  File \"C:\\Users\\ZLY\\AppData\\Local\\Programs\\Python\\Python38\\lib\\site-packages\\zmq\\eventloop\\zmqstream.py\", line 452, in _handle_events\n",
      "    self._handle_recv()\n",
      "  File \"C:\\Users\\ZLY\\AppData\\Local\\Programs\\Python\\Python38\\lib\\site-packages\\zmq\\eventloop\\zmqstream.py\", line 481, in _handle_recv\n",
      "    self._run_callback(callback, msg)\n",
      "  File \"C:\\Users\\ZLY\\AppData\\Local\\Programs\\Python\\Python38\\lib\\site-packages\\zmq\\eventloop\\zmqstream.py\", line 431, in _run_callback\n",
      "    callback(*args, **kwargs)\n",
      "  File \"C:\\Users\\ZLY\\AppData\\Roaming\\Python\\Python38\\site-packages\\jupyter_client\\threaded.py\", line 121, in _handle_recv\n",
      "    msg_list = self.ioloop._asyncio_event_loop.run_until_complete(get_msg(future_msg))\n",
      "  File \"C:\\Users\\ZLY\\AppData\\Local\\Programs\\Python\\Python38\\lib\\asyncio\\base_events.py\", line 592, in run_until_complete\n",
      "    self._check_running()\n",
      "  File \"C:\\Users\\ZLY\\AppData\\Local\\Programs\\Python\\Python38\\lib\\asyncio\\base_events.py\", line 554, in _check_running\n",
      "    raise RuntimeError(\n",
      "RuntimeError: Cannot run the event loop while another loop is running\n"
     ]
    }
   ],
   "source": [
    "viewer=etsynseg.plot.imshow3d(np.array(ims), [peaks,miss],label_lay=[np.array(newlls,dtype=np.uint64),np.array(lss2,dtype=np.uint64)])\n"
   ]
  },
  {
   "cell_type": "code",
   "execution_count": null,
   "metadata": {},
   "outputs": [],
   "source": [
    "\n",
    "def nms(image,hitpeak,returnmask=True):\n",
    "    # if clabs is None:\n",
    "    #     clabs=list(np.unique(hitpeak))\n",
    "    # if 0 in clabs:\n",
    "    #     clabs.remove(0)\n",
    "    indexs=np.argwhere(hitpeak>0)\n",
    "    indexs=list(indexs)\n",
    "    values=image[tuple(zip(*indexs))]\n",
    "    vlabs=hitpeak[tuple(zip(*indexs))]\n",
    "    zipped_pairs = zip(values,vlabs,indexs)\n",
    "    #sorted_pairs = sorted(zipped_pairs,lambda x :x[2])\n",
    "    zipped_pairs = list(zip(vlabs,values,indexs))\n",
    "    zipped_pairs.sort(key=lambda x:(x[0],-x[1]))\n",
    "    nmspoints=[]\n",
    "    viewedlabs=[]\n",
    "    for lab,value,ind in zipped_pairs:\n",
    "        if lab in viewedlabs: continue\n",
    "        else:\n",
    "            viewedlabs.append(lab)\n",
    "            nmspoints.append(ind)\n",
    "    if returnmask:\n",
    "        mask=np.zeros_like(image)\n",
    "        mask[tuple(zip(*nmspoints))]=1\n",
    "        return mask\n",
    "    else:\n",
    "        return nmspoints\n",
    "\n",
    "def keep_lable_seg(segment,labs):\n",
    "    ls=np.zeros_like(segment)\n",
    "    for lab in labs:\n",
    "        ls[segment==lab]=lab\n",
    "    return ls\n",
    "\n",
    "\n",
    "def track_by_seg(image,segment,\n",
    "                 radius,num_iter,searchbox,\n",
    "                 keep_time=3,resvers=None,labcounts={},\n",
    "                sizeth=np.inf,method=\"geo\",adth=None,\n",
    "                smoothing=0,lambda1=1, lambda2=3):\n",
    "    if segment is None:\n",
    "        return\n",
    "    segment=segment.copy()\n",
    "    if resvers is not None:\n",
    "        segment[segment==0]=resvers[segment==0]\n",
    "        \n",
    "    adth=local_threshold(image)\n",
    "    peakmask=peakfilter(image,radius)*adth\n",
    "    hitpeak=segment*peakmask\n",
    "    \n",
    "    prelab=set(np.unique(segment))\n",
    "    curlab=set(np.unique(hitpeak))\n",
    "    \n",
    "    #intersec\n",
    "    interseclab=prelab&curlab\n",
    "    \n",
    "    #nmsmask=nms(image,hitpeak,returnmask=True)*hitpeak\n",
    "    #print(np.unique(nmsmask))\n",
    "    intersecls=seg.segment.foreach_grow_area(image,num_iter,hitpeak,\n",
    "                     searchbox=searchbox,sizeth=sizeth,\n",
    "                     adth=adth,method=method,smoothing=smoothing,\n",
    "                     lambda1=lambda1,lambda2=lambda2)\n",
    "        \n",
    "    #diff # which not find\n",
    "    diflab=prelab-curlab\n",
    "    nofinders=keep_lable_seg(segment,diflab)\n",
    "    for lab in diflab:\n",
    "        if lab not in labcounts:\n",
    "            labcounts[lab]=1\n",
    "        elif labcounts[lab]>keep_time:\n",
    "            nofinders[nofinders==lab]=0\n",
    "        else:\n",
    "            labcounts[lab]+=1\n",
    "    \n",
    "    return intersecls,peakmask,nofinders"
   ]
  }
 ],
 "metadata": {
  "kernelspec": {
   "display_name": "Python 3",
   "language": "python",
   "name": "python3"
  },
  "language_info": {
   "codemirror_mode": {
    "name": "ipython",
    "version": 3
   },
   "file_extension": ".py",
   "mimetype": "text/x-python",
   "name": "python",
   "nbconvert_exporter": "python",
   "pygments_lexer": "ipython3",
   "version": "3.8.6"
  },
  "vscode": {
   "interpreter": {
    "hash": "00708f3ed311d98c43008c123499962ae66f6397b6f2654ec591048d71715902"
   }
  }
 },
 "nbformat": 4,
 "nbformat_minor": 2
}
