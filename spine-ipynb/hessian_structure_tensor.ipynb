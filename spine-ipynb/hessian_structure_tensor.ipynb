{
 "cells": [
  {
   "cell_type": "markdown",
   "metadata": {},
   "source": [
    "link from : https://www.crisluengo.net/\n",
    "\n",
    "# The Hessian and the Structure Tensor\n",
    "\n",
    "\n",
    "In 2D, the Hessian of an image $I$ is defined as\n",
    "$$\n",
    "H=\\nabla \\nabla^{T} I=\\left(\\begin{array}{ll}\n",
    "I_{x x} & I_{x y} \\\\\n",
    "I_{x y} & I_{y y}\n",
    "\\end{array}\\right)\n",
    "$$\n",
    "The Structure tensor is defined as\n",
    "$$\n",
    "S=\\overline{(\\nabla I)(\\nabla I)^{T}}=\\left(\\begin{array}{cc}\n",
    "\\overline{I_{x}^{2}} & \\overline{I_{x} I_{y}} \\\\\n",
    "\\overline{I_{x} I_{y}} & \\overline{I_{y}^{2}}\n",
    "\\end{array}\\right)\n",
    "$$\n",
    "\n",
    "Though the two written equatinos look fairly similar, the computations these equations represent are not that similar, and the properties of these tensor images are not either."
   ]
  },
  {
   "cell_type": "markdown",
   "metadata": {},
   "source": [
    " However, we don’t compute it by applying two first-order partial derivatives in sequence. Instead, we **compute the second-order derivatives directly**. This is more efficient. Also, since this is a symmetric matrix, DIPlib computes and stores the off-diagonal component only once"
   ]
  },
  {
   "cell_type": "markdown",
   "metadata": {},
   "source": [
    "# hessian matrix\n",
    "The Hessian matrix is formed by the **second order partial derivatives**,\n",
    "$$\n",
    "\\nabla \\nabla^{T}=\\left[\\begin{array}{cccc}\n",
    "\\frac{\\partial^{2}}{\\partial x^{2}} & \\frac{\\partial^{2}}{\\partial x \\partial y} & \\cdots & \\frac{\\partial^{2}}{\\partial x \\partial z} \\\\\n",
    "\\frac{\\partial^{2}}{\\partial x \\partial y} & \\frac{\\partial^{2}}{\\partial y^{2}} & \\cdots & \\frac{\\partial^{2}}{\\partial y \\partial z} \\\\\n",
    "\\vdots & \\vdots & \\ddots & \\vdots \\\\\n",
    "\\frac{\\partial^{2}}{\\partial x \\partial z} & \\frac{\\partial^{2}}{\\partial y \\partial z} & \\cdots & \\frac{\\partial^{2}}{\\partial z^{2}}\n",
    "\\end{array}\\right]\n",
    "$$\n"
   ]
  },
  {
   "cell_type": "code",
   "execution_count": 42,
   "metadata": {},
   "outputs": [
    {
     "name": "stdout",
     "output_type": "stream",
     "text": [
      "<class 'diplib.PyDIP_bin.Image'>\n"
     ]
    },
    {
     "data": {
      "application/vnd.jupyter.widget-view+json": {
       "model_id": "c51b24a18e3d4bdd8242e9953e5780ac",
       "version_major": 2,
       "version_minor": 0
      },
      "text/plain": [
       "Canvas(toolbar=Toolbar(toolitems=[('Home', 'Reset original view', 'home', 'home'), ('Back', 'Back to previous …"
      ]
     },
     "metadata": {},
     "output_type": "display_data"
    },
    {
     "data": {
      "application/vnd.jupyter.widget-view+json": {
       "model_id": "31889605dceb42baabd9542de21092bf",
       "version_major": 2,
       "version_minor": 0
      },
      "text/plain": [
       "Canvas(toolbar=Toolbar(toolitems=[('Home', 'Reset original view', 'home', 'home'), ('Back', 'Back to previous …"
      ]
     },
     "metadata": {},
     "output_type": "display_data"
    },
    {
     "data": {
      "application/vnd.jupyter.widget-view+json": {
       "model_id": "068df2f20e3446c0a464e47d8777d4a7",
       "version_major": 2,
       "version_minor": 0
      },
      "text/plain": [
       "Canvas(toolbar=Toolbar(toolitems=[('Home', 'Reset original view', 'home', 'home'), ('Back', 'Back to previous …"
      ]
     },
     "metadata": {},
     "output_type": "display_data"
    },
    {
     "data": {
      "application/vnd.jupyter.widget-view+json": {
       "model_id": "a640e02bb59449ee8b2bb065ba48d6a4",
       "version_major": 2,
       "version_minor": 0
      },
      "text/plain": [
       "Canvas(toolbar=Toolbar(toolitems=[('Home', 'Reset original view', 'home', 'home'), ('Back', 'Back to previous …"
      ]
     },
     "metadata": {},
     "output_type": "display_data"
    }
   ],
   "source": [
    "import diplib as dip\n",
    "import sys\n",
    "import matplotlib.pyplot as plt\n",
    "\n",
    "from skimage import util\n",
    "def Cvt8bit(image):\n",
    "    return util.img_as_ubyte(image)\n",
    "\n",
    "\n",
    "sys.path.append('../')\n",
    "import imgio\n",
    "%matplotlib widget\n",
    "\n",
    "img = imgio.ski_imread(r'..\\Small_close-1.tif')\n",
    "img = Cvt8bit(img)\n",
    "#img=imgio.CvToGray(img)\n",
    "H = dip.Hessian(img)\n",
    "print(type(H))\n",
    "plt.figure()\n",
    "plt.imshow(img)\n",
    "plt.figure()\n",
    "\n",
    "dip.TileTensorElements(H).Show()\n",
    "plt.figure()\n",
    "dip.Trace(H).Show()\n",
    "plt.figure()\n",
    "dip.Determinant(H).Show()\n",
    "\n"
   ]
  },
  {
   "cell_type": "markdown",
   "metadata": {},
   "source": [
    "# structure tensor\n",
    "\n",
    "The Structure Tensor is the outer product of the gradient vector with itself, locally averaged. It is thus formed exclusively by **first-order partial derivatives**\n",
    "\n",
    "\n",
    "$$\n",
    "S=\\overline{(\\nabla I)(\\nabla I)^{T}}=\\left[\\begin{array}{cccc}\n",
    "\\overline{I_{x}^{2}} & \\overline{I_{x} I_{y}} & \\cdots & \\overline{I_{x} I_{z}} \\\\\n",
    "\\overline{I_{x} I_{y}} & \\overline{I_{y}^{2}} & \\cdots & \\overline{I_{y} I_{z}} \\\\\n",
    "\\vdots & \\vdots & \\ddots & \\vdots \\\\\n",
    "\\overline{I_{x} I_{z}} & \\overline{I_{y} I_{z}} & \\cdots & \\overline{I_{z}^{2}}\n",
    "\\end{array}\\right]\n",
    "$$\n",
    "\n",
    "\n",
    "The gradient is always perpendicular to the line, but on one side it points one way, and on the other side it points in the opposite direction. These two vectors have **opposite direction**, but the same **orientation**.  \n",
    "\n",
    "![direction and oriention](../images/hessian_vs_struct__line_and_gradients.svg)  \n",
    "\n",
    "Local averaging would have these opposite vectors cancel out, whereas we would like to average their orientation, so as to determine the line’s orientation. A common trick计谋 around this is to **double the angles**, such that angles 180 degrees apart become the same. But then vectors 90 degrees apart will cancel out. So just a mapping of the angle to another angle will not allow us to preserve all information.   \n",
    "Similarly, any mapping of 2D vectors to other 2D vectors will not allow us to preserve all information. We need to map the 2D vectors to a higher-dimensional space. The Structure Tensor maps the 2D vectors to a 3D space (there are four components, but two of those are identical).\n",
    "\n"
   ]
  },
  {
   "cell_type": "code",
   "execution_count": 38,
   "metadata": {},
   "outputs": [
    {
     "data": {
      "application/vnd.jupyter.widget-view+json": {
       "model_id": "befbc9cf495241b8914109104ba4267e",
       "version_major": 2,
       "version_minor": 0
      },
      "text/plain": [
       "Canvas(toolbar=Toolbar(toolitems=[('Home', 'Reset original view', 'home', 'home'), ('Back', 'Back to previous …"
      ]
     },
     "metadata": {},
     "output_type": "display_data"
    }
   ],
   "source": [
    "g = dip.Gradient(img)\n",
    "S = g * dip.Transpose(g)\n",
    "#S = dip.Gauss(S, 3)\n",
    "plt.figure()\n",
    "dip.TileTensorElements(S).Show()\n",
    "S = dip.StructureTensor(img, tensorSigmas=3)"
   ]
  },
  {
   "cell_type": "markdown",
   "metadata": {},
   "source": [
    "To retrieve the information stored in the Structure Tensor, an eigenvalue analysis is typically applied. For each pixel we thus obtain two eigenvalues, and an eigenvector’s orientation (the other eigenvector is perpendicular to the first, and thus redundant).  \n",
    "\n",
    "The **eigenvector encodes the orientation of the line**, the two **eigenvalues** encode the **gradient strength (energy)** and **variation (isotropy)**. Eigenvalue analysis **is typically represented as an ellipse**, with an orientation and two axes lengths corresponding to the eigenvalues.\n",
    "\n",
    "![stick and ball](../images/stick_and_ball_ellipse.png)  \n",
    "\n",
    "The larger the ellipse, the stronger the gradients in the neighborhood. The more elongated the ellipse, the more uniform are the edge orientations within the neighborhood. Conversely, the more circular the ellipse, the more varied are the edge orientations.\n",
    "\n",
    "![corner stick plane](../images/corner.png)"
   ]
  },
  {
   "cell_type": "code",
   "execution_count": null,
   "metadata": {},
   "outputs": [],
   "source": []
  },
  {
   "cell_type": "markdown",
   "metadata": {},
   "source": [
    "If both eigenvalues are similar in magnitude, then the gradients in the local image region point in all directions, the neighborhood is **isotropic**.  \n",
    "\n",
    "If one eigenvalue is much larger than the other, then the gradients in the local image region all point in the same direction (or rather, have the same orientation). \n",
    "\n",
    "There are two common ways to represent this  \n",
    "**anisotropy measure** (with  the larger eigenvalue λ1 and  the smaller one λ2):\n",
    "\n",
    "$$\n",
    "\\begin{aligned}\n",
    "&\\frac{\\lambda_{1}-\\lambda_{2}}{\\lambda_{1}+\\lambda_{2}} \\\\\n",
    "\\\\\n",
    "&1-\\frac{\\lambda_{2}}{\\lambda_{1}}\n",
    "\\end{aligned}\n",
    "$$\n",
    "\n",
    "**energy measure**:\n",
    "$${\\lambda_{1}+\\lambda_{2}}$$\n",
    "\n",
    "\n",
    "> If we write this out, we notice that we’re just looking at the smallest eigenvalue:\n",
    "$$\n",
    "(1-\\text { anisotropy } 1) \\text { energy }=\\left(1-\\frac{\\lambda_{1}-\\lambda_{2}}{\\lambda_{1}+\\lambda_{2}}\\right)\\left(\\lambda_{1}+\\lambda_{2}\\right)=\\lambda_{1}+\\lambda_{2}-\\left(\\lambda_{1}-\\lambda_{2}\\right)=2 \\lambda_{2}\n",
    "$$\n",
    "\n",
    ">Because the eigenvalue analysis is rather expensive to compute, Harris and Stephens suggested an approximation computed using the determinant and the trace of the Structure Tensor,\n",
    "\n",
    "please see **connerdetector.ipynb**\n",
    "\n"
   ]
  },
  {
   "cell_type": "code",
   "execution_count": 44,
   "metadata": {},
   "outputs": [
    {
     "data": {
      "application/vnd.jupyter.widget-view+json": {
       "model_id": "9301ae6942634aca90525e5682bd2ef9",
       "version_major": 2,
       "version_minor": 0
      },
      "text/plain": [
       "Canvas(toolbar=Toolbar(toolitems=[('Home', 'Reset original view', 'home', 'home'), ('Back', 'Back to previous …"
      ]
     },
     "metadata": {},
     "output_type": "display_data"
    },
    {
     "data": {
      "application/vnd.jupyter.widget-view+json": {
       "model_id": "9c20b02313444b3ab293a28400d7a9bc",
       "version_major": 2,
       "version_minor": 0
      },
      "text/plain": [
       "Canvas(toolbar=Toolbar(toolitems=[('Home', 'Reset original view', 'home', 'home'), ('Back', 'Back to previous …"
      ]
     },
     "metadata": {},
     "output_type": "display_data"
    }
   ],
   "source": [
    "plt.figure()\n",
    "(dip.Determinant(S) - 0.04 * dip.Trace(S)**2).Show()\n",
    "plt.figure()\n",
    "(dip.Determinant(S) / dip.Trace(S)).Show()"
   ]
  },
  {
   "cell_type": "code",
   "execution_count": 40,
   "metadata": {},
   "outputs": [
    {
     "data": {
      "application/vnd.jupyter.widget-view+json": {
       "model_id": "45aa8ce9defa419fb4e79c7b863c3d59",
       "version_major": 2,
       "version_minor": 0
      },
      "text/plain": [
       "Canvas(toolbar=Toolbar(toolitems=[('Home', 'Reset original view', 'home', 'home'), ('Back', 'Back to previous …"
      ]
     },
     "metadata": {},
     "output_type": "display_data"
    },
    {
     "data": {
      "application/vnd.jupyter.widget-view+json": {
       "model_id": "8ee45cae3b0c421986c4ef3218b419ab",
       "version_major": 2,
       "version_minor": 0
      },
      "text/plain": [
       "Canvas(toolbar=Toolbar(toolitems=[('Home', 'Reset original view', 'home', 'home'), ('Back', 'Back to previous …"
      ]
     },
     "metadata": {},
     "output_type": "display_data"
    }
   ],
   "source": [
    "E, V = dip.EigenDecomposition(S)\n",
    "plt.figure()\n",
    "E(0).Show()\n",
    "plt.figure()\n",
    "E(1).Show()\n",
    "dip.Angle(V(slice(0,1))).Show('orientation')"
   ]
  },
  {
   "cell_type": "markdown",
   "metadata": {},
   "source": [
    "## Conclusion\n",
    "The Hessian and the Structure Tensor are both similar-looking mathematical expressions that have similar applications, but they have wildly differently computations behind them, and wildly different ways of extracting relevant information. We’ve seen how both of them can be used to detect key points (corners, features to track, etc.).  \n",
    "They both can also be used to **detect lines**(for example the very popular Frangi vesselness measure is based on the Hessian) and many other things. The **Structure Tensor** is also used in **Lucas-Kanade optical flow**, and in **Weickert’s coherence enhancing diffusion**."
   ]
  }
 ],
 "metadata": {
  "kernelspec": {
   "display_name": "Python 3",
   "language": "python",
   "name": "python3"
  },
  "language_info": {
   "codemirror_mode": {
    "name": "ipython",
    "version": 3
   },
   "file_extension": ".py",
   "mimetype": "text/x-python",
   "name": "python",
   "nbconvert_exporter": "python",
   "pygments_lexer": "ipython3",
   "version": "3.8.5"
  },
  "orig_nbformat": 4,
  "vscode": {
   "interpreter": {
    "hash": "00708f3ed311d98c43008c123499962ae66f6397b6f2654ec591048d71715902"
   }
  }
 },
 "nbformat": 4,
 "nbformat_minor": 2
}
